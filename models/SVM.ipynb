{
 "cells": [
  {
   "cell_type": "code",
   "execution_count": 22,
   "id": "75907fa9",
   "metadata": {},
   "outputs": [],
   "source": [
    "import pandas as pd\n",
    "import numpy as np\n",
    "from matplotlib import pyplot as plt"
   ]
  },
  {
   "cell_type": "code",
   "execution_count": 2,
   "id": "ec963bc5",
   "metadata": {},
   "outputs": [],
   "source": [
    "dfm = pd.read_csv('merged.csv')"
   ]
  },
  {
   "cell_type": "markdown",
   "id": "1bbf54fe",
   "metadata": {},
   "source": [
    "# SVM"
   ]
  },
  {
   "cell_type": "code",
   "execution_count": 3,
   "id": "64852502",
   "metadata": {},
   "outputs": [],
   "source": [
    "# SVM - Without GS "
   ]
  },
  {
   "cell_type": "code",
   "execution_count": 4,
   "id": "36a8efe9",
   "metadata": {},
   "outputs": [],
   "source": [
    "from sklearn.model_selection import train_test_split, GridSearchCV, StratifiedKFold\n",
    "from sklearn.preprocessing import StandardScaler\n",
    "from sklearn.svm import SVC\n",
    "from sklearn.metrics import classification_report, accuracy_score\n",
    "from sklearn.model_selection import cross_val_score, cross_val_predict, StratifiedKFold\n",
    "from sklearn.metrics import confusion_matrix, precision_score, recall_score, f1_score, classification_report\n",
    "from sklearn.feature_selection import SelectPercentile, chi2\n",
    "from joblib import dump"
   ]
  },
  {
   "cell_type": "code",
   "execution_count": 5,
   "id": "9e216566",
   "metadata": {},
   "outputs": [],
   "source": [
    "mean_popularity = 50"
   ]
  },
  {
   "cell_type": "code",
   "execution_count": 6,
   "id": "c602ac80",
   "metadata": {},
   "outputs": [],
   "source": [
    "y_prime = [1 if i >= mean_popularity else 0 for i in dfm[\"popularity\"]]\n",
    "y_popl = pd.concat([pd.Series(y_prime, name=\"popularity\")], axis=1)\n",
    "y = y_popl[\"popularity\"]"
   ]
  },
  {
   "cell_type": "code",
   "execution_count": 7,
   "id": "550f52f8",
   "metadata": {},
   "outputs": [
    {
     "data": {
      "text/plain": [
       "(67,\n",
       " Index(['acousticness', 'danceability', 'duration_ms', 'energy', 'explicit',\n",
       "        'instrumentalness', 'liveness', 'speechiness', 'tempo', 'valence',\n",
       "        'year', 'key_0', 'key_1', 'key_2', 'key_3', 'key_4', 'key_5', 'key_6',\n",
       "        'key_7', 'key_8', 'key_9', 'key_10', 'key_11', 'minor', 'major',\n",
       "        'acousticness_ar', 'danceability_ar', 'duration_ms_ar', 'energy_ar',\n",
       "        'instrumentalness_ar', 'liveness_ar', 'speechiness_ar', 'tempo_ar',\n",
       "        'valence_ar', 'popularity_ar', 'count', 'key_0_ar', 'key_1_ar',\n",
       "        'key_2_ar', 'key_3_ar', 'key_4_ar', 'key_5_ar', 'key_6_ar', 'key_7_ar',\n",
       "        'key_8_ar', 'key_9_ar', 'key_10_ar', 'key_11_ar', 'minor_ar',\n",
       "        'major_ar', 'acousticness_yr', 'danceability_yr', 'duration_ms_yr',\n",
       "        'energy_yr', 'instrumentalness_yr', 'liveness_yr', 'speechiness_yr',\n",
       "        'tempo_yr', 'valence_yr', 'popularity_yr', 'key_0_yr', 'key_1_yr',\n",
       "        'key_2_yr', 'key_3_yr', 'key_4_yr', 'key_5_yr', 'key_6_yr'],\n",
       "       dtype='object'))"
      ]
     },
     "execution_count": 7,
     "metadata": {},
     "output_type": "execute_result"
    }
   ],
   "source": [
    "drop_cols = [\"id\",\"popularity\", \"mode\", \"loudness\", \"loudness_ar\", \"loudness_yr\"]\n",
    "X = dfm.drop(drop_cols, axis=1)\n",
    "len(X.columns), X.columns"
   ]
  },
  {
   "cell_type": "code",
   "execution_count": 8,
   "id": "05e0f00a",
   "metadata": {},
   "outputs": [
    {
     "data": {
      "text/plain": [
       "((172230, 67), (172230,))"
      ]
     },
     "execution_count": 8,
     "metadata": {},
     "output_type": "execute_result"
    }
   ],
   "source": [
    "X.shape, y.shape"
   ]
  },
  {
   "cell_type": "code",
   "execution_count": 9,
   "id": "b4347467",
   "metadata": {},
   "outputs": [],
   "source": [
    "from sklearn.feature_selection import SelectPercentile, chi2\n",
    "\n",
    "X = SelectPercentile(chi2, percentile=10).fit_transform(X, y)\n",
    "\n",
    "input_scaler = StandardScaler()\n",
    "X_normalized = input_scaler.fit_transform(X)\n",
    "\n",
    "X_train, X_test, y_train, y_test = train_test_split(\n",
    "    X_normalized, y, test_size=0.20, random_state=42, stratify=y\n",
    ")"
   ]
  },
  {
   "cell_type": "code",
   "execution_count": 10,
   "id": "16771a56",
   "metadata": {},
   "outputs": [
    {
     "name": "stdout",
     "output_type": "stream",
     "text": [
      "Train accuracy of svm algo: 0.9129\n",
      "Test accuracy of svm algo: 0.9143296754340127\n"
     ]
    }
   ],
   "source": [
    "svm = SVC(kernel='linear',\n",
    "          C=1000,\n",
    "          random_state=42)\n",
    "svm.fit(X_train[:10000], y_train[:10000])\n",
    "dump(svm, \"mlspotify_SVM\")\n",
    "\n",
    "print(\"Train accuracy of svm algo:\", svm.score(X_train[:10000], y_train[:10000]))\n",
    "print(\"Test accuracy of svm algo:\", svm.score(X_test, y_test))"
   ]
  },
  {
   "cell_type": "code",
   "execution_count": 11,
   "id": "eee9bddb",
   "metadata": {},
   "outputs": [
    {
     "name": "stdout",
     "output_type": "stream",
     "text": [
      "[[28073   639]\n",
      " [ 2312  3422]]\n",
      "Classification report\n",
      "\n",
      "              precision    recall  f1-score   support\n",
      "\n",
      "           0       0.92      0.98      0.95     28712\n",
      "           1       0.84      0.60      0.70      5734\n",
      "\n",
      "    accuracy                           0.91     34446\n",
      "   macro avg       0.88      0.79      0.82     34446\n",
      "weighted avg       0.91      0.91      0.91     34446\n",
      "\n"
     ]
    }
   ],
   "source": [
    "y_pred = svm.predict(X_test)\n",
    "print(confusion_matrix(y_test, y_pred))\n",
    "print(\"Classification report\\n\")\n",
    "print(classification_report(y_test, y_pred))"
   ]
  },
  {
   "cell_type": "code",
   "execution_count": 12,
   "id": "81db570c",
   "metadata": {},
   "outputs": [],
   "source": [
    "# SVM - With GS "
   ]
  },
  {
   "cell_type": "code",
   "execution_count": 13,
   "id": "32e35c6c",
   "metadata": {},
   "outputs": [],
   "source": [
    "# Grid param\n",
    "\n",
    "param_grid = {\n",
    "    'C': [1, 10],\n",
    "    'kernel': ['linear'],\n",
    "    'gamma': [ 'auto']\n",
    "}"
   ]
  },
  {
   "cell_type": "code",
   "execution_count": 14,
   "id": "6f04a582",
   "metadata": {},
   "outputs": [
    {
     "name": "stdout",
     "output_type": "stream",
     "text": [
      "Fitting 5 folds for each of 2 candidates, totalling 10 fits\n",
      "[CV 1/5; 1/2] START C=1, gamma=auto, kernel=linear..............................\n",
      "[CV 1/5; 1/2] END C=1, gamma=auto, kernel=linear;, score=0.913 total time= 1.3min\n",
      "[CV 2/5; 1/2] START C=1, gamma=auto, kernel=linear..............................\n",
      "[CV 2/5; 1/2] END C=1, gamma=auto, kernel=linear;, score=0.916 total time= 1.4min\n",
      "[CV 3/5; 1/2] START C=1, gamma=auto, kernel=linear..............................\n",
      "[CV 3/5; 1/2] END C=1, gamma=auto, kernel=linear;, score=0.914 total time= 1.6min\n",
      "[CV 4/5; 1/2] START C=1, gamma=auto, kernel=linear..............................\n",
      "[CV 4/5; 1/2] END C=1, gamma=auto, kernel=linear;, score=0.911 total time= 1.5min\n",
      "[CV 5/5; 1/2] START C=1, gamma=auto, kernel=linear..............................\n",
      "[CV 5/5; 1/2] END C=1, gamma=auto, kernel=linear;, score=0.912 total time= 1.4min\n",
      "[CV 1/5; 2/2] START C=10, gamma=auto, kernel=linear.............................\n",
      "[CV 1/5; 2/2] END C=10, gamma=auto, kernel=linear;, score=0.913 total time= 3.2min\n",
      "[CV 2/5; 2/2] START C=10, gamma=auto, kernel=linear.............................\n",
      "[CV 2/5; 2/2] END C=10, gamma=auto, kernel=linear;, score=0.916 total time= 3.3min\n",
      "[CV 3/5; 2/2] START C=10, gamma=auto, kernel=linear.............................\n",
      "[CV 3/5; 2/2] END C=10, gamma=auto, kernel=linear;, score=0.914 total time= 3.0min\n",
      "[CV 4/5; 2/2] START C=10, gamma=auto, kernel=linear.............................\n",
      "[CV 4/5; 2/2] END C=10, gamma=auto, kernel=linear;, score=0.911 total time= 3.1min\n",
      "[CV 5/5; 2/2] START C=10, gamma=auto, kernel=linear.............................\n",
      "[CV 5/5; 2/2] END C=10, gamma=auto, kernel=linear;, score=0.912 total time= 3.1min\n"
     ]
    },
    {
     "data": {
      "text/html": [
       "<style>#sk-container-id-1 {color: black;}#sk-container-id-1 pre{padding: 0;}#sk-container-id-1 div.sk-toggleable {background-color: white;}#sk-container-id-1 label.sk-toggleable__label {cursor: pointer;display: block;width: 100%;margin-bottom: 0;padding: 0.3em;box-sizing: border-box;text-align: center;}#sk-container-id-1 label.sk-toggleable__label-arrow:before {content: \"▸\";float: left;margin-right: 0.25em;color: #696969;}#sk-container-id-1 label.sk-toggleable__label-arrow:hover:before {color: black;}#sk-container-id-1 div.sk-estimator:hover label.sk-toggleable__label-arrow:before {color: black;}#sk-container-id-1 div.sk-toggleable__content {max-height: 0;max-width: 0;overflow: hidden;text-align: left;background-color: #f0f8ff;}#sk-container-id-1 div.sk-toggleable__content pre {margin: 0.2em;color: black;border-radius: 0.25em;background-color: #f0f8ff;}#sk-container-id-1 input.sk-toggleable__control:checked~div.sk-toggleable__content {max-height: 200px;max-width: 100%;overflow: auto;}#sk-container-id-1 input.sk-toggleable__control:checked~label.sk-toggleable__label-arrow:before {content: \"▾\";}#sk-container-id-1 div.sk-estimator input.sk-toggleable__control:checked~label.sk-toggleable__label {background-color: #d4ebff;}#sk-container-id-1 div.sk-label input.sk-toggleable__control:checked~label.sk-toggleable__label {background-color: #d4ebff;}#sk-container-id-1 input.sk-hidden--visually {border: 0;clip: rect(1px 1px 1px 1px);clip: rect(1px, 1px, 1px, 1px);height: 1px;margin: -1px;overflow: hidden;padding: 0;position: absolute;width: 1px;}#sk-container-id-1 div.sk-estimator {font-family: monospace;background-color: #f0f8ff;border: 1px dotted black;border-radius: 0.25em;box-sizing: border-box;margin-bottom: 0.5em;}#sk-container-id-1 div.sk-estimator:hover {background-color: #d4ebff;}#sk-container-id-1 div.sk-parallel-item::after {content: \"\";width: 100%;border-bottom: 1px solid gray;flex-grow: 1;}#sk-container-id-1 div.sk-label:hover label.sk-toggleable__label {background-color: #d4ebff;}#sk-container-id-1 div.sk-serial::before {content: \"\";position: absolute;border-left: 1px solid gray;box-sizing: border-box;top: 0;bottom: 0;left: 50%;z-index: 0;}#sk-container-id-1 div.sk-serial {display: flex;flex-direction: column;align-items: center;background-color: white;padding-right: 0.2em;padding-left: 0.2em;position: relative;}#sk-container-id-1 div.sk-item {position: relative;z-index: 1;}#sk-container-id-1 div.sk-parallel {display: flex;align-items: stretch;justify-content: center;background-color: white;position: relative;}#sk-container-id-1 div.sk-item::before, #sk-container-id-1 div.sk-parallel-item::before {content: \"\";position: absolute;border-left: 1px solid gray;box-sizing: border-box;top: 0;bottom: 0;left: 50%;z-index: -1;}#sk-container-id-1 div.sk-parallel-item {display: flex;flex-direction: column;z-index: 1;position: relative;background-color: white;}#sk-container-id-1 div.sk-parallel-item:first-child::after {align-self: flex-end;width: 50%;}#sk-container-id-1 div.sk-parallel-item:last-child::after {align-self: flex-start;width: 50%;}#sk-container-id-1 div.sk-parallel-item:only-child::after {width: 0;}#sk-container-id-1 div.sk-dashed-wrapped {border: 1px dashed gray;margin: 0 0.4em 0.5em 0.4em;box-sizing: border-box;padding-bottom: 0.4em;background-color: white;}#sk-container-id-1 div.sk-label label {font-family: monospace;font-weight: bold;display: inline-block;line-height: 1.2em;}#sk-container-id-1 div.sk-label-container {text-align: center;}#sk-container-id-1 div.sk-container {/* jupyter's `normalize.less` sets `[hidden] { display: none; }` but bootstrap.min.css set `[hidden] { display: none !important; }` so we also need the `!important` here to be able to override the default hidden behavior on the sphinx rendered scikit-learn.org. See: https://github.com/scikit-learn/scikit-learn/issues/21755 */display: inline-block !important;position: relative;}#sk-container-id-1 div.sk-text-repr-fallback {display: none;}</style><div id=\"sk-container-id-1\" class=\"sk-top-container\"><div class=\"sk-text-repr-fallback\"><pre>GridSearchCV(cv=StratifiedKFold(n_splits=5, random_state=None, shuffle=False),\n",
       "             estimator=SVC(random_state=42),\n",
       "             param_grid={&#x27;C&#x27;: [1, 10], &#x27;gamma&#x27;: [&#x27;auto&#x27;], &#x27;kernel&#x27;: [&#x27;linear&#x27;]},\n",
       "             scoring=&#x27;accuracy&#x27;, verbose=10)</pre><b>In a Jupyter environment, please rerun this cell to show the HTML representation or trust the notebook. <br />On GitHub, the HTML representation is unable to render, please try loading this page with nbviewer.org.</b></div><div class=\"sk-container\" hidden><div class=\"sk-item sk-dashed-wrapped\"><div class=\"sk-label-container\"><div class=\"sk-label sk-toggleable\"><input class=\"sk-toggleable__control sk-hidden--visually\" id=\"sk-estimator-id-1\" type=\"checkbox\" ><label for=\"sk-estimator-id-1\" class=\"sk-toggleable__label sk-toggleable__label-arrow\">GridSearchCV</label><div class=\"sk-toggleable__content\"><pre>GridSearchCV(cv=StratifiedKFold(n_splits=5, random_state=None, shuffle=False),\n",
       "             estimator=SVC(random_state=42),\n",
       "             param_grid={&#x27;C&#x27;: [1, 10], &#x27;gamma&#x27;: [&#x27;auto&#x27;], &#x27;kernel&#x27;: [&#x27;linear&#x27;]},\n",
       "             scoring=&#x27;accuracy&#x27;, verbose=10)</pre></div></div></div><div class=\"sk-parallel\"><div class=\"sk-parallel-item\"><div class=\"sk-item\"><div class=\"sk-label-container\"><div class=\"sk-label sk-toggleable\"><input class=\"sk-toggleable__control sk-hidden--visually\" id=\"sk-estimator-id-2\" type=\"checkbox\" ><label for=\"sk-estimator-id-2\" class=\"sk-toggleable__label sk-toggleable__label-arrow\">estimator: SVC</label><div class=\"sk-toggleable__content\"><pre>SVC(random_state=42)</pre></div></div></div><div class=\"sk-serial\"><div class=\"sk-item\"><div class=\"sk-estimator sk-toggleable\"><input class=\"sk-toggleable__control sk-hidden--visually\" id=\"sk-estimator-id-3\" type=\"checkbox\" ><label for=\"sk-estimator-id-3\" class=\"sk-toggleable__label sk-toggleable__label-arrow\">SVC</label><div class=\"sk-toggleable__content\"><pre>SVC(random_state=42)</pre></div></div></div></div></div></div></div></div></div></div>"
      ],
      "text/plain": [
       "GridSearchCV(cv=StratifiedKFold(n_splits=5, random_state=None, shuffle=False),\n",
       "             estimator=SVC(random_state=42),\n",
       "             param_grid={'C': [1, 10], 'gamma': ['auto'], 'kernel': ['linear']},\n",
       "             scoring='accuracy', verbose=10)"
      ]
     },
     "execution_count": 14,
     "metadata": {},
     "output_type": "execute_result"
    }
   ],
   "source": [
    "# Creating a GridSearchCV object\n",
    "grid_search = GridSearchCV(SVC(random_state=42), param_grid, cv=StratifiedKFold(n_splits=5), scoring='accuracy', verbose=10)\n",
    "\n",
    "# Fit GridSearchCV\n",
    "grid_search.fit(X_train, y_train)"
   ]
  },
  {
   "cell_type": "code",
   "execution_count": 15,
   "id": "86c77844",
   "metadata": {},
   "outputs": [
    {
     "data": {
      "text/plain": [
       "['mlspotify_SVM_gs']"
      ]
     },
     "execution_count": 15,
     "metadata": {},
     "output_type": "execute_result"
    }
   ],
   "source": [
    "# Saving the best model\n",
    "dump(grid_search.best_estimator_, \"mlspotify_SVM_gs\")"
   ]
  },
  {
   "cell_type": "code",
   "execution_count": 16,
   "id": "d24ce4d9",
   "metadata": {},
   "outputs": [
    {
     "name": "stdout",
     "output_type": "stream",
     "text": [
      "Best parameters: {'C': 1, 'gamma': 'auto', 'kernel': 'linear'}\n",
      "Best cross-validation accuracy: 0.91\n"
     ]
    }
   ],
   "source": [
    "# Printing the best parameters and the best score\n",
    "print(\"Best parameters:\", grid_search.best_params_)\n",
    "print(\"Best cross-validation accuracy: {:.2f}\".format(grid_search.best_score_))"
   ]
  },
  {
   "cell_type": "code",
   "execution_count": 17,
   "id": "1eb3b0f8",
   "metadata": {},
   "outputs": [
    {
     "name": "stdout",
     "output_type": "stream",
     "text": [
      "Test accuracy: 0.91\n"
     ]
    }
   ],
   "source": [
    "# Evaluating on the test set\n",
    "y_pred = grid_search.predict(X_test)\n",
    "print(\"Test accuracy: {:.2f}\".format(grid_search.score(X_test, y_test)))"
   ]
  },
  {
   "cell_type": "code",
   "execution_count": 18,
   "id": "433a760c",
   "metadata": {},
   "outputs": [
    {
     "name": "stdout",
     "output_type": "stream",
     "text": [
      "[[28170   542]\n",
      " [ 2434  3300]]\n",
      "Classification report\n",
      "\n",
      "              precision    recall  f1-score   support\n",
      "\n",
      "           0       0.92      0.98      0.95     28712\n",
      "           1       0.86      0.58      0.69      5734\n",
      "\n",
      "    accuracy                           0.91     34446\n",
      "   macro avg       0.89      0.78      0.82     34446\n",
      "weighted avg       0.91      0.91      0.91     34446\n",
      "\n"
     ]
    }
   ],
   "source": [
    "# Confusion matrix and classification report\n",
    "print(confusion_matrix(y_test, y_pred))\n",
    "print(\"Classification report\\n\")\n",
    "print(classification_report(y_test, y_pred))"
   ]
  },
  {
   "cell_type": "code",
   "execution_count": 19,
   "id": "88f79111",
   "metadata": {},
   "outputs": [],
   "source": [
    "from sklearn.metrics import roc_curve, auc"
   ]
  },
  {
   "cell_type": "code",
   "execution_count": 20,
   "id": "841cc9ce",
   "metadata": {},
   "outputs": [],
   "source": [
    "# Calculating ROC curve and ROC area\n",
    "fpr, tpr, _ = roc_curve(y_test, y_pred)\n",
    "roc_auc = auc(fpr, tpr)"
   ]
  },
  {
   "cell_type": "code",
   "execution_count": 23,
   "id": "c32cd4d1",
   "metadata": {},
   "outputs": [
    {
     "data": {
      "image/png": "[encoded data removed]",
      "text/plain": [
       "<Figure size 640x480 with 1 Axes>"
      ]
     },
     "metadata": {},
     "output_type": "display_data"
    }
   ],
   "source": [
    "plt.figure()\n",
    "plt.plot(fpr, tpr, color='darkorange', lw=2, label='ROC curve (area = %0.2f)' % roc_auc)\n",
    "plt.plot([0, 1], [0, 1], color='navy', lw=2, linestyle='--')\n",
    "plt.xlim([0.0, 1.0])\n",
    "plt.ylim([0.0, 1.05])\n",
    "plt.xlabel('False Positive Rate')\n",
    "plt.ylabel('True Positive Rate')\n",
    "plt.title('Receiver Operating Characteristic')\n",
    "plt.legend(loc=\"lower right\")\n",
    "plt.show()"
   ]
  },
  {
   "cell_type": "code",
   "execution_count": null,
   "id": "68d7dfa2",
   "metadata": {},
   "outputs": [],
   "source": []
  }
 ],
 "metadata": {
  "kernelspec": {
   "display_name": "Python 3 (ipykernel)",
   "language": "python",
   "name": "python3"
  },
  "language_info": {
   "codemirror_mode": {
    "name": "ipython",
    "version": 3
   },
   "file_extension": ".py",
   "mimetype": "text/x-python",
   "name": "python",
   "nbconvert_exporter": "python",
   "pygments_lexer": "ipython3",
   "version": "3.11.4"
  }
 },
 "nbformat": 4,
 "nbformat_minor": 5
}
