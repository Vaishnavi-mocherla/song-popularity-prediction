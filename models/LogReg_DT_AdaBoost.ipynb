{
 "cells": [
  {
   "cell_type": "code",
   "execution_count": 45,
   "id": "c0c64b2c",
   "metadata": {},
   "outputs": [],
   "source": [
    "import pandas as pd\n",
    "import numpy as np\n",
    "from matplotlib import pyplot as plt"
   ]
  },
  {
   "cell_type": "code",
   "execution_count": 2,
   "id": "bec9f965",
   "metadata": {},
   "outputs": [],
   "source": [
    "dfm = pd.read_csv('merged.csv')"
   ]
  },
  {
   "cell_type": "markdown",
   "id": "c15e447f",
   "metadata": {},
   "source": [
    "# Logistic Regression"
   ]
  },
  {
   "cell_type": "code",
   "execution_count": 6,
   "id": "c983829f",
   "metadata": {},
   "outputs": [],
   "source": [
    "# LG - With GS "
   ]
  },
  {
   "cell_type": "code",
   "execution_count": 7,
   "id": "8f0dcfbc",
   "metadata": {},
   "outputs": [],
   "source": [
    "from sklearn.model_selection import train_test_split, GridSearchCV, StratifiedKFold\n",
    "from sklearn.preprocessing import StandardScaler\n",
    "from sklearn.linear_model import LogisticRegression\n",
    "from sklearn.metrics import confusion_matrix, classification_report\n",
    "from sklearn.feature_selection import SelectPercentile, chi2\n",
    "from joblib import dump"
   ]
  },
  {
   "cell_type": "code",
   "execution_count": 8,
   "id": "75223e8f",
   "metadata": {},
   "outputs": [],
   "source": [
    "mean_popularity = 50"
   ]
  },
  {
   "cell_type": "code",
   "execution_count": 9,
   "id": "00099af9",
   "metadata": {},
   "outputs": [],
   "source": [
    "y_prime = [1 if i >= mean_popularity else 0 for i in dfm[\"popularity\"]]\n",
    "y_popl = pd.concat([pd.Series(y_prime, name=\"popularity\")], axis=1)\n",
    "y = y_popl[\"popularity\"]"
   ]
  },
  {
   "cell_type": "code",
   "execution_count": 10,
   "id": "fa8328a0",
   "metadata": {},
   "outputs": [],
   "source": [
    "drop_cols = [\"id\", \"popularity\", \"mode\", \"loudness\", \"loudness_ar\", \"loudness_yr\"]\n",
    "X = dfm.drop(drop_cols, axis=1)"
   ]
  },
  {
   "cell_type": "code",
   "execution_count": 11,
   "id": "05c4ff83",
   "metadata": {},
   "outputs": [],
   "source": [
    "X = SelectPercentile(chi2, percentile=10).fit_transform(X, y)"
   ]
  },
  {
   "cell_type": "code",
   "execution_count": 12,
   "id": "b91bb2e5",
   "metadata": {},
   "outputs": [],
   "source": [
    "# Features scaling\n",
    "input_scaler = StandardScaler()\n",
    "X_normalized = input_scaler.fit_transform(X)"
   ]
  },
  {
   "cell_type": "code",
   "execution_count": 13,
   "id": "c9a902e2",
   "metadata": {},
   "outputs": [],
   "source": [
    "# Data Split \n",
    "X_train, X_test, y_train, y_test = train_test_split(\n",
    "    X_normalized, y, test_size=0.20, random_state=42, stratify=y\n",
    ")"
   ]
  },
  {
   "cell_type": "code",
   "execution_count": 14,
   "id": "69cfa6e2",
   "metadata": {},
   "outputs": [],
   "source": [
    "# Setting up the parameter grid\n",
    "param_grid = {\n",
    "    'C': np.logspace(-4, 4, 20),\n",
    "    'penalty': ['l1', 'l2', 'elasticnet'],\n",
    "    'solver': ['saga']\n",
    "}"
   ]
  },
  {
   "cell_type": "code",
   "execution_count": 15,
   "id": "6e6256a7",
   "metadata": {
    "scrolled": true
   },
   "outputs": [
    {
     "name": "stdout",
     "output_type": "stream",
     "text": [
      "Fitting 5 folds for each of 60 candidates, totalling 300 fits\n",
      "[CV 1/5; 1/60] START C=0.0001, penalty=l1, solver=saga..........................\n",
      "[CV 1/5; 1/60] END C=0.0001, penalty=l1, solver=saga;, score=0.863 total time=   0.2s\n",
      "[CV 2/5; 1/60] START C=0.0001, penalty=l1, solver=saga..........................\n",
      "[CV 2/5; 1/60] END C=0.0001, penalty=l1, solver=saga;, score=0.865 total time=   0.3s\n",
      "[CV 3/5; 1/60] START C=0.0001, penalty=l1, solver=saga..........................\n",
      "[CV 3/5; 1/60] END C=0.0001, penalty=l1, solver=saga;, score=0.862 total time=   0.4s\n",
      "[CV 4/5; 1/60] START C=0.0001, penalty=l1, solver=saga..........................\n",
      "[CV 4/5; 1/60] END C=0.0001, penalty=l1, solver=saga;, score=0.864 total time=   0.2s\n",
      "[CV 5/5; 1/60] START C=0.0001, penalty=l1, solver=saga..........................\n",
      "[CV 5/5; 1/60] END C=0.0001, penalty=l1, solver=saga;, score=0.864 total time=   0.4s\n",
      "[CV 1/5; 2/60] START C=0.0001, penalty=l2, solver=saga..........................\n",
      "[CV 1/5; 2/60] END C=0.0001, penalty=l2, solver=saga;, score=0.883 total time=   0.4s\n",
      "[CV 2/5; 2/60] START C=0.0001, penalty=l2, solver=saga..........................\n",
      "[CV 2/5; 2/60] END C=0.0001, penalty=l2, solver=saga;, score=0.884 total time=   0.4s\n",
      "[CV 3/5; 2/60] START C=0.0001, penalty=l2, solver=saga..........................\n",
      "[CV 3/5; 2/60] END C=0.0001, penalty=l2, solver=saga;, score=0.882 total time=   0.4s\n",
      "[CV 4/5; 2/60] START C=0.0001, penalty=l2, solver=saga..........................\n",
      "[CV 4/5; 2/60] END C=0.0001, penalty=l2, solver=saga;, score=0.882 total time=   0.3s\n",
      "[CV 5/5; 2/60] START C=0.0001, penalty=l2, solver=saga..........................\n",
      "[CV 5/5; 2/60] END C=0.0001, penalty=l2, solver=saga;, score=0.884 total time=   0.3s\n",
      "[CV 1/5; 3/60] START C=0.0001, penalty=elasticnet, solver=saga..................\n",
      "[CV 1/5; 3/60] END C=0.0001, penalty=elasticnet, solver=saga;, score=nan total time=   0.0s\n",
      "[CV 2/5; 3/60] START C=0.0001, penalty=elasticnet, solver=saga..................\n",
      "[CV 2/5; 3/60] END C=0.0001, penalty=elasticnet, solver=saga;, score=nan total time=   0.0s\n",
      "[CV 3/5; 3/60] START C=0.0001, penalty=elasticnet, solver=saga..................\n",
      "[CV 3/5; 3/60] END C=0.0001, penalty=elasticnet, solver=saga;, score=nan total time=   0.0s\n",
      "[CV 4/5; 3/60] START C=0.0001, penalty=elasticnet, solver=saga..................\n",
      "[CV 4/5; 3/60] END C=0.0001, penalty=elasticnet, solver=saga;, score=nan total time=   0.0s\n",
      "[CV 5/5; 3/60] START C=0.0001, penalty=elasticnet, solver=saga..................\n",
      "[CV 5/5; 3/60] END C=0.0001, penalty=elasticnet, solver=saga;, score=nan total time=   0.0s\n",
      "[CV 1/5; 4/60] START C=0.00026366508987303583, penalty=l1, solver=saga..........\n",
      "[CV 1/5; 4/60] END C=0.00026366508987303583, penalty=l1, solver=saga;, score=0.909 total time=   0.3s\n",
      "[CV 2/5; 4/60] START C=0.00026366508987303583, penalty=l1, solver=saga..........\n",
      "[CV 2/5; 4/60] END C=0.00026366508987303583, penalty=l1, solver=saga;, score=0.912 total time=   0.3s\n",
      "[CV 3/5; 4/60] START C=0.00026366508987303583, penalty=l1, solver=saga..........\n",
      "[CV 3/5; 4/60] END C=0.00026366508987303583, penalty=l1, solver=saga;, score=0.909 total time=   0.3s\n",
      "[CV 4/5; 4/60] START C=0.00026366508987303583, penalty=l1, solver=saga..........\n",
      "[CV 4/5; 4/60] END C=0.00026366508987303583, penalty=l1, solver=saga;, score=0.909 total time=   0.4s\n",
      "[CV 5/5; 4/60] START C=0.00026366508987303583, penalty=l1, solver=saga..........\n",
      "[CV 5/5; 4/60] END C=0.00026366508987303583, penalty=l1, solver=saga;, score=0.909 total time=   0.4s\n",
      "[CV 1/5; 5/60] START C=0.00026366508987303583, penalty=l2, solver=saga..........\n",
      "[CV 1/5; 5/60] END C=0.00026366508987303583, penalty=l2, solver=saga;, score=0.908 total time=   0.3s\n",
      "[CV 2/5; 5/60] START C=0.00026366508987303583, penalty=l2, solver=saga..........\n",
      "[CV 2/5; 5/60] END C=0.00026366508987303583, penalty=l2, solver=saga;, score=0.908 total time=   0.4s\n",
      "[CV 3/5; 5/60] START C=0.00026366508987303583, penalty=l2, solver=saga..........\n",
      "[CV 3/5; 5/60] END C=0.00026366508987303583, penalty=l2, solver=saga;, score=0.906 total time=   0.3s\n",
      "[CV 4/5; 5/60] START C=0.00026366508987303583, penalty=l2, solver=saga..........\n",
      "[CV 4/5; 5/60] END C=0.00026366508987303583, penalty=l2, solver=saga;, score=0.906 total time=   0.3s\n",
      "[CV 5/5; 5/60] START C=0.00026366508987303583, penalty=l2, solver=saga..........\n",
      "[CV 5/5; 5/60] END C=0.00026366508987303583, penalty=l2, solver=saga;, score=0.907 total time=   0.3s\n",
      "[CV 1/5; 6/60] START C=0.00026366508987303583, penalty=elasticnet, solver=saga..\n",
      "[CV 1/5; 6/60] END C=0.00026366508987303583, penalty=elasticnet, solver=saga;, score=nan total time=   0.0s\n",
      "[CV 2/5; 6/60] START C=0.00026366508987303583, penalty=elasticnet, solver=saga..\n",
      "[CV 2/5; 6/60] END C=0.00026366508987303583, penalty=elasticnet, solver=saga;, score=nan total time=   0.0s\n",
      "[CV 3/5; 6/60] START C=0.00026366508987303583, penalty=elasticnet, solver=saga..\n",
      "[CV 3/5; 6/60] END C=0.00026366508987303583, penalty=elasticnet, solver=saga;, score=nan total time=   0.0s\n",
      "[CV 4/5; 6/60] START C=0.00026366508987303583, penalty=elasticnet, solver=saga..\n",
      "[CV 4/5; 6/60] END C=0.00026366508987303583, penalty=elasticnet, solver=saga;, score=nan total time=   0.0s\n",
      "[CV 5/5; 6/60] START C=0.00026366508987303583, penalty=elasticnet, solver=saga..\n",
      "[CV 5/5; 6/60] END C=0.00026366508987303583, penalty=elasticnet, solver=saga;, score=nan total time=   0.0s\n",
      "[CV 1/5; 7/60] START C=0.0006951927961775605, penalty=l1, solver=saga...........\n",
      "[CV 1/5; 7/60] END C=0.0006951927961775605, penalty=l1, solver=saga;, score=0.914 total time=   0.4s\n",
      "[CV 2/5; 7/60] START C=0.0006951927961775605, penalty=l1, solver=saga...........\n",
      "[CV 2/5; 7/60] END C=0.0006951927961775605, penalty=l1, solver=saga;, score=0.916 total time=   0.4s\n",
      "[CV 3/5; 7/60] START C=0.0006951927961775605, penalty=l1, solver=saga...........\n",
      "[CV 3/5; 7/60] END C=0.0006951927961775605, penalty=l1, solver=saga;, score=0.915 total time=   0.3s\n",
      "[CV 4/5; 7/60] START C=0.0006951927961775605, penalty=l1, solver=saga...........\n",
      "[CV 4/5; 7/60] END C=0.0006951927961775605, penalty=l1, solver=saga;, score=0.913 total time=   0.4s\n",
      "[CV 5/5; 7/60] START C=0.0006951927961775605, penalty=l1, solver=saga...........\n",
      "[CV 5/5; 7/60] END C=0.0006951927961775605, penalty=l1, solver=saga;, score=0.914 total time=   0.4s\n",
      "[CV 1/5; 8/60] START C=0.0006951927961775605, penalty=l2, solver=saga...........\n",
      "[CV 1/5; 8/60] END C=0.0006951927961775605, penalty=l2, solver=saga;, score=0.913 total time=   0.4s\n",
      "[CV 2/5; 8/60] START C=0.0006951927961775605, penalty=l2, solver=saga...........\n",
      "[CV 2/5; 8/60] END C=0.0006951927961775605, penalty=l2, solver=saga;, score=0.916 total time=   0.4s\n",
      "[CV 3/5; 8/60] START C=0.0006951927961775605, penalty=l2, solver=saga...........\n",
      "[CV 3/5; 8/60] END C=0.0006951927961775605, penalty=l2, solver=saga;, score=0.913 total time=   0.4s\n",
      "[CV 4/5; 8/60] START C=0.0006951927961775605, penalty=l2, solver=saga...........\n",
      "[CV 4/5; 8/60] END C=0.0006951927961775605, penalty=l2, solver=saga;, score=0.912 total time=   0.3s\n",
      "[CV 5/5; 8/60] START C=0.0006951927961775605, penalty=l2, solver=saga...........\n",
      "[CV 5/5; 8/60] END C=0.0006951927961775605, penalty=l2, solver=saga;, score=0.912 total time=   0.3s\n",
      "[CV 1/5; 9/60] START C=0.0006951927961775605, penalty=elasticnet, solver=saga...\n",
      "[CV 1/5; 9/60] END C=0.0006951927961775605, penalty=elasticnet, solver=saga;, score=nan total time=   0.0s\n",
      "[CV 2/5; 9/60] START C=0.0006951927961775605, penalty=elasticnet, solver=saga...\n",
      "[CV 2/5; 9/60] END C=0.0006951927961775605, penalty=elasticnet, solver=saga;, score=nan total time=   0.0s\n",
      "[CV 3/5; 9/60] START C=0.0006951927961775605, penalty=elasticnet, solver=saga...\n",
      "[CV 3/5; 9/60] END C=0.0006951927961775605, penalty=elasticnet, solver=saga;, score=nan total time=   0.0s\n",
      "[CV 4/5; 9/60] START C=0.0006951927961775605, penalty=elasticnet, solver=saga...\n",
      "[CV 4/5; 9/60] END C=0.0006951927961775605, penalty=elasticnet, solver=saga;, score=nan total time=   0.0s\n",
      "[CV 5/5; 9/60] START C=0.0006951927961775605, penalty=elasticnet, solver=saga...\n",
      "[CV 5/5; 9/60] END C=0.0006951927961775605, penalty=elasticnet, solver=saga;, score=nan total time=   0.0s\n",
      "[CV 1/5; 10/60] START C=0.0018329807108324356, penalty=l1, solver=saga..........\n",
      "[CV 1/5; 10/60] END C=0.0018329807108324356, penalty=l1, solver=saga;, score=0.916 total time=   0.3s\n",
      "[CV 2/5; 10/60] START C=0.0018329807108324356, penalty=l1, solver=saga..........\n",
      "[CV 2/5; 10/60] END C=0.0018329807108324356, penalty=l1, solver=saga;, score=0.916 total time=   0.4s\n",
      "[CV 3/5; 10/60] START C=0.0018329807108324356, penalty=l1, solver=saga..........\n",
      "[CV 3/5; 10/60] END C=0.0018329807108324356, penalty=l1, solver=saga;, score=0.915 total time=   0.3s\n",
      "[CV 4/5; 10/60] START C=0.0018329807108324356, penalty=l1, solver=saga..........\n",
      "[CV 4/5; 10/60] END C=0.0018329807108324356, penalty=l1, solver=saga;, score=0.913 total time=   0.4s\n",
      "[CV 5/5; 10/60] START C=0.0018329807108324356, penalty=l1, solver=saga..........\n",
      "[CV 5/5; 10/60] END C=0.0018329807108324356, penalty=l1, solver=saga;, score=0.914 total time=   0.4s\n",
      "[CV 1/5; 11/60] START C=0.0018329807108324356, penalty=l2, solver=saga..........\n",
      "[CV 1/5; 11/60] END C=0.0018329807108324356, penalty=l2, solver=saga;, score=0.915 total time=   0.2s\n",
      "[CV 2/5; 11/60] START C=0.0018329807108324356, penalty=l2, solver=saga..........\n",
      "[CV 2/5; 11/60] END C=0.0018329807108324356, penalty=l2, solver=saga;, score=0.916 total time=   0.3s\n",
      "[CV 3/5; 11/60] START C=0.0018329807108324356, penalty=l2, solver=saga..........\n",
      "[CV 3/5; 11/60] END C=0.0018329807108324356, penalty=l2, solver=saga;, score=0.915 total time=   0.4s\n",
      "[CV 4/5; 11/60] START C=0.0018329807108324356, penalty=l2, solver=saga..........\n",
      "[CV 4/5; 11/60] END C=0.0018329807108324356, penalty=l2, solver=saga;, score=0.913 total time=   0.4s\n",
      "[CV 5/5; 11/60] START C=0.0018329807108324356, penalty=l2, solver=saga..........\n",
      "[CV 5/5; 11/60] END C=0.0018329807108324356, penalty=l2, solver=saga;, score=0.913 total time=   0.3s\n",
      "[CV 1/5; 12/60] START C=0.0018329807108324356, penalty=elasticnet, solver=saga..\n",
      "[CV 1/5; 12/60] END C=0.0018329807108324356, penalty=elasticnet, solver=saga;, score=nan total time=   0.0s\n",
      "[CV 2/5; 12/60] START C=0.0018329807108324356, penalty=elasticnet, solver=saga..\n",
      "[CV 2/5; 12/60] END C=0.0018329807108324356, penalty=elasticnet, solver=saga;, score=nan total time=   0.0s\n",
      "[CV 3/5; 12/60] START C=0.0018329807108324356, penalty=elasticnet, solver=saga..\n",
      "[CV 3/5; 12/60] END C=0.0018329807108324356, penalty=elasticnet, solver=saga;, score=nan total time=   0.0s\n",
      "[CV 4/5; 12/60] START C=0.0018329807108324356, penalty=elasticnet, solver=saga..\n",
      "[CV 4/5; 12/60] END C=0.0018329807108324356, penalty=elasticnet, solver=saga;, score=nan total time=   0.0s\n",
      "[CV 5/5; 12/60] START C=0.0018329807108324356, penalty=elasticnet, solver=saga..\n",
      "[CV 5/5; 12/60] END C=0.0018329807108324356, penalty=elasticnet, solver=saga;, score=nan total time=   0.0s\n",
      "[CV 1/5; 13/60] START C=0.004832930238571752, penalty=l1, solver=saga...........\n",
      "[CV 1/5; 13/60] END C=0.004832930238571752, penalty=l1, solver=saga;, score=0.915 total time=   0.3s\n",
      "[CV 2/5; 13/60] START C=0.004832930238571752, penalty=l1, solver=saga...........\n",
      "[CV 2/5; 13/60] END C=0.004832930238571752, penalty=l1, solver=saga;, score=0.915 total time=   0.4s\n",
      "[CV 3/5; 13/60] START C=0.004832930238571752, penalty=l1, solver=saga...........\n",
      "[CV 3/5; 13/60] END C=0.004832930238571752, penalty=l1, solver=saga;, score=0.915 total time=   0.4s\n",
      "[CV 4/5; 13/60] START C=0.004832930238571752, penalty=l1, solver=saga...........\n",
      "[CV 4/5; 13/60] END C=0.004832930238571752, penalty=l1, solver=saga;, score=0.913 total time=   0.5s\n",
      "[CV 5/5; 13/60] START C=0.004832930238571752, penalty=l1, solver=saga...........\n",
      "[CV 5/5; 13/60] END C=0.004832930238571752, penalty=l1, solver=saga;, score=0.914 total time=   0.5s\n",
      "[CV 1/5; 14/60] START C=0.004832930238571752, penalty=l2, solver=saga...........\n",
      "[CV 1/5; 14/60] END C=0.004832930238571752, penalty=l2, solver=saga;, score=0.915 total time=   0.4s\n",
      "[CV 2/5; 14/60] START C=0.004832930238571752, penalty=l2, solver=saga...........\n",
      "[CV 2/5; 14/60] END C=0.004832930238571752, penalty=l2, solver=saga;, score=0.916 total time=   0.2s\n",
      "[CV 3/5; 14/60] START C=0.004832930238571752, penalty=l2, solver=saga...........\n",
      "[CV 3/5; 14/60] END C=0.004832930238571752, penalty=l2, solver=saga;, score=0.915 total time=   0.2s\n",
      "[CV 4/5; 14/60] START C=0.004832930238571752, penalty=l2, solver=saga...........\n",
      "[CV 4/5; 14/60] END C=0.004832930238571752, penalty=l2, solver=saga;, score=0.913 total time=   0.3s\n",
      "[CV 5/5; 14/60] START C=0.004832930238571752, penalty=l2, solver=saga...........\n",
      "[CV 5/5; 14/60] END C=0.004832930238571752, penalty=l2, solver=saga;, score=0.914 total time=   0.3s\n",
      "[CV 1/5; 15/60] START C=0.004832930238571752, penalty=elasticnet, solver=saga...\n",
      "[CV 1/5; 15/60] END C=0.004832930238571752, penalty=elasticnet, solver=saga;, score=nan total time=   0.0s\n",
      "[CV 2/5; 15/60] START C=0.004832930238571752, penalty=elasticnet, solver=saga...\n",
      "[CV 2/5; 15/60] END C=0.004832930238571752, penalty=elasticnet, solver=saga;, score=nan total time=   0.0s\n",
      "[CV 3/5; 15/60] START C=0.004832930238571752, penalty=elasticnet, solver=saga...\n",
      "[CV 3/5; 15/60] END C=0.004832930238571752, penalty=elasticnet, solver=saga;, score=nan total time=   0.0s\n",
      "[CV 4/5; 15/60] START C=0.004832930238571752, penalty=elasticnet, solver=saga...\n",
      "[CV 4/5; 15/60] END C=0.004832930238571752, penalty=elasticnet, solver=saga;, score=nan total time=   0.0s\n",
      "[CV 5/5; 15/60] START C=0.004832930238571752, penalty=elasticnet, solver=saga...\n",
      "[CV 5/5; 15/60] END C=0.004832930238571752, penalty=elasticnet, solver=saga;, score=nan total time=   0.0s\n",
      "[CV 1/5; 16/60] START C=0.012742749857031334, penalty=l1, solver=saga...........\n",
      "[CV 1/5; 16/60] END C=0.012742749857031334, penalty=l1, solver=saga;, score=0.915 total time=   0.5s\n",
      "[CV 2/5; 16/60] START C=0.012742749857031334, penalty=l1, solver=saga...........\n",
      "[CV 2/5; 16/60] END C=0.012742749857031334, penalty=l1, solver=saga;, score=0.916 total time=   0.4s\n",
      "[CV 3/5; 16/60] START C=0.012742749857031334, penalty=l1, solver=saga...........\n",
      "[CV 3/5; 16/60] END C=0.012742749857031334, penalty=l1, solver=saga;, score=0.916 total time=   0.6s\n",
      "[CV 4/5; 16/60] START C=0.012742749857031334, penalty=l1, solver=saga...........\n",
      "[CV 4/5; 16/60] END C=0.012742749857031334, penalty=l1, solver=saga;, score=0.913 total time=   0.3s\n",
      "[CV 5/5; 16/60] START C=0.012742749857031334, penalty=l1, solver=saga...........\n",
      "[CV 5/5; 16/60] END C=0.012742749857031334, penalty=l1, solver=saga;, score=0.915 total time=   0.3s\n",
      "[CV 1/5; 17/60] START C=0.012742749857031334, penalty=l2, solver=saga...........\n",
      "[CV 1/5; 17/60] END C=0.012742749857031334, penalty=l2, solver=saga;, score=0.915 total time=   0.3s\n",
      "[CV 2/5; 17/60] START C=0.012742749857031334, penalty=l2, solver=saga...........\n",
      "[CV 2/5; 17/60] END C=0.012742749857031334, penalty=l2, solver=saga;, score=0.916 total time=   0.4s\n",
      "[CV 3/5; 17/60] START C=0.012742749857031334, penalty=l2, solver=saga...........\n",
      "[CV 3/5; 17/60] END C=0.012742749857031334, penalty=l2, solver=saga;, score=0.915 total time=   0.4s\n",
      "[CV 4/5; 17/60] START C=0.012742749857031334, penalty=l2, solver=saga...........\n",
      "[CV 4/5; 17/60] END C=0.012742749857031334, penalty=l2, solver=saga;, score=0.913 total time=   0.4s\n",
      "[CV 5/5; 17/60] START C=0.012742749857031334, penalty=l2, solver=saga...........\n",
      "[CV 5/5; 17/60] END C=0.012742749857031334, penalty=l2, solver=saga;, score=0.914 total time=   0.3s\n",
      "[CV 1/5; 18/60] START C=0.012742749857031334, penalty=elasticnet, solver=saga...\n",
      "[CV 1/5; 18/60] END C=0.012742749857031334, penalty=elasticnet, solver=saga;, score=nan total time=   0.0s\n",
      "[CV 2/5; 18/60] START C=0.012742749857031334, penalty=elasticnet, solver=saga...\n",
      "[CV 2/5; 18/60] END C=0.012742749857031334, penalty=elasticnet, solver=saga;, score=nan total time=   0.0s\n",
      "[CV 3/5; 18/60] START C=0.012742749857031334, penalty=elasticnet, solver=saga...\n",
      "[CV 3/5; 18/60] END C=0.012742749857031334, penalty=elasticnet, solver=saga;, score=nan total time=   0.0s\n",
      "[CV 4/5; 18/60] START C=0.012742749857031334, penalty=elasticnet, solver=saga...\n",
      "[CV 4/5; 18/60] END C=0.012742749857031334, penalty=elasticnet, solver=saga;, score=nan total time=   0.0s\n",
      "[CV 5/5; 18/60] START C=0.012742749857031334, penalty=elasticnet, solver=saga...\n",
      "[CV 5/5; 18/60] END C=0.012742749857031334, penalty=elasticnet, solver=saga;, score=nan total time=   0.0s\n",
      "[CV 1/5; 19/60] START C=0.03359818286283781, penalty=l1, solver=saga............\n",
      "[CV 1/5; 19/60] END C=0.03359818286283781, penalty=l1, solver=saga;, score=0.915 total time=   0.3s\n",
      "[CV 2/5; 19/60] START C=0.03359818286283781, penalty=l1, solver=saga............\n",
      "[CV 2/5; 19/60] END C=0.03359818286283781, penalty=l1, solver=saga;, score=0.916 total time=   0.3s\n",
      "[CV 3/5; 19/60] START C=0.03359818286283781, penalty=l1, solver=saga............\n",
      "[CV 3/5; 19/60] END C=0.03359818286283781, penalty=l1, solver=saga;, score=0.916 total time=   0.3s\n",
      "[CV 4/5; 19/60] START C=0.03359818286283781, penalty=l1, solver=saga............\n",
      "[CV 4/5; 19/60] END C=0.03359818286283781, penalty=l1, solver=saga;, score=0.913 total time=   0.4s\n",
      "[CV 5/5; 19/60] START C=0.03359818286283781, penalty=l1, solver=saga............\n",
      "[CV 5/5; 19/60] END C=0.03359818286283781, penalty=l1, solver=saga;, score=0.915 total time=   0.3s\n",
      "[CV 1/5; 20/60] START C=0.03359818286283781, penalty=l2, solver=saga............\n",
      "[CV 1/5; 20/60] END C=0.03359818286283781, penalty=l2, solver=saga;, score=0.915 total time=   0.3s\n",
      "[CV 2/5; 20/60] START C=0.03359818286283781, penalty=l2, solver=saga............\n",
      "[CV 2/5; 20/60] END C=0.03359818286283781, penalty=l2, solver=saga;, score=0.916 total time=   0.3s\n",
      "[CV 3/5; 20/60] START C=0.03359818286283781, penalty=l2, solver=saga............\n",
      "[CV 3/5; 20/60] END C=0.03359818286283781, penalty=l2, solver=saga;, score=0.916 total time=   0.4s\n",
      "[CV 4/5; 20/60] START C=0.03359818286283781, penalty=l2, solver=saga............\n",
      "[CV 4/5; 20/60] END C=0.03359818286283781, penalty=l2, solver=saga;, score=0.913 total time=   0.4s\n",
      "[CV 5/5; 20/60] START C=0.03359818286283781, penalty=l2, solver=saga............\n",
      "[CV 5/5; 20/60] END C=0.03359818286283781, penalty=l2, solver=saga;, score=0.914 total time=   0.4s\n",
      "[CV 1/5; 21/60] START C=0.03359818286283781, penalty=elasticnet, solver=saga....\n",
      "[CV 1/5; 21/60] END C=0.03359818286283781, penalty=elasticnet, solver=saga;, score=nan total time=   0.0s\n",
      "[CV 2/5; 21/60] START C=0.03359818286283781, penalty=elasticnet, solver=saga....\n",
      "[CV 2/5; 21/60] END C=0.03359818286283781, penalty=elasticnet, solver=saga;, score=nan total time=   0.0s\n",
      "[CV 3/5; 21/60] START C=0.03359818286283781, penalty=elasticnet, solver=saga....\n",
      "[CV 3/5; 21/60] END C=0.03359818286283781, penalty=elasticnet, solver=saga;, score=nan total time=   0.0s\n",
      "[CV 4/5; 21/60] START C=0.03359818286283781, penalty=elasticnet, solver=saga....\n",
      "[CV 4/5; 21/60] END C=0.03359818286283781, penalty=elasticnet, solver=saga;, score=nan total time=   0.0s\n",
      "[CV 5/5; 21/60] START C=0.03359818286283781, penalty=elasticnet, solver=saga....\n",
      "[CV 5/5; 21/60] END C=0.03359818286283781, penalty=elasticnet, solver=saga;, score=nan total time=   0.0s\n",
      "[CV 1/5; 22/60] START C=0.08858667904100823, penalty=l1, solver=saga............\n",
      "[CV 1/5; 22/60] END C=0.08858667904100823, penalty=l1, solver=saga;, score=0.915 total time=   0.4s\n",
      "[CV 2/5; 22/60] START C=0.08858667904100823, penalty=l1, solver=saga............\n",
      "[CV 2/5; 22/60] END C=0.08858667904100823, penalty=l1, solver=saga;, score=0.916 total time=   0.3s\n",
      "[CV 3/5; 22/60] START C=0.08858667904100823, penalty=l1, solver=saga............\n",
      "[CV 3/5; 22/60] END C=0.08858667904100823, penalty=l1, solver=saga;, score=0.916 total time=   0.4s\n",
      "[CV 4/5; 22/60] START C=0.08858667904100823, penalty=l1, solver=saga............\n",
      "[CV 4/5; 22/60] END C=0.08858667904100823, penalty=l1, solver=saga;, score=0.912 total time=   0.5s\n",
      "[CV 5/5; 22/60] START C=0.08858667904100823, penalty=l1, solver=saga............\n",
      "[CV 5/5; 22/60] END C=0.08858667904100823, penalty=l1, solver=saga;, score=0.914 total time=   0.6s\n",
      "[CV 1/5; 23/60] START C=0.08858667904100823, penalty=l2, solver=saga............\n",
      "[CV 1/5; 23/60] END C=0.08858667904100823, penalty=l2, solver=saga;, score=0.915 total time=   0.3s\n",
      "[CV 2/5; 23/60] START C=0.08858667904100823, penalty=l2, solver=saga............\n",
      "[CV 2/5; 23/60] END C=0.08858667904100823, penalty=l2, solver=saga;, score=0.916 total time=   0.4s\n",
      "[CV 3/5; 23/60] START C=0.08858667904100823, penalty=l2, solver=saga............\n",
      "[CV 3/5; 23/60] END C=0.08858667904100823, penalty=l2, solver=saga;, score=0.915 total time=   0.4s\n",
      "[CV 4/5; 23/60] START C=0.08858667904100823, penalty=l2, solver=saga............\n",
      "[CV 4/5; 23/60] END C=0.08858667904100823, penalty=l2, solver=saga;, score=0.912 total time=   0.6s\n",
      "[CV 5/5; 23/60] START C=0.08858667904100823, penalty=l2, solver=saga............\n",
      "[CV 5/5; 23/60] END C=0.08858667904100823, penalty=l2, solver=saga;, score=0.914 total time=   0.4s\n",
      "[CV 1/5; 24/60] START C=0.08858667904100823, penalty=elasticnet, solver=saga....\n",
      "[CV 1/5; 24/60] END C=0.08858667904100823, penalty=elasticnet, solver=saga;, score=nan total time=   0.0s\n",
      "[CV 2/5; 24/60] START C=0.08858667904100823, penalty=elasticnet, solver=saga....\n",
      "[CV 2/5; 24/60] END C=0.08858667904100823, penalty=elasticnet, solver=saga;, score=nan total time=   0.0s\n",
      "[CV 3/5; 24/60] START C=0.08858667904100823, penalty=elasticnet, solver=saga....\n",
      "[CV 3/5; 24/60] END C=0.08858667904100823, penalty=elasticnet, solver=saga;, score=nan total time=   0.0s\n",
      "[CV 4/5; 24/60] START C=0.08858667904100823, penalty=elasticnet, solver=saga....\n",
      "[CV 4/5; 24/60] END C=0.08858667904100823, penalty=elasticnet, solver=saga;, score=nan total time=   0.0s\n",
      "[CV 5/5; 24/60] START C=0.08858667904100823, penalty=elasticnet, solver=saga....\n",
      "[CV 5/5; 24/60] END C=0.08858667904100823, penalty=elasticnet, solver=saga;, score=nan total time=   0.0s\n",
      "[CV 1/5; 25/60] START C=0.23357214690901212, penalty=l1, solver=saga............\n",
      "[CV 1/5; 25/60] END C=0.23357214690901212, penalty=l1, solver=saga;, score=0.915 total time=   0.4s\n",
      "[CV 2/5; 25/60] START C=0.23357214690901212, penalty=l1, solver=saga............\n",
      "[CV 2/5; 25/60] END C=0.23357214690901212, penalty=l1, solver=saga;, score=0.915 total time=   0.5s\n",
      "[CV 3/5; 25/60] START C=0.23357214690901212, penalty=l1, solver=saga............\n",
      "[CV 3/5; 25/60] END C=0.23357214690901212, penalty=l1, solver=saga;, score=0.915 total time=   0.4s\n",
      "[CV 4/5; 25/60] START C=0.23357214690901212, penalty=l1, solver=saga............\n",
      "[CV 4/5; 25/60] END C=0.23357214690901212, penalty=l1, solver=saga;, score=0.913 total time=   0.4s\n",
      "[CV 5/5; 25/60] START C=0.23357214690901212, penalty=l1, solver=saga............\n",
      "[CV 5/5; 25/60] END C=0.23357214690901212, penalty=l1, solver=saga;, score=0.914 total time=   0.4s\n",
      "[CV 1/5; 26/60] START C=0.23357214690901212, penalty=l2, solver=saga............\n",
      "[CV 1/5; 26/60] END C=0.23357214690901212, penalty=l2, solver=saga;, score=0.915 total time=   0.5s\n",
      "[CV 2/5; 26/60] START C=0.23357214690901212, penalty=l2, solver=saga............\n",
      "[CV 2/5; 26/60] END C=0.23357214690901212, penalty=l2, solver=saga;, score=0.916 total time=   0.4s\n",
      "[CV 3/5; 26/60] START C=0.23357214690901212, penalty=l2, solver=saga............\n",
      "[CV 3/5; 26/60] END C=0.23357214690901212, penalty=l2, solver=saga;, score=0.915 total time=   0.5s\n",
      "[CV 4/5; 26/60] START C=0.23357214690901212, penalty=l2, solver=saga............\n",
      "[CV 4/5; 26/60] END C=0.23357214690901212, penalty=l2, solver=saga;, score=0.912 total time=   0.5s\n",
      "[CV 5/5; 26/60] START C=0.23357214690901212, penalty=l2, solver=saga............\n",
      "[CV 5/5; 26/60] END C=0.23357214690901212, penalty=l2, solver=saga;, score=0.914 total time=   0.4s\n",
      "[CV 1/5; 27/60] START C=0.23357214690901212, penalty=elasticnet, solver=saga....\n",
      "[CV 1/5; 27/60] END C=0.23357214690901212, penalty=elasticnet, solver=saga;, score=nan total time=   0.0s\n",
      "[CV 2/5; 27/60] START C=0.23357214690901212, penalty=elasticnet, solver=saga....\n",
      "[CV 2/5; 27/60] END C=0.23357214690901212, penalty=elasticnet, solver=saga;, score=nan total time=   0.0s\n",
      "[CV 3/5; 27/60] START C=0.23357214690901212, penalty=elasticnet, solver=saga....\n",
      "[CV 3/5; 27/60] END C=0.23357214690901212, penalty=elasticnet, solver=saga;, score=nan total time=   0.0s\n",
      "[CV 4/5; 27/60] START C=0.23357214690901212, penalty=elasticnet, solver=saga....\n",
      "[CV 4/5; 27/60] END C=0.23357214690901212, penalty=elasticnet, solver=saga;, score=nan total time=   0.0s\n",
      "[CV 5/5; 27/60] START C=0.23357214690901212, penalty=elasticnet, solver=saga....\n",
      "[CV 5/5; 27/60] END C=0.23357214690901212, penalty=elasticnet, solver=saga;, score=nan total time=   0.0s\n",
      "[CV 1/5; 28/60] START C=0.615848211066026, penalty=l1, solver=saga..............\n",
      "[CV 1/5; 28/60] END C=0.615848211066026, penalty=l1, solver=saga;, score=0.915 total time=   0.3s\n",
      "[CV 2/5; 28/60] START C=0.615848211066026, penalty=l1, solver=saga..............\n",
      "[CV 2/5; 28/60] END C=0.615848211066026, penalty=l1, solver=saga;, score=0.915 total time=   0.4s\n",
      "[CV 3/5; 28/60] START C=0.615848211066026, penalty=l1, solver=saga..............\n",
      "[CV 3/5; 28/60] END C=0.615848211066026, penalty=l1, solver=saga;, score=0.915 total time=   0.3s\n",
      "[CV 4/5; 28/60] START C=0.615848211066026, penalty=l1, solver=saga..............\n",
      "[CV 4/5; 28/60] END C=0.615848211066026, penalty=l1, solver=saga;, score=0.912 total time=   0.5s\n",
      "[CV 5/5; 28/60] START C=0.615848211066026, penalty=l1, solver=saga..............\n",
      "[CV 5/5; 28/60] END C=0.615848211066026, penalty=l1, solver=saga;, score=0.914 total time=   0.5s\n",
      "[CV 1/5; 29/60] START C=0.615848211066026, penalty=l2, solver=saga..............\n",
      "[CV 1/5; 29/60] END C=0.615848211066026, penalty=l2, solver=saga;, score=0.915 total time=   0.4s\n",
      "[CV 2/5; 29/60] START C=0.615848211066026, penalty=l2, solver=saga..............\n",
      "[CV 2/5; 29/60] END C=0.615848211066026, penalty=l2, solver=saga;, score=0.915 total time=   0.3s\n",
      "[CV 3/5; 29/60] START C=0.615848211066026, penalty=l2, solver=saga..............\n",
      "[CV 3/5; 29/60] END C=0.615848211066026, penalty=l2, solver=saga;, score=0.915 total time=   0.3s\n",
      "[CV 4/5; 29/60] START C=0.615848211066026, penalty=l2, solver=saga..............\n",
      "[CV 4/5; 29/60] END C=0.615848211066026, penalty=l2, solver=saga;, score=0.912 total time=   0.3s\n",
      "[CV 5/5; 29/60] START C=0.615848211066026, penalty=l2, solver=saga..............\n",
      "[CV 5/5; 29/60] END C=0.615848211066026, penalty=l2, solver=saga;, score=0.914 total time=   0.3s\n",
      "[CV 1/5; 30/60] START C=0.615848211066026, penalty=elasticnet, solver=saga......\n",
      "[CV 1/5; 30/60] END C=0.615848211066026, penalty=elasticnet, solver=saga;, score=nan total time=   0.0s\n",
      "[CV 2/5; 30/60] START C=0.615848211066026, penalty=elasticnet, solver=saga......\n",
      "[CV 2/5; 30/60] END C=0.615848211066026, penalty=elasticnet, solver=saga;, score=nan total time=   0.0s\n",
      "[CV 3/5; 30/60] START C=0.615848211066026, penalty=elasticnet, solver=saga......\n",
      "[CV 3/5; 30/60] END C=0.615848211066026, penalty=elasticnet, solver=saga;, score=nan total time=   0.0s\n",
      "[CV 4/5; 30/60] START C=0.615848211066026, penalty=elasticnet, solver=saga......\n",
      "[CV 4/5; 30/60] END C=0.615848211066026, penalty=elasticnet, solver=saga;, score=nan total time=   0.0s\n",
      "[CV 5/5; 30/60] START C=0.615848211066026, penalty=elasticnet, solver=saga......\n",
      "[CV 5/5; 30/60] END C=0.615848211066026, penalty=elasticnet, solver=saga;, score=nan total time=   0.0s\n",
      "[CV 1/5; 31/60] START C=1.623776739188721, penalty=l1, solver=saga..............\n",
      "[CV 1/5; 31/60] END C=1.623776739188721, penalty=l1, solver=saga;, score=0.915 total time=   0.5s\n",
      "[CV 2/5; 31/60] START C=1.623776739188721, penalty=l1, solver=saga..............\n",
      "[CV 2/5; 31/60] END C=1.623776739188721, penalty=l1, solver=saga;, score=0.915 total time=   0.3s\n",
      "[CV 3/5; 31/60] START C=1.623776739188721, penalty=l1, solver=saga..............\n",
      "[CV 3/5; 31/60] END C=1.623776739188721, penalty=l1, solver=saga;, score=0.915 total time=   0.5s\n",
      "[CV 4/5; 31/60] START C=1.623776739188721, penalty=l1, solver=saga..............\n",
      "[CV 4/5; 31/60] END C=1.623776739188721, penalty=l1, solver=saga;, score=0.912 total time=   0.3s\n",
      "[CV 5/5; 31/60] START C=1.623776739188721, penalty=l1, solver=saga..............\n",
      "[CV 5/5; 31/60] END C=1.623776739188721, penalty=l1, solver=saga;, score=0.914 total time=   0.4s\n",
      "[CV 1/5; 32/60] START C=1.623776739188721, penalty=l2, solver=saga..............\n",
      "[CV 1/5; 32/60] END C=1.623776739188721, penalty=l2, solver=saga;, score=0.915 total time=   0.6s\n",
      "[CV 2/5; 32/60] START C=1.623776739188721, penalty=l2, solver=saga..............\n",
      "[CV 2/5; 32/60] END C=1.623776739188721, penalty=l2, solver=saga;, score=0.915 total time=   0.5s\n",
      "[CV 3/5; 32/60] START C=1.623776739188721, penalty=l2, solver=saga..............\n",
      "[CV 3/5; 32/60] END C=1.623776739188721, penalty=l2, solver=saga;, score=0.915 total time=   0.4s\n",
      "[CV 4/5; 32/60] START C=1.623776739188721, penalty=l2, solver=saga..............\n",
      "[CV 4/5; 32/60] END C=1.623776739188721, penalty=l2, solver=saga;, score=0.912 total time=   0.4s\n",
      "[CV 5/5; 32/60] START C=1.623776739188721, penalty=l2, solver=saga..............\n",
      "[CV 5/5; 32/60] END C=1.623776739188721, penalty=l2, solver=saga;, score=0.914 total time=   0.3s\n",
      "[CV 1/5; 33/60] START C=1.623776739188721, penalty=elasticnet, solver=saga......\n",
      "[CV 1/5; 33/60] END C=1.623776739188721, penalty=elasticnet, solver=saga;, score=nan total time=   0.0s\n",
      "[CV 2/5; 33/60] START C=1.623776739188721, penalty=elasticnet, solver=saga......\n",
      "[CV 2/5; 33/60] END C=1.623776739188721, penalty=elasticnet, solver=saga;, score=nan total time=   0.0s\n",
      "[CV 3/5; 33/60] START C=1.623776739188721, penalty=elasticnet, solver=saga......\n",
      "[CV 3/5; 33/60] END C=1.623776739188721, penalty=elasticnet, solver=saga;, score=nan total time=   0.0s\n",
      "[CV 4/5; 33/60] START C=1.623776739188721, penalty=elasticnet, solver=saga......\n",
      "[CV 4/5; 33/60] END C=1.623776739188721, penalty=elasticnet, solver=saga;, score=nan total time=   0.0s\n",
      "[CV 5/5; 33/60] START C=1.623776739188721, penalty=elasticnet, solver=saga......\n",
      "[CV 5/5; 33/60] END C=1.623776739188721, penalty=elasticnet, solver=saga;, score=nan total time=   0.0s\n",
      "[CV 1/5; 34/60] START C=4.281332398719396, penalty=l1, solver=saga..............\n",
      "[CV 1/5; 34/60] END C=4.281332398719396, penalty=l1, solver=saga;, score=0.915 total time=   0.3s\n",
      "[CV 2/5; 34/60] START C=4.281332398719396, penalty=l1, solver=saga..............\n",
      "[CV 2/5; 34/60] END C=4.281332398719396, penalty=l1, solver=saga;, score=0.915 total time=   0.3s\n",
      "[CV 3/5; 34/60] START C=4.281332398719396, penalty=l1, solver=saga..............\n",
      "[CV 3/5; 34/60] END C=4.281332398719396, penalty=l1, solver=saga;, score=0.915 total time=   0.3s\n",
      "[CV 4/5; 34/60] START C=4.281332398719396, penalty=l1, solver=saga..............\n",
      "[CV 4/5; 34/60] END C=4.281332398719396, penalty=l1, solver=saga;, score=0.912 total time=   0.4s\n",
      "[CV 5/5; 34/60] START C=4.281332398719396, penalty=l1, solver=saga..............\n",
      "[CV 5/5; 34/60] END C=4.281332398719396, penalty=l1, solver=saga;, score=0.914 total time=   0.4s\n",
      "[CV 1/5; 35/60] START C=4.281332398719396, penalty=l2, solver=saga..............\n",
      "[CV 1/5; 35/60] END C=4.281332398719396, penalty=l2, solver=saga;, score=0.915 total time=   0.3s\n",
      "[CV 2/5; 35/60] START C=4.281332398719396, penalty=l2, solver=saga..............\n",
      "[CV 2/5; 35/60] END C=4.281332398719396, penalty=l2, solver=saga;, score=0.915 total time=   0.3s\n",
      "[CV 3/5; 35/60] START C=4.281332398719396, penalty=l2, solver=saga..............\n",
      "[CV 3/5; 35/60] END C=4.281332398719396, penalty=l2, solver=saga;, score=0.915 total time=   0.3s\n",
      "[CV 4/5; 35/60] START C=4.281332398719396, penalty=l2, solver=saga..............\n",
      "[CV 4/5; 35/60] END C=4.281332398719396, penalty=l2, solver=saga;, score=0.912 total time=   0.3s\n",
      "[CV 5/5; 35/60] START C=4.281332398719396, penalty=l2, solver=saga..............\n",
      "[CV 5/5; 35/60] END C=4.281332398719396, penalty=l2, solver=saga;, score=0.914 total time=   0.3s\n",
      "[CV 1/5; 36/60] START C=4.281332398719396, penalty=elasticnet, solver=saga......\n",
      "[CV 1/5; 36/60] END C=4.281332398719396, penalty=elasticnet, solver=saga;, score=nan total time=   0.0s\n",
      "[CV 2/5; 36/60] START C=4.281332398719396, penalty=elasticnet, solver=saga......\n",
      "[CV 2/5; 36/60] END C=4.281332398719396, penalty=elasticnet, solver=saga;, score=nan total time=   0.0s\n",
      "[CV 3/5; 36/60] START C=4.281332398719396, penalty=elasticnet, solver=saga......\n",
      "[CV 3/5; 36/60] END C=4.281332398719396, penalty=elasticnet, solver=saga;, score=nan total time=   0.0s\n",
      "[CV 4/5; 36/60] START C=4.281332398719396, penalty=elasticnet, solver=saga......\n",
      "[CV 4/5; 36/60] END C=4.281332398719396, penalty=elasticnet, solver=saga;, score=nan total time=   0.0s\n",
      "[CV 5/5; 36/60] START C=4.281332398719396, penalty=elasticnet, solver=saga......\n",
      "[CV 5/5; 36/60] END C=4.281332398719396, penalty=elasticnet, solver=saga;, score=nan total time=   0.0s\n",
      "[CV 1/5; 37/60] START C=11.288378916846883, penalty=l1, solver=saga.............\n",
      "[CV 1/5; 37/60] END C=11.288378916846883, penalty=l1, solver=saga;, score=0.915 total time=   0.3s\n",
      "[CV 2/5; 37/60] START C=11.288378916846883, penalty=l1, solver=saga.............\n",
      "[CV 2/5; 37/60] END C=11.288378916846883, penalty=l1, solver=saga;, score=0.915 total time=   0.4s\n",
      "[CV 3/5; 37/60] START C=11.288378916846883, penalty=l1, solver=saga.............\n",
      "[CV 3/5; 37/60] END C=11.288378916846883, penalty=l1, solver=saga;, score=0.915 total time=   0.4s\n",
      "[CV 4/5; 37/60] START C=11.288378916846883, penalty=l1, solver=saga.............\n",
      "[CV 4/5; 37/60] END C=11.288378916846883, penalty=l1, solver=saga;, score=0.912 total time=   0.4s\n",
      "[CV 5/5; 37/60] START C=11.288378916846883, penalty=l1, solver=saga.............\n",
      "[CV 5/5; 37/60] END C=11.288378916846883, penalty=l1, solver=saga;, score=0.914 total time=   0.4s\n",
      "[CV 1/5; 38/60] START C=11.288378916846883, penalty=l2, solver=saga.............\n",
      "[CV 1/5; 38/60] END C=11.288378916846883, penalty=l2, solver=saga;, score=0.915 total time=   0.4s\n",
      "[CV 2/5; 38/60] START C=11.288378916846883, penalty=l2, solver=saga.............\n",
      "[CV 2/5; 38/60] END C=11.288378916846883, penalty=l2, solver=saga;, score=0.915 total time=   0.4s\n",
      "[CV 3/5; 38/60] START C=11.288378916846883, penalty=l2, solver=saga.............\n",
      "[CV 3/5; 38/60] END C=11.288378916846883, penalty=l2, solver=saga;, score=0.915 total time=   0.5s\n",
      "[CV 4/5; 38/60] START C=11.288378916846883, penalty=l2, solver=saga.............\n",
      "[CV 4/5; 38/60] END C=11.288378916846883, penalty=l2, solver=saga;, score=0.912 total time=   0.4s\n",
      "[CV 5/5; 38/60] START C=11.288378916846883, penalty=l2, solver=saga.............\n",
      "[CV 5/5; 38/60] END C=11.288378916846883, penalty=l2, solver=saga;, score=0.914 total time=   0.4s\n",
      "[CV 1/5; 39/60] START C=11.288378916846883, penalty=elasticnet, solver=saga.....\n",
      "[CV 1/5; 39/60] END C=11.288378916846883, penalty=elasticnet, solver=saga;, score=nan total time=   0.0s\n",
      "[CV 2/5; 39/60] START C=11.288378916846883, penalty=elasticnet, solver=saga.....\n",
      "[CV 2/5; 39/60] END C=11.288378916846883, penalty=elasticnet, solver=saga;, score=nan total time=   0.0s\n",
      "[CV 3/5; 39/60] START C=11.288378916846883, penalty=elasticnet, solver=saga.....\n",
      "[CV 3/5; 39/60] END C=11.288378916846883, penalty=elasticnet, solver=saga;, score=nan total time=   0.0s\n",
      "[CV 4/5; 39/60] START C=11.288378916846883, penalty=elasticnet, solver=saga.....\n",
      "[CV 4/5; 39/60] END C=11.288378916846883, penalty=elasticnet, solver=saga;, score=nan total time=   0.0s\n",
      "[CV 5/5; 39/60] START C=11.288378916846883, penalty=elasticnet, solver=saga.....\n",
      "[CV 5/5; 39/60] END C=11.288378916846883, penalty=elasticnet, solver=saga;, score=nan total time=   0.0s\n",
      "[CV 1/5; 40/60] START C=29.763514416313132, penalty=l1, solver=saga.............\n",
      "[CV 1/5; 40/60] END C=29.763514416313132, penalty=l1, solver=saga;, score=0.915 total time=   0.4s\n",
      "[CV 2/5; 40/60] START C=29.763514416313132, penalty=l1, solver=saga.............\n",
      "[CV 2/5; 40/60] END C=29.763514416313132, penalty=l1, solver=saga;, score=0.915 total time=   0.4s\n",
      "[CV 3/5; 40/60] START C=29.763514416313132, penalty=l1, solver=saga.............\n",
      "[CV 3/5; 40/60] END C=29.763514416313132, penalty=l1, solver=saga;, score=0.915 total time=   0.3s\n",
      "[CV 4/5; 40/60] START C=29.763514416313132, penalty=l1, solver=saga.............\n",
      "[CV 4/5; 40/60] END C=29.763514416313132, penalty=l1, solver=saga;, score=0.912 total time=   0.3s\n",
      "[CV 5/5; 40/60] START C=29.763514416313132, penalty=l1, solver=saga.............\n",
      "[CV 5/5; 40/60] END C=29.763514416313132, penalty=l1, solver=saga;, score=0.914 total time=   0.3s\n",
      "[CV 1/5; 41/60] START C=29.763514416313132, penalty=l2, solver=saga.............\n",
      "[CV 1/5; 41/60] END C=29.763514416313132, penalty=l2, solver=saga;, score=0.915 total time=   0.3s\n",
      "[CV 2/5; 41/60] START C=29.763514416313132, penalty=l2, solver=saga.............\n",
      "[CV 2/5; 41/60] END C=29.763514416313132, penalty=l2, solver=saga;, score=0.915 total time=   0.4s\n",
      "[CV 3/5; 41/60] START C=29.763514416313132, penalty=l2, solver=saga.............\n",
      "[CV 3/5; 41/60] END C=29.763514416313132, penalty=l2, solver=saga;, score=0.915 total time=   0.4s\n",
      "[CV 4/5; 41/60] START C=29.763514416313132, penalty=l2, solver=saga.............\n",
      "[CV 4/5; 41/60] END C=29.763514416313132, penalty=l2, solver=saga;, score=0.912 total time=   0.4s\n",
      "[CV 5/5; 41/60] START C=29.763514416313132, penalty=l2, solver=saga.............\n",
      "[CV 5/5; 41/60] END C=29.763514416313132, penalty=l2, solver=saga;, score=0.914 total time=   0.3s\n",
      "[CV 1/5; 42/60] START C=29.763514416313132, penalty=elasticnet, solver=saga.....\n",
      "[CV 1/5; 42/60] END C=29.763514416313132, penalty=elasticnet, solver=saga;, score=nan total time=   0.0s\n",
      "[CV 2/5; 42/60] START C=29.763514416313132, penalty=elasticnet, solver=saga.....\n",
      "[CV 2/5; 42/60] END C=29.763514416313132, penalty=elasticnet, solver=saga;, score=nan total time=   0.0s\n",
      "[CV 3/5; 42/60] START C=29.763514416313132, penalty=elasticnet, solver=saga.....\n",
      "[CV 3/5; 42/60] END C=29.763514416313132, penalty=elasticnet, solver=saga;, score=nan total time=   0.0s\n",
      "[CV 4/5; 42/60] START C=29.763514416313132, penalty=elasticnet, solver=saga.....\n",
      "[CV 4/5; 42/60] END C=29.763514416313132, penalty=elasticnet, solver=saga;, score=nan total time=   0.0s\n",
      "[CV 5/5; 42/60] START C=29.763514416313132, penalty=elasticnet, solver=saga.....\n",
      "[CV 5/5; 42/60] END C=29.763514416313132, penalty=elasticnet, solver=saga;, score=nan total time=   0.0s\n",
      "[CV 1/5; 43/60] START C=78.47599703514607, penalty=l1, solver=saga..............\n",
      "[CV 1/5; 43/60] END C=78.47599703514607, penalty=l1, solver=saga;, score=0.915 total time=   0.4s\n",
      "[CV 2/5; 43/60] START C=78.47599703514607, penalty=l1, solver=saga..............\n",
      "[CV 2/5; 43/60] END C=78.47599703514607, penalty=l1, solver=saga;, score=0.915 total time=   0.4s\n",
      "[CV 3/5; 43/60] START C=78.47599703514607, penalty=l1, solver=saga..............\n",
      "[CV 3/5; 43/60] END C=78.47599703514607, penalty=l1, solver=saga;, score=0.915 total time=   0.4s\n",
      "[CV 4/5; 43/60] START C=78.47599703514607, penalty=l1, solver=saga..............\n",
      "[CV 4/5; 43/60] END C=78.47599703514607, penalty=l1, solver=saga;, score=0.912 total time=   0.4s\n",
      "[CV 5/5; 43/60] START C=78.47599703514607, penalty=l1, solver=saga..............\n",
      "[CV 5/5; 43/60] END C=78.47599703514607, penalty=l1, solver=saga;, score=0.914 total time=   0.3s\n",
      "[CV 1/5; 44/60] START C=78.47599703514607, penalty=l2, solver=saga..............\n",
      "[CV 1/5; 44/60] END C=78.47599703514607, penalty=l2, solver=saga;, score=0.915 total time=   0.3s\n",
      "[CV 2/5; 44/60] START C=78.47599703514607, penalty=l2, solver=saga..............\n",
      "[CV 2/5; 44/60] END C=78.47599703514607, penalty=l2, solver=saga;, score=0.915 total time=   0.4s\n",
      "[CV 3/5; 44/60] START C=78.47599703514607, penalty=l2, solver=saga..............\n",
      "[CV 3/5; 44/60] END C=78.47599703514607, penalty=l2, solver=saga;, score=0.915 total time=   0.4s\n",
      "[CV 4/5; 44/60] START C=78.47599703514607, penalty=l2, solver=saga..............\n",
      "[CV 4/5; 44/60] END C=78.47599703514607, penalty=l2, solver=saga;, score=0.912 total time=   0.4s\n",
      "[CV 5/5; 44/60] START C=78.47599703514607, penalty=l2, solver=saga..............\n",
      "[CV 5/5; 44/60] END C=78.47599703514607, penalty=l2, solver=saga;, score=0.914 total time=   0.4s\n",
      "[CV 1/5; 45/60] START C=78.47599703514607, penalty=elasticnet, solver=saga......\n",
      "[CV 1/5; 45/60] END C=78.47599703514607, penalty=elasticnet, solver=saga;, score=nan total time=   0.0s\n",
      "[CV 2/5; 45/60] START C=78.47599703514607, penalty=elasticnet, solver=saga......\n",
      "[CV 2/5; 45/60] END C=78.47599703514607, penalty=elasticnet, solver=saga;, score=nan total time=   0.0s\n",
      "[CV 3/5; 45/60] START C=78.47599703514607, penalty=elasticnet, solver=saga......\n",
      "[CV 3/5; 45/60] END C=78.47599703514607, penalty=elasticnet, solver=saga;, score=nan total time=   0.0s\n",
      "[CV 4/5; 45/60] START C=78.47599703514607, penalty=elasticnet, solver=saga......\n",
      "[CV 4/5; 45/60] END C=78.47599703514607, penalty=elasticnet, solver=saga;, score=nan total time=   0.0s\n",
      "[CV 5/5; 45/60] START C=78.47599703514607, penalty=elasticnet, solver=saga......\n",
      "[CV 5/5; 45/60] END C=78.47599703514607, penalty=elasticnet, solver=saga;, score=nan total time=   0.0s\n",
      "[CV 1/5; 46/60] START C=206.913808111479, penalty=l1, solver=saga...............\n",
      "[CV 1/5; 46/60] END C=206.913808111479, penalty=l1, solver=saga;, score=0.915 total time=   0.4s\n",
      "[CV 2/5; 46/60] START C=206.913808111479, penalty=l1, solver=saga...............\n",
      "[CV 2/5; 46/60] END C=206.913808111479, penalty=l1, solver=saga;, score=0.915 total time=   0.4s\n",
      "[CV 3/5; 46/60] START C=206.913808111479, penalty=l1, solver=saga...............\n",
      "[CV 3/5; 46/60] END C=206.913808111479, penalty=l1, solver=saga;, score=0.915 total time=   0.3s\n",
      "[CV 4/5; 46/60] START C=206.913808111479, penalty=l1, solver=saga...............\n",
      "[CV 4/5; 46/60] END C=206.913808111479, penalty=l1, solver=saga;, score=0.912 total time=   0.4s\n",
      "[CV 5/5; 46/60] START C=206.913808111479, penalty=l1, solver=saga...............\n",
      "[CV 5/5; 46/60] END C=206.913808111479, penalty=l1, solver=saga;, score=0.914 total time=   0.3s\n",
      "[CV 1/5; 47/60] START C=206.913808111479, penalty=l2, solver=saga...............\n",
      "[CV 1/5; 47/60] END C=206.913808111479, penalty=l2, solver=saga;, score=0.915 total time=   0.3s\n",
      "[CV 2/5; 47/60] START C=206.913808111479, penalty=l2, solver=saga...............\n",
      "[CV 2/5; 47/60] END C=206.913808111479, penalty=l2, solver=saga;, score=0.915 total time=   0.3s\n",
      "[CV 3/5; 47/60] START C=206.913808111479, penalty=l2, solver=saga...............\n",
      "[CV 3/5; 47/60] END C=206.913808111479, penalty=l2, solver=saga;, score=0.915 total time=   0.3s\n",
      "[CV 4/5; 47/60] START C=206.913808111479, penalty=l2, solver=saga...............\n",
      "[CV 4/5; 47/60] END C=206.913808111479, penalty=l2, solver=saga;, score=0.912 total time=   0.3s\n",
      "[CV 5/5; 47/60] START C=206.913808111479, penalty=l2, solver=saga...............\n",
      "[CV 5/5; 47/60] END C=206.913808111479, penalty=l2, solver=saga;, score=0.914 total time=   0.3s\n",
      "[CV 1/5; 48/60] START C=206.913808111479, penalty=elasticnet, solver=saga.......\n",
      "[CV 1/5; 48/60] END C=206.913808111479, penalty=elasticnet, solver=saga;, score=nan total time=   0.0s\n",
      "[CV 2/5; 48/60] START C=206.913808111479, penalty=elasticnet, solver=saga.......\n",
      "[CV 2/5; 48/60] END C=206.913808111479, penalty=elasticnet, solver=saga;, score=nan total time=   0.0s\n",
      "[CV 3/5; 48/60] START C=206.913808111479, penalty=elasticnet, solver=saga.......\n",
      "[CV 3/5; 48/60] END C=206.913808111479, penalty=elasticnet, solver=saga;, score=nan total time=   0.0s\n",
      "[CV 4/5; 48/60] START C=206.913808111479, penalty=elasticnet, solver=saga.......\n",
      "[CV 4/5; 48/60] END C=206.913808111479, penalty=elasticnet, solver=saga;, score=nan total time=   0.0s\n",
      "[CV 5/5; 48/60] START C=206.913808111479, penalty=elasticnet, solver=saga.......\n",
      "[CV 5/5; 48/60] END C=206.913808111479, penalty=elasticnet, solver=saga;, score=nan total time=   0.0s\n",
      "[CV 1/5; 49/60] START C=545.5594781168514, penalty=l1, solver=saga..............\n",
      "[CV 1/5; 49/60] END C=545.5594781168514, penalty=l1, solver=saga;, score=0.915 total time=   0.4s\n",
      "[CV 2/5; 49/60] START C=545.5594781168514, penalty=l1, solver=saga..............\n",
      "[CV 2/5; 49/60] END C=545.5594781168514, penalty=l1, solver=saga;, score=0.915 total time=   0.4s\n",
      "[CV 3/5; 49/60] START C=545.5594781168514, penalty=l1, solver=saga..............\n",
      "[CV 3/5; 49/60] END C=545.5594781168514, penalty=l1, solver=saga;, score=0.915 total time=   0.4s\n",
      "[CV 4/5; 49/60] START C=545.5594781168514, penalty=l1, solver=saga..............\n",
      "[CV 4/5; 49/60] END C=545.5594781168514, penalty=l1, solver=saga;, score=0.912 total time=   0.4s\n",
      "[CV 5/5; 49/60] START C=545.5594781168514, penalty=l1, solver=saga..............\n",
      "[CV 5/5; 49/60] END C=545.5594781168514, penalty=l1, solver=saga;, score=0.914 total time=   0.4s\n",
      "[CV 1/5; 50/60] START C=545.5594781168514, penalty=l2, solver=saga..............\n",
      "[CV 1/5; 50/60] END C=545.5594781168514, penalty=l2, solver=saga;, score=0.915 total time=   0.2s\n",
      "[CV 2/5; 50/60] START C=545.5594781168514, penalty=l2, solver=saga..............\n",
      "[CV 2/5; 50/60] END C=545.5594781168514, penalty=l2, solver=saga;, score=0.915 total time=   0.4s\n",
      "[CV 3/5; 50/60] START C=545.5594781168514, penalty=l2, solver=saga..............\n",
      "[CV 3/5; 50/60] END C=545.5594781168514, penalty=l2, solver=saga;, score=0.915 total time=   0.3s\n",
      "[CV 4/5; 50/60] START C=545.5594781168514, penalty=l2, solver=saga..............\n",
      "[CV 4/5; 50/60] END C=545.5594781168514, penalty=l2, solver=saga;, score=0.912 total time=   0.3s\n",
      "[CV 5/5; 50/60] START C=545.5594781168514, penalty=l2, solver=saga..............\n",
      "[CV 5/5; 50/60] END C=545.5594781168514, penalty=l2, solver=saga;, score=0.914 total time=   0.3s\n",
      "[CV 1/5; 51/60] START C=545.5594781168514, penalty=elasticnet, solver=saga......\n",
      "[CV 1/5; 51/60] END C=545.5594781168514, penalty=elasticnet, solver=saga;, score=nan total time=   0.0s\n",
      "[CV 2/5; 51/60] START C=545.5594781168514, penalty=elasticnet, solver=saga......\n",
      "[CV 2/5; 51/60] END C=545.5594781168514, penalty=elasticnet, solver=saga;, score=nan total time=   0.0s\n",
      "[CV 3/5; 51/60] START C=545.5594781168514, penalty=elasticnet, solver=saga......\n",
      "[CV 3/5; 51/60] END C=545.5594781168514, penalty=elasticnet, solver=saga;, score=nan total time=   0.0s\n",
      "[CV 4/5; 51/60] START C=545.5594781168514, penalty=elasticnet, solver=saga......\n",
      "[CV 4/5; 51/60] END C=545.5594781168514, penalty=elasticnet, solver=saga;, score=nan total time=   0.0s\n",
      "[CV 5/5; 51/60] START C=545.5594781168514, penalty=elasticnet, solver=saga......\n",
      "[CV 5/5; 51/60] END C=545.5594781168514, penalty=elasticnet, solver=saga;, score=nan total time=   0.0s\n",
      "[CV 1/5; 52/60] START C=1438.44988828766, penalty=l1, solver=saga...............\n",
      "[CV 1/5; 52/60] END C=1438.44988828766, penalty=l1, solver=saga;, score=0.915 total time=   0.4s\n",
      "[CV 2/5; 52/60] START C=1438.44988828766, penalty=l1, solver=saga...............\n",
      "[CV 2/5; 52/60] END C=1438.44988828766, penalty=l1, solver=saga;, score=0.915 total time=   0.4s\n",
      "[CV 3/5; 52/60] START C=1438.44988828766, penalty=l1, solver=saga...............\n",
      "[CV 3/5; 52/60] END C=1438.44988828766, penalty=l1, solver=saga;, score=0.915 total time=   0.4s\n",
      "[CV 4/5; 52/60] START C=1438.44988828766, penalty=l1, solver=saga...............\n",
      "[CV 4/5; 52/60] END C=1438.44988828766, penalty=l1, solver=saga;, score=0.912 total time=   0.4s\n",
      "[CV 5/5; 52/60] START C=1438.44988828766, penalty=l1, solver=saga...............\n",
      "[CV 5/5; 52/60] END C=1438.44988828766, penalty=l1, solver=saga;, score=0.914 total time=   0.3s\n",
      "[CV 1/5; 53/60] START C=1438.44988828766, penalty=l2, solver=saga...............\n",
      "[CV 1/5; 53/60] END C=1438.44988828766, penalty=l2, solver=saga;, score=0.915 total time=   0.4s\n",
      "[CV 2/5; 53/60] START C=1438.44988828766, penalty=l2, solver=saga...............\n",
      "[CV 2/5; 53/60] END C=1438.44988828766, penalty=l2, solver=saga;, score=0.915 total time=   0.4s\n",
      "[CV 3/5; 53/60] START C=1438.44988828766, penalty=l2, solver=saga...............\n",
      "[CV 3/5; 53/60] END C=1438.44988828766, penalty=l2, solver=saga;, score=0.915 total time=   0.3s\n",
      "[CV 4/5; 53/60] START C=1438.44988828766, penalty=l2, solver=saga...............\n",
      "[CV 4/5; 53/60] END C=1438.44988828766, penalty=l2, solver=saga;, score=0.912 total time=   0.3s\n",
      "[CV 5/5; 53/60] START C=1438.44988828766, penalty=l2, solver=saga...............\n",
      "[CV 5/5; 53/60] END C=1438.44988828766, penalty=l2, solver=saga;, score=0.914 total time=   0.3s\n",
      "[CV 1/5; 54/60] START C=1438.44988828766, penalty=elasticnet, solver=saga.......\n",
      "[CV 1/5; 54/60] END C=1438.44988828766, penalty=elasticnet, solver=saga;, score=nan total time=   0.0s\n",
      "[CV 2/5; 54/60] START C=1438.44988828766, penalty=elasticnet, solver=saga.......\n",
      "[CV 2/5; 54/60] END C=1438.44988828766, penalty=elasticnet, solver=saga;, score=nan total time=   0.0s\n",
      "[CV 3/5; 54/60] START C=1438.44988828766, penalty=elasticnet, solver=saga.......\n",
      "[CV 3/5; 54/60] END C=1438.44988828766, penalty=elasticnet, solver=saga;, score=nan total time=   0.0s\n",
      "[CV 4/5; 54/60] START C=1438.44988828766, penalty=elasticnet, solver=saga.......\n",
      "[CV 4/5; 54/60] END C=1438.44988828766, penalty=elasticnet, solver=saga;, score=nan total time=   0.0s\n",
      "[CV 5/5; 54/60] START C=1438.44988828766, penalty=elasticnet, solver=saga.......\n",
      "[CV 5/5; 54/60] END C=1438.44988828766, penalty=elasticnet, solver=saga;, score=nan total time=   0.0s\n",
      "[CV 1/5; 55/60] START C=3792.690190732246, penalty=l1, solver=saga..............\n",
      "[CV 1/5; 55/60] END C=3792.690190732246, penalty=l1, solver=saga;, score=0.915 total time=   0.3s\n",
      "[CV 2/5; 55/60] START C=3792.690190732246, penalty=l1, solver=saga..............\n",
      "[CV 2/5; 55/60] END C=3792.690190732246, penalty=l1, solver=saga;, score=0.915 total time=   0.4s\n",
      "[CV 3/5; 55/60] START C=3792.690190732246, penalty=l1, solver=saga..............\n",
      "[CV 3/5; 55/60] END C=3792.690190732246, penalty=l1, solver=saga;, score=0.915 total time=   0.4s\n",
      "[CV 4/5; 55/60] START C=3792.690190732246, penalty=l1, solver=saga..............\n",
      "[CV 4/5; 55/60] END C=3792.690190732246, penalty=l1, solver=saga;, score=0.912 total time=   0.4s\n",
      "[CV 5/5; 55/60] START C=3792.690190732246, penalty=l1, solver=saga..............\n",
      "[CV 5/5; 55/60] END C=3792.690190732246, penalty=l1, solver=saga;, score=0.914 total time=   0.3s\n",
      "[CV 1/5; 56/60] START C=3792.690190732246, penalty=l2, solver=saga..............\n",
      "[CV 1/5; 56/60] END C=3792.690190732246, penalty=l2, solver=saga;, score=0.915 total time=   0.4s\n",
      "[CV 2/5; 56/60] START C=3792.690190732246, penalty=l2, solver=saga..............\n",
      "[CV 2/5; 56/60] END C=3792.690190732246, penalty=l2, solver=saga;, score=0.915 total time=   0.4s\n",
      "[CV 3/5; 56/60] START C=3792.690190732246, penalty=l2, solver=saga..............\n",
      "[CV 3/5; 56/60] END C=3792.690190732246, penalty=l2, solver=saga;, score=0.915 total time=   0.3s\n",
      "[CV 4/5; 56/60] START C=3792.690190732246, penalty=l2, solver=saga..............\n",
      "[CV 4/5; 56/60] END C=3792.690190732246, penalty=l2, solver=saga;, score=0.912 total time=   0.3s\n",
      "[CV 5/5; 56/60] START C=3792.690190732246, penalty=l2, solver=saga..............\n",
      "[CV 5/5; 56/60] END C=3792.690190732246, penalty=l2, solver=saga;, score=0.914 total time=   0.3s\n",
      "[CV 1/5; 57/60] START C=3792.690190732246, penalty=elasticnet, solver=saga......\n",
      "[CV 1/5; 57/60] END C=3792.690190732246, penalty=elasticnet, solver=saga;, score=nan total time=   0.0s\n",
      "[CV 2/5; 57/60] START C=3792.690190732246, penalty=elasticnet, solver=saga......\n",
      "[CV 2/5; 57/60] END C=3792.690190732246, penalty=elasticnet, solver=saga;, score=nan total time=   0.0s\n",
      "[CV 3/5; 57/60] START C=3792.690190732246, penalty=elasticnet, solver=saga......\n",
      "[CV 3/5; 57/60] END C=3792.690190732246, penalty=elasticnet, solver=saga;, score=nan total time=   0.0s\n",
      "[CV 4/5; 57/60] START C=3792.690190732246, penalty=elasticnet, solver=saga......\n",
      "[CV 4/5; 57/60] END C=3792.690190732246, penalty=elasticnet, solver=saga;, score=nan total time=   0.0s\n",
      "[CV 5/5; 57/60] START C=3792.690190732246, penalty=elasticnet, solver=saga......\n",
      "[CV 5/5; 57/60] END C=3792.690190732246, penalty=elasticnet, solver=saga;, score=nan total time=   0.0s\n",
      "[CV 1/5; 58/60] START C=10000.0, penalty=l1, solver=saga........................\n",
      "[CV 1/5; 58/60] END C=10000.0, penalty=l1, solver=saga;, score=0.915 total time=   0.4s\n",
      "[CV 2/5; 58/60] START C=10000.0, penalty=l1, solver=saga........................\n",
      "[CV 2/5; 58/60] END C=10000.0, penalty=l1, solver=saga;, score=0.915 total time=   0.4s\n",
      "[CV 3/5; 58/60] START C=10000.0, penalty=l1, solver=saga........................\n",
      "[CV 3/5; 58/60] END C=10000.0, penalty=l1, solver=saga;, score=0.915 total time=   0.5s\n",
      "[CV 4/5; 58/60] START C=10000.0, penalty=l1, solver=saga........................\n",
      "[CV 4/5; 58/60] END C=10000.0, penalty=l1, solver=saga;, score=0.912 total time=   0.6s\n",
      "[CV 5/5; 58/60] START C=10000.0, penalty=l1, solver=saga........................\n",
      "[CV 5/5; 58/60] END C=10000.0, penalty=l1, solver=saga;, score=0.914 total time=   0.5s\n",
      "[CV 1/5; 59/60] START C=10000.0, penalty=l2, solver=saga........................\n",
      "[CV 1/5; 59/60] END C=10000.0, penalty=l2, solver=saga;, score=0.915 total time=   0.5s\n",
      "[CV 2/5; 59/60] START C=10000.0, penalty=l2, solver=saga........................\n",
      "[CV 2/5; 59/60] END C=10000.0, penalty=l2, solver=saga;, score=0.915 total time=   0.4s\n",
      "[CV 3/5; 59/60] START C=10000.0, penalty=l2, solver=saga........................\n",
      "[CV 3/5; 59/60] END C=10000.0, penalty=l2, solver=saga;, score=0.915 total time=   0.4s\n",
      "[CV 4/5; 59/60] START C=10000.0, penalty=l2, solver=saga........................\n",
      "[CV 4/5; 59/60] END C=10000.0, penalty=l2, solver=saga;, score=0.912 total time=   0.3s\n",
      "[CV 5/5; 59/60] START C=10000.0, penalty=l2, solver=saga........................\n",
      "[CV 5/5; 59/60] END C=10000.0, penalty=l2, solver=saga;, score=0.914 total time=   0.4s\n",
      "[CV 1/5; 60/60] START C=10000.0, penalty=elasticnet, solver=saga................\n",
      "[CV 1/5; 60/60] END C=10000.0, penalty=elasticnet, solver=saga;, score=nan total time=   0.0s\n",
      "[CV 2/5; 60/60] START C=10000.0, penalty=elasticnet, solver=saga................\n",
      "[CV 2/5; 60/60] END C=10000.0, penalty=elasticnet, solver=saga;, score=nan total time=   0.0s\n",
      "[CV 3/5; 60/60] START C=10000.0, penalty=elasticnet, solver=saga................\n",
      "[CV 3/5; 60/60] END C=10000.0, penalty=elasticnet, solver=saga;, score=nan total time=   0.0s\n",
      "[CV 4/5; 60/60] START C=10000.0, penalty=elasticnet, solver=saga................\n",
      "[CV 4/5; 60/60] END C=10000.0, penalty=elasticnet, solver=saga;, score=nan total time=   0.0s\n",
      "[CV 5/5; 60/60] START C=10000.0, penalty=elasticnet, solver=saga................\n",
      "[CV 5/5; 60/60] END C=10000.0, penalty=elasticnet, solver=saga;, score=nan total time=   0.0s\n"
     ]
    },
    {
     "name": "stderr",
     "output_type": "stream",
     "text": [
      "/Users/vaishnavimocherla/anaconda3/lib/python3.11/site-packages/sklearn/model_selection/_validation.py:425: FitFailedWarning: \n",
      "100 fits failed out of a total of 300.\n",
      "The score on these train-test partitions for these parameters will be set to nan.\n",
      "If these failures are not expected, you can try to debug them by setting error_score='raise'.\n",
      "\n",
      "Below are more details about the failures:\n",
      "--------------------------------------------------------------------------------\n",
      "100 fits failed with the following error:\n",
      "Traceback (most recent call last):\n",
      "  File \"/Users/vaishnavimocherla/anaconda3/lib/python3.11/site-packages/sklearn/model_selection/_validation.py\", line 732, in _fit_and_score\n",
      "    estimator.fit(X_train, y_train, **fit_params)\n",
      "  File \"/Users/vaishnavimocherla/anaconda3/lib/python3.11/site-packages/sklearn/base.py\", line 1151, in wrapper\n",
      "    return fit_method(estimator, *args, **kwargs)\n",
      "           ^^^^^^^^^^^^^^^^^^^^^^^^^^^^^^^^^^^^^^\n",
      "  File \"/Users/vaishnavimocherla/anaconda3/lib/python3.11/site-packages/sklearn/linear_model/_logistic.py\", line 1178, in fit\n",
      "    raise ValueError(\"l1_ratio must be specified when penalty is elasticnet.\")\n",
      "ValueError: l1_ratio must be specified when penalty is elasticnet.\n",
      "\n",
      "  warnings.warn(some_fits_failed_message, FitFailedWarning)\n",
      "/Users/vaishnavimocherla/anaconda3/lib/python3.11/site-packages/sklearn/model_selection/_search.py:976: UserWarning: One or more of the test scores are non-finite: [0.86358358 0.8831577         nan 0.90946699 0.90709371        nan\n",
      " 0.91453289 0.91316117        nan 0.91485949 0.91421354        nan\n",
      " 0.9146853  0.9146853         nan 0.91492481 0.9146853         nan\n",
      " 0.91476514 0.91462724        nan 0.91457644 0.91446031        nan\n",
      " 0.91450386 0.91448934        nan 0.91447483 0.9144458         nan\n",
      " 0.9144458  0.9144458         nan 0.9144458  0.91445306        nan\n",
      " 0.91445306 0.91445306        nan 0.91445306 0.91445306        nan\n",
      " 0.91445306 0.91445306        nan 0.91445306 0.91445306        nan\n",
      " 0.91445306 0.91445306        nan 0.91445306 0.91445306        nan\n",
      " 0.91445306 0.91445306        nan 0.91445306 0.91445306        nan]\n",
      "  warnings.warn(\n"
     ]
    },
    {
     "data": {
      "text/html": [
       "<style>#sk-container-id-1 {color: black;}#sk-container-id-1 pre{padding: 0;}#sk-container-id-1 div.sk-toggleable {background-color: white;}#sk-container-id-1 label.sk-toggleable__label {cursor: pointer;display: block;width: 100%;margin-bottom: 0;padding: 0.3em;box-sizing: border-box;text-align: center;}#sk-container-id-1 label.sk-toggleable__label-arrow:before {content: \"▸\";float: left;margin-right: 0.25em;color: #696969;}#sk-container-id-1 label.sk-toggleable__label-arrow:hover:before {color: black;}#sk-container-id-1 div.sk-estimator:hover label.sk-toggleable__label-arrow:before {color: black;}#sk-container-id-1 div.sk-toggleable__content {max-height: 0;max-width: 0;overflow: hidden;text-align: left;background-color: #f0f8ff;}#sk-container-id-1 div.sk-toggleable__content pre {margin: 0.2em;color: black;border-radius: 0.25em;background-color: #f0f8ff;}#sk-container-id-1 input.sk-toggleable__control:checked~div.sk-toggleable__content {max-height: 200px;max-width: 100%;overflow: auto;}#sk-container-id-1 input.sk-toggleable__control:checked~label.sk-toggleable__label-arrow:before {content: \"▾\";}#sk-container-id-1 div.sk-estimator input.sk-toggleable__control:checked~label.sk-toggleable__label {background-color: #d4ebff;}#sk-container-id-1 div.sk-label input.sk-toggleable__control:checked~label.sk-toggleable__label {background-color: #d4ebff;}#sk-container-id-1 input.sk-hidden--visually {border: 0;clip: rect(1px 1px 1px 1px);clip: rect(1px, 1px, 1px, 1px);height: 1px;margin: -1px;overflow: hidden;padding: 0;position: absolute;width: 1px;}#sk-container-id-1 div.sk-estimator {font-family: monospace;background-color: #f0f8ff;border: 1px dotted black;border-radius: 0.25em;box-sizing: border-box;margin-bottom: 0.5em;}#sk-container-id-1 div.sk-estimator:hover {background-color: #d4ebff;}#sk-container-id-1 div.sk-parallel-item::after {content: \"\";width: 100%;border-bottom: 1px solid gray;flex-grow: 1;}#sk-container-id-1 div.sk-label:hover label.sk-toggleable__label {background-color: #d4ebff;}#sk-container-id-1 div.sk-serial::before {content: \"\";position: absolute;border-left: 1px solid gray;box-sizing: border-box;top: 0;bottom: 0;left: 50%;z-index: 0;}#sk-container-id-1 div.sk-serial {display: flex;flex-direction: column;align-items: center;background-color: white;padding-right: 0.2em;padding-left: 0.2em;position: relative;}#sk-container-id-1 div.sk-item {position: relative;z-index: 1;}#sk-container-id-1 div.sk-parallel {display: flex;align-items: stretch;justify-content: center;background-color: white;position: relative;}#sk-container-id-1 div.sk-item::before, #sk-container-id-1 div.sk-parallel-item::before {content: \"\";position: absolute;border-left: 1px solid gray;box-sizing: border-box;top: 0;bottom: 0;left: 50%;z-index: -1;}#sk-container-id-1 div.sk-parallel-item {display: flex;flex-direction: column;z-index: 1;position: relative;background-color: white;}#sk-container-id-1 div.sk-parallel-item:first-child::after {align-self: flex-end;width: 50%;}#sk-container-id-1 div.sk-parallel-item:last-child::after {align-self: flex-start;width: 50%;}#sk-container-id-1 div.sk-parallel-item:only-child::after {width: 0;}#sk-container-id-1 div.sk-dashed-wrapped {border: 1px dashed gray;margin: 0 0.4em 0.5em 0.4em;box-sizing: border-box;padding-bottom: 0.4em;background-color: white;}#sk-container-id-1 div.sk-label label {font-family: monospace;font-weight: bold;display: inline-block;line-height: 1.2em;}#sk-container-id-1 div.sk-label-container {text-align: center;}#sk-container-id-1 div.sk-container {/* jupyter's `normalize.less` sets `[hidden] { display: none; }` but bootstrap.min.css set `[hidden] { display: none !important; }` so we also need the `!important` here to be able to override the default hidden behavior on the sphinx rendered scikit-learn.org. See: https://github.com/scikit-learn/scikit-learn/issues/21755 */display: inline-block !important;position: relative;}#sk-container-id-1 div.sk-text-repr-fallback {display: none;}</style><div id=\"sk-container-id-1\" class=\"sk-top-container\"><div class=\"sk-text-repr-fallback\"><pre>GridSearchCV(cv=StratifiedKFold(n_splits=5, random_state=None, shuffle=False),\n",
       "             estimator=LogisticRegression(max_iter=10000, random_state=42),\n",
       "             param_grid={&#x27;C&#x27;: array([1.00000000e-04, 2.63665090e-04, 6.95192796e-04, 1.83298071e-03,\n",
       "       4.83293024e-03, 1.27427499e-02, 3.35981829e-02, 8.85866790e-02,\n",
       "       2.33572147e-01, 6.15848211e-01, 1.62377674e+00, 4.28133240e+00,\n",
       "       1.12883789e+01, 2.97635144e+01, 7.84759970e+01, 2.06913808e+02,\n",
       "       5.45559478e+02, 1.43844989e+03, 3.79269019e+03, 1.00000000e+04]),\n",
       "                         &#x27;penalty&#x27;: [&#x27;l1&#x27;, &#x27;l2&#x27;, &#x27;elasticnet&#x27;],\n",
       "                         &#x27;solver&#x27;: [&#x27;saga&#x27;]},\n",
       "             scoring=&#x27;accuracy&#x27;, verbose=10)</pre><b>In a Jupyter environment, please rerun this cell to show the HTML representation or trust the notebook. <br />On GitHub, the HTML representation is unable to render, please try loading this page with nbviewer.org.</b></div><div class=\"sk-container\" hidden><div class=\"sk-item sk-dashed-wrapped\"><div class=\"sk-label-container\"><div class=\"sk-label sk-toggleable\"><input class=\"sk-toggleable__control sk-hidden--visually\" id=\"sk-estimator-id-1\" type=\"checkbox\" ><label for=\"sk-estimator-id-1\" class=\"sk-toggleable__label sk-toggleable__label-arrow\">GridSearchCV</label><div class=\"sk-toggleable__content\"><pre>GridSearchCV(cv=StratifiedKFold(n_splits=5, random_state=None, shuffle=False),\n",
       "             estimator=LogisticRegression(max_iter=10000, random_state=42),\n",
       "             param_grid={&#x27;C&#x27;: array([1.00000000e-04, 2.63665090e-04, 6.95192796e-04, 1.83298071e-03,\n",
       "       4.83293024e-03, 1.27427499e-02, 3.35981829e-02, 8.85866790e-02,\n",
       "       2.33572147e-01, 6.15848211e-01, 1.62377674e+00, 4.28133240e+00,\n",
       "       1.12883789e+01, 2.97635144e+01, 7.84759970e+01, 2.06913808e+02,\n",
       "       5.45559478e+02, 1.43844989e+03, 3.79269019e+03, 1.00000000e+04]),\n",
       "                         &#x27;penalty&#x27;: [&#x27;l1&#x27;, &#x27;l2&#x27;, &#x27;elasticnet&#x27;],\n",
       "                         &#x27;solver&#x27;: [&#x27;saga&#x27;]},\n",
       "             scoring=&#x27;accuracy&#x27;, verbose=10)</pre></div></div></div><div class=\"sk-parallel\"><div class=\"sk-parallel-item\"><div class=\"sk-item\"><div class=\"sk-label-container\"><div class=\"sk-label sk-toggleable\"><input class=\"sk-toggleable__control sk-hidden--visually\" id=\"sk-estimator-id-2\" type=\"checkbox\" ><label for=\"sk-estimator-id-2\" class=\"sk-toggleable__label sk-toggleable__label-arrow\">estimator: LogisticRegression</label><div class=\"sk-toggleable__content\"><pre>LogisticRegression(max_iter=10000, random_state=42)</pre></div></div></div><div class=\"sk-serial\"><div class=\"sk-item\"><div class=\"sk-estimator sk-toggleable\"><input class=\"sk-toggleable__control sk-hidden--visually\" id=\"sk-estimator-id-3\" type=\"checkbox\" ><label for=\"sk-estimator-id-3\" class=\"sk-toggleable__label sk-toggleable__label-arrow\">LogisticRegression</label><div class=\"sk-toggleable__content\"><pre>LogisticRegression(max_iter=10000, random_state=42)</pre></div></div></div></div></div></div></div></div></div></div>"
      ],
      "text/plain": [
       "GridSearchCV(cv=StratifiedKFold(n_splits=5, random_state=None, shuffle=False),\n",
       "             estimator=LogisticRegression(max_iter=10000, random_state=42),\n",
       "             param_grid={'C': array([1.00000000e-04, 2.63665090e-04, 6.95192796e-04, 1.83298071e-03,\n",
       "       4.83293024e-03, 1.27427499e-02, 3.35981829e-02, 8.85866790e-02,\n",
       "       2.33572147e-01, 6.15848211e-01, 1.62377674e+00, 4.28133240e+00,\n",
       "       1.12883789e+01, 2.97635144e+01, 7.84759970e+01, 2.06913808e+02,\n",
       "       5.45559478e+02, 1.43844989e+03, 3.79269019e+03, 1.00000000e+04]),\n",
       "                         'penalty': ['l1', 'l2', 'elasticnet'],\n",
       "                         'solver': ['saga']},\n",
       "             scoring='accuracy', verbose=10)"
      ]
     },
     "execution_count": 15,
     "metadata": {},
     "output_type": "execute_result"
    }
   ],
   "source": [
    "#  GridSearchCV object\n",
    "grid_search = GridSearchCV(LogisticRegression(random_state=42, max_iter=10000), param_grid, cv=StratifiedKFold(n_splits=5), scoring='accuracy', verbose=10)\n",
    "\n",
    "# Fit GridSearchCV\n",
    "grid_search.fit(X_train, y_train)"
   ]
  },
  {
   "cell_type": "code",
   "execution_count": 16,
   "id": "ae12b1cd",
   "metadata": {},
   "outputs": [
    {
     "data": {
      "text/plain": [
       "['mlspotify_logreg_gs']"
      ]
     },
     "execution_count": 16,
     "metadata": {},
     "output_type": "execute_result"
    }
   ],
   "source": [
    "# Saving the best model\n",
    "\n",
    "dump(grid_search.best_estimator_, \"mlspotify_logreg_gs\")"
   ]
  },
  {
   "cell_type": "code",
   "execution_count": 17,
   "id": "dae99197",
   "metadata": {},
   "outputs": [
    {
     "name": "stdout",
     "output_type": "stream",
     "text": [
      "Best parameters: {'C': 0.012742749857031334, 'penalty': 'l1', 'solver': 'saga'}\n",
      "Best cross-validation accuracy: 0.91\n"
     ]
    }
   ],
   "source": [
    "# Printing the best parameters and the best score\n",
    "\n",
    "print(\"Best parameters:\", grid_search.best_params_)\n",
    "print(\"Best cross-validation accuracy: {:.2f}\".format(grid_search.best_score_))"
   ]
  },
  {
   "cell_type": "code",
   "execution_count": 41,
   "id": "8836354d",
   "metadata": {},
   "outputs": [
    {
     "name": "stdout",
     "output_type": "stream",
     "text": [
      "Test accuracy: 0.92\n"
     ]
    }
   ],
   "source": [
    "# Evaluating on the test set\n",
    "\n",
    "y_pred_lr = grid_search.predict(X_test)\n",
    "print(\"Test accuracy: {:.2f}\".format(grid_search.score(X_test, y_test)))"
   ]
  },
  {
   "cell_type": "code",
   "execution_count": 42,
   "id": "c218f151",
   "metadata": {},
   "outputs": [
    {
     "name": "stdout",
     "output_type": "stream",
     "text": [
      "[[27975   737]\n",
      " [ 2173  3561]]\n",
      "Classification report\n",
      "\n",
      "              precision    recall  f1-score   support\n",
      "\n",
      "           0       0.93      0.97      0.95     28712\n",
      "           1       0.83      0.62      0.71      5734\n",
      "\n",
      "    accuracy                           0.92     34446\n",
      "   macro avg       0.88      0.80      0.83     34446\n",
      "weighted avg       0.91      0.92      0.91     34446\n",
      "\n"
     ]
    }
   ],
   "source": [
    "# Confusion matrix and classification report\n",
    "\n",
    "print(confusion_matrix(y_test, y_pred_lr))\n",
    "print(\"Classification report\\n\")\n",
    "print(classification_report(y_test, y_pred_lr))"
   ]
  },
  {
   "cell_type": "code",
   "execution_count": 40,
   "id": "e5432318",
   "metadata": {},
   "outputs": [],
   "source": [
    "from sklearn.metrics import roc_curve, auc"
   ]
  },
  {
   "cell_type": "code",
   "execution_count": 43,
   "id": "42691e0b",
   "metadata": {},
   "outputs": [],
   "source": [
    "# Calculating ROC curve and ROC area\n",
    "fpr, tpr, _ = roc_curve(y_test, y_pred_lr)\n",
    "roc_auc = auc(fpr, tpr)"
   ]
  },
  {
   "cell_type": "code",
   "execution_count": 46,
   "id": "0ec2c9c5",
   "metadata": {},
   "outputs": [
    {
     "data": {
      "image/png": "[encoded data removed]",
      "text/plain": [
       "<Figure size 640x480 with 1 Axes>"
      ]
     },
     "metadata": {},
     "output_type": "display_data"
    }
   ],
   "source": [
    "plt.figure()\n",
    "plt.plot(fpr, tpr, color='darkorange', lw=2, label='ROC curve (area = %0.2f)' % roc_auc)\n",
    "plt.plot([0, 1], [0, 1], color='navy', lw=2, linestyle='--')\n",
    "plt.xlim([0.0, 1.0])\n",
    "plt.ylim([0.0, 1.05])\n",
    "plt.xlabel('False Positive Rate')\n",
    "plt.ylabel('True Positive Rate')\n",
    "plt.title('Receiver Operating Characteristic')\n",
    "plt.legend(loc=\"lower right\")\n",
    "plt.show()"
   ]
  },
  {
   "cell_type": "markdown",
   "id": "35bab8c1",
   "metadata": {},
   "source": [
    "# Decision Tree"
   ]
  },
  {
   "cell_type": "code",
   "execution_count": 20,
   "id": "d554a5f3",
   "metadata": {},
   "outputs": [],
   "source": [
    "# DS - GS"
   ]
  },
  {
   "cell_type": "code",
   "execution_count": 21,
   "id": "31b0c293",
   "metadata": {},
   "outputs": [],
   "source": [
    "from sklearn.tree import DecisionTreeClassifier"
   ]
  },
  {
   "cell_type": "code",
   "execution_count": 22,
   "id": "d15a70f1",
   "metadata": {},
   "outputs": [],
   "source": [
    "# Setting up parameter grid\n",
    "param_grid_dt = {\n",
    "    'max_depth': [None, 10, 20, 30, 40, 50],\n",
    "    'min_samples_split': [2, 5, 10],\n",
    "    'min_samples_leaf': [1, 2, 4],\n",
    "    'criterion': ['gini', 'entropy']\n",
    "}"
   ]
  },
  {
   "cell_type": "code",
   "execution_count": 23,
   "id": "08c77098",
   "metadata": {},
   "outputs": [],
   "source": [
    "# Creating GridSearchCV object\n",
    "grid_search_dt = GridSearchCV(DecisionTreeClassifier(random_state=42), param_grid_dt, cv=StratifiedKFold(n_splits=5), scoring='accuracy', verbose=10)"
   ]
  },
  {
   "cell_type": "code",
   "execution_count": 24,
   "id": "f2ff7d3c",
   "metadata": {
    "scrolled": true
   },
   "outputs": [
    {
     "name": "stdout",
     "output_type": "stream",
     "text": [
      "Fitting 5 folds for each of 108 candidates, totalling 540 fits\n",
      "[CV 1/5; 1/108] START criterion=gini, max_depth=None, min_samples_leaf=1, min_samples_split=2\n",
      "[CV 1/5; 1/108] END criterion=gini, max_depth=None, min_samples_leaf=1, min_samples_split=2;, score=0.883 total time=   0.7s\n",
      "[CV 2/5; 1/108] START criterion=gini, max_depth=None, min_samples_leaf=1, min_samples_split=2\n",
      "[CV 2/5; 1/108] END criterion=gini, max_depth=None, min_samples_leaf=1, min_samples_split=2;, score=0.884 total time=   0.6s\n",
      "[CV 3/5; 1/108] START criterion=gini, max_depth=None, min_samples_leaf=1, min_samples_split=2\n",
      "[CV 3/5; 1/108] END criterion=gini, max_depth=None, min_samples_leaf=1, min_samples_split=2;, score=0.880 total time=   0.6s\n",
      "[CV 4/5; 1/108] START criterion=gini, max_depth=None, min_samples_leaf=1, min_samples_split=2\n",
      "[CV 4/5; 1/108] END criterion=gini, max_depth=None, min_samples_leaf=1, min_samples_split=2;, score=0.881 total time=   0.6s\n",
      "[CV 5/5; 1/108] START criterion=gini, max_depth=None, min_samples_leaf=1, min_samples_split=2\n",
      "[CV 5/5; 1/108] END criterion=gini, max_depth=None, min_samples_leaf=1, min_samples_split=2;, score=0.881 total time=   0.7s\n",
      "[CV 1/5; 2/108] START criterion=gini, max_depth=None, min_samples_leaf=1, min_samples_split=5\n",
      "[CV 1/5; 2/108] END criterion=gini, max_depth=None, min_samples_leaf=1, min_samples_split=5;, score=0.889 total time=   0.8s\n",
      "[CV 2/5; 2/108] START criterion=gini, max_depth=None, min_samples_leaf=1, min_samples_split=5\n",
      "[CV 2/5; 2/108] END criterion=gini, max_depth=None, min_samples_leaf=1, min_samples_split=5;, score=0.887 total time=   0.7s\n",
      "[CV 3/5; 2/108] START criterion=gini, max_depth=None, min_samples_leaf=1, min_samples_split=5\n",
      "[CV 3/5; 2/108] END criterion=gini, max_depth=None, min_samples_leaf=1, min_samples_split=5;, score=0.889 total time=   0.6s\n",
      "[CV 4/5; 2/108] START criterion=gini, max_depth=None, min_samples_leaf=1, min_samples_split=5\n",
      "[CV 4/5; 2/108] END criterion=gini, max_depth=None, min_samples_leaf=1, min_samples_split=5;, score=0.886 total time=   0.6s\n",
      "[CV 5/5; 2/108] START criterion=gini, max_depth=None, min_samples_leaf=1, min_samples_split=5\n",
      "[CV 5/5; 2/108] END criterion=gini, max_depth=None, min_samples_leaf=1, min_samples_split=5;, score=0.887 total time=   0.6s\n",
      "[CV 1/5; 3/108] START criterion=gini, max_depth=None, min_samples_leaf=1, min_samples_split=10\n",
      "[CV 1/5; 3/108] END criterion=gini, max_depth=None, min_samples_leaf=1, min_samples_split=10;, score=0.895 total time=   0.6s\n",
      "[CV 2/5; 3/108] START criterion=gini, max_depth=None, min_samples_leaf=1, min_samples_split=10\n",
      "[CV 2/5; 3/108] END criterion=gini, max_depth=None, min_samples_leaf=1, min_samples_split=10;, score=0.894 total time=   0.6s\n",
      "[CV 3/5; 3/108] START criterion=gini, max_depth=None, min_samples_leaf=1, min_samples_split=10\n",
      "[CV 3/5; 3/108] END criterion=gini, max_depth=None, min_samples_leaf=1, min_samples_split=10;, score=0.894 total time=   0.6s\n",
      "[CV 4/5; 3/108] START criterion=gini, max_depth=None, min_samples_leaf=1, min_samples_split=10\n",
      "[CV 4/5; 3/108] END criterion=gini, max_depth=None, min_samples_leaf=1, min_samples_split=10;, score=0.893 total time=   0.6s\n",
      "[CV 5/5; 3/108] START criterion=gini, max_depth=None, min_samples_leaf=1, min_samples_split=10\n",
      "[CV 5/5; 3/108] END criterion=gini, max_depth=None, min_samples_leaf=1, min_samples_split=10;, score=0.895 total time=   0.6s\n",
      "[CV 1/5; 4/108] START criterion=gini, max_depth=None, min_samples_leaf=2, min_samples_split=2\n",
      "[CV 1/5; 4/108] END criterion=gini, max_depth=None, min_samples_leaf=2, min_samples_split=2;, score=0.895 total time=   0.6s\n",
      "[CV 2/5; 4/108] START criterion=gini, max_depth=None, min_samples_leaf=2, min_samples_split=2\n",
      "[CV 2/5; 4/108] END criterion=gini, max_depth=None, min_samples_leaf=2, min_samples_split=2;, score=0.893 total time=   0.6s\n",
      "[CV 3/5; 4/108] START criterion=gini, max_depth=None, min_samples_leaf=2, min_samples_split=2\n",
      "[CV 3/5; 4/108] END criterion=gini, max_depth=None, min_samples_leaf=2, min_samples_split=2;, score=0.892 total time=   0.6s\n",
      "[CV 4/5; 4/108] START criterion=gini, max_depth=None, min_samples_leaf=2, min_samples_split=2\n",
      "[CV 4/5; 4/108] END criterion=gini, max_depth=None, min_samples_leaf=2, min_samples_split=2;, score=0.891 total time=   0.6s\n",
      "[CV 5/5; 4/108] START criterion=gini, max_depth=None, min_samples_leaf=2, min_samples_split=2\n",
      "[CV 5/5; 4/108] END criterion=gini, max_depth=None, min_samples_leaf=2, min_samples_split=2;, score=0.894 total time=   0.6s\n",
      "[CV 1/5; 5/108] START criterion=gini, max_depth=None, min_samples_leaf=2, min_samples_split=5\n",
      "[CV 1/5; 5/108] END criterion=gini, max_depth=None, min_samples_leaf=2, min_samples_split=5;, score=0.893 total time=   0.6s\n",
      "[CV 2/5; 5/108] START criterion=gini, max_depth=None, min_samples_leaf=2, min_samples_split=5\n",
      "[CV 2/5; 5/108] END criterion=gini, max_depth=None, min_samples_leaf=2, min_samples_split=5;, score=0.894 total time=   0.6s\n",
      "[CV 3/5; 5/108] START criterion=gini, max_depth=None, min_samples_leaf=2, min_samples_split=5\n",
      "[CV 3/5; 5/108] END criterion=gini, max_depth=None, min_samples_leaf=2, min_samples_split=5;, score=0.893 total time=   0.6s\n",
      "[CV 4/5; 5/108] START criterion=gini, max_depth=None, min_samples_leaf=2, min_samples_split=5\n",
      "[CV 4/5; 5/108] END criterion=gini, max_depth=None, min_samples_leaf=2, min_samples_split=5;, score=0.892 total time=   0.6s\n",
      "[CV 5/5; 5/108] START criterion=gini, max_depth=None, min_samples_leaf=2, min_samples_split=5\n",
      "[CV 5/5; 5/108] END criterion=gini, max_depth=None, min_samples_leaf=2, min_samples_split=5;, score=0.895 total time=   0.6s\n",
      "[CV 1/5; 6/108] START criterion=gini, max_depth=None, min_samples_leaf=2, min_samples_split=10\n",
      "[CV 1/5; 6/108] END criterion=gini, max_depth=None, min_samples_leaf=2, min_samples_split=10;, score=0.899 total time=   0.6s\n",
      "[CV 2/5; 6/108] START criterion=gini, max_depth=None, min_samples_leaf=2, min_samples_split=10\n",
      "[CV 2/5; 6/108] END criterion=gini, max_depth=None, min_samples_leaf=2, min_samples_split=10;, score=0.899 total time=   0.6s\n",
      "[CV 3/5; 6/108] START criterion=gini, max_depth=None, min_samples_leaf=2, min_samples_split=10\n",
      "[CV 3/5; 6/108] END criterion=gini, max_depth=None, min_samples_leaf=2, min_samples_split=10;, score=0.898 total time=   0.6s\n",
      "[CV 4/5; 6/108] START criterion=gini, max_depth=None, min_samples_leaf=2, min_samples_split=10\n",
      "[CV 4/5; 6/108] END criterion=gini, max_depth=None, min_samples_leaf=2, min_samples_split=10;, score=0.898 total time=   0.6s\n",
      "[CV 5/5; 6/108] START criterion=gini, max_depth=None, min_samples_leaf=2, min_samples_split=10\n",
      "[CV 5/5; 6/108] END criterion=gini, max_depth=None, min_samples_leaf=2, min_samples_split=10;, score=0.899 total time=   0.6s\n",
      "[CV 1/5; 7/108] START criterion=gini, max_depth=None, min_samples_leaf=4, min_samples_split=2\n",
      "[CV 1/5; 7/108] END criterion=gini, max_depth=None, min_samples_leaf=4, min_samples_split=2;, score=0.898 total time=   0.6s\n",
      "[CV 2/5; 7/108] START criterion=gini, max_depth=None, min_samples_leaf=4, min_samples_split=2\n",
      "[CV 2/5; 7/108] END criterion=gini, max_depth=None, min_samples_leaf=4, min_samples_split=2;, score=0.899 total time=   0.6s\n",
      "[CV 3/5; 7/108] START criterion=gini, max_depth=None, min_samples_leaf=4, min_samples_split=2\n",
      "[CV 3/5; 7/108] END criterion=gini, max_depth=None, min_samples_leaf=4, min_samples_split=2;, score=0.900 total time=   0.6s\n",
      "[CV 4/5; 7/108] START criterion=gini, max_depth=None, min_samples_leaf=4, min_samples_split=2\n",
      "[CV 4/5; 7/108] END criterion=gini, max_depth=None, min_samples_leaf=4, min_samples_split=2;, score=0.900 total time=   0.6s\n",
      "[CV 5/5; 7/108] START criterion=gini, max_depth=None, min_samples_leaf=4, min_samples_split=2\n",
      "[CV 5/5; 7/108] END criterion=gini, max_depth=None, min_samples_leaf=4, min_samples_split=2;, score=0.899 total time=   0.6s\n",
      "[CV 1/5; 8/108] START criterion=gini, max_depth=None, min_samples_leaf=4, min_samples_split=5\n",
      "[CV 1/5; 8/108] END criterion=gini, max_depth=None, min_samples_leaf=4, min_samples_split=5;, score=0.898 total time=   0.6s\n",
      "[CV 2/5; 8/108] START criterion=gini, max_depth=None, min_samples_leaf=4, min_samples_split=5\n",
      "[CV 2/5; 8/108] END criterion=gini, max_depth=None, min_samples_leaf=4, min_samples_split=5;, score=0.899 total time=   0.6s\n",
      "[CV 3/5; 8/108] START criterion=gini, max_depth=None, min_samples_leaf=4, min_samples_split=5\n",
      "[CV 3/5; 8/108] END criterion=gini, max_depth=None, min_samples_leaf=4, min_samples_split=5;, score=0.900 total time=   0.6s\n",
      "[CV 4/5; 8/108] START criterion=gini, max_depth=None, min_samples_leaf=4, min_samples_split=5\n",
      "[CV 4/5; 8/108] END criterion=gini, max_depth=None, min_samples_leaf=4, min_samples_split=5;, score=0.900 total time=   0.6s\n",
      "[CV 5/5; 8/108] START criterion=gini, max_depth=None, min_samples_leaf=4, min_samples_split=5\n",
      "[CV 5/5; 8/108] END criterion=gini, max_depth=None, min_samples_leaf=4, min_samples_split=5;, score=0.899 total time=   0.6s\n",
      "[CV 1/5; 9/108] START criterion=gini, max_depth=None, min_samples_leaf=4, min_samples_split=10\n",
      "[CV 1/5; 9/108] END criterion=gini, max_depth=None, min_samples_leaf=4, min_samples_split=10;, score=0.900 total time=   0.6s\n",
      "[CV 2/5; 9/108] START criterion=gini, max_depth=None, min_samples_leaf=4, min_samples_split=10\n",
      "[CV 2/5; 9/108] END criterion=gini, max_depth=None, min_samples_leaf=4, min_samples_split=10;, score=0.900 total time=   0.6s\n",
      "[CV 3/5; 9/108] START criterion=gini, max_depth=None, min_samples_leaf=4, min_samples_split=10\n",
      "[CV 3/5; 9/108] END criterion=gini, max_depth=None, min_samples_leaf=4, min_samples_split=10;, score=0.903 total time=   0.6s\n",
      "[CV 4/5; 9/108] START criterion=gini, max_depth=None, min_samples_leaf=4, min_samples_split=10\n",
      "[CV 4/5; 9/108] END criterion=gini, max_depth=None, min_samples_leaf=4, min_samples_split=10;, score=0.901 total time=   0.6s\n",
      "[CV 5/5; 9/108] START criterion=gini, max_depth=None, min_samples_leaf=4, min_samples_split=10\n",
      "[CV 5/5; 9/108] END criterion=gini, max_depth=None, min_samples_leaf=4, min_samples_split=10;, score=0.900 total time=   0.6s\n",
      "[CV 1/5; 10/108] START criterion=gini, max_depth=10, min_samples_leaf=1, min_samples_split=2\n",
      "[CV 1/5; 10/108] END criterion=gini, max_depth=10, min_samples_leaf=1, min_samples_split=2;, score=0.920 total time=   0.4s\n",
      "[CV 2/5; 10/108] START criterion=gini, max_depth=10, min_samples_leaf=1, min_samples_split=2\n",
      "[CV 2/5; 10/108] END criterion=gini, max_depth=10, min_samples_leaf=1, min_samples_split=2;, score=0.920 total time=   0.4s\n",
      "[CV 3/5; 10/108] START criterion=gini, max_depth=10, min_samples_leaf=1, min_samples_split=2\n",
      "[CV 3/5; 10/108] END criterion=gini, max_depth=10, min_samples_leaf=1, min_samples_split=2;, score=0.919 total time=   0.4s\n",
      "[CV 4/5; 10/108] START criterion=gini, max_depth=10, min_samples_leaf=1, min_samples_split=2\n",
      "[CV 4/5; 10/108] END criterion=gini, max_depth=10, min_samples_leaf=1, min_samples_split=2;, score=0.917 total time=   0.4s\n",
      "[CV 5/5; 10/108] START criterion=gini, max_depth=10, min_samples_leaf=1, min_samples_split=2\n",
      "[CV 5/5; 10/108] END criterion=gini, max_depth=10, min_samples_leaf=1, min_samples_split=2;, score=0.919 total time=   0.4s\n",
      "[CV 1/5; 11/108] START criterion=gini, max_depth=10, min_samples_leaf=1, min_samples_split=5\n",
      "[CV 1/5; 11/108] END criterion=gini, max_depth=10, min_samples_leaf=1, min_samples_split=5;, score=0.920 total time=   0.4s\n",
      "[CV 2/5; 11/108] START criterion=gini, max_depth=10, min_samples_leaf=1, min_samples_split=5\n",
      "[CV 2/5; 11/108] END criterion=gini, max_depth=10, min_samples_leaf=1, min_samples_split=5;, score=0.920 total time=   0.4s\n",
      "[CV 3/5; 11/108] START criterion=gini, max_depth=10, min_samples_leaf=1, min_samples_split=5\n",
      "[CV 3/5; 11/108] END criterion=gini, max_depth=10, min_samples_leaf=1, min_samples_split=5;, score=0.919 total time=   0.4s\n",
      "[CV 4/5; 11/108] START criterion=gini, max_depth=10, min_samples_leaf=1, min_samples_split=5\n",
      "[CV 4/5; 11/108] END criterion=gini, max_depth=10, min_samples_leaf=1, min_samples_split=5;, score=0.917 total time=   0.4s\n",
      "[CV 5/5; 11/108] START criterion=gini, max_depth=10, min_samples_leaf=1, min_samples_split=5\n",
      "[CV 5/5; 11/108] END criterion=gini, max_depth=10, min_samples_leaf=1, min_samples_split=5;, score=0.919 total time=   0.4s\n",
      "[CV 1/5; 12/108] START criterion=gini, max_depth=10, min_samples_leaf=1, min_samples_split=10\n",
      "[CV 1/5; 12/108] END criterion=gini, max_depth=10, min_samples_leaf=1, min_samples_split=10;, score=0.920 total time=   0.4s\n",
      "[CV 2/5; 12/108] START criterion=gini, max_depth=10, min_samples_leaf=1, min_samples_split=10\n",
      "[CV 2/5; 12/108] END criterion=gini, max_depth=10, min_samples_leaf=1, min_samples_split=10;, score=0.920 total time=   0.4s\n",
      "[CV 3/5; 12/108] START criterion=gini, max_depth=10, min_samples_leaf=1, min_samples_split=10\n",
      "[CV 3/5; 12/108] END criterion=gini, max_depth=10, min_samples_leaf=1, min_samples_split=10;, score=0.919 total time=   0.4s\n",
      "[CV 4/5; 12/108] START criterion=gini, max_depth=10, min_samples_leaf=1, min_samples_split=10\n",
      "[CV 4/5; 12/108] END criterion=gini, max_depth=10, min_samples_leaf=1, min_samples_split=10;, score=0.917 total time=   0.4s\n",
      "[CV 5/5; 12/108] START criterion=gini, max_depth=10, min_samples_leaf=1, min_samples_split=10\n",
      "[CV 5/5; 12/108] END criterion=gini, max_depth=10, min_samples_leaf=1, min_samples_split=10;, score=0.919 total time=   0.4s\n",
      "[CV 1/5; 13/108] START criterion=gini, max_depth=10, min_samples_leaf=2, min_samples_split=2\n",
      "[CV 1/5; 13/108] END criterion=gini, max_depth=10, min_samples_leaf=2, min_samples_split=2;, score=0.920 total time=   0.4s\n",
      "[CV 2/5; 13/108] START criterion=gini, max_depth=10, min_samples_leaf=2, min_samples_split=2\n",
      "[CV 2/5; 13/108] END criterion=gini, max_depth=10, min_samples_leaf=2, min_samples_split=2;, score=0.920 total time=   0.4s\n",
      "[CV 3/5; 13/108] START criterion=gini, max_depth=10, min_samples_leaf=2, min_samples_split=2\n",
      "[CV 3/5; 13/108] END criterion=gini, max_depth=10, min_samples_leaf=2, min_samples_split=2;, score=0.919 total time=   0.4s\n",
      "[CV 4/5; 13/108] START criterion=gini, max_depth=10, min_samples_leaf=2, min_samples_split=2\n",
      "[CV 4/5; 13/108] END criterion=gini, max_depth=10, min_samples_leaf=2, min_samples_split=2;, score=0.917 total time=   0.4s\n",
      "[CV 5/5; 13/108] START criterion=gini, max_depth=10, min_samples_leaf=2, min_samples_split=2\n",
      "[CV 5/5; 13/108] END criterion=gini, max_depth=10, min_samples_leaf=2, min_samples_split=2;, score=0.919 total time=   0.4s\n",
      "[CV 1/5; 14/108] START criterion=gini, max_depth=10, min_samples_leaf=2, min_samples_split=5\n",
      "[CV 1/5; 14/108] END criterion=gini, max_depth=10, min_samples_leaf=2, min_samples_split=5;, score=0.920 total time=   0.4s\n",
      "[CV 2/5; 14/108] START criterion=gini, max_depth=10, min_samples_leaf=2, min_samples_split=5\n",
      "[CV 2/5; 14/108] END criterion=gini, max_depth=10, min_samples_leaf=2, min_samples_split=5;, score=0.920 total time=   0.4s\n",
      "[CV 3/5; 14/108] START criterion=gini, max_depth=10, min_samples_leaf=2, min_samples_split=5\n",
      "[CV 3/5; 14/108] END criterion=gini, max_depth=10, min_samples_leaf=2, min_samples_split=5;, score=0.919 total time=   0.4s\n",
      "[CV 4/5; 14/108] START criterion=gini, max_depth=10, min_samples_leaf=2, min_samples_split=5\n",
      "[CV 4/5; 14/108] END criterion=gini, max_depth=10, min_samples_leaf=2, min_samples_split=5;, score=0.916 total time=   0.4s\n",
      "[CV 5/5; 14/108] START criterion=gini, max_depth=10, min_samples_leaf=2, min_samples_split=5\n",
      "[CV 5/5; 14/108] END criterion=gini, max_depth=10, min_samples_leaf=2, min_samples_split=5;, score=0.919 total time=   0.4s\n",
      "[CV 1/5; 15/108] START criterion=gini, max_depth=10, min_samples_leaf=2, min_samples_split=10\n",
      "[CV 1/5; 15/108] END criterion=gini, max_depth=10, min_samples_leaf=2, min_samples_split=10;, score=0.920 total time=   0.4s\n",
      "[CV 2/5; 15/108] START criterion=gini, max_depth=10, min_samples_leaf=2, min_samples_split=10\n",
      "[CV 2/5; 15/108] END criterion=gini, max_depth=10, min_samples_leaf=2, min_samples_split=10;, score=0.920 total time=   0.4s\n",
      "[CV 3/5; 15/108] START criterion=gini, max_depth=10, min_samples_leaf=2, min_samples_split=10\n",
      "[CV 3/5; 15/108] END criterion=gini, max_depth=10, min_samples_leaf=2, min_samples_split=10;, score=0.919 total time=   0.4s\n",
      "[CV 4/5; 15/108] START criterion=gini, max_depth=10, min_samples_leaf=2, min_samples_split=10\n",
      "[CV 4/5; 15/108] END criterion=gini, max_depth=10, min_samples_leaf=2, min_samples_split=10;, score=0.917 total time=   0.4s\n",
      "[CV 5/5; 15/108] START criterion=gini, max_depth=10, min_samples_leaf=2, min_samples_split=10\n",
      "[CV 5/5; 15/108] END criterion=gini, max_depth=10, min_samples_leaf=2, min_samples_split=10;, score=0.919 total time=   0.4s\n",
      "[CV 1/5; 16/108] START criterion=gini, max_depth=10, min_samples_leaf=4, min_samples_split=2\n",
      "[CV 1/5; 16/108] END criterion=gini, max_depth=10, min_samples_leaf=4, min_samples_split=2;, score=0.921 total time=   0.4s\n",
      "[CV 2/5; 16/108] START criterion=gini, max_depth=10, min_samples_leaf=4, min_samples_split=2\n",
      "[CV 2/5; 16/108] END criterion=gini, max_depth=10, min_samples_leaf=4, min_samples_split=2;, score=0.921 total time=   0.4s\n",
      "[CV 3/5; 16/108] START criterion=gini, max_depth=10, min_samples_leaf=4, min_samples_split=2\n",
      "[CV 3/5; 16/108] END criterion=gini, max_depth=10, min_samples_leaf=4, min_samples_split=2;, score=0.920 total time=   0.4s\n",
      "[CV 4/5; 16/108] START criterion=gini, max_depth=10, min_samples_leaf=4, min_samples_split=2\n",
      "[CV 4/5; 16/108] END criterion=gini, max_depth=10, min_samples_leaf=4, min_samples_split=2;, score=0.918 total time=   0.4s\n",
      "[CV 5/5; 16/108] START criterion=gini, max_depth=10, min_samples_leaf=4, min_samples_split=2\n",
      "[CV 5/5; 16/108] END criterion=gini, max_depth=10, min_samples_leaf=4, min_samples_split=2;, score=0.920 total time=   0.4s\n",
      "[CV 1/5; 17/108] START criterion=gini, max_depth=10, min_samples_leaf=4, min_samples_split=5\n",
      "[CV 1/5; 17/108] END criterion=gini, max_depth=10, min_samples_leaf=4, min_samples_split=5;, score=0.921 total time=   0.4s\n",
      "[CV 2/5; 17/108] START criterion=gini, max_depth=10, min_samples_leaf=4, min_samples_split=5\n",
      "[CV 2/5; 17/108] END criterion=gini, max_depth=10, min_samples_leaf=4, min_samples_split=5;, score=0.921 total time=   0.4s\n",
      "[CV 3/5; 17/108] START criterion=gini, max_depth=10, min_samples_leaf=4, min_samples_split=5\n",
      "[CV 3/5; 17/108] END criterion=gini, max_depth=10, min_samples_leaf=4, min_samples_split=5;, score=0.920 total time=   0.4s\n",
      "[CV 4/5; 17/108] START criterion=gini, max_depth=10, min_samples_leaf=4, min_samples_split=5\n",
      "[CV 4/5; 17/108] END criterion=gini, max_depth=10, min_samples_leaf=4, min_samples_split=5;, score=0.918 total time=   0.4s\n",
      "[CV 5/5; 17/108] START criterion=gini, max_depth=10, min_samples_leaf=4, min_samples_split=5\n",
      "[CV 5/5; 17/108] END criterion=gini, max_depth=10, min_samples_leaf=4, min_samples_split=5;, score=0.920 total time=   0.4s\n",
      "[CV 1/5; 18/108] START criterion=gini, max_depth=10, min_samples_leaf=4, min_samples_split=10\n",
      "[CV 1/5; 18/108] END criterion=gini, max_depth=10, min_samples_leaf=4, min_samples_split=10;, score=0.921 total time=   0.4s\n",
      "[CV 2/5; 18/108] START criterion=gini, max_depth=10, min_samples_leaf=4, min_samples_split=10\n",
      "[CV 2/5; 18/108] END criterion=gini, max_depth=10, min_samples_leaf=4, min_samples_split=10;, score=0.920 total time=   0.4s\n",
      "[CV 3/5; 18/108] START criterion=gini, max_depth=10, min_samples_leaf=4, min_samples_split=10\n",
      "[CV 3/5; 18/108] END criterion=gini, max_depth=10, min_samples_leaf=4, min_samples_split=10;, score=0.920 total time=   0.4s\n",
      "[CV 4/5; 18/108] START criterion=gini, max_depth=10, min_samples_leaf=4, min_samples_split=10\n",
      "[CV 4/5; 18/108] END criterion=gini, max_depth=10, min_samples_leaf=4, min_samples_split=10;, score=0.918 total time=   0.4s\n",
      "[CV 5/5; 18/108] START criterion=gini, max_depth=10, min_samples_leaf=4, min_samples_split=10\n",
      "[CV 5/5; 18/108] END criterion=gini, max_depth=10, min_samples_leaf=4, min_samples_split=10;, score=0.920 total time=   0.4s\n",
      "[CV 1/5; 19/108] START criterion=gini, max_depth=20, min_samples_leaf=1, min_samples_split=2\n",
      "[CV 1/5; 19/108] END criterion=gini, max_depth=20, min_samples_leaf=1, min_samples_split=2;, score=0.903 total time=   0.6s\n",
      "[CV 2/5; 19/108] START criterion=gini, max_depth=20, min_samples_leaf=1, min_samples_split=2\n",
      "[CV 2/5; 19/108] END criterion=gini, max_depth=20, min_samples_leaf=1, min_samples_split=2;, score=0.903 total time=   0.6s\n",
      "[CV 3/5; 19/108] START criterion=gini, max_depth=20, min_samples_leaf=1, min_samples_split=2\n",
      "[CV 3/5; 19/108] END criterion=gini, max_depth=20, min_samples_leaf=1, min_samples_split=2;, score=0.901 total time=   0.6s\n",
      "[CV 4/5; 19/108] START criterion=gini, max_depth=20, min_samples_leaf=1, min_samples_split=2\n",
      "[CV 4/5; 19/108] END criterion=gini, max_depth=20, min_samples_leaf=1, min_samples_split=2;, score=0.902 total time=   0.6s\n",
      "[CV 5/5; 19/108] START criterion=gini, max_depth=20, min_samples_leaf=1, min_samples_split=2\n",
      "[CV 5/5; 19/108] END criterion=gini, max_depth=20, min_samples_leaf=1, min_samples_split=2;, score=0.903 total time=   0.6s\n",
      "[CV 1/5; 20/108] START criterion=gini, max_depth=20, min_samples_leaf=1, min_samples_split=5\n",
      "[CV 1/5; 20/108] END criterion=gini, max_depth=20, min_samples_leaf=1, min_samples_split=5;, score=0.905 total time=   0.6s\n",
      "[CV 2/5; 20/108] START criterion=gini, max_depth=20, min_samples_leaf=1, min_samples_split=5\n",
      "[CV 2/5; 20/108] END criterion=gini, max_depth=20, min_samples_leaf=1, min_samples_split=5;, score=0.905 total time=   0.6s\n",
      "[CV 3/5; 20/108] START criterion=gini, max_depth=20, min_samples_leaf=1, min_samples_split=5\n",
      "[CV 3/5; 20/108] END criterion=gini, max_depth=20, min_samples_leaf=1, min_samples_split=5;, score=0.904 total time=   0.6s\n",
      "[CV 4/5; 20/108] START criterion=gini, max_depth=20, min_samples_leaf=1, min_samples_split=5\n",
      "[CV 4/5; 20/108] END criterion=gini, max_depth=20, min_samples_leaf=1, min_samples_split=5;, score=0.904 total time=   0.6s\n",
      "[CV 5/5; 20/108] START criterion=gini, max_depth=20, min_samples_leaf=1, min_samples_split=5\n",
      "[CV 5/5; 20/108] END criterion=gini, max_depth=20, min_samples_leaf=1, min_samples_split=5;, score=0.905 total time=   0.6s\n",
      "[CV 1/5; 21/108] START criterion=gini, max_depth=20, min_samples_leaf=1, min_samples_split=10\n",
      "[CV 1/5; 21/108] END criterion=gini, max_depth=20, min_samples_leaf=1, min_samples_split=10;, score=0.907 total time=   0.6s\n",
      "[CV 2/5; 21/108] START criterion=gini, max_depth=20, min_samples_leaf=1, min_samples_split=10\n",
      "[CV 2/5; 21/108] END criterion=gini, max_depth=20, min_samples_leaf=1, min_samples_split=10;, score=0.907 total time=   0.6s\n",
      "[CV 3/5; 21/108] START criterion=gini, max_depth=20, min_samples_leaf=1, min_samples_split=10\n",
      "[CV 3/5; 21/108] END criterion=gini, max_depth=20, min_samples_leaf=1, min_samples_split=10;, score=0.905 total time=   0.6s\n",
      "[CV 4/5; 21/108] START criterion=gini, max_depth=20, min_samples_leaf=1, min_samples_split=10\n",
      "[CV 4/5; 21/108] END criterion=gini, max_depth=20, min_samples_leaf=1, min_samples_split=10;, score=0.906 total time=   0.6s\n",
      "[CV 5/5; 21/108] START criterion=gini, max_depth=20, min_samples_leaf=1, min_samples_split=10\n",
      "[CV 5/5; 21/108] END criterion=gini, max_depth=20, min_samples_leaf=1, min_samples_split=10;, score=0.907 total time=   0.6s\n",
      "[CV 1/5; 22/108] START criterion=gini, max_depth=20, min_samples_leaf=2, min_samples_split=2\n",
      "[CV 1/5; 22/108] END criterion=gini, max_depth=20, min_samples_leaf=2, min_samples_split=2;, score=0.905 total time=   0.6s\n",
      "[CV 2/5; 22/108] START criterion=gini, max_depth=20, min_samples_leaf=2, min_samples_split=2\n",
      "[CV 2/5; 22/108] END criterion=gini, max_depth=20, min_samples_leaf=2, min_samples_split=2;, score=0.907 total time=   0.6s\n",
      "[CV 3/5; 22/108] START criterion=gini, max_depth=20, min_samples_leaf=2, min_samples_split=2\n",
      "[CV 3/5; 22/108] END criterion=gini, max_depth=20, min_samples_leaf=2, min_samples_split=2;, score=0.905 total time=   0.5s\n",
      "[CV 4/5; 22/108] START criterion=gini, max_depth=20, min_samples_leaf=2, min_samples_split=2\n",
      "[CV 4/5; 22/108] END criterion=gini, max_depth=20, min_samples_leaf=2, min_samples_split=2;, score=0.905 total time=   0.6s\n",
      "[CV 5/5; 22/108] START criterion=gini, max_depth=20, min_samples_leaf=2, min_samples_split=2\n",
      "[CV 5/5; 22/108] END criterion=gini, max_depth=20, min_samples_leaf=2, min_samples_split=2;, score=0.904 total time=   0.6s\n",
      "[CV 1/5; 23/108] START criterion=gini, max_depth=20, min_samples_leaf=2, min_samples_split=5\n",
      "[CV 1/5; 23/108] END criterion=gini, max_depth=20, min_samples_leaf=2, min_samples_split=5;, score=0.905 total time=   0.6s\n",
      "[CV 2/5; 23/108] START criterion=gini, max_depth=20, min_samples_leaf=2, min_samples_split=5\n",
      "[CV 2/5; 23/108] END criterion=gini, max_depth=20, min_samples_leaf=2, min_samples_split=5;, score=0.907 total time=   0.6s\n",
      "[CV 3/5; 23/108] START criterion=gini, max_depth=20, min_samples_leaf=2, min_samples_split=5\n",
      "[CV 3/5; 23/108] END criterion=gini, max_depth=20, min_samples_leaf=2, min_samples_split=5;, score=0.905 total time=   0.6s\n",
      "[CV 4/5; 23/108] START criterion=gini, max_depth=20, min_samples_leaf=2, min_samples_split=5\n",
      "[CV 4/5; 23/108] END criterion=gini, max_depth=20, min_samples_leaf=2, min_samples_split=5;, score=0.905 total time=   0.6s\n",
      "[CV 5/5; 23/108] START criterion=gini, max_depth=20, min_samples_leaf=2, min_samples_split=5\n",
      "[CV 5/5; 23/108] END criterion=gini, max_depth=20, min_samples_leaf=2, min_samples_split=5;, score=0.905 total time=   0.6s\n",
      "[CV 1/5; 24/108] START criterion=gini, max_depth=20, min_samples_leaf=2, min_samples_split=10\n",
      "[CV 1/5; 24/108] END criterion=gini, max_depth=20, min_samples_leaf=2, min_samples_split=10;, score=0.908 total time=   0.6s\n",
      "[CV 2/5; 24/108] START criterion=gini, max_depth=20, min_samples_leaf=2, min_samples_split=10\n",
      "[CV 2/5; 24/108] END criterion=gini, max_depth=20, min_samples_leaf=2, min_samples_split=10;, score=0.909 total time=   0.6s\n",
      "[CV 3/5; 24/108] START criterion=gini, max_depth=20, min_samples_leaf=2, min_samples_split=10\n",
      "[CV 3/5; 24/108] END criterion=gini, max_depth=20, min_samples_leaf=2, min_samples_split=10;, score=0.907 total time=   0.5s\n",
      "[CV 4/5; 24/108] START criterion=gini, max_depth=20, min_samples_leaf=2, min_samples_split=10\n",
      "[CV 4/5; 24/108] END criterion=gini, max_depth=20, min_samples_leaf=2, min_samples_split=10;, score=0.908 total time=   0.6s\n",
      "[CV 5/5; 24/108] START criterion=gini, max_depth=20, min_samples_leaf=2, min_samples_split=10\n",
      "[CV 5/5; 24/108] END criterion=gini, max_depth=20, min_samples_leaf=2, min_samples_split=10;, score=0.908 total time=   0.6s\n",
      "[CV 1/5; 25/108] START criterion=gini, max_depth=20, min_samples_leaf=4, min_samples_split=2\n",
      "[CV 1/5; 25/108] END criterion=gini, max_depth=20, min_samples_leaf=4, min_samples_split=2;, score=0.908 total time=   0.6s\n",
      "[CV 2/5; 25/108] START criterion=gini, max_depth=20, min_samples_leaf=4, min_samples_split=2\n",
      "[CV 2/5; 25/108] END criterion=gini, max_depth=20, min_samples_leaf=4, min_samples_split=2;, score=0.908 total time=   0.5s\n",
      "[CV 3/5; 25/108] START criterion=gini, max_depth=20, min_samples_leaf=4, min_samples_split=2\n",
      "[CV 3/5; 25/108] END criterion=gini, max_depth=20, min_samples_leaf=4, min_samples_split=2;, score=0.908 total time=   0.5s\n",
      "[CV 4/5; 25/108] START criterion=gini, max_depth=20, min_samples_leaf=4, min_samples_split=2\n",
      "[CV 4/5; 25/108] END criterion=gini, max_depth=20, min_samples_leaf=4, min_samples_split=2;, score=0.909 total time=   0.5s\n",
      "[CV 5/5; 25/108] START criterion=gini, max_depth=20, min_samples_leaf=4, min_samples_split=2\n",
      "[CV 5/5; 25/108] END criterion=gini, max_depth=20, min_samples_leaf=4, min_samples_split=2;, score=0.908 total time=   0.6s\n",
      "[CV 1/5; 26/108] START criterion=gini, max_depth=20, min_samples_leaf=4, min_samples_split=5\n",
      "[CV 1/5; 26/108] END criterion=gini, max_depth=20, min_samples_leaf=4, min_samples_split=5;, score=0.908 total time=   0.6s\n",
      "[CV 2/5; 26/108] START criterion=gini, max_depth=20, min_samples_leaf=4, min_samples_split=5\n",
      "[CV 2/5; 26/108] END criterion=gini, max_depth=20, min_samples_leaf=4, min_samples_split=5;, score=0.908 total time=   0.5s\n",
      "[CV 3/5; 26/108] START criterion=gini, max_depth=20, min_samples_leaf=4, min_samples_split=5\n",
      "[CV 3/5; 26/108] END criterion=gini, max_depth=20, min_samples_leaf=4, min_samples_split=5;, score=0.908 total time=   0.5s\n",
      "[CV 4/5; 26/108] START criterion=gini, max_depth=20, min_samples_leaf=4, min_samples_split=5\n",
      "[CV 4/5; 26/108] END criterion=gini, max_depth=20, min_samples_leaf=4, min_samples_split=5;, score=0.909 total time=   0.5s\n",
      "[CV 5/5; 26/108] START criterion=gini, max_depth=20, min_samples_leaf=4, min_samples_split=5\n",
      "[CV 5/5; 26/108] END criterion=gini, max_depth=20, min_samples_leaf=4, min_samples_split=5;, score=0.908 total time=   0.6s\n",
      "[CV 1/5; 27/108] START criterion=gini, max_depth=20, min_samples_leaf=4, min_samples_split=10\n",
      "[CV 1/5; 27/108] END criterion=gini, max_depth=20, min_samples_leaf=4, min_samples_split=10;, score=0.910 total time=   0.6s\n",
      "[CV 2/5; 27/108] START criterion=gini, max_depth=20, min_samples_leaf=4, min_samples_split=10\n",
      "[CV 2/5; 27/108] END criterion=gini, max_depth=20, min_samples_leaf=4, min_samples_split=10;, score=0.909 total time=   0.6s\n",
      "[CV 3/5; 27/108] START criterion=gini, max_depth=20, min_samples_leaf=4, min_samples_split=10\n",
      "[CV 3/5; 27/108] END criterion=gini, max_depth=20, min_samples_leaf=4, min_samples_split=10;, score=0.909 total time=   0.5s\n",
      "[CV 4/5; 27/108] START criterion=gini, max_depth=20, min_samples_leaf=4, min_samples_split=10\n",
      "[CV 4/5; 27/108] END criterion=gini, max_depth=20, min_samples_leaf=4, min_samples_split=10;, score=0.909 total time=   0.5s\n",
      "[CV 5/5; 27/108] START criterion=gini, max_depth=20, min_samples_leaf=4, min_samples_split=10\n",
      "[CV 5/5; 27/108] END criterion=gini, max_depth=20, min_samples_leaf=4, min_samples_split=10;, score=0.908 total time=   0.6s\n",
      "[CV 1/5; 28/108] START criterion=gini, max_depth=30, min_samples_leaf=1, min_samples_split=2\n",
      "[CV 1/5; 28/108] END criterion=gini, max_depth=30, min_samples_leaf=1, min_samples_split=2;, score=0.889 total time=   0.6s\n",
      "[CV 2/5; 28/108] START criterion=gini, max_depth=30, min_samples_leaf=1, min_samples_split=2\n",
      "[CV 2/5; 28/108] END criterion=gini, max_depth=30, min_samples_leaf=1, min_samples_split=2;, score=0.890 total time=   0.6s\n",
      "[CV 3/5; 28/108] START criterion=gini, max_depth=30, min_samples_leaf=1, min_samples_split=2\n",
      "[CV 3/5; 28/108] END criterion=gini, max_depth=30, min_samples_leaf=1, min_samples_split=2;, score=0.886 total time=   0.6s\n",
      "[CV 4/5; 28/108] START criterion=gini, max_depth=30, min_samples_leaf=1, min_samples_split=2\n",
      "[CV 4/5; 28/108] END criterion=gini, max_depth=30, min_samples_leaf=1, min_samples_split=2;, score=0.885 total time=   0.6s\n",
      "[CV 5/5; 28/108] START criterion=gini, max_depth=30, min_samples_leaf=1, min_samples_split=2\n",
      "[CV 5/5; 28/108] END criterion=gini, max_depth=30, min_samples_leaf=1, min_samples_split=2;, score=0.888 total time=   0.6s\n",
      "[CV 1/5; 29/108] START criterion=gini, max_depth=30, min_samples_leaf=1, min_samples_split=5\n",
      "[CV 1/5; 29/108] END criterion=gini, max_depth=30, min_samples_leaf=1, min_samples_split=5;, score=0.895 total time=   0.6s\n",
      "[CV 2/5; 29/108] START criterion=gini, max_depth=30, min_samples_leaf=1, min_samples_split=5\n",
      "[CV 2/5; 29/108] END criterion=gini, max_depth=30, min_samples_leaf=1, min_samples_split=5;, score=0.891 total time=   0.6s\n",
      "[CV 3/5; 29/108] START criterion=gini, max_depth=30, min_samples_leaf=1, min_samples_split=5\n",
      "[CV 3/5; 29/108] END criterion=gini, max_depth=30, min_samples_leaf=1, min_samples_split=5;, score=0.892 total time=   0.6s\n",
      "[CV 4/5; 29/108] START criterion=gini, max_depth=30, min_samples_leaf=1, min_samples_split=5\n",
      "[CV 4/5; 29/108] END criterion=gini, max_depth=30, min_samples_leaf=1, min_samples_split=5;, score=0.890 total time=   0.6s\n",
      "[CV 5/5; 29/108] START criterion=gini, max_depth=30, min_samples_leaf=1, min_samples_split=5\n",
      "[CV 5/5; 29/108] END criterion=gini, max_depth=30, min_samples_leaf=1, min_samples_split=5;, score=0.893 total time=   0.6s\n",
      "[CV 1/5; 30/108] START criterion=gini, max_depth=30, min_samples_leaf=1, min_samples_split=10\n",
      "[CV 1/5; 30/108] END criterion=gini, max_depth=30, min_samples_leaf=1, min_samples_split=10;, score=0.899 total time=   0.6s\n",
      "[CV 2/5; 30/108] START criterion=gini, max_depth=30, min_samples_leaf=1, min_samples_split=10\n",
      "[CV 2/5; 30/108] END criterion=gini, max_depth=30, min_samples_leaf=1, min_samples_split=10;, score=0.897 total time=   0.6s\n",
      "[CV 3/5; 30/108] START criterion=gini, max_depth=30, min_samples_leaf=1, min_samples_split=10\n",
      "[CV 3/5; 30/108] END criterion=gini, max_depth=30, min_samples_leaf=1, min_samples_split=10;, score=0.895 total time=   0.6s\n",
      "[CV 4/5; 30/108] START criterion=gini, max_depth=30, min_samples_leaf=1, min_samples_split=10\n",
      "[CV 4/5; 30/108] END criterion=gini, max_depth=30, min_samples_leaf=1, min_samples_split=10;, score=0.896 total time=   0.6s\n",
      "[CV 5/5; 30/108] START criterion=gini, max_depth=30, min_samples_leaf=1, min_samples_split=10\n",
      "[CV 5/5; 30/108] END criterion=gini, max_depth=30, min_samples_leaf=1, min_samples_split=10;, score=0.898 total time=   0.6s\n",
      "[CV 1/5; 31/108] START criterion=gini, max_depth=30, min_samples_leaf=2, min_samples_split=2\n",
      "[CV 1/5; 31/108] END criterion=gini, max_depth=30, min_samples_leaf=2, min_samples_split=2;, score=0.896 total time=   0.6s\n",
      "[CV 2/5; 31/108] START criterion=gini, max_depth=30, min_samples_leaf=2, min_samples_split=2\n",
      "[CV 2/5; 31/108] END criterion=gini, max_depth=30, min_samples_leaf=2, min_samples_split=2;, score=0.896 total time=   0.6s\n",
      "[CV 3/5; 31/108] START criterion=gini, max_depth=30, min_samples_leaf=2, min_samples_split=2\n",
      "[CV 3/5; 31/108] END criterion=gini, max_depth=30, min_samples_leaf=2, min_samples_split=2;, score=0.896 total time=   0.6s\n",
      "[CV 4/5; 31/108] START criterion=gini, max_depth=30, min_samples_leaf=2, min_samples_split=2\n",
      "[CV 4/5; 31/108] END criterion=gini, max_depth=30, min_samples_leaf=2, min_samples_split=2;, score=0.894 total time=   0.6s\n",
      "[CV 5/5; 31/108] START criterion=gini, max_depth=30, min_samples_leaf=2, min_samples_split=2\n",
      "[CV 5/5; 31/108] END criterion=gini, max_depth=30, min_samples_leaf=2, min_samples_split=2;, score=0.897 total time=   0.6s\n",
      "[CV 1/5; 32/108] START criterion=gini, max_depth=30, min_samples_leaf=2, min_samples_split=5\n",
      "[CV 1/5; 32/108] END criterion=gini, max_depth=30, min_samples_leaf=2, min_samples_split=5;, score=0.896 total time=   0.6s\n",
      "[CV 2/5; 32/108] START criterion=gini, max_depth=30, min_samples_leaf=2, min_samples_split=5\n",
      "[CV 2/5; 32/108] END criterion=gini, max_depth=30, min_samples_leaf=2, min_samples_split=5;, score=0.896 total time=   0.6s\n",
      "[CV 3/5; 32/108] START criterion=gini, max_depth=30, min_samples_leaf=2, min_samples_split=5\n",
      "[CV 3/5; 32/108] END criterion=gini, max_depth=30, min_samples_leaf=2, min_samples_split=5;, score=0.897 total time=   0.6s\n",
      "[CV 4/5; 32/108] START criterion=gini, max_depth=30, min_samples_leaf=2, min_samples_split=5\n",
      "[CV 4/5; 32/108] END criterion=gini, max_depth=30, min_samples_leaf=2, min_samples_split=5;, score=0.894 total time=   0.6s\n",
      "[CV 5/5; 32/108] START criterion=gini, max_depth=30, min_samples_leaf=2, min_samples_split=5\n",
      "[CV 5/5; 32/108] END criterion=gini, max_depth=30, min_samples_leaf=2, min_samples_split=5;, score=0.897 total time=   0.6s\n",
      "[CV 1/5; 33/108] START criterion=gini, max_depth=30, min_samples_leaf=2, min_samples_split=10\n",
      "[CV 1/5; 33/108] END criterion=gini, max_depth=30, min_samples_leaf=2, min_samples_split=10;, score=0.901 total time=   0.6s\n",
      "[CV 2/5; 33/108] START criterion=gini, max_depth=30, min_samples_leaf=2, min_samples_split=10\n",
      "[CV 2/5; 33/108] END criterion=gini, max_depth=30, min_samples_leaf=2, min_samples_split=10;, score=0.900 total time=   0.6s\n",
      "[CV 3/5; 33/108] START criterion=gini, max_depth=30, min_samples_leaf=2, min_samples_split=10\n",
      "[CV 3/5; 33/108] END criterion=gini, max_depth=30, min_samples_leaf=2, min_samples_split=10;, score=0.900 total time=   0.6s\n",
      "[CV 4/5; 33/108] START criterion=gini, max_depth=30, min_samples_leaf=2, min_samples_split=10\n",
      "[CV 4/5; 33/108] END criterion=gini, max_depth=30, min_samples_leaf=2, min_samples_split=10;, score=0.898 total time=   0.6s\n",
      "[CV 5/5; 33/108] START criterion=gini, max_depth=30, min_samples_leaf=2, min_samples_split=10\n",
      "[CV 5/5; 33/108] END criterion=gini, max_depth=30, min_samples_leaf=2, min_samples_split=10;, score=0.902 total time=   0.6s\n",
      "[CV 1/5; 34/108] START criterion=gini, max_depth=30, min_samples_leaf=4, min_samples_split=2\n",
      "[CV 1/5; 34/108] END criterion=gini, max_depth=30, min_samples_leaf=4, min_samples_split=2;, score=0.900 total time=   0.6s\n",
      "[CV 2/5; 34/108] START criterion=gini, max_depth=30, min_samples_leaf=4, min_samples_split=2\n",
      "[CV 2/5; 34/108] END criterion=gini, max_depth=30, min_samples_leaf=4, min_samples_split=2;, score=0.901 total time=   0.6s\n",
      "[CV 3/5; 34/108] START criterion=gini, max_depth=30, min_samples_leaf=4, min_samples_split=2\n",
      "[CV 3/5; 34/108] END criterion=gini, max_depth=30, min_samples_leaf=4, min_samples_split=2;, score=0.902 total time=   0.6s\n",
      "[CV 4/5; 34/108] START criterion=gini, max_depth=30, min_samples_leaf=4, min_samples_split=2\n",
      "[CV 4/5; 34/108] END criterion=gini, max_depth=30, min_samples_leaf=4, min_samples_split=2;, score=0.900 total time=   0.6s\n",
      "[CV 5/5; 34/108] START criterion=gini, max_depth=30, min_samples_leaf=4, min_samples_split=2\n",
      "[CV 5/5; 34/108] END criterion=gini, max_depth=30, min_samples_leaf=4, min_samples_split=2;, score=0.900 total time=   0.6s\n",
      "[CV 1/5; 35/108] START criterion=gini, max_depth=30, min_samples_leaf=4, min_samples_split=5\n",
      "[CV 1/5; 35/108] END criterion=gini, max_depth=30, min_samples_leaf=4, min_samples_split=5;, score=0.900 total time=   0.6s\n",
      "[CV 2/5; 35/108] START criterion=gini, max_depth=30, min_samples_leaf=4, min_samples_split=5\n",
      "[CV 2/5; 35/108] END criterion=gini, max_depth=30, min_samples_leaf=4, min_samples_split=5;, score=0.901 total time=   0.6s\n",
      "[CV 3/5; 35/108] START criterion=gini, max_depth=30, min_samples_leaf=4, min_samples_split=5\n",
      "[CV 3/5; 35/108] END criterion=gini, max_depth=30, min_samples_leaf=4, min_samples_split=5;, score=0.902 total time=   0.6s\n",
      "[CV 4/5; 35/108] START criterion=gini, max_depth=30, min_samples_leaf=4, min_samples_split=5\n",
      "[CV 4/5; 35/108] END criterion=gini, max_depth=30, min_samples_leaf=4, min_samples_split=5;, score=0.900 total time=   0.6s\n",
      "[CV 5/5; 35/108] START criterion=gini, max_depth=30, min_samples_leaf=4, min_samples_split=5\n",
      "[CV 5/5; 35/108] END criterion=gini, max_depth=30, min_samples_leaf=4, min_samples_split=5;, score=0.900 total time=   0.6s\n",
      "[CV 1/5; 36/108] START criterion=gini, max_depth=30, min_samples_leaf=4, min_samples_split=10\n",
      "[CV 1/5; 36/108] END criterion=gini, max_depth=30, min_samples_leaf=4, min_samples_split=10;, score=0.901 total time=   0.6s\n",
      "[CV 2/5; 36/108] START criterion=gini, max_depth=30, min_samples_leaf=4, min_samples_split=10\n",
      "[CV 2/5; 36/108] END criterion=gini, max_depth=30, min_samples_leaf=4, min_samples_split=10;, score=0.901 total time=   0.6s\n",
      "[CV 3/5; 36/108] START criterion=gini, max_depth=30, min_samples_leaf=4, min_samples_split=10\n",
      "[CV 3/5; 36/108] END criterion=gini, max_depth=30, min_samples_leaf=4, min_samples_split=10;, score=0.904 total time=   0.6s\n",
      "[CV 4/5; 36/108] START criterion=gini, max_depth=30, min_samples_leaf=4, min_samples_split=10\n",
      "[CV 4/5; 36/108] END criterion=gini, max_depth=30, min_samples_leaf=4, min_samples_split=10;, score=0.901 total time=   0.6s\n",
      "[CV 5/5; 36/108] START criterion=gini, max_depth=30, min_samples_leaf=4, min_samples_split=10\n",
      "[CV 5/5; 36/108] END criterion=gini, max_depth=30, min_samples_leaf=4, min_samples_split=10;, score=0.901 total time=   0.6s\n",
      "[CV 1/5; 37/108] START criterion=gini, max_depth=40, min_samples_leaf=1, min_samples_split=2\n",
      "[CV 1/5; 37/108] END criterion=gini, max_depth=40, min_samples_leaf=1, min_samples_split=2;, score=0.885 total time=   0.6s\n",
      "[CV 2/5; 37/108] START criterion=gini, max_depth=40, min_samples_leaf=1, min_samples_split=2\n",
      "[CV 2/5; 37/108] END criterion=gini, max_depth=40, min_samples_leaf=1, min_samples_split=2;, score=0.884 total time=   0.6s\n",
      "[CV 3/5; 37/108] START criterion=gini, max_depth=40, min_samples_leaf=1, min_samples_split=2\n",
      "[CV 3/5; 37/108] END criterion=gini, max_depth=40, min_samples_leaf=1, min_samples_split=2;, score=0.882 total time=   0.6s\n",
      "[CV 4/5; 37/108] START criterion=gini, max_depth=40, min_samples_leaf=1, min_samples_split=2\n",
      "[CV 4/5; 37/108] END criterion=gini, max_depth=40, min_samples_leaf=1, min_samples_split=2;, score=0.881 total time=   0.6s\n",
      "[CV 5/5; 37/108] START criterion=gini, max_depth=40, min_samples_leaf=1, min_samples_split=2\n",
      "[CV 5/5; 37/108] END criterion=gini, max_depth=40, min_samples_leaf=1, min_samples_split=2;, score=0.882 total time=   0.6s\n",
      "[CV 1/5; 38/108] START criterion=gini, max_depth=40, min_samples_leaf=1, min_samples_split=5\n",
      "[CV 1/5; 38/108] END criterion=gini, max_depth=40, min_samples_leaf=1, min_samples_split=5;, score=0.891 total time=   0.6s\n",
      "[CV 2/5; 38/108] START criterion=gini, max_depth=40, min_samples_leaf=1, min_samples_split=5\n",
      "[CV 2/5; 38/108] END criterion=gini, max_depth=40, min_samples_leaf=1, min_samples_split=5;, score=0.888 total time=   0.6s\n",
      "[CV 3/5; 38/108] START criterion=gini, max_depth=40, min_samples_leaf=1, min_samples_split=5\n",
      "[CV 3/5; 38/108] END criterion=gini, max_depth=40, min_samples_leaf=1, min_samples_split=5;, score=0.888 total time=   0.6s\n",
      "[CV 4/5; 38/108] START criterion=gini, max_depth=40, min_samples_leaf=1, min_samples_split=5\n",
      "[CV 4/5; 38/108] END criterion=gini, max_depth=40, min_samples_leaf=1, min_samples_split=5;, score=0.886 total time=   0.6s\n",
      "[CV 5/5; 38/108] START criterion=gini, max_depth=40, min_samples_leaf=1, min_samples_split=5\n",
      "[CV 5/5; 38/108] END criterion=gini, max_depth=40, min_samples_leaf=1, min_samples_split=5;, score=0.887 total time=   0.6s\n",
      "[CV 1/5; 39/108] START criterion=gini, max_depth=40, min_samples_leaf=1, min_samples_split=10\n",
      "[CV 1/5; 39/108] END criterion=gini, max_depth=40, min_samples_leaf=1, min_samples_split=10;, score=0.896 total time=   0.6s\n",
      "[CV 2/5; 39/108] START criterion=gini, max_depth=40, min_samples_leaf=1, min_samples_split=10\n",
      "[CV 2/5; 39/108] END criterion=gini, max_depth=40, min_samples_leaf=1, min_samples_split=10;, score=0.895 total time=   0.6s\n",
      "[CV 3/5; 39/108] START criterion=gini, max_depth=40, min_samples_leaf=1, min_samples_split=10\n",
      "[CV 3/5; 39/108] END criterion=gini, max_depth=40, min_samples_leaf=1, min_samples_split=10;, score=0.893 total time=   0.6s\n",
      "[CV 4/5; 39/108] START criterion=gini, max_depth=40, min_samples_leaf=1, min_samples_split=10\n",
      "[CV 4/5; 39/108] END criterion=gini, max_depth=40, min_samples_leaf=1, min_samples_split=10;, score=0.893 total time=   0.6s\n",
      "[CV 5/5; 39/108] START criterion=gini, max_depth=40, min_samples_leaf=1, min_samples_split=10\n",
      "[CV 5/5; 39/108] END criterion=gini, max_depth=40, min_samples_leaf=1, min_samples_split=10;, score=0.895 total time=   0.6s\n",
      "[CV 1/5; 40/108] START criterion=gini, max_depth=40, min_samples_leaf=2, min_samples_split=2\n",
      "[CV 1/5; 40/108] END criterion=gini, max_depth=40, min_samples_leaf=2, min_samples_split=2;, score=0.895 total time=   0.6s\n",
      "[CV 2/5; 40/108] START criterion=gini, max_depth=40, min_samples_leaf=2, min_samples_split=2\n",
      "[CV 2/5; 40/108] END criterion=gini, max_depth=40, min_samples_leaf=2, min_samples_split=2;, score=0.894 total time=   0.6s\n",
      "[CV 3/5; 40/108] START criterion=gini, max_depth=40, min_samples_leaf=2, min_samples_split=2\n",
      "[CV 3/5; 40/108] END criterion=gini, max_depth=40, min_samples_leaf=2, min_samples_split=2;, score=0.892 total time=   0.6s\n",
      "[CV 4/5; 40/108] START criterion=gini, max_depth=40, min_samples_leaf=2, min_samples_split=2\n",
      "[CV 4/5; 40/108] END criterion=gini, max_depth=40, min_samples_leaf=2, min_samples_split=2;, score=0.892 total time=   0.6s\n",
      "[CV 5/5; 40/108] START criterion=gini, max_depth=40, min_samples_leaf=2, min_samples_split=2\n",
      "[CV 5/5; 40/108] END criterion=gini, max_depth=40, min_samples_leaf=2, min_samples_split=2;, score=0.895 total time=   0.6s\n",
      "[CV 1/5; 41/108] START criterion=gini, max_depth=40, min_samples_leaf=2, min_samples_split=5\n",
      "[CV 1/5; 41/108] END criterion=gini, max_depth=40, min_samples_leaf=2, min_samples_split=5;, score=0.894 total time=   0.6s\n",
      "[CV 2/5; 41/108] START criterion=gini, max_depth=40, min_samples_leaf=2, min_samples_split=5\n",
      "[CV 2/5; 41/108] END criterion=gini, max_depth=40, min_samples_leaf=2, min_samples_split=5;, score=0.893 total time=   0.6s\n",
      "[CV 3/5; 41/108] START criterion=gini, max_depth=40, min_samples_leaf=2, min_samples_split=5\n",
      "[CV 3/5; 41/108] END criterion=gini, max_depth=40, min_samples_leaf=2, min_samples_split=5;, score=0.893 total time=   0.6s\n",
      "[CV 4/5; 41/108] START criterion=gini, max_depth=40, min_samples_leaf=2, min_samples_split=5\n",
      "[CV 4/5; 41/108] END criterion=gini, max_depth=40, min_samples_leaf=2, min_samples_split=5;, score=0.892 total time=   0.6s\n",
      "[CV 5/5; 41/108] START criterion=gini, max_depth=40, min_samples_leaf=2, min_samples_split=5\n",
      "[CV 5/5; 41/108] END criterion=gini, max_depth=40, min_samples_leaf=2, min_samples_split=5;, score=0.895 total time=   0.6s\n",
      "[CV 1/5; 42/108] START criterion=gini, max_depth=40, min_samples_leaf=2, min_samples_split=10\n",
      "[CV 1/5; 42/108] END criterion=gini, max_depth=40, min_samples_leaf=2, min_samples_split=10;, score=0.899 total time=   0.6s\n",
      "[CV 2/5; 42/108] START criterion=gini, max_depth=40, min_samples_leaf=2, min_samples_split=10\n",
      "[CV 2/5; 42/108] END criterion=gini, max_depth=40, min_samples_leaf=2, min_samples_split=10;, score=0.899 total time=   0.6s\n",
      "[CV 3/5; 42/108] START criterion=gini, max_depth=40, min_samples_leaf=2, min_samples_split=10\n",
      "[CV 3/5; 42/108] END criterion=gini, max_depth=40, min_samples_leaf=2, min_samples_split=10;, score=0.898 total time=   0.6s\n",
      "[CV 4/5; 42/108] START criterion=gini, max_depth=40, min_samples_leaf=2, min_samples_split=10\n",
      "[CV 4/5; 42/108] END criterion=gini, max_depth=40, min_samples_leaf=2, min_samples_split=10;, score=0.898 total time=   0.6s\n",
      "[CV 5/5; 42/108] START criterion=gini, max_depth=40, min_samples_leaf=2, min_samples_split=10\n",
      "[CV 5/5; 42/108] END criterion=gini, max_depth=40, min_samples_leaf=2, min_samples_split=10;, score=0.899 total time=   0.6s\n",
      "[CV 1/5; 43/108] START criterion=gini, max_depth=40, min_samples_leaf=4, min_samples_split=2\n",
      "[CV 1/5; 43/108] END criterion=gini, max_depth=40, min_samples_leaf=4, min_samples_split=2;, score=0.898 total time=   0.6s\n",
      "[CV 2/5; 43/108] START criterion=gini, max_depth=40, min_samples_leaf=4, min_samples_split=2\n",
      "[CV 2/5; 43/108] END criterion=gini, max_depth=40, min_samples_leaf=4, min_samples_split=2;, score=0.899 total time=   0.6s\n",
      "[CV 3/5; 43/108] START criterion=gini, max_depth=40, min_samples_leaf=4, min_samples_split=2\n",
      "[CV 3/5; 43/108] END criterion=gini, max_depth=40, min_samples_leaf=4, min_samples_split=2;, score=0.900 total time=   0.6s\n",
      "[CV 4/5; 43/108] START criterion=gini, max_depth=40, min_samples_leaf=4, min_samples_split=2\n",
      "[CV 4/5; 43/108] END criterion=gini, max_depth=40, min_samples_leaf=4, min_samples_split=2;, score=0.900 total time=   0.6s\n",
      "[CV 5/5; 43/108] START criterion=gini, max_depth=40, min_samples_leaf=4, min_samples_split=2\n",
      "[CV 5/5; 43/108] END criterion=gini, max_depth=40, min_samples_leaf=4, min_samples_split=2;, score=0.899 total time=   0.6s\n",
      "[CV 1/5; 44/108] START criterion=gini, max_depth=40, min_samples_leaf=4, min_samples_split=5\n",
      "[CV 1/5; 44/108] END criterion=gini, max_depth=40, min_samples_leaf=4, min_samples_split=5;, score=0.898 total time=   0.6s\n",
      "[CV 2/5; 44/108] START criterion=gini, max_depth=40, min_samples_leaf=4, min_samples_split=5\n",
      "[CV 2/5; 44/108] END criterion=gini, max_depth=40, min_samples_leaf=4, min_samples_split=5;, score=0.899 total time=   0.6s\n",
      "[CV 3/5; 44/108] START criterion=gini, max_depth=40, min_samples_leaf=4, min_samples_split=5\n",
      "[CV 3/5; 44/108] END criterion=gini, max_depth=40, min_samples_leaf=4, min_samples_split=5;, score=0.900 total time=   0.6s\n",
      "[CV 4/5; 44/108] START criterion=gini, max_depth=40, min_samples_leaf=4, min_samples_split=5\n",
      "[CV 4/5; 44/108] END criterion=gini, max_depth=40, min_samples_leaf=4, min_samples_split=5;, score=0.900 total time=   0.6s\n",
      "[CV 5/5; 44/108] START criterion=gini, max_depth=40, min_samples_leaf=4, min_samples_split=5\n",
      "[CV 5/5; 44/108] END criterion=gini, max_depth=40, min_samples_leaf=4, min_samples_split=5;, score=0.899 total time=   0.6s\n",
      "[CV 1/5; 45/108] START criterion=gini, max_depth=40, min_samples_leaf=4, min_samples_split=10\n",
      "[CV 1/5; 45/108] END criterion=gini, max_depth=40, min_samples_leaf=4, min_samples_split=10;, score=0.900 total time=   0.7s\n",
      "[CV 2/5; 45/108] START criterion=gini, max_depth=40, min_samples_leaf=4, min_samples_split=10\n",
      "[CV 2/5; 45/108] END criterion=gini, max_depth=40, min_samples_leaf=4, min_samples_split=10;, score=0.900 total time=   0.6s\n",
      "[CV 3/5; 45/108] START criterion=gini, max_depth=40, min_samples_leaf=4, min_samples_split=10\n",
      "[CV 3/5; 45/108] END criterion=gini, max_depth=40, min_samples_leaf=4, min_samples_split=10;, score=0.902 total time=   0.6s\n",
      "[CV 4/5; 45/108] START criterion=gini, max_depth=40, min_samples_leaf=4, min_samples_split=10\n",
      "[CV 4/5; 45/108] END criterion=gini, max_depth=40, min_samples_leaf=4, min_samples_split=10;, score=0.900 total time=   0.6s\n",
      "[CV 5/5; 45/108] START criterion=gini, max_depth=40, min_samples_leaf=4, min_samples_split=10\n",
      "[CV 5/5; 45/108] END criterion=gini, max_depth=40, min_samples_leaf=4, min_samples_split=10;, score=0.900 total time=   0.7s\n",
      "[CV 1/5; 46/108] START criterion=gini, max_depth=50, min_samples_leaf=1, min_samples_split=2\n",
      "[CV 1/5; 46/108] END criterion=gini, max_depth=50, min_samples_leaf=1, min_samples_split=2;, score=0.883 total time=   0.6s\n",
      "[CV 2/5; 46/108] START criterion=gini, max_depth=50, min_samples_leaf=1, min_samples_split=2\n",
      "[CV 2/5; 46/108] END criterion=gini, max_depth=50, min_samples_leaf=1, min_samples_split=2;, score=0.883 total time=   0.6s\n",
      "[CV 3/5; 46/108] START criterion=gini, max_depth=50, min_samples_leaf=1, min_samples_split=2\n",
      "[CV 3/5; 46/108] END criterion=gini, max_depth=50, min_samples_leaf=1, min_samples_split=2;, score=0.880 total time=   0.6s\n",
      "[CV 4/5; 46/108] START criterion=gini, max_depth=50, min_samples_leaf=1, min_samples_split=2\n",
      "[CV 4/5; 46/108] END criterion=gini, max_depth=50, min_samples_leaf=1, min_samples_split=2;, score=0.880 total time=   0.6s\n",
      "[CV 5/5; 46/108] START criterion=gini, max_depth=50, min_samples_leaf=1, min_samples_split=2\n",
      "[CV 5/5; 46/108] END criterion=gini, max_depth=50, min_samples_leaf=1, min_samples_split=2;, score=0.883 total time=   0.6s\n",
      "[CV 1/5; 47/108] START criterion=gini, max_depth=50, min_samples_leaf=1, min_samples_split=5\n",
      "[CV 1/5; 47/108] END criterion=gini, max_depth=50, min_samples_leaf=1, min_samples_split=5;, score=0.889 total time=   0.7s\n",
      "[CV 2/5; 47/108] START criterion=gini, max_depth=50, min_samples_leaf=1, min_samples_split=5\n",
      "[CV 2/5; 47/108] END criterion=gini, max_depth=50, min_samples_leaf=1, min_samples_split=5;, score=0.887 total time=   0.7s\n",
      "[CV 3/5; 47/108] START criterion=gini, max_depth=50, min_samples_leaf=1, min_samples_split=5\n",
      "[CV 3/5; 47/108] END criterion=gini, max_depth=50, min_samples_leaf=1, min_samples_split=5;, score=0.889 total time=   0.6s\n",
      "[CV 4/5; 47/108] START criterion=gini, max_depth=50, min_samples_leaf=1, min_samples_split=5\n",
      "[CV 4/5; 47/108] END criterion=gini, max_depth=50, min_samples_leaf=1, min_samples_split=5;, score=0.886 total time=   0.6s\n",
      "[CV 5/5; 47/108] START criterion=gini, max_depth=50, min_samples_leaf=1, min_samples_split=5\n",
      "[CV 5/5; 47/108] END criterion=gini, max_depth=50, min_samples_leaf=1, min_samples_split=5;, score=0.888 total time=   0.7s\n",
      "[CV 1/5; 48/108] START criterion=gini, max_depth=50, min_samples_leaf=1, min_samples_split=10\n",
      "[CV 1/5; 48/108] END criterion=gini, max_depth=50, min_samples_leaf=1, min_samples_split=10;, score=0.895 total time=   0.9s\n",
      "[CV 2/5; 48/108] START criterion=gini, max_depth=50, min_samples_leaf=1, min_samples_split=10\n",
      "[CV 2/5; 48/108] END criterion=gini, max_depth=50, min_samples_leaf=1, min_samples_split=10;, score=0.894 total time=   0.7s\n",
      "[CV 3/5; 48/108] START criterion=gini, max_depth=50, min_samples_leaf=1, min_samples_split=10\n",
      "[CV 3/5; 48/108] END criterion=gini, max_depth=50, min_samples_leaf=1, min_samples_split=10;, score=0.894 total time=   0.6s\n",
      "[CV 4/5; 48/108] START criterion=gini, max_depth=50, min_samples_leaf=1, min_samples_split=10\n",
      "[CV 4/5; 48/108] END criterion=gini, max_depth=50, min_samples_leaf=1, min_samples_split=10;, score=0.893 total time=   0.6s\n",
      "[CV 5/5; 48/108] START criterion=gini, max_depth=50, min_samples_leaf=1, min_samples_split=10\n",
      "[CV 5/5; 48/108] END criterion=gini, max_depth=50, min_samples_leaf=1, min_samples_split=10;, score=0.894 total time=   0.6s\n",
      "[CV 1/5; 49/108] START criterion=gini, max_depth=50, min_samples_leaf=2, min_samples_split=2\n",
      "[CV 1/5; 49/108] END criterion=gini, max_depth=50, min_samples_leaf=2, min_samples_split=2;, score=0.895 total time=   0.6s\n",
      "[CV 2/5; 49/108] START criterion=gini, max_depth=50, min_samples_leaf=2, min_samples_split=2\n",
      "[CV 2/5; 49/108] END criterion=gini, max_depth=50, min_samples_leaf=2, min_samples_split=2;, score=0.893 total time=   0.6s\n",
      "[CV 3/5; 49/108] START criterion=gini, max_depth=50, min_samples_leaf=2, min_samples_split=2\n",
      "[CV 3/5; 49/108] END criterion=gini, max_depth=50, min_samples_leaf=2, min_samples_split=2;, score=0.892 total time=   0.6s\n",
      "[CV 4/5; 49/108] START criterion=gini, max_depth=50, min_samples_leaf=2, min_samples_split=2\n",
      "[CV 4/5; 49/108] END criterion=gini, max_depth=50, min_samples_leaf=2, min_samples_split=2;, score=0.891 total time=   0.6s\n",
      "[CV 5/5; 49/108] START criterion=gini, max_depth=50, min_samples_leaf=2, min_samples_split=2\n",
      "[CV 5/5; 49/108] END criterion=gini, max_depth=50, min_samples_leaf=2, min_samples_split=2;, score=0.894 total time=   0.6s\n",
      "[CV 1/5; 50/108] START criterion=gini, max_depth=50, min_samples_leaf=2, min_samples_split=5\n",
      "[CV 1/5; 50/108] END criterion=gini, max_depth=50, min_samples_leaf=2, min_samples_split=5;, score=0.894 total time=   0.6s\n",
      "[CV 2/5; 50/108] START criterion=gini, max_depth=50, min_samples_leaf=2, min_samples_split=5\n",
      "[CV 2/5; 50/108] END criterion=gini, max_depth=50, min_samples_leaf=2, min_samples_split=5;, score=0.894 total time=   0.6s\n",
      "[CV 3/5; 50/108] START criterion=gini, max_depth=50, min_samples_leaf=2, min_samples_split=5\n",
      "[CV 3/5; 50/108] END criterion=gini, max_depth=50, min_samples_leaf=2, min_samples_split=5;, score=0.893 total time=   0.6s\n",
      "[CV 4/5; 50/108] START criterion=gini, max_depth=50, min_samples_leaf=2, min_samples_split=5\n",
      "[CV 4/5; 50/108] END criterion=gini, max_depth=50, min_samples_leaf=2, min_samples_split=5;, score=0.892 total time=   0.6s\n",
      "[CV 5/5; 50/108] START criterion=gini, max_depth=50, min_samples_leaf=2, min_samples_split=5\n",
      "[CV 5/5; 50/108] END criterion=gini, max_depth=50, min_samples_leaf=2, min_samples_split=5;, score=0.895 total time=   0.6s\n",
      "[CV 1/5; 51/108] START criterion=gini, max_depth=50, min_samples_leaf=2, min_samples_split=10\n",
      "[CV 1/5; 51/108] END criterion=gini, max_depth=50, min_samples_leaf=2, min_samples_split=10;, score=0.899 total time=   0.6s\n",
      "[CV 2/5; 51/108] START criterion=gini, max_depth=50, min_samples_leaf=2, min_samples_split=10\n",
      "[CV 2/5; 51/108] END criterion=gini, max_depth=50, min_samples_leaf=2, min_samples_split=10;, score=0.899 total time=   0.6s\n",
      "[CV 3/5; 51/108] START criterion=gini, max_depth=50, min_samples_leaf=2, min_samples_split=10\n",
      "[CV 3/5; 51/108] END criterion=gini, max_depth=50, min_samples_leaf=2, min_samples_split=10;, score=0.898 total time=   0.6s\n",
      "[CV 4/5; 51/108] START criterion=gini, max_depth=50, min_samples_leaf=2, min_samples_split=10\n",
      "[CV 4/5; 51/108] END criterion=gini, max_depth=50, min_samples_leaf=2, min_samples_split=10;, score=0.898 total time=   0.6s\n",
      "[CV 5/5; 51/108] START criterion=gini, max_depth=50, min_samples_leaf=2, min_samples_split=10\n",
      "[CV 5/5; 51/108] END criterion=gini, max_depth=50, min_samples_leaf=2, min_samples_split=10;, score=0.899 total time=   0.6s\n",
      "[CV 1/5; 52/108] START criterion=gini, max_depth=50, min_samples_leaf=4, min_samples_split=2\n",
      "[CV 1/5; 52/108] END criterion=gini, max_depth=50, min_samples_leaf=4, min_samples_split=2;, score=0.898 total time=   0.6s\n",
      "[CV 2/5; 52/108] START criterion=gini, max_depth=50, min_samples_leaf=4, min_samples_split=2\n",
      "[CV 2/5; 52/108] END criterion=gini, max_depth=50, min_samples_leaf=4, min_samples_split=2;, score=0.899 total time=   0.6s\n",
      "[CV 3/5; 52/108] START criterion=gini, max_depth=50, min_samples_leaf=4, min_samples_split=2\n",
      "[CV 3/5; 52/108] END criterion=gini, max_depth=50, min_samples_leaf=4, min_samples_split=2;, score=0.900 total time=   0.6s\n",
      "[CV 4/5; 52/108] START criterion=gini, max_depth=50, min_samples_leaf=4, min_samples_split=2\n",
      "[CV 4/5; 52/108] END criterion=gini, max_depth=50, min_samples_leaf=4, min_samples_split=2;, score=0.900 total time=   0.6s\n",
      "[CV 5/5; 52/108] START criterion=gini, max_depth=50, min_samples_leaf=4, min_samples_split=2\n",
      "[CV 5/5; 52/108] END criterion=gini, max_depth=50, min_samples_leaf=4, min_samples_split=2;, score=0.899 total time=   0.6s\n",
      "[CV 1/5; 53/108] START criterion=gini, max_depth=50, min_samples_leaf=4, min_samples_split=5\n",
      "[CV 1/5; 53/108] END criterion=gini, max_depth=50, min_samples_leaf=4, min_samples_split=5;, score=0.898 total time=   0.6s\n",
      "[CV 2/5; 53/108] START criterion=gini, max_depth=50, min_samples_leaf=4, min_samples_split=5\n",
      "[CV 2/5; 53/108] END criterion=gini, max_depth=50, min_samples_leaf=4, min_samples_split=5;, score=0.899 total time=   0.6s\n",
      "[CV 3/5; 53/108] START criterion=gini, max_depth=50, min_samples_leaf=4, min_samples_split=5\n",
      "[CV 3/5; 53/108] END criterion=gini, max_depth=50, min_samples_leaf=4, min_samples_split=5;, score=0.900 total time=   0.6s\n",
      "[CV 4/5; 53/108] START criterion=gini, max_depth=50, min_samples_leaf=4, min_samples_split=5\n",
      "[CV 4/5; 53/108] END criterion=gini, max_depth=50, min_samples_leaf=4, min_samples_split=5;, score=0.900 total time=   0.6s\n",
      "[CV 5/5; 53/108] START criterion=gini, max_depth=50, min_samples_leaf=4, min_samples_split=5\n",
      "[CV 5/5; 53/108] END criterion=gini, max_depth=50, min_samples_leaf=4, min_samples_split=5;, score=0.899 total time=   0.6s\n",
      "[CV 1/5; 54/108] START criterion=gini, max_depth=50, min_samples_leaf=4, min_samples_split=10\n",
      "[CV 1/5; 54/108] END criterion=gini, max_depth=50, min_samples_leaf=4, min_samples_split=10;, score=0.900 total time=   0.6s\n",
      "[CV 2/5; 54/108] START criterion=gini, max_depth=50, min_samples_leaf=4, min_samples_split=10\n",
      "[CV 2/5; 54/108] END criterion=gini, max_depth=50, min_samples_leaf=4, min_samples_split=10;, score=0.900 total time=   0.6s\n",
      "[CV 3/5; 54/108] START criterion=gini, max_depth=50, min_samples_leaf=4, min_samples_split=10\n",
      "[CV 3/5; 54/108] END criterion=gini, max_depth=50, min_samples_leaf=4, min_samples_split=10;, score=0.903 total time=   0.6s\n",
      "[CV 4/5; 54/108] START criterion=gini, max_depth=50, min_samples_leaf=4, min_samples_split=10\n",
      "[CV 4/5; 54/108] END criterion=gini, max_depth=50, min_samples_leaf=4, min_samples_split=10;, score=0.901 total time=   0.6s\n",
      "[CV 5/5; 54/108] START criterion=gini, max_depth=50, min_samples_leaf=4, min_samples_split=10\n",
      "[CV 5/5; 54/108] END criterion=gini, max_depth=50, min_samples_leaf=4, min_samples_split=10;, score=0.900 total time=   0.6s\n",
      "[CV 1/5; 55/108] START criterion=entropy, max_depth=None, min_samples_leaf=1, min_samples_split=2\n",
      "[CV 1/5; 55/108] END criterion=entropy, max_depth=None, min_samples_leaf=1, min_samples_split=2;, score=0.883 total time=   0.7s\n",
      "[CV 2/5; 55/108] START criterion=entropy, max_depth=None, min_samples_leaf=1, min_samples_split=2\n",
      "[CV 2/5; 55/108] END criterion=entropy, max_depth=None, min_samples_leaf=1, min_samples_split=2;, score=0.884 total time=   0.7s\n",
      "[CV 3/5; 55/108] START criterion=entropy, max_depth=None, min_samples_leaf=1, min_samples_split=2\n",
      "[CV 3/5; 55/108] END criterion=entropy, max_depth=None, min_samples_leaf=1, min_samples_split=2;, score=0.883 total time=   0.7s\n",
      "[CV 4/5; 55/108] START criterion=entropy, max_depth=None, min_samples_leaf=1, min_samples_split=2\n",
      "[CV 4/5; 55/108] END criterion=entropy, max_depth=None, min_samples_leaf=1, min_samples_split=2;, score=0.884 total time=   0.6s\n",
      "[CV 5/5; 55/108] START criterion=entropy, max_depth=None, min_samples_leaf=1, min_samples_split=2\n",
      "[CV 5/5; 55/108] END criterion=entropy, max_depth=None, min_samples_leaf=1, min_samples_split=2;, score=0.883 total time=   0.6s\n",
      "[CV 1/5; 56/108] START criterion=entropy, max_depth=None, min_samples_leaf=1, min_samples_split=5\n",
      "[CV 1/5; 56/108] END criterion=entropy, max_depth=None, min_samples_leaf=1, min_samples_split=5;, score=0.887 total time=   0.7s\n",
      "[CV 2/5; 56/108] START criterion=entropy, max_depth=None, min_samples_leaf=1, min_samples_split=5\n",
      "[CV 2/5; 56/108] END criterion=entropy, max_depth=None, min_samples_leaf=1, min_samples_split=5;, score=0.887 total time=   0.6s\n",
      "[CV 3/5; 56/108] START criterion=entropy, max_depth=None, min_samples_leaf=1, min_samples_split=5\n",
      "[CV 3/5; 56/108] END criterion=entropy, max_depth=None, min_samples_leaf=1, min_samples_split=5;, score=0.889 total time=   0.6s\n",
      "[CV 4/5; 56/108] START criterion=entropy, max_depth=None, min_samples_leaf=1, min_samples_split=5\n",
      "[CV 4/5; 56/108] END criterion=entropy, max_depth=None, min_samples_leaf=1, min_samples_split=5;, score=0.887 total time=   0.6s\n",
      "[CV 5/5; 56/108] START criterion=entropy, max_depth=None, min_samples_leaf=1, min_samples_split=5\n",
      "[CV 5/5; 56/108] END criterion=entropy, max_depth=None, min_samples_leaf=1, min_samples_split=5;, score=0.886 total time=   0.6s\n",
      "[CV 1/5; 57/108] START criterion=entropy, max_depth=None, min_samples_leaf=1, min_samples_split=10\n",
      "[CV 1/5; 57/108] END criterion=entropy, max_depth=None, min_samples_leaf=1, min_samples_split=10;, score=0.891 total time=   0.6s\n",
      "[CV 2/5; 57/108] START criterion=entropy, max_depth=None, min_samples_leaf=1, min_samples_split=10\n",
      "[CV 2/5; 57/108] END criterion=entropy, max_depth=None, min_samples_leaf=1, min_samples_split=10;, score=0.894 total time=   0.6s\n",
      "[CV 3/5; 57/108] START criterion=entropy, max_depth=None, min_samples_leaf=1, min_samples_split=10\n",
      "[CV 3/5; 57/108] END criterion=entropy, max_depth=None, min_samples_leaf=1, min_samples_split=10;, score=0.892 total time=   0.6s\n",
      "[CV 4/5; 57/108] START criterion=entropy, max_depth=None, min_samples_leaf=1, min_samples_split=10\n",
      "[CV 4/5; 57/108] END criterion=entropy, max_depth=None, min_samples_leaf=1, min_samples_split=10;, score=0.892 total time=   0.6s\n",
      "[CV 5/5; 57/108] START criterion=entropy, max_depth=None, min_samples_leaf=1, min_samples_split=10\n",
      "[CV 5/5; 57/108] END criterion=entropy, max_depth=None, min_samples_leaf=1, min_samples_split=10;, score=0.891 total time=   0.6s\n",
      "[CV 1/5; 58/108] START criterion=entropy, max_depth=None, min_samples_leaf=2, min_samples_split=2\n",
      "[CV 1/5; 58/108] END criterion=entropy, max_depth=None, min_samples_leaf=2, min_samples_split=2;, score=0.891 total time=   0.6s\n",
      "[CV 2/5; 58/108] START criterion=entropy, max_depth=None, min_samples_leaf=2, min_samples_split=2\n",
      "[CV 2/5; 58/108] END criterion=entropy, max_depth=None, min_samples_leaf=2, min_samples_split=2;, score=0.892 total time=   0.6s\n",
      "[CV 3/5; 58/108] START criterion=entropy, max_depth=None, min_samples_leaf=2, min_samples_split=2\n",
      "[CV 3/5; 58/108] END criterion=entropy, max_depth=None, min_samples_leaf=2, min_samples_split=2;, score=0.892 total time=   0.6s\n",
      "[CV 4/5; 58/108] START criterion=entropy, max_depth=None, min_samples_leaf=2, min_samples_split=2\n",
      "[CV 4/5; 58/108] END criterion=entropy, max_depth=None, min_samples_leaf=2, min_samples_split=2;, score=0.893 total time=   0.6s\n",
      "[CV 5/5; 58/108] START criterion=entropy, max_depth=None, min_samples_leaf=2, min_samples_split=2\n",
      "[CV 5/5; 58/108] END criterion=entropy, max_depth=None, min_samples_leaf=2, min_samples_split=2;, score=0.891 total time=   0.6s\n",
      "[CV 1/5; 59/108] START criterion=entropy, max_depth=None, min_samples_leaf=2, min_samples_split=5\n",
      "[CV 1/5; 59/108] END criterion=entropy, max_depth=None, min_samples_leaf=2, min_samples_split=5;, score=0.892 total time=   0.6s\n",
      "[CV 2/5; 59/108] START criterion=entropy, max_depth=None, min_samples_leaf=2, min_samples_split=5\n",
      "[CV 2/5; 59/108] END criterion=entropy, max_depth=None, min_samples_leaf=2, min_samples_split=5;, score=0.892 total time=   0.6s\n",
      "[CV 3/5; 59/108] START criterion=entropy, max_depth=None, min_samples_leaf=2, min_samples_split=5\n",
      "[CV 3/5; 59/108] END criterion=entropy, max_depth=None, min_samples_leaf=2, min_samples_split=5;, score=0.892 total time=   0.6s\n",
      "[CV 4/5; 59/108] START criterion=entropy, max_depth=None, min_samples_leaf=2, min_samples_split=5\n",
      "[CV 4/5; 59/108] END criterion=entropy, max_depth=None, min_samples_leaf=2, min_samples_split=5;, score=0.892 total time=   0.6s\n",
      "[CV 5/5; 59/108] START criterion=entropy, max_depth=None, min_samples_leaf=2, min_samples_split=5\n",
      "[CV 5/5; 59/108] END criterion=entropy, max_depth=None, min_samples_leaf=2, min_samples_split=5;, score=0.891 total time=   0.6s\n",
      "[CV 1/5; 60/108] START criterion=entropy, max_depth=None, min_samples_leaf=2, min_samples_split=10\n",
      "[CV 1/5; 60/108] END criterion=entropy, max_depth=None, min_samples_leaf=2, min_samples_split=10;, score=0.896 total time=   0.6s\n",
      "[CV 2/5; 60/108] START criterion=entropy, max_depth=None, min_samples_leaf=2, min_samples_split=10\n",
      "[CV 2/5; 60/108] END criterion=entropy, max_depth=None, min_samples_leaf=2, min_samples_split=10;, score=0.897 total time=   0.6s\n",
      "[CV 3/5; 60/108] START criterion=entropy, max_depth=None, min_samples_leaf=2, min_samples_split=10\n",
      "[CV 3/5; 60/108] END criterion=entropy, max_depth=None, min_samples_leaf=2, min_samples_split=10;, score=0.897 total time=   0.6s\n",
      "[CV 4/5; 60/108] START criterion=entropy, max_depth=None, min_samples_leaf=2, min_samples_split=10\n",
      "[CV 4/5; 60/108] END criterion=entropy, max_depth=None, min_samples_leaf=2, min_samples_split=10;, score=0.898 total time=   0.6s\n",
      "[CV 5/5; 60/108] START criterion=entropy, max_depth=None, min_samples_leaf=2, min_samples_split=10\n",
      "[CV 5/5; 60/108] END criterion=entropy, max_depth=None, min_samples_leaf=2, min_samples_split=10;, score=0.895 total time=   0.6s\n",
      "[CV 1/5; 61/108] START criterion=entropy, max_depth=None, min_samples_leaf=4, min_samples_split=2\n",
      "[CV 1/5; 61/108] END criterion=entropy, max_depth=None, min_samples_leaf=4, min_samples_split=2;, score=0.897 total time=   0.6s\n",
      "[CV 2/5; 61/108] START criterion=entropy, max_depth=None, min_samples_leaf=4, min_samples_split=2\n",
      "[CV 2/5; 61/108] END criterion=entropy, max_depth=None, min_samples_leaf=4, min_samples_split=2;, score=0.898 total time=   0.6s\n",
      "[CV 3/5; 61/108] START criterion=entropy, max_depth=None, min_samples_leaf=4, min_samples_split=2\n",
      "[CV 3/5; 61/108] END criterion=entropy, max_depth=None, min_samples_leaf=4, min_samples_split=2;, score=0.898 total time=   0.6s\n",
      "[CV 4/5; 61/108] START criterion=entropy, max_depth=None, min_samples_leaf=4, min_samples_split=2\n",
      "[CV 4/5; 61/108] END criterion=entropy, max_depth=None, min_samples_leaf=4, min_samples_split=2;, score=0.897 total time=   0.6s\n",
      "[CV 5/5; 61/108] START criterion=entropy, max_depth=None, min_samples_leaf=4, min_samples_split=2\n",
      "[CV 5/5; 61/108] END criterion=entropy, max_depth=None, min_samples_leaf=4, min_samples_split=2;, score=0.897 total time=   0.6s\n",
      "[CV 1/5; 62/108] START criterion=entropy, max_depth=None, min_samples_leaf=4, min_samples_split=5\n",
      "[CV 1/5; 62/108] END criterion=entropy, max_depth=None, min_samples_leaf=4, min_samples_split=5;, score=0.897 total time=   0.6s\n",
      "[CV 2/5; 62/108] START criterion=entropy, max_depth=None, min_samples_leaf=4, min_samples_split=5\n",
      "[CV 2/5; 62/108] END criterion=entropy, max_depth=None, min_samples_leaf=4, min_samples_split=5;, score=0.898 total time=   0.6s\n",
      "[CV 3/5; 62/108] START criterion=entropy, max_depth=None, min_samples_leaf=4, min_samples_split=5\n",
      "[CV 3/5; 62/108] END criterion=entropy, max_depth=None, min_samples_leaf=4, min_samples_split=5;, score=0.898 total time=   0.6s\n",
      "[CV 4/5; 62/108] START criterion=entropy, max_depth=None, min_samples_leaf=4, min_samples_split=5\n",
      "[CV 4/5; 62/108] END criterion=entropy, max_depth=None, min_samples_leaf=4, min_samples_split=5;, score=0.897 total time=   0.6s\n",
      "[CV 5/5; 62/108] START criterion=entropy, max_depth=None, min_samples_leaf=4, min_samples_split=5\n",
      "[CV 5/5; 62/108] END criterion=entropy, max_depth=None, min_samples_leaf=4, min_samples_split=5;, score=0.897 total time=   0.6s\n",
      "[CV 1/5; 63/108] START criterion=entropy, max_depth=None, min_samples_leaf=4, min_samples_split=10\n",
      "[CV 1/5; 63/108] END criterion=entropy, max_depth=None, min_samples_leaf=4, min_samples_split=10;, score=0.897 total time=   0.6s\n",
      "[CV 2/5; 63/108] START criterion=entropy, max_depth=None, min_samples_leaf=4, min_samples_split=10\n",
      "[CV 2/5; 63/108] END criterion=entropy, max_depth=None, min_samples_leaf=4, min_samples_split=10;, score=0.899 total time=   0.6s\n",
      "[CV 3/5; 63/108] START criterion=entropy, max_depth=None, min_samples_leaf=4, min_samples_split=10\n",
      "[CV 3/5; 63/108] END criterion=entropy, max_depth=None, min_samples_leaf=4, min_samples_split=10;, score=0.899 total time=   0.6s\n",
      "[CV 4/5; 63/108] START criterion=entropy, max_depth=None, min_samples_leaf=4, min_samples_split=10\n",
      "[CV 4/5; 63/108] END criterion=entropy, max_depth=None, min_samples_leaf=4, min_samples_split=10;, score=0.897 total time=   0.6s\n",
      "[CV 5/5; 63/108] START criterion=entropy, max_depth=None, min_samples_leaf=4, min_samples_split=10\n",
      "[CV 5/5; 63/108] END criterion=entropy, max_depth=None, min_samples_leaf=4, min_samples_split=10;, score=0.899 total time=   0.6s\n",
      "[CV 1/5; 64/108] START criterion=entropy, max_depth=10, min_samples_leaf=1, min_samples_split=2\n",
      "[CV 1/5; 64/108] END criterion=entropy, max_depth=10, min_samples_leaf=1, min_samples_split=2;, score=0.920 total time=   0.4s\n",
      "[CV 2/5; 64/108] START criterion=entropy, max_depth=10, min_samples_leaf=1, min_samples_split=2\n",
      "[CV 2/5; 64/108] END criterion=entropy, max_depth=10, min_samples_leaf=1, min_samples_split=2;, score=0.921 total time=   0.4s\n",
      "[CV 3/5; 64/108] START criterion=entropy, max_depth=10, min_samples_leaf=1, min_samples_split=2\n",
      "[CV 3/5; 64/108] END criterion=entropy, max_depth=10, min_samples_leaf=1, min_samples_split=2;, score=0.919 total time=   0.4s\n",
      "[CV 4/5; 64/108] START criterion=entropy, max_depth=10, min_samples_leaf=1, min_samples_split=2\n",
      "[CV 4/5; 64/108] END criterion=entropy, max_depth=10, min_samples_leaf=1, min_samples_split=2;, score=0.918 total time=   0.4s\n",
      "[CV 5/5; 64/108] START criterion=entropy, max_depth=10, min_samples_leaf=1, min_samples_split=2\n",
      "[CV 5/5; 64/108] END criterion=entropy, max_depth=10, min_samples_leaf=1, min_samples_split=2;, score=0.919 total time=   0.4s\n",
      "[CV 1/5; 65/108] START criterion=entropy, max_depth=10, min_samples_leaf=1, min_samples_split=5\n",
      "[CV 1/5; 65/108] END criterion=entropy, max_depth=10, min_samples_leaf=1, min_samples_split=5;, score=0.920 total time=   0.4s\n",
      "[CV 2/5; 65/108] START criterion=entropy, max_depth=10, min_samples_leaf=1, min_samples_split=5\n",
      "[CV 2/5; 65/108] END criterion=entropy, max_depth=10, min_samples_leaf=1, min_samples_split=5;, score=0.921 total time=   0.4s\n",
      "[CV 3/5; 65/108] START criterion=entropy, max_depth=10, min_samples_leaf=1, min_samples_split=5\n",
      "[CV 3/5; 65/108] END criterion=entropy, max_depth=10, min_samples_leaf=1, min_samples_split=5;, score=0.919 total time=   0.4s\n",
      "[CV 4/5; 65/108] START criterion=entropy, max_depth=10, min_samples_leaf=1, min_samples_split=5\n",
      "[CV 4/5; 65/108] END criterion=entropy, max_depth=10, min_samples_leaf=1, min_samples_split=5;, score=0.918 total time=   0.4s\n",
      "[CV 5/5; 65/108] START criterion=entropy, max_depth=10, min_samples_leaf=1, min_samples_split=5\n",
      "[CV 5/5; 65/108] END criterion=entropy, max_depth=10, min_samples_leaf=1, min_samples_split=5;, score=0.919 total time=   0.4s\n",
      "[CV 1/5; 66/108] START criterion=entropy, max_depth=10, min_samples_leaf=1, min_samples_split=10\n",
      "[CV 1/5; 66/108] END criterion=entropy, max_depth=10, min_samples_leaf=1, min_samples_split=10;, score=0.920 total time=   0.4s\n",
      "[CV 2/5; 66/108] START criterion=entropy, max_depth=10, min_samples_leaf=1, min_samples_split=10\n",
      "[CV 2/5; 66/108] END criterion=entropy, max_depth=10, min_samples_leaf=1, min_samples_split=10;, score=0.921 total time=   0.4s\n",
      "[CV 3/5; 66/108] START criterion=entropy, max_depth=10, min_samples_leaf=1, min_samples_split=10\n",
      "[CV 3/5; 66/108] END criterion=entropy, max_depth=10, min_samples_leaf=1, min_samples_split=10;, score=0.919 total time=   0.4s\n",
      "[CV 4/5; 66/108] START criterion=entropy, max_depth=10, min_samples_leaf=1, min_samples_split=10\n",
      "[CV 4/5; 66/108] END criterion=entropy, max_depth=10, min_samples_leaf=1, min_samples_split=10;, score=0.918 total time=   0.4s\n",
      "[CV 5/5; 66/108] START criterion=entropy, max_depth=10, min_samples_leaf=1, min_samples_split=10\n",
      "[CV 5/5; 66/108] END criterion=entropy, max_depth=10, min_samples_leaf=1, min_samples_split=10;, score=0.919 total time=   0.4s\n",
      "[CV 1/5; 67/108] START criterion=entropy, max_depth=10, min_samples_leaf=2, min_samples_split=2\n",
      "[CV 1/5; 67/108] END criterion=entropy, max_depth=10, min_samples_leaf=2, min_samples_split=2;, score=0.920 total time=   0.4s\n",
      "[CV 2/5; 67/108] START criterion=entropy, max_depth=10, min_samples_leaf=2, min_samples_split=2\n",
      "[CV 2/5; 67/108] END criterion=entropy, max_depth=10, min_samples_leaf=2, min_samples_split=2;, score=0.921 total time=   0.4s\n",
      "[CV 3/5; 67/108] START criterion=entropy, max_depth=10, min_samples_leaf=2, min_samples_split=2\n",
      "[CV 3/5; 67/108] END criterion=entropy, max_depth=10, min_samples_leaf=2, min_samples_split=2;, score=0.919 total time=   0.4s\n",
      "[CV 4/5; 67/108] START criterion=entropy, max_depth=10, min_samples_leaf=2, min_samples_split=2\n",
      "[CV 4/5; 67/108] END criterion=entropy, max_depth=10, min_samples_leaf=2, min_samples_split=2;, score=0.918 total time=   0.4s\n",
      "[CV 5/5; 67/108] START criterion=entropy, max_depth=10, min_samples_leaf=2, min_samples_split=2\n",
      "[CV 5/5; 67/108] END criterion=entropy, max_depth=10, min_samples_leaf=2, min_samples_split=2;, score=0.919 total time=   0.4s\n",
      "[CV 1/5; 68/108] START criterion=entropy, max_depth=10, min_samples_leaf=2, min_samples_split=5\n",
      "[CV 1/5; 68/108] END criterion=entropy, max_depth=10, min_samples_leaf=2, min_samples_split=5;, score=0.920 total time=   0.4s\n",
      "[CV 2/5; 68/108] START criterion=entropy, max_depth=10, min_samples_leaf=2, min_samples_split=5\n",
      "[CV 2/5; 68/108] END criterion=entropy, max_depth=10, min_samples_leaf=2, min_samples_split=5;, score=0.921 total time=   0.4s\n",
      "[CV 3/5; 68/108] START criterion=entropy, max_depth=10, min_samples_leaf=2, min_samples_split=5\n",
      "[CV 3/5; 68/108] END criterion=entropy, max_depth=10, min_samples_leaf=2, min_samples_split=5;, score=0.919 total time=   0.4s\n",
      "[CV 4/5; 68/108] START criterion=entropy, max_depth=10, min_samples_leaf=2, min_samples_split=5\n",
      "[CV 4/5; 68/108] END criterion=entropy, max_depth=10, min_samples_leaf=2, min_samples_split=5;, score=0.918 total time=   0.4s\n",
      "[CV 5/5; 68/108] START criterion=entropy, max_depth=10, min_samples_leaf=2, min_samples_split=5\n",
      "[CV 5/5; 68/108] END criterion=entropy, max_depth=10, min_samples_leaf=2, min_samples_split=5;, score=0.918 total time=   0.4s\n",
      "[CV 1/5; 69/108] START criterion=entropy, max_depth=10, min_samples_leaf=2, min_samples_split=10\n",
      "[CV 1/5; 69/108] END criterion=entropy, max_depth=10, min_samples_leaf=2, min_samples_split=10;, score=0.920 total time=   0.4s\n",
      "[CV 2/5; 69/108] START criterion=entropy, max_depth=10, min_samples_leaf=2, min_samples_split=10\n",
      "[CV 2/5; 69/108] END criterion=entropy, max_depth=10, min_samples_leaf=2, min_samples_split=10;, score=0.921 total time=   0.4s\n",
      "[CV 3/5; 69/108] START criterion=entropy, max_depth=10, min_samples_leaf=2, min_samples_split=10\n",
      "[CV 3/5; 69/108] END criterion=entropy, max_depth=10, min_samples_leaf=2, min_samples_split=10;, score=0.919 total time=   0.4s\n",
      "[CV 4/5; 69/108] START criterion=entropy, max_depth=10, min_samples_leaf=2, min_samples_split=10\n",
      "[CV 4/5; 69/108] END criterion=entropy, max_depth=10, min_samples_leaf=2, min_samples_split=10;, score=0.918 total time=   0.4s\n",
      "[CV 5/5; 69/108] START criterion=entropy, max_depth=10, min_samples_leaf=2, min_samples_split=10\n",
      "[CV 5/5; 69/108] END criterion=entropy, max_depth=10, min_samples_leaf=2, min_samples_split=10;, score=0.918 total time=   0.4s\n",
      "[CV 1/5; 70/108] START criterion=entropy, max_depth=10, min_samples_leaf=4, min_samples_split=2\n",
      "[CV 1/5; 70/108] END criterion=entropy, max_depth=10, min_samples_leaf=4, min_samples_split=2;, score=0.920 total time=   0.4s\n",
      "[CV 2/5; 70/108] START criterion=entropy, max_depth=10, min_samples_leaf=4, min_samples_split=2\n",
      "[CV 2/5; 70/108] END criterion=entropy, max_depth=10, min_samples_leaf=4, min_samples_split=2;, score=0.921 total time=   0.4s\n",
      "[CV 3/5; 70/108] START criterion=entropy, max_depth=10, min_samples_leaf=4, min_samples_split=2\n",
      "[CV 3/5; 70/108] END criterion=entropy, max_depth=10, min_samples_leaf=4, min_samples_split=2;, score=0.919 total time=   0.4s\n",
      "[CV 4/5; 70/108] START criterion=entropy, max_depth=10, min_samples_leaf=4, min_samples_split=2\n",
      "[CV 4/5; 70/108] END criterion=entropy, max_depth=10, min_samples_leaf=4, min_samples_split=2;, score=0.918 total time=   0.4s\n",
      "[CV 5/5; 70/108] START criterion=entropy, max_depth=10, min_samples_leaf=4, min_samples_split=2\n",
      "[CV 5/5; 70/108] END criterion=entropy, max_depth=10, min_samples_leaf=4, min_samples_split=2;, score=0.919 total time=   0.4s\n",
      "[CV 1/5; 71/108] START criterion=entropy, max_depth=10, min_samples_leaf=4, min_samples_split=5\n",
      "[CV 1/5; 71/108] END criterion=entropy, max_depth=10, min_samples_leaf=4, min_samples_split=5;, score=0.920 total time=   0.4s\n",
      "[CV 2/5; 71/108] START criterion=entropy, max_depth=10, min_samples_leaf=4, min_samples_split=5\n",
      "[CV 2/5; 71/108] END criterion=entropy, max_depth=10, min_samples_leaf=4, min_samples_split=5;, score=0.921 total time=   0.4s\n",
      "[CV 3/5; 71/108] START criterion=entropy, max_depth=10, min_samples_leaf=4, min_samples_split=5\n",
      "[CV 3/5; 71/108] END criterion=entropy, max_depth=10, min_samples_leaf=4, min_samples_split=5;, score=0.919 total time=   0.4s\n",
      "[CV 4/5; 71/108] START criterion=entropy, max_depth=10, min_samples_leaf=4, min_samples_split=5\n",
      "[CV 4/5; 71/108] END criterion=entropy, max_depth=10, min_samples_leaf=4, min_samples_split=5;, score=0.918 total time=   0.4s\n",
      "[CV 5/5; 71/108] START criterion=entropy, max_depth=10, min_samples_leaf=4, min_samples_split=5\n",
      "[CV 5/5; 71/108] END criterion=entropy, max_depth=10, min_samples_leaf=4, min_samples_split=5;, score=0.919 total time=   0.4s\n",
      "[CV 1/5; 72/108] START criterion=entropy, max_depth=10, min_samples_leaf=4, min_samples_split=10\n",
      "[CV 1/5; 72/108] END criterion=entropy, max_depth=10, min_samples_leaf=4, min_samples_split=10;, score=0.920 total time=   0.4s\n",
      "[CV 2/5; 72/108] START criterion=entropy, max_depth=10, min_samples_leaf=4, min_samples_split=10\n",
      "[CV 2/5; 72/108] END criterion=entropy, max_depth=10, min_samples_leaf=4, min_samples_split=10;, score=0.921 total time=   0.4s\n",
      "[CV 3/5; 72/108] START criterion=entropy, max_depth=10, min_samples_leaf=4, min_samples_split=10\n",
      "[CV 3/5; 72/108] END criterion=entropy, max_depth=10, min_samples_leaf=4, min_samples_split=10;, score=0.919 total time=   0.4s\n",
      "[CV 4/5; 72/108] START criterion=entropy, max_depth=10, min_samples_leaf=4, min_samples_split=10\n",
      "[CV 4/5; 72/108] END criterion=entropy, max_depth=10, min_samples_leaf=4, min_samples_split=10;, score=0.918 total time=   0.4s\n",
      "[CV 5/5; 72/108] START criterion=entropy, max_depth=10, min_samples_leaf=4, min_samples_split=10\n",
      "[CV 5/5; 72/108] END criterion=entropy, max_depth=10, min_samples_leaf=4, min_samples_split=10;, score=0.919 total time=   0.4s\n",
      "[CV 1/5; 73/108] START criterion=entropy, max_depth=20, min_samples_leaf=1, min_samples_split=2\n",
      "[CV 1/5; 73/108] END criterion=entropy, max_depth=20, min_samples_leaf=1, min_samples_split=2;, score=0.907 total time=   0.6s\n",
      "[CV 2/5; 73/108] START criterion=entropy, max_depth=20, min_samples_leaf=1, min_samples_split=2\n",
      "[CV 2/5; 73/108] END criterion=entropy, max_depth=20, min_samples_leaf=1, min_samples_split=2;, score=0.909 total time=   0.5s\n",
      "[CV 3/5; 73/108] START criterion=entropy, max_depth=20, min_samples_leaf=1, min_samples_split=2\n",
      "[CV 3/5; 73/108] END criterion=entropy, max_depth=20, min_samples_leaf=1, min_samples_split=2;, score=0.907 total time=   0.5s\n",
      "[CV 4/5; 73/108] START criterion=entropy, max_depth=20, min_samples_leaf=1, min_samples_split=2\n",
      "[CV 4/5; 73/108] END criterion=entropy, max_depth=20, min_samples_leaf=1, min_samples_split=2;, score=0.905 total time=   0.6s\n",
      "[CV 5/5; 73/108] START criterion=entropy, max_depth=20, min_samples_leaf=1, min_samples_split=2\n",
      "[CV 5/5; 73/108] END criterion=entropy, max_depth=20, min_samples_leaf=1, min_samples_split=2;, score=0.906 total time=   0.6s\n",
      "[CV 1/5; 74/108] START criterion=entropy, max_depth=20, min_samples_leaf=1, min_samples_split=5\n",
      "[CV 1/5; 74/108] END criterion=entropy, max_depth=20, min_samples_leaf=1, min_samples_split=5;, score=0.907 total time=   0.6s\n",
      "[CV 2/5; 74/108] START criterion=entropy, max_depth=20, min_samples_leaf=1, min_samples_split=5\n",
      "[CV 2/5; 74/108] END criterion=entropy, max_depth=20, min_samples_leaf=1, min_samples_split=5;, score=0.909 total time=   0.5s\n",
      "[CV 3/5; 74/108] START criterion=entropy, max_depth=20, min_samples_leaf=1, min_samples_split=5\n",
      "[CV 3/5; 74/108] END criterion=entropy, max_depth=20, min_samples_leaf=1, min_samples_split=5;, score=0.908 total time=   0.6s\n",
      "[CV 4/5; 74/108] START criterion=entropy, max_depth=20, min_samples_leaf=1, min_samples_split=5\n",
      "[CV 4/5; 74/108] END criterion=entropy, max_depth=20, min_samples_leaf=1, min_samples_split=5;, score=0.907 total time=   0.5s\n",
      "[CV 5/5; 74/108] START criterion=entropy, max_depth=20, min_samples_leaf=1, min_samples_split=5\n",
      "[CV 5/5; 74/108] END criterion=entropy, max_depth=20, min_samples_leaf=1, min_samples_split=5;, score=0.906 total time=   0.6s\n",
      "[CV 1/5; 75/108] START criterion=entropy, max_depth=20, min_samples_leaf=1, min_samples_split=10\n",
      "[CV 1/5; 75/108] END criterion=entropy, max_depth=20, min_samples_leaf=1, min_samples_split=10;, score=0.908 total time=   0.6s\n",
      "[CV 2/5; 75/108] START criterion=entropy, max_depth=20, min_samples_leaf=1, min_samples_split=10\n",
      "[CV 2/5; 75/108] END criterion=entropy, max_depth=20, min_samples_leaf=1, min_samples_split=10;, score=0.911 total time=   0.6s\n",
      "[CV 3/5; 75/108] START criterion=entropy, max_depth=20, min_samples_leaf=1, min_samples_split=10\n",
      "[CV 3/5; 75/108] END criterion=entropy, max_depth=20, min_samples_leaf=1, min_samples_split=10;, score=0.910 total time=   0.5s\n",
      "[CV 4/5; 75/108] START criterion=entropy, max_depth=20, min_samples_leaf=1, min_samples_split=10\n",
      "[CV 4/5; 75/108] END criterion=entropy, max_depth=20, min_samples_leaf=1, min_samples_split=10;, score=0.909 total time=   0.6s\n",
      "[CV 5/5; 75/108] START criterion=entropy, max_depth=20, min_samples_leaf=1, min_samples_split=10\n",
      "[CV 5/5; 75/108] END criterion=entropy, max_depth=20, min_samples_leaf=1, min_samples_split=10;, score=0.908 total time=   0.6s\n",
      "[CV 1/5; 76/108] START criterion=entropy, max_depth=20, min_samples_leaf=2, min_samples_split=2\n",
      "[CV 1/5; 76/108] END criterion=entropy, max_depth=20, min_samples_leaf=2, min_samples_split=2;, score=0.909 total time=   0.6s\n",
      "[CV 2/5; 76/108] START criterion=entropy, max_depth=20, min_samples_leaf=2, min_samples_split=2\n",
      "[CV 2/5; 76/108] END criterion=entropy, max_depth=20, min_samples_leaf=2, min_samples_split=2;, score=0.910 total time=   0.5s\n",
      "[CV 3/5; 76/108] START criterion=entropy, max_depth=20, min_samples_leaf=2, min_samples_split=2\n",
      "[CV 3/5; 76/108] END criterion=entropy, max_depth=20, min_samples_leaf=2, min_samples_split=2;, score=0.909 total time=   0.5s\n",
      "[CV 4/5; 76/108] START criterion=entropy, max_depth=20, min_samples_leaf=2, min_samples_split=2\n",
      "[CV 4/5; 76/108] END criterion=entropy, max_depth=20, min_samples_leaf=2, min_samples_split=2;, score=0.908 total time=   0.5s\n",
      "[CV 5/5; 76/108] START criterion=entropy, max_depth=20, min_samples_leaf=2, min_samples_split=2\n",
      "[CV 5/5; 76/108] END criterion=entropy, max_depth=20, min_samples_leaf=2, min_samples_split=2;, score=0.907 total time=   0.5s\n",
      "[CV 1/5; 77/108] START criterion=entropy, max_depth=20, min_samples_leaf=2, min_samples_split=5\n",
      "[CV 1/5; 77/108] END criterion=entropy, max_depth=20, min_samples_leaf=2, min_samples_split=5;, score=0.909 total time=   0.6s\n",
      "[CV 2/5; 77/108] START criterion=entropy, max_depth=20, min_samples_leaf=2, min_samples_split=5\n",
      "[CV 2/5; 77/108] END criterion=entropy, max_depth=20, min_samples_leaf=2, min_samples_split=5;, score=0.910 total time=   0.5s\n",
      "[CV 3/5; 77/108] START criterion=entropy, max_depth=20, min_samples_leaf=2, min_samples_split=5\n",
      "[CV 3/5; 77/108] END criterion=entropy, max_depth=20, min_samples_leaf=2, min_samples_split=5;, score=0.909 total time=   0.5s\n",
      "[CV 4/5; 77/108] START criterion=entropy, max_depth=20, min_samples_leaf=2, min_samples_split=5\n",
      "[CV 4/5; 77/108] END criterion=entropy, max_depth=20, min_samples_leaf=2, min_samples_split=5;, score=0.908 total time=   0.7s\n",
      "[CV 5/5; 77/108] START criterion=entropy, max_depth=20, min_samples_leaf=2, min_samples_split=5\n",
      "[CV 5/5; 77/108] END criterion=entropy, max_depth=20, min_samples_leaf=2, min_samples_split=5;, score=0.907 total time=   0.9s\n",
      "[CV 1/5; 78/108] START criterion=entropy, max_depth=20, min_samples_leaf=2, min_samples_split=10\n",
      "[CV 1/5; 78/108] END criterion=entropy, max_depth=20, min_samples_leaf=2, min_samples_split=10;, score=0.909 total time=   0.8s\n",
      "[CV 2/5; 78/108] START criterion=entropy, max_depth=20, min_samples_leaf=2, min_samples_split=10\n",
      "[CV 2/5; 78/108] END criterion=entropy, max_depth=20, min_samples_leaf=2, min_samples_split=10;, score=0.912 total time=   0.8s\n",
      "[CV 3/5; 78/108] START criterion=entropy, max_depth=20, min_samples_leaf=2, min_samples_split=10\n",
      "[CV 3/5; 78/108] END criterion=entropy, max_depth=20, min_samples_leaf=2, min_samples_split=10;, score=0.911 total time=   0.7s\n",
      "[CV 4/5; 78/108] START criterion=entropy, max_depth=20, min_samples_leaf=2, min_samples_split=10\n",
      "[CV 4/5; 78/108] END criterion=entropy, max_depth=20, min_samples_leaf=2, min_samples_split=10;, score=0.911 total time=   0.8s\n",
      "[CV 5/5; 78/108] START criterion=entropy, max_depth=20, min_samples_leaf=2, min_samples_split=10\n",
      "[CV 5/5; 78/108] END criterion=entropy, max_depth=20, min_samples_leaf=2, min_samples_split=10;, score=0.909 total time=   0.8s\n",
      "[CV 1/5; 79/108] START criterion=entropy, max_depth=20, min_samples_leaf=4, min_samples_split=2\n",
      "[CV 1/5; 79/108] END criterion=entropy, max_depth=20, min_samples_leaf=4, min_samples_split=2;, score=0.910 total time=   0.8s\n",
      "[CV 2/5; 79/108] START criterion=entropy, max_depth=20, min_samples_leaf=4, min_samples_split=2\n",
      "[CV 2/5; 79/108] END criterion=entropy, max_depth=20, min_samples_leaf=4, min_samples_split=2;, score=0.912 total time=   0.9s\n",
      "[CV 3/5; 79/108] START criterion=entropy, max_depth=20, min_samples_leaf=4, min_samples_split=2\n",
      "[CV 3/5; 79/108] END criterion=entropy, max_depth=20, min_samples_leaf=4, min_samples_split=2;, score=0.910 total time=   0.7s\n",
      "[CV 4/5; 79/108] START criterion=entropy, max_depth=20, min_samples_leaf=4, min_samples_split=2\n",
      "[CV 4/5; 79/108] END criterion=entropy, max_depth=20, min_samples_leaf=4, min_samples_split=2;, score=0.907 total time=   0.6s\n",
      "[CV 5/5; 79/108] START criterion=entropy, max_depth=20, min_samples_leaf=4, min_samples_split=2\n",
      "[CV 5/5; 79/108] END criterion=entropy, max_depth=20, min_samples_leaf=4, min_samples_split=2;, score=0.910 total time=   0.6s\n",
      "[CV 1/5; 80/108] START criterion=entropy, max_depth=20, min_samples_leaf=4, min_samples_split=5\n",
      "[CV 1/5; 80/108] END criterion=entropy, max_depth=20, min_samples_leaf=4, min_samples_split=5;, score=0.910 total time=   0.5s\n",
      "[CV 2/5; 80/108] START criterion=entropy, max_depth=20, min_samples_leaf=4, min_samples_split=5\n",
      "[CV 2/5; 80/108] END criterion=entropy, max_depth=20, min_samples_leaf=4, min_samples_split=5;, score=0.912 total time=   0.5s\n",
      "[CV 3/5; 80/108] START criterion=entropy, max_depth=20, min_samples_leaf=4, min_samples_split=5\n",
      "[CV 3/5; 80/108] END criterion=entropy, max_depth=20, min_samples_leaf=4, min_samples_split=5;, score=0.910 total time=   0.6s\n",
      "[CV 4/5; 80/108] START criterion=entropy, max_depth=20, min_samples_leaf=4, min_samples_split=5\n",
      "[CV 4/5; 80/108] END criterion=entropy, max_depth=20, min_samples_leaf=4, min_samples_split=5;, score=0.907 total time=   0.5s\n",
      "[CV 5/5; 80/108] START criterion=entropy, max_depth=20, min_samples_leaf=4, min_samples_split=5\n",
      "[CV 5/5; 80/108] END criterion=entropy, max_depth=20, min_samples_leaf=4, min_samples_split=5;, score=0.910 total time=   0.6s\n",
      "[CV 1/5; 81/108] START criterion=entropy, max_depth=20, min_samples_leaf=4, min_samples_split=10\n",
      "[CV 1/5; 81/108] END criterion=entropy, max_depth=20, min_samples_leaf=4, min_samples_split=10;, score=0.911 total time=   0.6s\n",
      "[CV 2/5; 81/108] START criterion=entropy, max_depth=20, min_samples_leaf=4, min_samples_split=10\n",
      "[CV 2/5; 81/108] END criterion=entropy, max_depth=20, min_samples_leaf=4, min_samples_split=10;, score=0.913 total time=   0.6s\n",
      "[CV 3/5; 81/108] START criterion=entropy, max_depth=20, min_samples_leaf=4, min_samples_split=10\n",
      "[CV 3/5; 81/108] END criterion=entropy, max_depth=20, min_samples_leaf=4, min_samples_split=10;, score=0.910 total time=   0.5s\n",
      "[CV 4/5; 81/108] START criterion=entropy, max_depth=20, min_samples_leaf=4, min_samples_split=10\n",
      "[CV 4/5; 81/108] END criterion=entropy, max_depth=20, min_samples_leaf=4, min_samples_split=10;, score=0.909 total time=   0.5s\n",
      "[CV 5/5; 81/108] START criterion=entropy, max_depth=20, min_samples_leaf=4, min_samples_split=10\n",
      "[CV 5/5; 81/108] END criterion=entropy, max_depth=20, min_samples_leaf=4, min_samples_split=10;, score=0.911 total time=   0.5s\n",
      "[CV 1/5; 82/108] START criterion=entropy, max_depth=30, min_samples_leaf=1, min_samples_split=2\n",
      "[CV 1/5; 82/108] END criterion=entropy, max_depth=30, min_samples_leaf=1, min_samples_split=2;, score=0.892 total time=   0.6s\n",
      "[CV 2/5; 82/108] START criterion=entropy, max_depth=30, min_samples_leaf=1, min_samples_split=2\n",
      "[CV 2/5; 82/108] END criterion=entropy, max_depth=30, min_samples_leaf=1, min_samples_split=2;, score=0.895 total time=   0.6s\n",
      "[CV 3/5; 82/108] START criterion=entropy, max_depth=30, min_samples_leaf=1, min_samples_split=2\n",
      "[CV 3/5; 82/108] END criterion=entropy, max_depth=30, min_samples_leaf=1, min_samples_split=2;, score=0.890 total time=   0.8s\n",
      "[CV 4/5; 82/108] START criterion=entropy, max_depth=30, min_samples_leaf=1, min_samples_split=2\n",
      "[CV 4/5; 82/108] END criterion=entropy, max_depth=30, min_samples_leaf=1, min_samples_split=2;, score=0.893 total time=   0.8s\n",
      "[CV 5/5; 82/108] START criterion=entropy, max_depth=30, min_samples_leaf=1, min_samples_split=2\n",
      "[CV 5/5; 82/108] END criterion=entropy, max_depth=30, min_samples_leaf=1, min_samples_split=2;, score=0.891 total time=   0.7s\n",
      "[CV 1/5; 83/108] START criterion=entropy, max_depth=30, min_samples_leaf=1, min_samples_split=5\n",
      "[CV 1/5; 83/108] END criterion=entropy, max_depth=30, min_samples_leaf=1, min_samples_split=5;, score=0.894 total time=   0.6s\n",
      "[CV 2/5; 83/108] START criterion=entropy, max_depth=30, min_samples_leaf=1, min_samples_split=5\n",
      "[CV 2/5; 83/108] END criterion=entropy, max_depth=30, min_samples_leaf=1, min_samples_split=5;, score=0.897 total time=   0.6s\n",
      "[CV 3/5; 83/108] START criterion=entropy, max_depth=30, min_samples_leaf=1, min_samples_split=5\n",
      "[CV 3/5; 83/108] END criterion=entropy, max_depth=30, min_samples_leaf=1, min_samples_split=5;, score=0.894 total time=   0.6s\n",
      "[CV 4/5; 83/108] START criterion=entropy, max_depth=30, min_samples_leaf=1, min_samples_split=5\n",
      "[CV 4/5; 83/108] END criterion=entropy, max_depth=30, min_samples_leaf=1, min_samples_split=5;, score=0.894 total time=   0.6s\n",
      "[CV 5/5; 83/108] START criterion=entropy, max_depth=30, min_samples_leaf=1, min_samples_split=5\n",
      "[CV 5/5; 83/108] END criterion=entropy, max_depth=30, min_samples_leaf=1, min_samples_split=5;, score=0.892 total time=   0.6s\n",
      "[CV 1/5; 84/108] START criterion=entropy, max_depth=30, min_samples_leaf=1, min_samples_split=10\n",
      "[CV 1/5; 84/108] END criterion=entropy, max_depth=30, min_samples_leaf=1, min_samples_split=10;, score=0.896 total time=   0.6s\n",
      "[CV 2/5; 84/108] START criterion=entropy, max_depth=30, min_samples_leaf=1, min_samples_split=10\n",
      "[CV 2/5; 84/108] END criterion=entropy, max_depth=30, min_samples_leaf=1, min_samples_split=10;, score=0.899 total time=   0.6s\n",
      "[CV 3/5; 84/108] START criterion=entropy, max_depth=30, min_samples_leaf=1, min_samples_split=10\n",
      "[CV 3/5; 84/108] END criterion=entropy, max_depth=30, min_samples_leaf=1, min_samples_split=10;, score=0.897 total time=   0.6s\n",
      "[CV 4/5; 84/108] START criterion=entropy, max_depth=30, min_samples_leaf=1, min_samples_split=10\n",
      "[CV 4/5; 84/108] END criterion=entropy, max_depth=30, min_samples_leaf=1, min_samples_split=10;, score=0.899 total time=   0.6s\n",
      "[CV 5/5; 84/108] START criterion=entropy, max_depth=30, min_samples_leaf=1, min_samples_split=10\n",
      "[CV 5/5; 84/108] END criterion=entropy, max_depth=30, min_samples_leaf=1, min_samples_split=10;, score=0.895 total time=   0.6s\n",
      "[CV 1/5; 85/108] START criterion=entropy, max_depth=30, min_samples_leaf=2, min_samples_split=2\n",
      "[CV 1/5; 85/108] END criterion=entropy, max_depth=30, min_samples_leaf=2, min_samples_split=2;, score=0.897 total time=   0.6s\n",
      "[CV 2/5; 85/108] START criterion=entropy, max_depth=30, min_samples_leaf=2, min_samples_split=2\n",
      "[CV 2/5; 85/108] END criterion=entropy, max_depth=30, min_samples_leaf=2, min_samples_split=2;, score=0.899 total time=   0.6s\n",
      "[CV 3/5; 85/108] START criterion=entropy, max_depth=30, min_samples_leaf=2, min_samples_split=2\n",
      "[CV 3/5; 85/108] END criterion=entropy, max_depth=30, min_samples_leaf=2, min_samples_split=2;, score=0.896 total time=   0.6s\n",
      "[CV 4/5; 85/108] START criterion=entropy, max_depth=30, min_samples_leaf=2, min_samples_split=2\n",
      "[CV 4/5; 85/108] END criterion=entropy, max_depth=30, min_samples_leaf=2, min_samples_split=2;, score=0.897 total time=   0.6s\n",
      "[CV 5/5; 85/108] START criterion=entropy, max_depth=30, min_samples_leaf=2, min_samples_split=2\n",
      "[CV 5/5; 85/108] END criterion=entropy, max_depth=30, min_samples_leaf=2, min_samples_split=2;, score=0.895 total time=   0.6s\n",
      "[CV 1/5; 86/108] START criterion=entropy, max_depth=30, min_samples_leaf=2, min_samples_split=5\n",
      "[CV 1/5; 86/108] END criterion=entropy, max_depth=30, min_samples_leaf=2, min_samples_split=5;, score=0.897 total time=   0.6s\n",
      "[CV 2/5; 86/108] START criterion=entropy, max_depth=30, min_samples_leaf=2, min_samples_split=5\n",
      "[CV 2/5; 86/108] END criterion=entropy, max_depth=30, min_samples_leaf=2, min_samples_split=5;, score=0.898 total time=   0.6s\n",
      "[CV 3/5; 86/108] START criterion=entropy, max_depth=30, min_samples_leaf=2, min_samples_split=5\n",
      "[CV 3/5; 86/108] END criterion=entropy, max_depth=30, min_samples_leaf=2, min_samples_split=5;, score=0.896 total time=   0.6s\n",
      "[CV 4/5; 86/108] START criterion=entropy, max_depth=30, min_samples_leaf=2, min_samples_split=5\n",
      "[CV 4/5; 86/108] END criterion=entropy, max_depth=30, min_samples_leaf=2, min_samples_split=5;, score=0.898 total time=   0.6s\n",
      "[CV 5/5; 86/108] START criterion=entropy, max_depth=30, min_samples_leaf=2, min_samples_split=5\n",
      "[CV 5/5; 86/108] END criterion=entropy, max_depth=30, min_samples_leaf=2, min_samples_split=5;, score=0.895 total time=   0.6s\n",
      "[CV 1/5; 87/108] START criterion=entropy, max_depth=30, min_samples_leaf=2, min_samples_split=10\n",
      "[CV 1/5; 87/108] END criterion=entropy, max_depth=30, min_samples_leaf=2, min_samples_split=10;, score=0.900 total time=   0.6s\n",
      "[CV 2/5; 87/108] START criterion=entropy, max_depth=30, min_samples_leaf=2, min_samples_split=10\n",
      "[CV 2/5; 87/108] END criterion=entropy, max_depth=30, min_samples_leaf=2, min_samples_split=10;, score=0.901 total time=   0.6s\n",
      "[CV 3/5; 87/108] START criterion=entropy, max_depth=30, min_samples_leaf=2, min_samples_split=10\n",
      "[CV 3/5; 87/108] END criterion=entropy, max_depth=30, min_samples_leaf=2, min_samples_split=10;, score=0.899 total time=   0.6s\n",
      "[CV 4/5; 87/108] START criterion=entropy, max_depth=30, min_samples_leaf=2, min_samples_split=10\n",
      "[CV 4/5; 87/108] END criterion=entropy, max_depth=30, min_samples_leaf=2, min_samples_split=10;, score=0.901 total time=   0.7s\n",
      "[CV 5/5; 87/108] START criterion=entropy, max_depth=30, min_samples_leaf=2, min_samples_split=10\n",
      "[CV 5/5; 87/108] END criterion=entropy, max_depth=30, min_samples_leaf=2, min_samples_split=10;, score=0.899 total time=   0.7s\n",
      "[CV 1/5; 88/108] START criterion=entropy, max_depth=30, min_samples_leaf=4, min_samples_split=2\n",
      "[CV 1/5; 88/108] END criterion=entropy, max_depth=30, min_samples_leaf=4, min_samples_split=2;, score=0.900 total time=   0.6s\n",
      "[CV 2/5; 88/108] START criterion=entropy, max_depth=30, min_samples_leaf=4, min_samples_split=2\n",
      "[CV 2/5; 88/108] END criterion=entropy, max_depth=30, min_samples_leaf=4, min_samples_split=2;, score=0.901 total time=   0.6s\n",
      "[CV 3/5; 88/108] START criterion=entropy, max_depth=30, min_samples_leaf=4, min_samples_split=2\n",
      "[CV 3/5; 88/108] END criterion=entropy, max_depth=30, min_samples_leaf=4, min_samples_split=2;, score=0.900 total time=   0.6s\n",
      "[CV 4/5; 88/108] START criterion=entropy, max_depth=30, min_samples_leaf=4, min_samples_split=2\n",
      "[CV 4/5; 88/108] END criterion=entropy, max_depth=30, min_samples_leaf=4, min_samples_split=2;, score=0.899 total time=   0.6s\n",
      "[CV 5/5; 88/108] START criterion=entropy, max_depth=30, min_samples_leaf=4, min_samples_split=2\n",
      "[CV 5/5; 88/108] END criterion=entropy, max_depth=30, min_samples_leaf=4, min_samples_split=2;, score=0.899 total time=   0.6s\n",
      "[CV 1/5; 89/108] START criterion=entropy, max_depth=30, min_samples_leaf=4, min_samples_split=5\n",
      "[CV 1/5; 89/108] END criterion=entropy, max_depth=30, min_samples_leaf=4, min_samples_split=5;, score=0.900 total time=   0.6s\n",
      "[CV 2/5; 89/108] START criterion=entropy, max_depth=30, min_samples_leaf=4, min_samples_split=5\n",
      "[CV 2/5; 89/108] END criterion=entropy, max_depth=30, min_samples_leaf=4, min_samples_split=5;, score=0.901 total time=   0.7s\n",
      "[CV 3/5; 89/108] START criterion=entropy, max_depth=30, min_samples_leaf=4, min_samples_split=5\n",
      "[CV 3/5; 89/108] END criterion=entropy, max_depth=30, min_samples_leaf=4, min_samples_split=5;, score=0.900 total time=   0.6s\n",
      "[CV 4/5; 89/108] START criterion=entropy, max_depth=30, min_samples_leaf=4, min_samples_split=5\n",
      "[CV 4/5; 89/108] END criterion=entropy, max_depth=30, min_samples_leaf=4, min_samples_split=5;, score=0.899 total time=   0.6s\n",
      "[CV 5/5; 89/108] START criterion=entropy, max_depth=30, min_samples_leaf=4, min_samples_split=5\n",
      "[CV 5/5; 89/108] END criterion=entropy, max_depth=30, min_samples_leaf=4, min_samples_split=5;, score=0.899 total time=   0.6s\n",
      "[CV 1/5; 90/108] START criterion=entropy, max_depth=30, min_samples_leaf=4, min_samples_split=10\n",
      "[CV 1/5; 90/108] END criterion=entropy, max_depth=30, min_samples_leaf=4, min_samples_split=10;, score=0.901 total time=   0.7s\n",
      "[CV 2/5; 90/108] START criterion=entropy, max_depth=30, min_samples_leaf=4, min_samples_split=10\n",
      "[CV 2/5; 90/108] END criterion=entropy, max_depth=30, min_samples_leaf=4, min_samples_split=10;, score=0.903 total time=   0.7s\n",
      "[CV 3/5; 90/108] START criterion=entropy, max_depth=30, min_samples_leaf=4, min_samples_split=10\n",
      "[CV 3/5; 90/108] END criterion=entropy, max_depth=30, min_samples_leaf=4, min_samples_split=10;, score=0.901 total time=   0.7s\n",
      "[CV 4/5; 90/108] START criterion=entropy, max_depth=30, min_samples_leaf=4, min_samples_split=10\n",
      "[CV 4/5; 90/108] END criterion=entropy, max_depth=30, min_samples_leaf=4, min_samples_split=10;, score=0.899 total time=   0.7s\n",
      "[CV 5/5; 90/108] START criterion=entropy, max_depth=30, min_samples_leaf=4, min_samples_split=10\n",
      "[CV 5/5; 90/108] END criterion=entropy, max_depth=30, min_samples_leaf=4, min_samples_split=10;, score=0.900 total time=   0.7s\n",
      "[CV 1/5; 91/108] START criterion=entropy, max_depth=40, min_samples_leaf=1, min_samples_split=2\n",
      "[CV 1/5; 91/108] END criterion=entropy, max_depth=40, min_samples_leaf=1, min_samples_split=2;, score=0.886 total time=   0.8s\n",
      "[CV 2/5; 91/108] START criterion=entropy, max_depth=40, min_samples_leaf=1, min_samples_split=2\n",
      "[CV 2/5; 91/108] END criterion=entropy, max_depth=40, min_samples_leaf=1, min_samples_split=2;, score=0.885 total time=   0.8s\n",
      "[CV 3/5; 91/108] START criterion=entropy, max_depth=40, min_samples_leaf=1, min_samples_split=2\n",
      "[CV 3/5; 91/108] END criterion=entropy, max_depth=40, min_samples_leaf=1, min_samples_split=2;, score=0.885 total time=   0.6s\n",
      "[CV 4/5; 91/108] START criterion=entropy, max_depth=40, min_samples_leaf=1, min_samples_split=2\n",
      "[CV 4/5; 91/108] END criterion=entropy, max_depth=40, min_samples_leaf=1, min_samples_split=2;, score=0.885 total time=   0.6s\n",
      "[CV 5/5; 91/108] START criterion=entropy, max_depth=40, min_samples_leaf=1, min_samples_split=2\n",
      "[CV 5/5; 91/108] END criterion=entropy, max_depth=40, min_samples_leaf=1, min_samples_split=2;, score=0.885 total time=   0.7s\n",
      "[CV 1/5; 92/108] START criterion=entropy, max_depth=40, min_samples_leaf=1, min_samples_split=5\n",
      "[CV 1/5; 92/108] END criterion=entropy, max_depth=40, min_samples_leaf=1, min_samples_split=5;, score=0.888 total time=   0.8s\n",
      "[CV 2/5; 92/108] START criterion=entropy, max_depth=40, min_samples_leaf=1, min_samples_split=5\n",
      "[CV 2/5; 92/108] END criterion=entropy, max_depth=40, min_samples_leaf=1, min_samples_split=5;, score=0.889 total time=   0.9s\n",
      "[CV 3/5; 92/108] START criterion=entropy, max_depth=40, min_samples_leaf=1, min_samples_split=5\n",
      "[CV 3/5; 92/108] END criterion=entropy, max_depth=40, min_samples_leaf=1, min_samples_split=5;, score=0.890 total time=   0.9s\n",
      "[CV 4/5; 92/108] START criterion=entropy, max_depth=40, min_samples_leaf=1, min_samples_split=5\n",
      "[CV 4/5; 92/108] END criterion=entropy, max_depth=40, min_samples_leaf=1, min_samples_split=5;, score=0.888 total time=   0.8s\n",
      "[CV 5/5; 92/108] START criterion=entropy, max_depth=40, min_samples_leaf=1, min_samples_split=5\n",
      "[CV 5/5; 92/108] END criterion=entropy, max_depth=40, min_samples_leaf=1, min_samples_split=5;, score=0.887 total time=   0.8s\n",
      "[CV 1/5; 93/108] START criterion=entropy, max_depth=40, min_samples_leaf=1, min_samples_split=10\n",
      "[CV 1/5; 93/108] END criterion=entropy, max_depth=40, min_samples_leaf=1, min_samples_split=10;, score=0.892 total time=   0.7s\n",
      "[CV 2/5; 93/108] START criterion=entropy, max_depth=40, min_samples_leaf=1, min_samples_split=10\n",
      "[CV 2/5; 93/108] END criterion=entropy, max_depth=40, min_samples_leaf=1, min_samples_split=10;, score=0.894 total time=   0.6s\n",
      "[CV 3/5; 93/108] START criterion=entropy, max_depth=40, min_samples_leaf=1, min_samples_split=10\n",
      "[CV 3/5; 93/108] END criterion=entropy, max_depth=40, min_samples_leaf=1, min_samples_split=10;, score=0.894 total time=   0.6s\n",
      "[CV 4/5; 93/108] START criterion=entropy, max_depth=40, min_samples_leaf=1, min_samples_split=10\n",
      "[CV 4/5; 93/108] END criterion=entropy, max_depth=40, min_samples_leaf=1, min_samples_split=10;, score=0.893 total time=   0.6s\n",
      "[CV 5/5; 93/108] START criterion=entropy, max_depth=40, min_samples_leaf=1, min_samples_split=10\n",
      "[CV 5/5; 93/108] END criterion=entropy, max_depth=40, min_samples_leaf=1, min_samples_split=10;, score=0.891 total time=   0.6s\n",
      "[CV 1/5; 94/108] START criterion=entropy, max_depth=40, min_samples_leaf=2, min_samples_split=2\n",
      "[CV 1/5; 94/108] END criterion=entropy, max_depth=40, min_samples_leaf=2, min_samples_split=2;, score=0.892 total time=   0.6s\n",
      "[CV 2/5; 94/108] START criterion=entropy, max_depth=40, min_samples_leaf=2, min_samples_split=2\n",
      "[CV 2/5; 94/108] END criterion=entropy, max_depth=40, min_samples_leaf=2, min_samples_split=2;, score=0.894 total time=   0.6s\n",
      "[CV 3/5; 94/108] START criterion=entropy, max_depth=40, min_samples_leaf=2, min_samples_split=2\n",
      "[CV 3/5; 94/108] END criterion=entropy, max_depth=40, min_samples_leaf=2, min_samples_split=2;, score=0.892 total time=   0.6s\n",
      "[CV 4/5; 94/108] START criterion=entropy, max_depth=40, min_samples_leaf=2, min_samples_split=2\n",
      "[CV 4/5; 94/108] END criterion=entropy, max_depth=40, min_samples_leaf=2, min_samples_split=2;, score=0.892 total time=   0.6s\n",
      "[CV 5/5; 94/108] START criterion=entropy, max_depth=40, min_samples_leaf=2, min_samples_split=2\n",
      "[CV 5/5; 94/108] END criterion=entropy, max_depth=40, min_samples_leaf=2, min_samples_split=2;, score=0.892 total time=   0.6s\n",
      "[CV 1/5; 95/108] START criterion=entropy, max_depth=40, min_samples_leaf=2, min_samples_split=5\n",
      "[CV 1/5; 95/108] END criterion=entropy, max_depth=40, min_samples_leaf=2, min_samples_split=5;, score=0.892 total time=   0.6s\n",
      "[CV 2/5; 95/108] START criterion=entropy, max_depth=40, min_samples_leaf=2, min_samples_split=5\n",
      "[CV 2/5; 95/108] END criterion=entropy, max_depth=40, min_samples_leaf=2, min_samples_split=5;, score=0.893 total time=   0.6s\n",
      "[CV 3/5; 95/108] START criterion=entropy, max_depth=40, min_samples_leaf=2, min_samples_split=5\n",
      "[CV 3/5; 95/108] END criterion=entropy, max_depth=40, min_samples_leaf=2, min_samples_split=5;, score=0.894 total time=   0.6s\n",
      "[CV 4/5; 95/108] START criterion=entropy, max_depth=40, min_samples_leaf=2, min_samples_split=5\n",
      "[CV 4/5; 95/108] END criterion=entropy, max_depth=40, min_samples_leaf=2, min_samples_split=5;, score=0.892 total time=   0.6s\n",
      "[CV 5/5; 95/108] START criterion=entropy, max_depth=40, min_samples_leaf=2, min_samples_split=5\n",
      "[CV 5/5; 95/108] END criterion=entropy, max_depth=40, min_samples_leaf=2, min_samples_split=5;, score=0.891 total time=   0.7s\n",
      "[CV 1/5; 96/108] START criterion=entropy, max_depth=40, min_samples_leaf=2, min_samples_split=10\n",
      "[CV 1/5; 96/108] END criterion=entropy, max_depth=40, min_samples_leaf=2, min_samples_split=10;, score=0.895 total time=   0.6s\n",
      "[CV 2/5; 96/108] START criterion=entropy, max_depth=40, min_samples_leaf=2, min_samples_split=10\n",
      "[CV 2/5; 96/108] END criterion=entropy, max_depth=40, min_samples_leaf=2, min_samples_split=10;, score=0.898 total time=   0.7s\n",
      "[CV 3/5; 96/108] START criterion=entropy, max_depth=40, min_samples_leaf=2, min_samples_split=10\n",
      "[CV 3/5; 96/108] END criterion=entropy, max_depth=40, min_samples_leaf=2, min_samples_split=10;, score=0.897 total time=   0.7s\n",
      "[CV 4/5; 96/108] START criterion=entropy, max_depth=40, min_samples_leaf=2, min_samples_split=10\n",
      "[CV 4/5; 96/108] END criterion=entropy, max_depth=40, min_samples_leaf=2, min_samples_split=10;, score=0.897 total time=   0.6s\n",
      "[CV 5/5; 96/108] START criterion=entropy, max_depth=40, min_samples_leaf=2, min_samples_split=10\n",
      "[CV 5/5; 96/108] END criterion=entropy, max_depth=40, min_samples_leaf=2, min_samples_split=10;, score=0.896 total time=   0.6s\n",
      "[CV 1/5; 97/108] START criterion=entropy, max_depth=40, min_samples_leaf=4, min_samples_split=2\n",
      "[CV 1/5; 97/108] END criterion=entropy, max_depth=40, min_samples_leaf=4, min_samples_split=2;, score=0.897 total time=   0.7s\n",
      "[CV 2/5; 97/108] START criterion=entropy, max_depth=40, min_samples_leaf=4, min_samples_split=2\n",
      "[CV 2/5; 97/108] END criterion=entropy, max_depth=40, min_samples_leaf=4, min_samples_split=2;, score=0.898 total time=   0.8s\n",
      "[CV 3/5; 97/108] START criterion=entropy, max_depth=40, min_samples_leaf=4, min_samples_split=2\n",
      "[CV 3/5; 97/108] END criterion=entropy, max_depth=40, min_samples_leaf=4, min_samples_split=2;, score=0.898 total time=   0.7s\n",
      "[CV 4/5; 97/108] START criterion=entropy, max_depth=40, min_samples_leaf=4, min_samples_split=2\n",
      "[CV 4/5; 97/108] END criterion=entropy, max_depth=40, min_samples_leaf=4, min_samples_split=2;, score=0.897 total time=   0.6s\n",
      "[CV 5/5; 97/108] START criterion=entropy, max_depth=40, min_samples_leaf=4, min_samples_split=2\n",
      "[CV 5/5; 97/108] END criterion=entropy, max_depth=40, min_samples_leaf=4, min_samples_split=2;, score=0.897 total time=   0.6s\n",
      "[CV 1/5; 98/108] START criterion=entropy, max_depth=40, min_samples_leaf=4, min_samples_split=5\n",
      "[CV 1/5; 98/108] END criterion=entropy, max_depth=40, min_samples_leaf=4, min_samples_split=5;, score=0.897 total time=   0.6s\n",
      "[CV 2/5; 98/108] START criterion=entropy, max_depth=40, min_samples_leaf=4, min_samples_split=5\n",
      "[CV 2/5; 98/108] END criterion=entropy, max_depth=40, min_samples_leaf=4, min_samples_split=5;, score=0.898 total time=   0.6s\n",
      "[CV 3/5; 98/108] START criterion=entropy, max_depth=40, min_samples_leaf=4, min_samples_split=5\n",
      "[CV 3/5; 98/108] END criterion=entropy, max_depth=40, min_samples_leaf=4, min_samples_split=5;, score=0.898 total time=   0.6s\n",
      "[CV 4/5; 98/108] START criterion=entropy, max_depth=40, min_samples_leaf=4, min_samples_split=5\n",
      "[CV 4/5; 98/108] END criterion=entropy, max_depth=40, min_samples_leaf=4, min_samples_split=5;, score=0.897 total time=   0.6s\n",
      "[CV 5/5; 98/108] START criterion=entropy, max_depth=40, min_samples_leaf=4, min_samples_split=5\n",
      "[CV 5/5; 98/108] END criterion=entropy, max_depth=40, min_samples_leaf=4, min_samples_split=5;, score=0.897 total time=   0.6s\n",
      "[CV 1/5; 99/108] START criterion=entropy, max_depth=40, min_samples_leaf=4, min_samples_split=10\n",
      "[CV 1/5; 99/108] END criterion=entropy, max_depth=40, min_samples_leaf=4, min_samples_split=10;, score=0.898 total time=   0.6s\n",
      "[CV 2/5; 99/108] START criterion=entropy, max_depth=40, min_samples_leaf=4, min_samples_split=10\n",
      "[CV 2/5; 99/108] END criterion=entropy, max_depth=40, min_samples_leaf=4, min_samples_split=10;, score=0.900 total time=   0.6s\n",
      "[CV 3/5; 99/108] START criterion=entropy, max_depth=40, min_samples_leaf=4, min_samples_split=10\n",
      "[CV 3/5; 99/108] END criterion=entropy, max_depth=40, min_samples_leaf=4, min_samples_split=10;, score=0.899 total time=   0.6s\n",
      "[CV 4/5; 99/108] START criterion=entropy, max_depth=40, min_samples_leaf=4, min_samples_split=10\n",
      "[CV 4/5; 99/108] END criterion=entropy, max_depth=40, min_samples_leaf=4, min_samples_split=10;, score=0.897 total time=   0.6s\n",
      "[CV 5/5; 99/108] START criterion=entropy, max_depth=40, min_samples_leaf=4, min_samples_split=10\n",
      "[CV 5/5; 99/108] END criterion=entropy, max_depth=40, min_samples_leaf=4, min_samples_split=10;, score=0.899 total time=   0.6s\n",
      "[CV 1/5; 100/108] START criterion=entropy, max_depth=50, min_samples_leaf=1, min_samples_split=2\n",
      "[CV 1/5; 100/108] END criterion=entropy, max_depth=50, min_samples_leaf=1, min_samples_split=2;, score=0.884 total time=   0.8s\n",
      "[CV 2/5; 100/108] START criterion=entropy, max_depth=50, min_samples_leaf=1, min_samples_split=2\n",
      "[CV 2/5; 100/108] END criterion=entropy, max_depth=50, min_samples_leaf=1, min_samples_split=2;, score=0.884 total time=   0.7s\n",
      "[CV 3/5; 100/108] START criterion=entropy, max_depth=50, min_samples_leaf=1, min_samples_split=2\n",
      "[CV 3/5; 100/108] END criterion=entropy, max_depth=50, min_samples_leaf=1, min_samples_split=2;, score=0.883 total time=   0.7s\n",
      "[CV 4/5; 100/108] START criterion=entropy, max_depth=50, min_samples_leaf=1, min_samples_split=2\n",
      "[CV 4/5; 100/108] END criterion=entropy, max_depth=50, min_samples_leaf=1, min_samples_split=2;, score=0.883 total time=   0.6s\n",
      "[CV 5/5; 100/108] START criterion=entropy, max_depth=50, min_samples_leaf=1, min_samples_split=2\n",
      "[CV 5/5; 100/108] END criterion=entropy, max_depth=50, min_samples_leaf=1, min_samples_split=2;, score=0.883 total time=   0.6s\n",
      "[CV 1/5; 101/108] START criterion=entropy, max_depth=50, min_samples_leaf=1, min_samples_split=5\n",
      "[CV 1/5; 101/108] END criterion=entropy, max_depth=50, min_samples_leaf=1, min_samples_split=5;, score=0.887 total time=   0.7s\n",
      "[CV 2/5; 101/108] START criterion=entropy, max_depth=50, min_samples_leaf=1, min_samples_split=5\n",
      "[CV 2/5; 101/108] END criterion=entropy, max_depth=50, min_samples_leaf=1, min_samples_split=5;, score=0.887 total time=   0.7s\n",
      "[CV 3/5; 101/108] START criterion=entropy, max_depth=50, min_samples_leaf=1, min_samples_split=5\n",
      "[CV 3/5; 101/108] END criterion=entropy, max_depth=50, min_samples_leaf=1, min_samples_split=5;, score=0.888 total time=   0.8s\n",
      "[CV 4/5; 101/108] START criterion=entropy, max_depth=50, min_samples_leaf=1, min_samples_split=5\n",
      "[CV 4/5; 101/108] END criterion=entropy, max_depth=50, min_samples_leaf=1, min_samples_split=5;, score=0.886 total time=   0.8s\n",
      "[CV 5/5; 101/108] START criterion=entropy, max_depth=50, min_samples_leaf=1, min_samples_split=5\n",
      "[CV 5/5; 101/108] END criterion=entropy, max_depth=50, min_samples_leaf=1, min_samples_split=5;, score=0.886 total time=   0.9s\n",
      "[CV 1/5; 102/108] START criterion=entropy, max_depth=50, min_samples_leaf=1, min_samples_split=10\n",
      "[CV 1/5; 102/108] END criterion=entropy, max_depth=50, min_samples_leaf=1, min_samples_split=10;, score=0.891 total time=   0.8s\n",
      "[CV 2/5; 102/108] START criterion=entropy, max_depth=50, min_samples_leaf=1, min_samples_split=10\n",
      "[CV 2/5; 102/108] END criterion=entropy, max_depth=50, min_samples_leaf=1, min_samples_split=10;, score=0.894 total time=   0.7s\n",
      "[CV 3/5; 102/108] START criterion=entropy, max_depth=50, min_samples_leaf=1, min_samples_split=10\n",
      "[CV 3/5; 102/108] END criterion=entropy, max_depth=50, min_samples_leaf=1, min_samples_split=10;, score=0.893 total time=   0.6s\n",
      "[CV 4/5; 102/108] START criterion=entropy, max_depth=50, min_samples_leaf=1, min_samples_split=10\n",
      "[CV 4/5; 102/108] END criterion=entropy, max_depth=50, min_samples_leaf=1, min_samples_split=10;, score=0.893 total time=   0.6s\n",
      "[CV 5/5; 102/108] START criterion=entropy, max_depth=50, min_samples_leaf=1, min_samples_split=10\n",
      "[CV 5/5; 102/108] END criterion=entropy, max_depth=50, min_samples_leaf=1, min_samples_split=10;, score=0.891 total time=   0.6s\n",
      "[CV 1/5; 103/108] START criterion=entropy, max_depth=50, min_samples_leaf=2, min_samples_split=2\n",
      "[CV 1/5; 103/108] END criterion=entropy, max_depth=50, min_samples_leaf=2, min_samples_split=2;, score=0.892 total time=   0.6s\n",
      "[CV 2/5; 103/108] START criterion=entropy, max_depth=50, min_samples_leaf=2, min_samples_split=2\n",
      "[CV 2/5; 103/108] END criterion=entropy, max_depth=50, min_samples_leaf=2, min_samples_split=2;, score=0.894 total time=   0.7s\n",
      "[CV 3/5; 103/108] START criterion=entropy, max_depth=50, min_samples_leaf=2, min_samples_split=2\n",
      "[CV 3/5; 103/108] END criterion=entropy, max_depth=50, min_samples_leaf=2, min_samples_split=2;, score=0.891 total time=   0.8s\n",
      "[CV 4/5; 103/108] START criterion=entropy, max_depth=50, min_samples_leaf=2, min_samples_split=2\n",
      "[CV 4/5; 103/108] END criterion=entropy, max_depth=50, min_samples_leaf=2, min_samples_split=2;, score=0.893 total time=   0.6s\n",
      "[CV 5/5; 103/108] START criterion=entropy, max_depth=50, min_samples_leaf=2, min_samples_split=2\n",
      "[CV 5/5; 103/108] END criterion=entropy, max_depth=50, min_samples_leaf=2, min_samples_split=2;, score=0.891 total time=   0.6s\n",
      "[CV 1/5; 104/108] START criterion=entropy, max_depth=50, min_samples_leaf=2, min_samples_split=5\n",
      "[CV 1/5; 104/108] END criterion=entropy, max_depth=50, min_samples_leaf=2, min_samples_split=5;, score=0.892 total time=   0.6s\n",
      "[CV 2/5; 104/108] START criterion=entropy, max_depth=50, min_samples_leaf=2, min_samples_split=5\n",
      "[CV 2/5; 104/108] END criterion=entropy, max_depth=50, min_samples_leaf=2, min_samples_split=5;, score=0.892 total time=   0.6s\n",
      "[CV 3/5; 104/108] START criterion=entropy, max_depth=50, min_samples_leaf=2, min_samples_split=5\n",
      "[CV 3/5; 104/108] END criterion=entropy, max_depth=50, min_samples_leaf=2, min_samples_split=5;, score=0.892 total time=   0.6s\n",
      "[CV 4/5; 104/108] START criterion=entropy, max_depth=50, min_samples_leaf=2, min_samples_split=5\n",
      "[CV 4/5; 104/108] END criterion=entropy, max_depth=50, min_samples_leaf=2, min_samples_split=5;, score=0.892 total time=   0.6s\n",
      "[CV 5/5; 104/108] START criterion=entropy, max_depth=50, min_samples_leaf=2, min_samples_split=5\n",
      "[CV 5/5; 104/108] END criterion=entropy, max_depth=50, min_samples_leaf=2, min_samples_split=5;, score=0.891 total time=   0.6s\n",
      "[CV 1/5; 105/108] START criterion=entropy, max_depth=50, min_samples_leaf=2, min_samples_split=10\n",
      "[CV 1/5; 105/108] END criterion=entropy, max_depth=50, min_samples_leaf=2, min_samples_split=10;, score=0.896 total time=   0.6s\n",
      "[CV 2/5; 105/108] START criterion=entropy, max_depth=50, min_samples_leaf=2, min_samples_split=10\n",
      "[CV 2/5; 105/108] END criterion=entropy, max_depth=50, min_samples_leaf=2, min_samples_split=10;, score=0.898 total time=   0.6s\n",
      "[CV 3/5; 105/108] START criterion=entropy, max_depth=50, min_samples_leaf=2, min_samples_split=10\n",
      "[CV 3/5; 105/108] END criterion=entropy, max_depth=50, min_samples_leaf=2, min_samples_split=10;, score=0.896 total time=   0.6s\n",
      "[CV 4/5; 105/108] START criterion=entropy, max_depth=50, min_samples_leaf=2, min_samples_split=10\n",
      "[CV 4/5; 105/108] END criterion=entropy, max_depth=50, min_samples_leaf=2, min_samples_split=10;, score=0.898 total time=   0.8s\n",
      "[CV 5/5; 105/108] START criterion=entropy, max_depth=50, min_samples_leaf=2, min_samples_split=10\n",
      "[CV 5/5; 105/108] END criterion=entropy, max_depth=50, min_samples_leaf=2, min_samples_split=10;, score=0.895 total time=   1.0s\n",
      "[CV 1/5; 106/108] START criterion=entropy, max_depth=50, min_samples_leaf=4, min_samples_split=2\n",
      "[CV 1/5; 106/108] END criterion=entropy, max_depth=50, min_samples_leaf=4, min_samples_split=2;, score=0.897 total time=   1.1s\n",
      "[CV 2/5; 106/108] START criterion=entropy, max_depth=50, min_samples_leaf=4, min_samples_split=2\n",
      "[CV 2/5; 106/108] END criterion=entropy, max_depth=50, min_samples_leaf=4, min_samples_split=2;, score=0.898 total time=   0.7s\n",
      "[CV 3/5; 106/108] START criterion=entropy, max_depth=50, min_samples_leaf=4, min_samples_split=2\n",
      "[CV 3/5; 106/108] END criterion=entropy, max_depth=50, min_samples_leaf=4, min_samples_split=2;, score=0.898 total time=   0.8s\n",
      "[CV 4/5; 106/108] START criterion=entropy, max_depth=50, min_samples_leaf=4, min_samples_split=2\n",
      "[CV 4/5; 106/108] END criterion=entropy, max_depth=50, min_samples_leaf=4, min_samples_split=2;, score=0.897 total time=   0.8s\n",
      "[CV 5/5; 106/108] START criterion=entropy, max_depth=50, min_samples_leaf=4, min_samples_split=2\n",
      "[CV 5/5; 106/108] END criterion=entropy, max_depth=50, min_samples_leaf=4, min_samples_split=2;, score=0.897 total time=   0.6s\n",
      "[CV 1/5; 107/108] START criterion=entropy, max_depth=50, min_samples_leaf=4, min_samples_split=5\n",
      "[CV 1/5; 107/108] END criterion=entropy, max_depth=50, min_samples_leaf=4, min_samples_split=5;, score=0.897 total time=   0.6s\n",
      "[CV 2/5; 107/108] START criterion=entropy, max_depth=50, min_samples_leaf=4, min_samples_split=5\n",
      "[CV 2/5; 107/108] END criterion=entropy, max_depth=50, min_samples_leaf=4, min_samples_split=5;, score=0.898 total time=   0.6s\n",
      "[CV 3/5; 107/108] START criterion=entropy, max_depth=50, min_samples_leaf=4, min_samples_split=5\n",
      "[CV 3/5; 107/108] END criterion=entropy, max_depth=50, min_samples_leaf=4, min_samples_split=5;, score=0.898 total time=   0.6s\n",
      "[CV 4/5; 107/108] START criterion=entropy, max_depth=50, min_samples_leaf=4, min_samples_split=5\n",
      "[CV 4/5; 107/108] END criterion=entropy, max_depth=50, min_samples_leaf=4, min_samples_split=5;, score=0.897 total time=   0.6s\n",
      "[CV 5/5; 107/108] START criterion=entropy, max_depth=50, min_samples_leaf=4, min_samples_split=5\n",
      "[CV 5/5; 107/108] END criterion=entropy, max_depth=50, min_samples_leaf=4, min_samples_split=5;, score=0.897 total time=   0.6s\n",
      "[CV 1/5; 108/108] START criterion=entropy, max_depth=50, min_samples_leaf=4, min_samples_split=10\n",
      "[CV 1/5; 108/108] END criterion=entropy, max_depth=50, min_samples_leaf=4, min_samples_split=10;, score=0.897 total time=   0.6s\n",
      "[CV 2/5; 108/108] START criterion=entropy, max_depth=50, min_samples_leaf=4, min_samples_split=10\n",
      "[CV 2/5; 108/108] END criterion=entropy, max_depth=50, min_samples_leaf=4, min_samples_split=10;, score=0.899 total time=   0.6s\n",
      "[CV 3/5; 108/108] START criterion=entropy, max_depth=50, min_samples_leaf=4, min_samples_split=10\n",
      "[CV 3/5; 108/108] END criterion=entropy, max_depth=50, min_samples_leaf=4, min_samples_split=10;, score=0.898 total time=   0.6s\n",
      "[CV 4/5; 108/108] START criterion=entropy, max_depth=50, min_samples_leaf=4, min_samples_split=10\n",
      "[CV 4/5; 108/108] END criterion=entropy, max_depth=50, min_samples_leaf=4, min_samples_split=10;, score=0.897 total time=   0.6s\n",
      "[CV 5/5; 108/108] START criterion=entropy, max_depth=50, min_samples_leaf=4, min_samples_split=10\n",
      "[CV 5/5; 108/108] END criterion=entropy, max_depth=50, min_samples_leaf=4, min_samples_split=10;, score=0.899 total time=   0.6s\n"
     ]
    },
    {
     "data": {
      "text/html": [
       "<style>#sk-container-id-2 {color: black;}#sk-container-id-2 pre{padding: 0;}#sk-container-id-2 div.sk-toggleable {background-color: white;}#sk-container-id-2 label.sk-toggleable__label {cursor: pointer;display: block;width: 100%;margin-bottom: 0;padding: 0.3em;box-sizing: border-box;text-align: center;}#sk-container-id-2 label.sk-toggleable__label-arrow:before {content: \"▸\";float: left;margin-right: 0.25em;color: #696969;}#sk-container-id-2 label.sk-toggleable__label-arrow:hover:before {color: black;}#sk-container-id-2 div.sk-estimator:hover label.sk-toggleable__label-arrow:before {color: black;}#sk-container-id-2 div.sk-toggleable__content {max-height: 0;max-width: 0;overflow: hidden;text-align: left;background-color: #f0f8ff;}#sk-container-id-2 div.sk-toggleable__content pre {margin: 0.2em;color: black;border-radius: 0.25em;background-color: #f0f8ff;}#sk-container-id-2 input.sk-toggleable__control:checked~div.sk-toggleable__content {max-height: 200px;max-width: 100%;overflow: auto;}#sk-container-id-2 input.sk-toggleable__control:checked~label.sk-toggleable__label-arrow:before {content: \"▾\";}#sk-container-id-2 div.sk-estimator input.sk-toggleable__control:checked~label.sk-toggleable__label {background-color: #d4ebff;}#sk-container-id-2 div.sk-label input.sk-toggleable__control:checked~label.sk-toggleable__label {background-color: #d4ebff;}#sk-container-id-2 input.sk-hidden--visually {border: 0;clip: rect(1px 1px 1px 1px);clip: rect(1px, 1px, 1px, 1px);height: 1px;margin: -1px;overflow: hidden;padding: 0;position: absolute;width: 1px;}#sk-container-id-2 div.sk-estimator {font-family: monospace;background-color: #f0f8ff;border: 1px dotted black;border-radius: 0.25em;box-sizing: border-box;margin-bottom: 0.5em;}#sk-container-id-2 div.sk-estimator:hover {background-color: #d4ebff;}#sk-container-id-2 div.sk-parallel-item::after {content: \"\";width: 100%;border-bottom: 1px solid gray;flex-grow: 1;}#sk-container-id-2 div.sk-label:hover label.sk-toggleable__label {background-color: #d4ebff;}#sk-container-id-2 div.sk-serial::before {content: \"\";position: absolute;border-left: 1px solid gray;box-sizing: border-box;top: 0;bottom: 0;left: 50%;z-index: 0;}#sk-container-id-2 div.sk-serial {display: flex;flex-direction: column;align-items: center;background-color: white;padding-right: 0.2em;padding-left: 0.2em;position: relative;}#sk-container-id-2 div.sk-item {position: relative;z-index: 1;}#sk-container-id-2 div.sk-parallel {display: flex;align-items: stretch;justify-content: center;background-color: white;position: relative;}#sk-container-id-2 div.sk-item::before, #sk-container-id-2 div.sk-parallel-item::before {content: \"\";position: absolute;border-left: 1px solid gray;box-sizing: border-box;top: 0;bottom: 0;left: 50%;z-index: -1;}#sk-container-id-2 div.sk-parallel-item {display: flex;flex-direction: column;z-index: 1;position: relative;background-color: white;}#sk-container-id-2 div.sk-parallel-item:first-child::after {align-self: flex-end;width: 50%;}#sk-container-id-2 div.sk-parallel-item:last-child::after {align-self: flex-start;width: 50%;}#sk-container-id-2 div.sk-parallel-item:only-child::after {width: 0;}#sk-container-id-2 div.sk-dashed-wrapped {border: 1px dashed gray;margin: 0 0.4em 0.5em 0.4em;box-sizing: border-box;padding-bottom: 0.4em;background-color: white;}#sk-container-id-2 div.sk-label label {font-family: monospace;font-weight: bold;display: inline-block;line-height: 1.2em;}#sk-container-id-2 div.sk-label-container {text-align: center;}#sk-container-id-2 div.sk-container {/* jupyter's `normalize.less` sets `[hidden] { display: none; }` but bootstrap.min.css set `[hidden] { display: none !important; }` so we also need the `!important` here to be able to override the default hidden behavior on the sphinx rendered scikit-learn.org. See: https://github.com/scikit-learn/scikit-learn/issues/21755 */display: inline-block !important;position: relative;}#sk-container-id-2 div.sk-text-repr-fallback {display: none;}</style><div id=\"sk-container-id-2\" class=\"sk-top-container\"><div class=\"sk-text-repr-fallback\"><pre>GridSearchCV(cv=StratifiedKFold(n_splits=5, random_state=None, shuffle=False),\n",
       "             estimator=DecisionTreeClassifier(random_state=42),\n",
       "             param_grid={&#x27;criterion&#x27;: [&#x27;gini&#x27;, &#x27;entropy&#x27;],\n",
       "                         &#x27;max_depth&#x27;: [None, 10, 20, 30, 40, 50],\n",
       "                         &#x27;min_samples_leaf&#x27;: [1, 2, 4],\n",
       "                         &#x27;min_samples_split&#x27;: [2, 5, 10]},\n",
       "             scoring=&#x27;accuracy&#x27;, verbose=10)</pre><b>In a Jupyter environment, please rerun this cell to show the HTML representation or trust the notebook. <br />On GitHub, the HTML representation is unable to render, please try loading this page with nbviewer.org.</b></div><div class=\"sk-container\" hidden><div class=\"sk-item sk-dashed-wrapped\"><div class=\"sk-label-container\"><div class=\"sk-label sk-toggleable\"><input class=\"sk-toggleable__control sk-hidden--visually\" id=\"sk-estimator-id-4\" type=\"checkbox\" ><label for=\"sk-estimator-id-4\" class=\"sk-toggleable__label sk-toggleable__label-arrow\">GridSearchCV</label><div class=\"sk-toggleable__content\"><pre>GridSearchCV(cv=StratifiedKFold(n_splits=5, random_state=None, shuffle=False),\n",
       "             estimator=DecisionTreeClassifier(random_state=42),\n",
       "             param_grid={&#x27;criterion&#x27;: [&#x27;gini&#x27;, &#x27;entropy&#x27;],\n",
       "                         &#x27;max_depth&#x27;: [None, 10, 20, 30, 40, 50],\n",
       "                         &#x27;min_samples_leaf&#x27;: [1, 2, 4],\n",
       "                         &#x27;min_samples_split&#x27;: [2, 5, 10]},\n",
       "             scoring=&#x27;accuracy&#x27;, verbose=10)</pre></div></div></div><div class=\"sk-parallel\"><div class=\"sk-parallel-item\"><div class=\"sk-item\"><div class=\"sk-label-container\"><div class=\"sk-label sk-toggleable\"><input class=\"sk-toggleable__control sk-hidden--visually\" id=\"sk-estimator-id-5\" type=\"checkbox\" ><label for=\"sk-estimator-id-5\" class=\"sk-toggleable__label sk-toggleable__label-arrow\">estimator: DecisionTreeClassifier</label><div class=\"sk-toggleable__content\"><pre>DecisionTreeClassifier(random_state=42)</pre></div></div></div><div class=\"sk-serial\"><div class=\"sk-item\"><div class=\"sk-estimator sk-toggleable\"><input class=\"sk-toggleable__control sk-hidden--visually\" id=\"sk-estimator-id-6\" type=\"checkbox\" ><label for=\"sk-estimator-id-6\" class=\"sk-toggleable__label sk-toggleable__label-arrow\">DecisionTreeClassifier</label><div class=\"sk-toggleable__content\"><pre>DecisionTreeClassifier(random_state=42)</pre></div></div></div></div></div></div></div></div></div></div>"
      ],
      "text/plain": [
       "GridSearchCV(cv=StratifiedKFold(n_splits=5, random_state=None, shuffle=False),\n",
       "             estimator=DecisionTreeClassifier(random_state=42),\n",
       "             param_grid={'criterion': ['gini', 'entropy'],\n",
       "                         'max_depth': [None, 10, 20, 30, 40, 50],\n",
       "                         'min_samples_leaf': [1, 2, 4],\n",
       "                         'min_samples_split': [2, 5, 10]},\n",
       "             scoring='accuracy', verbose=10)"
      ]
     },
     "execution_count": 24,
     "metadata": {},
     "output_type": "execute_result"
    }
   ],
   "source": [
    "# Fitting GridSearchCV\n",
    "grid_search_dt.fit(X_train, y_train)"
   ]
  },
  {
   "cell_type": "code",
   "execution_count": 25,
   "id": "8de584fd",
   "metadata": {},
   "outputs": [
    {
     "data": {
      "text/plain": [
       "['mlspotify_decision_tree_gs']"
      ]
     },
     "execution_count": 25,
     "metadata": {},
     "output_type": "execute_result"
    }
   ],
   "source": [
    "# Saving the best model\n",
    "dump(grid_search_dt.best_estimator_, \"mlspotify_decision_tree_gs\")"
   ]
  },
  {
   "cell_type": "code",
   "execution_count": 26,
   "id": "342b5e45",
   "metadata": {},
   "outputs": [
    {
     "name": "stdout",
     "output_type": "stream",
     "text": [
      "Best parameters: {'criterion': 'gini', 'max_depth': 10, 'min_samples_leaf': 4, 'min_samples_split': 2}\n",
      "Best cross-validation accuracy: 0.91\n"
     ]
    }
   ],
   "source": [
    "# Printing the best parameters and best score\n",
    "print(\"Best parameters:\", grid_search_dt.best_params_)\n",
    "print(\"Best cross-validation accuracy: {:.2f}\".format(grid_search.best_score_))"
   ]
  },
  {
   "cell_type": "code",
   "execution_count": 47,
   "id": "028d21db",
   "metadata": {},
   "outputs": [
    {
     "name": "stdout",
     "output_type": "stream",
     "text": [
      "Test accuracy: 0.92\n"
     ]
    }
   ],
   "source": [
    "# Evaluating on the test set\n",
    "y_pred_dt = grid_search_dt.predict(X_test)\n",
    "print(\"Test accuracy: {:.2f}\".format(grid_search_dt.score(X_test, y_test)))"
   ]
  },
  {
   "cell_type": "code",
   "execution_count": 48,
   "id": "6cabebfb",
   "metadata": {},
   "outputs": [
    {
     "name": "stdout",
     "output_type": "stream",
     "text": [
      "[[28119   593]\n",
      " [ 2185  3549]]\n",
      "Classification report\n",
      "\n",
      "              precision    recall  f1-score   support\n",
      "\n",
      "           0       0.93      0.98      0.95     28712\n",
      "           1       0.86      0.62      0.72      5734\n",
      "\n",
      "    accuracy                           0.92     34446\n",
      "   macro avg       0.89      0.80      0.84     34446\n",
      "weighted avg       0.92      0.92      0.91     34446\n",
      "\n"
     ]
    }
   ],
   "source": [
    "# Displaying confusion matrix and classification report\n",
    "print(confusion_matrix(y_test, y_pred_dt))\n",
    "print(\"Classification report\\n\")\n",
    "print(classification_report(y_test, y_pred_dt))"
   ]
  },
  {
   "cell_type": "code",
   "execution_count": 51,
   "id": "e651ec94",
   "metadata": {},
   "outputs": [],
   "source": [
    "# Calculating ROC curve and ROC area\n",
    "fpr_dt, tpr_dt, _ = roc_curve(y_test, y_pred_dt)\n",
    "roc_auc = auc(fpr_dt, tpr_dt)"
   ]
  },
  {
   "cell_type": "code",
   "execution_count": 52,
   "id": "7c263a67",
   "metadata": {},
   "outputs": [
    {
     "data": {
      "image/png": "[encoded data removed]",
      "text/plain": [
       "<Figure size 640x480 with 1 Axes>"
      ]
     },
     "metadata": {},
     "output_type": "display_data"
    }
   ],
   "source": [
    "plt.figure()\n",
    "plt.plot(fpr_dt, tpr_dt, color='darkorange', lw=2, label='ROC curve (area = %0.2f)' % roc_auc)\n",
    "plt.plot([0, 1], [0, 1], color='navy', lw=2, linestyle='--')\n",
    "plt.xlim([0.0, 1.0])\n",
    "plt.ylim([0.0, 1.05])\n",
    "plt.xlabel('False Positive Rate')\n",
    "plt.ylabel('True Positive Rate')\n",
    "plt.title('Receiver Operating Characteristic')\n",
    "plt.legend(loc=\"lower right\")\n",
    "plt.show()"
   ]
  },
  {
   "cell_type": "markdown",
   "id": "dad126d1",
   "metadata": {},
   "source": [
    "# Ada Boost "
   ]
  },
  {
   "cell_type": "code",
   "execution_count": 29,
   "id": "54cbece6",
   "metadata": {},
   "outputs": [],
   "source": [
    "# Ada - GS "
   ]
  },
  {
   "cell_type": "code",
   "execution_count": 32,
   "id": "7c14d229",
   "metadata": {},
   "outputs": [],
   "source": [
    "from sklearn.ensemble import AdaBoostClassifier"
   ]
  },
  {
   "cell_type": "code",
   "execution_count": 33,
   "id": "7905aed0",
   "metadata": {},
   "outputs": [],
   "source": [
    "# Configuring AdaBoost parameters for GridSearch\n",
    "param_grid_ada = {\n",
    "    'base_estimator__max_depth': [1, 2, 3],\n",
    "    'base_estimator__min_samples_leaf': [1, 2, 4],\n",
    "    'n_estimators': [50, 100, 200],\n",
    "    'learning_rate': [0.01, 0.1, 1]\n",
    "}"
   ]
  },
  {
   "cell_type": "code",
   "execution_count": 34,
   "id": "31ffc297",
   "metadata": {},
   "outputs": [],
   "source": [
    "# Setting up the base estimator\n",
    "base_estimator = DecisionTreeClassifier(random_state=42)\n",
    "\n",
    "# Creating GridSearchCV object\n",
    "grid_search_ada = GridSearchCV(AdaBoostClassifier(base_estimator=base_estimator, random_state=42), param_grid_ada, cv=StratifiedKFold(n_splits=5), scoring='accuracy', verbose=10)\n"
   ]
  },
  {
   "cell_type": "code",
   "execution_count": 35,
   "id": "74b6f8f6",
   "metadata": {
    "scrolled": true
   },
   "outputs": [
    {
     "name": "stdout",
     "output_type": "stream",
     "text": [
      "Fitting 5 folds for each of 81 candidates, totalling 405 fits\n",
      "[CV 1/5; 1/81] START base_estimator__max_depth=1, base_estimator__min_samples_leaf=1, learning_rate=0.01, n_estimators=50\n"
     ]
    },
    {
     "name": "stderr",
     "output_type": "stream",
     "text": [
      "/Users/vaishnavimocherla/anaconda3/lib/python3.11/site-packages/sklearn/ensemble/_base.py:156: FutureWarning: `base_estimator` was renamed to `estimator` in version 1.2 and will be removed in 1.4.\n",
      "  warnings.warn(\n"
     ]
    },
    {
     "name": "stdout",
     "output_type": "stream",
     "text": [
      "[CV 1/5; 1/81] END base_estimator__max_depth=1, base_estimator__min_samples_leaf=1, learning_rate=0.01, n_estimators=50;, score=0.915 total time=   3.7s\n",
      "[CV 2/5; 1/81] START base_estimator__max_depth=1, base_estimator__min_samples_leaf=1, learning_rate=0.01, n_estimators=50\n"
     ]
    },
    {
     "name": "stderr",
     "output_type": "stream",
     "text": [
      "/Users/vaishnavimocherla/anaconda3/lib/python3.11/site-packages/sklearn/ensemble/_base.py:156: FutureWarning: `base_estimator` was renamed to `estimator` in version 1.2 and will be removed in 1.4.\n",
      "  warnings.warn(\n"
     ]
    },
    {
     "name": "stdout",
     "output_type": "stream",
     "text": [
      "[CV 2/5; 1/81] END base_estimator__max_depth=1, base_estimator__min_samples_leaf=1, learning_rate=0.01, n_estimators=50;, score=0.916 total time=   3.6s\n",
      "[CV 3/5; 1/81] START base_estimator__max_depth=1, base_estimator__min_samples_leaf=1, learning_rate=0.01, n_estimators=50\n"
     ]
    },
    {
     "name": "stderr",
     "output_type": "stream",
     "text": [
      "/Users/vaishnavimocherla/anaconda3/lib/python3.11/site-packages/sklearn/ensemble/_base.py:156: FutureWarning: `base_estimator` was renamed to `estimator` in version 1.2 and will be removed in 1.4.\n",
      "  warnings.warn(\n"
     ]
    },
    {
     "name": "stdout",
     "output_type": "stream",
     "text": [
      "[CV 3/5; 1/81] END base_estimator__max_depth=1, base_estimator__min_samples_leaf=1, learning_rate=0.01, n_estimators=50;, score=0.915 total time=   3.3s\n",
      "[CV 4/5; 1/81] START base_estimator__max_depth=1, base_estimator__min_samples_leaf=1, learning_rate=0.01, n_estimators=50\n"
     ]
    },
    {
     "name": "stderr",
     "output_type": "stream",
     "text": [
      "/Users/vaishnavimocherla/anaconda3/lib/python3.11/site-packages/sklearn/ensemble/_base.py:156: FutureWarning: `base_estimator` was renamed to `estimator` in version 1.2 and will be removed in 1.4.\n",
      "  warnings.warn(\n"
     ]
    },
    {
     "name": "stdout",
     "output_type": "stream",
     "text": [
      "[CV 4/5; 1/81] END base_estimator__max_depth=1, base_estimator__min_samples_leaf=1, learning_rate=0.01, n_estimators=50;, score=0.913 total time=   3.3s\n",
      "[CV 5/5; 1/81] START base_estimator__max_depth=1, base_estimator__min_samples_leaf=1, learning_rate=0.01, n_estimators=50\n"
     ]
    },
    {
     "name": "stderr",
     "output_type": "stream",
     "text": [
      "/Users/vaishnavimocherla/anaconda3/lib/python3.11/site-packages/sklearn/ensemble/_base.py:156: FutureWarning: `base_estimator` was renamed to `estimator` in version 1.2 and will be removed in 1.4.\n",
      "  warnings.warn(\n"
     ]
    },
    {
     "name": "stdout",
     "output_type": "stream",
     "text": [
      "[CV 5/5; 1/81] END base_estimator__max_depth=1, base_estimator__min_samples_leaf=1, learning_rate=0.01, n_estimators=50;, score=0.915 total time=   3.5s\n",
      "[CV 1/5; 2/81] START base_estimator__max_depth=1, base_estimator__min_samples_leaf=1, learning_rate=0.01, n_estimators=100\n"
     ]
    },
    {
     "name": "stderr",
     "output_type": "stream",
     "text": [
      "/Users/vaishnavimocherla/anaconda3/lib/python3.11/site-packages/sklearn/ensemble/_base.py:156: FutureWarning: `base_estimator` was renamed to `estimator` in version 1.2 and will be removed in 1.4.\n",
      "  warnings.warn(\n"
     ]
    },
    {
     "name": "stdout",
     "output_type": "stream",
     "text": [
      "[CV 1/5; 2/81] END base_estimator__max_depth=1, base_estimator__min_samples_leaf=1, learning_rate=0.01, n_estimators=100;, score=0.915 total time=   7.3s\n",
      "[CV 2/5; 2/81] START base_estimator__max_depth=1, base_estimator__min_samples_leaf=1, learning_rate=0.01, n_estimators=100\n"
     ]
    },
    {
     "name": "stderr",
     "output_type": "stream",
     "text": [
      "/Users/vaishnavimocherla/anaconda3/lib/python3.11/site-packages/sklearn/ensemble/_base.py:156: FutureWarning: `base_estimator` was renamed to `estimator` in version 1.2 and will be removed in 1.4.\n",
      "  warnings.warn(\n"
     ]
    },
    {
     "name": "stdout",
     "output_type": "stream",
     "text": [
      "[CV 2/5; 2/81] END base_estimator__max_depth=1, base_estimator__min_samples_leaf=1, learning_rate=0.01, n_estimators=100;, score=0.916 total time=   6.8s\n",
      "[CV 3/5; 2/81] START base_estimator__max_depth=1, base_estimator__min_samples_leaf=1, learning_rate=0.01, n_estimators=100\n"
     ]
    },
    {
     "name": "stderr",
     "output_type": "stream",
     "text": [
      "/Users/vaishnavimocherla/anaconda3/lib/python3.11/site-packages/sklearn/ensemble/_base.py:156: FutureWarning: `base_estimator` was renamed to `estimator` in version 1.2 and will be removed in 1.4.\n",
      "  warnings.warn(\n"
     ]
    },
    {
     "name": "stdout",
     "output_type": "stream",
     "text": [
      "[CV 3/5; 2/81] END base_estimator__max_depth=1, base_estimator__min_samples_leaf=1, learning_rate=0.01, n_estimators=100;, score=0.915 total time=   6.8s\n",
      "[CV 4/5; 2/81] START base_estimator__max_depth=1, base_estimator__min_samples_leaf=1, learning_rate=0.01, n_estimators=100\n"
     ]
    },
    {
     "name": "stderr",
     "output_type": "stream",
     "text": [
      "/Users/vaishnavimocherla/anaconda3/lib/python3.11/site-packages/sklearn/ensemble/_base.py:156: FutureWarning: `base_estimator` was renamed to `estimator` in version 1.2 and will be removed in 1.4.\n",
      "  warnings.warn(\n"
     ]
    },
    {
     "name": "stdout",
     "output_type": "stream",
     "text": [
      "[CV 4/5; 2/81] END base_estimator__max_depth=1, base_estimator__min_samples_leaf=1, learning_rate=0.01, n_estimators=100;, score=0.913 total time=   6.7s\n",
      "[CV 5/5; 2/81] START base_estimator__max_depth=1, base_estimator__min_samples_leaf=1, learning_rate=0.01, n_estimators=100\n"
     ]
    },
    {
     "name": "stderr",
     "output_type": "stream",
     "text": [
      "/Users/vaishnavimocherla/anaconda3/lib/python3.11/site-packages/sklearn/ensemble/_base.py:156: FutureWarning: `base_estimator` was renamed to `estimator` in version 1.2 and will be removed in 1.4.\n",
      "  warnings.warn(\n"
     ]
    },
    {
     "name": "stdout",
     "output_type": "stream",
     "text": [
      "[CV 5/5; 2/81] END base_estimator__max_depth=1, base_estimator__min_samples_leaf=1, learning_rate=0.01, n_estimators=100;, score=0.914 total time=   6.6s\n",
      "[CV 1/5; 3/81] START base_estimator__max_depth=1, base_estimator__min_samples_leaf=1, learning_rate=0.01, n_estimators=200\n"
     ]
    },
    {
     "name": "stderr",
     "output_type": "stream",
     "text": [
      "/Users/vaishnavimocherla/anaconda3/lib/python3.11/site-packages/sklearn/ensemble/_base.py:156: FutureWarning: `base_estimator` was renamed to `estimator` in version 1.2 and will be removed in 1.4.\n",
      "  warnings.warn(\n"
     ]
    },
    {
     "name": "stdout",
     "output_type": "stream",
     "text": [
      "[CV 1/5; 3/81] END base_estimator__max_depth=1, base_estimator__min_samples_leaf=1, learning_rate=0.01, n_estimators=200;, score=0.913 total time=  14.4s\n",
      "[CV 2/5; 3/81] START base_estimator__max_depth=1, base_estimator__min_samples_leaf=1, learning_rate=0.01, n_estimators=200\n"
     ]
    },
    {
     "name": "stderr",
     "output_type": "stream",
     "text": [
      "/Users/vaishnavimocherla/anaconda3/lib/python3.11/site-packages/sklearn/ensemble/_base.py:156: FutureWarning: `base_estimator` was renamed to `estimator` in version 1.2 and will be removed in 1.4.\n",
      "  warnings.warn(\n"
     ]
    },
    {
     "name": "stdout",
     "output_type": "stream",
     "text": [
      "[CV 2/5; 3/81] END base_estimator__max_depth=1, base_estimator__min_samples_leaf=1, learning_rate=0.01, n_estimators=200;, score=0.916 total time=  14.2s\n",
      "[CV 3/5; 3/81] START base_estimator__max_depth=1, base_estimator__min_samples_leaf=1, learning_rate=0.01, n_estimators=200\n"
     ]
    },
    {
     "name": "stderr",
     "output_type": "stream",
     "text": [
      "/Users/vaishnavimocherla/anaconda3/lib/python3.11/site-packages/sklearn/ensemble/_base.py:156: FutureWarning: `base_estimator` was renamed to `estimator` in version 1.2 and will be removed in 1.4.\n",
      "  warnings.warn(\n"
     ]
    },
    {
     "name": "stdout",
     "output_type": "stream",
     "text": [
      "[CV 3/5; 3/81] END base_estimator__max_depth=1, base_estimator__min_samples_leaf=1, learning_rate=0.01, n_estimators=200;, score=0.915 total time=  13.2s\n",
      "[CV 4/5; 3/81] START base_estimator__max_depth=1, base_estimator__min_samples_leaf=1, learning_rate=0.01, n_estimators=200\n"
     ]
    },
    {
     "name": "stderr",
     "output_type": "stream",
     "text": [
      "/Users/vaishnavimocherla/anaconda3/lib/python3.11/site-packages/sklearn/ensemble/_base.py:156: FutureWarning: `base_estimator` was renamed to `estimator` in version 1.2 and will be removed in 1.4.\n",
      "  warnings.warn(\n"
     ]
    },
    {
     "name": "stdout",
     "output_type": "stream",
     "text": [
      "[CV 4/5; 3/81] END base_estimator__max_depth=1, base_estimator__min_samples_leaf=1, learning_rate=0.01, n_estimators=200;, score=0.914 total time=  16.3s\n",
      "[CV 5/5; 3/81] START base_estimator__max_depth=1, base_estimator__min_samples_leaf=1, learning_rate=0.01, n_estimators=200\n"
     ]
    },
    {
     "name": "stderr",
     "output_type": "stream",
     "text": [
      "/Users/vaishnavimocherla/anaconda3/lib/python3.11/site-packages/sklearn/ensemble/_base.py:156: FutureWarning: `base_estimator` was renamed to `estimator` in version 1.2 and will be removed in 1.4.\n",
      "  warnings.warn(\n"
     ]
    },
    {
     "name": "stdout",
     "output_type": "stream",
     "text": [
      "[CV 5/5; 3/81] END base_estimator__max_depth=1, base_estimator__min_samples_leaf=1, learning_rate=0.01, n_estimators=200;, score=0.914 total time=  15.0s\n",
      "[CV 1/5; 4/81] START base_estimator__max_depth=1, base_estimator__min_samples_leaf=1, learning_rate=0.1, n_estimators=50\n"
     ]
    },
    {
     "name": "stderr",
     "output_type": "stream",
     "text": [
      "/Users/vaishnavimocherla/anaconda3/lib/python3.11/site-packages/sklearn/ensemble/_base.py:156: FutureWarning: `base_estimator` was renamed to `estimator` in version 1.2 and will be removed in 1.4.\n",
      "  warnings.warn(\n"
     ]
    },
    {
     "name": "stdout",
     "output_type": "stream",
     "text": [
      "[CV 1/5; 4/81] END base_estimator__max_depth=1, base_estimator__min_samples_leaf=1, learning_rate=0.1, n_estimators=50;, score=0.915 total time=   3.7s\n",
      "[CV 2/5; 4/81] START base_estimator__max_depth=1, base_estimator__min_samples_leaf=1, learning_rate=0.1, n_estimators=50\n"
     ]
    },
    {
     "name": "stderr",
     "output_type": "stream",
     "text": [
      "/Users/vaishnavimocherla/anaconda3/lib/python3.11/site-packages/sklearn/ensemble/_base.py:156: FutureWarning: `base_estimator` was renamed to `estimator` in version 1.2 and will be removed in 1.4.\n",
      "  warnings.warn(\n"
     ]
    },
    {
     "name": "stdout",
     "output_type": "stream",
     "text": [
      "[CV 2/5; 4/81] END base_estimator__max_depth=1, base_estimator__min_samples_leaf=1, learning_rate=0.1, n_estimators=50;, score=0.918 total time=   3.3s\n",
      "[CV 3/5; 4/81] START base_estimator__max_depth=1, base_estimator__min_samples_leaf=1, learning_rate=0.1, n_estimators=50\n"
     ]
    },
    {
     "name": "stderr",
     "output_type": "stream",
     "text": [
      "/Users/vaishnavimocherla/anaconda3/lib/python3.11/site-packages/sklearn/ensemble/_base.py:156: FutureWarning: `base_estimator` was renamed to `estimator` in version 1.2 and will be removed in 1.4.\n",
      "  warnings.warn(\n"
     ]
    },
    {
     "name": "stdout",
     "output_type": "stream",
     "text": [
      "[CV 3/5; 4/81] END base_estimator__max_depth=1, base_estimator__min_samples_leaf=1, learning_rate=0.1, n_estimators=50;, score=0.916 total time=   3.8s\n",
      "[CV 4/5; 4/81] START base_estimator__max_depth=1, base_estimator__min_samples_leaf=1, learning_rate=0.1, n_estimators=50\n"
     ]
    },
    {
     "name": "stderr",
     "output_type": "stream",
     "text": [
      "/Users/vaishnavimocherla/anaconda3/lib/python3.11/site-packages/sklearn/ensemble/_base.py:156: FutureWarning: `base_estimator` was renamed to `estimator` in version 1.2 and will be removed in 1.4.\n",
      "  warnings.warn(\n"
     ]
    },
    {
     "name": "stdout",
     "output_type": "stream",
     "text": [
      "[CV 4/5; 4/81] END base_estimator__max_depth=1, base_estimator__min_samples_leaf=1, learning_rate=0.1, n_estimators=50;, score=0.914 total time=   3.3s\n",
      "[CV 5/5; 4/81] START base_estimator__max_depth=1, base_estimator__min_samples_leaf=1, learning_rate=0.1, n_estimators=50\n"
     ]
    },
    {
     "name": "stderr",
     "output_type": "stream",
     "text": [
      "/Users/vaishnavimocherla/anaconda3/lib/python3.11/site-packages/sklearn/ensemble/_base.py:156: FutureWarning: `base_estimator` was renamed to `estimator` in version 1.2 and will be removed in 1.4.\n",
      "  warnings.warn(\n"
     ]
    },
    {
     "name": "stdout",
     "output_type": "stream",
     "text": [
      "[CV 5/5; 4/81] END base_estimator__max_depth=1, base_estimator__min_samples_leaf=1, learning_rate=0.1, n_estimators=50;, score=0.916 total time=   3.4s\n",
      "[CV 1/5; 5/81] START base_estimator__max_depth=1, base_estimator__min_samples_leaf=1, learning_rate=0.1, n_estimators=100\n"
     ]
    },
    {
     "name": "stderr",
     "output_type": "stream",
     "text": [
      "/Users/vaishnavimocherla/anaconda3/lib/python3.11/site-packages/sklearn/ensemble/_base.py:156: FutureWarning: `base_estimator` was renamed to `estimator` in version 1.2 and will be removed in 1.4.\n",
      "  warnings.warn(\n"
     ]
    },
    {
     "name": "stdout",
     "output_type": "stream",
     "text": [
      "[CV 1/5; 5/81] END base_estimator__max_depth=1, base_estimator__min_samples_leaf=1, learning_rate=0.1, n_estimators=100;, score=0.916 total time=   7.0s\n",
      "[CV 2/5; 5/81] START base_estimator__max_depth=1, base_estimator__min_samples_leaf=1, learning_rate=0.1, n_estimators=100\n"
     ]
    },
    {
     "name": "stderr",
     "output_type": "stream",
     "text": [
      "/Users/vaishnavimocherla/anaconda3/lib/python3.11/site-packages/sklearn/ensemble/_base.py:156: FutureWarning: `base_estimator` was renamed to `estimator` in version 1.2 and will be removed in 1.4.\n",
      "  warnings.warn(\n"
     ]
    },
    {
     "name": "stdout",
     "output_type": "stream",
     "text": [
      "[CV 2/5; 5/81] END base_estimator__max_depth=1, base_estimator__min_samples_leaf=1, learning_rate=0.1, n_estimators=100;, score=0.917 total time=   6.6s\n",
      "[CV 3/5; 5/81] START base_estimator__max_depth=1, base_estimator__min_samples_leaf=1, learning_rate=0.1, n_estimators=100\n"
     ]
    },
    {
     "name": "stderr",
     "output_type": "stream",
     "text": [
      "/Users/vaishnavimocherla/anaconda3/lib/python3.11/site-packages/sklearn/ensemble/_base.py:156: FutureWarning: `base_estimator` was renamed to `estimator` in version 1.2 and will be removed in 1.4.\n",
      "  warnings.warn(\n"
     ]
    },
    {
     "name": "stdout",
     "output_type": "stream",
     "text": [
      "[CV 3/5; 5/81] END base_estimator__max_depth=1, base_estimator__min_samples_leaf=1, learning_rate=0.1, n_estimators=100;, score=0.916 total time=   6.7s\n",
      "[CV 4/5; 5/81] START base_estimator__max_depth=1, base_estimator__min_samples_leaf=1, learning_rate=0.1, n_estimators=100\n"
     ]
    },
    {
     "name": "stderr",
     "output_type": "stream",
     "text": [
      "/Users/vaishnavimocherla/anaconda3/lib/python3.11/site-packages/sklearn/ensemble/_base.py:156: FutureWarning: `base_estimator` was renamed to `estimator` in version 1.2 and will be removed in 1.4.\n",
      "  warnings.warn(\n"
     ]
    },
    {
     "name": "stdout",
     "output_type": "stream",
     "text": [
      "[CV 4/5; 5/81] END base_estimator__max_depth=1, base_estimator__min_samples_leaf=1, learning_rate=0.1, n_estimators=100;, score=0.915 total time=   6.9s\n",
      "[CV 5/5; 5/81] START base_estimator__max_depth=1, base_estimator__min_samples_leaf=1, learning_rate=0.1, n_estimators=100\n"
     ]
    },
    {
     "name": "stderr",
     "output_type": "stream",
     "text": [
      "/Users/vaishnavimocherla/anaconda3/lib/python3.11/site-packages/sklearn/ensemble/_base.py:156: FutureWarning: `base_estimator` was renamed to `estimator` in version 1.2 and will be removed in 1.4.\n",
      "  warnings.warn(\n"
     ]
    },
    {
     "name": "stdout",
     "output_type": "stream",
     "text": [
      "[CV 5/5; 5/81] END base_estimator__max_depth=1, base_estimator__min_samples_leaf=1, learning_rate=0.1, n_estimators=100;, score=0.916 total time=   6.7s\n",
      "[CV 1/5; 6/81] START base_estimator__max_depth=1, base_estimator__min_samples_leaf=1, learning_rate=0.1, n_estimators=200\n"
     ]
    },
    {
     "name": "stderr",
     "output_type": "stream",
     "text": [
      "/Users/vaishnavimocherla/anaconda3/lib/python3.11/site-packages/sklearn/ensemble/_base.py:156: FutureWarning: `base_estimator` was renamed to `estimator` in version 1.2 and will be removed in 1.4.\n",
      "  warnings.warn(\n"
     ]
    },
    {
     "name": "stdout",
     "output_type": "stream",
     "text": [
      "[CV 1/5; 6/81] END base_estimator__max_depth=1, base_estimator__min_samples_leaf=1, learning_rate=0.1, n_estimators=200;, score=0.917 total time=  13.0s\n",
      "[CV 2/5; 6/81] START base_estimator__max_depth=1, base_estimator__min_samples_leaf=1, learning_rate=0.1, n_estimators=200\n"
     ]
    },
    {
     "name": "stderr",
     "output_type": "stream",
     "text": [
      "/Users/vaishnavimocherla/anaconda3/lib/python3.11/site-packages/sklearn/ensemble/_base.py:156: FutureWarning: `base_estimator` was renamed to `estimator` in version 1.2 and will be removed in 1.4.\n",
      "  warnings.warn(\n"
     ]
    },
    {
     "name": "stdout",
     "output_type": "stream",
     "text": [
      "[CV 2/5; 6/81] END base_estimator__max_depth=1, base_estimator__min_samples_leaf=1, learning_rate=0.1, n_estimators=200;, score=0.918 total time=  13.0s\n",
      "[CV 3/5; 6/81] START base_estimator__max_depth=1, base_estimator__min_samples_leaf=1, learning_rate=0.1, n_estimators=200\n"
     ]
    },
    {
     "name": "stderr",
     "output_type": "stream",
     "text": [
      "/Users/vaishnavimocherla/anaconda3/lib/python3.11/site-packages/sklearn/ensemble/_base.py:156: FutureWarning: `base_estimator` was renamed to `estimator` in version 1.2 and will be removed in 1.4.\n",
      "  warnings.warn(\n"
     ]
    },
    {
     "name": "stdout",
     "output_type": "stream",
     "text": [
      "[CV 3/5; 6/81] END base_estimator__max_depth=1, base_estimator__min_samples_leaf=1, learning_rate=0.1, n_estimators=200;, score=0.917 total time=  13.2s\n",
      "[CV 4/5; 6/81] START base_estimator__max_depth=1, base_estimator__min_samples_leaf=1, learning_rate=0.1, n_estimators=200\n"
     ]
    },
    {
     "name": "stderr",
     "output_type": "stream",
     "text": [
      "/Users/vaishnavimocherla/anaconda3/lib/python3.11/site-packages/sklearn/ensemble/_base.py:156: FutureWarning: `base_estimator` was renamed to `estimator` in version 1.2 and will be removed in 1.4.\n",
      "  warnings.warn(\n"
     ]
    },
    {
     "name": "stdout",
     "output_type": "stream",
     "text": [
      "[CV 4/5; 6/81] END base_estimator__max_depth=1, base_estimator__min_samples_leaf=1, learning_rate=0.1, n_estimators=200;, score=0.916 total time=  13.2s\n",
      "[CV 5/5; 6/81] START base_estimator__max_depth=1, base_estimator__min_samples_leaf=1, learning_rate=0.1, n_estimators=200\n"
     ]
    },
    {
     "name": "stderr",
     "output_type": "stream",
     "text": [
      "/Users/vaishnavimocherla/anaconda3/lib/python3.11/site-packages/sklearn/ensemble/_base.py:156: FutureWarning: `base_estimator` was renamed to `estimator` in version 1.2 and will be removed in 1.4.\n",
      "  warnings.warn(\n"
     ]
    },
    {
     "name": "stdout",
     "output_type": "stream",
     "text": [
      "[CV 5/5; 6/81] END base_estimator__max_depth=1, base_estimator__min_samples_leaf=1, learning_rate=0.1, n_estimators=200;, score=0.916 total time=  13.1s\n",
      "[CV 1/5; 7/81] START base_estimator__max_depth=1, base_estimator__min_samples_leaf=1, learning_rate=1, n_estimators=50\n"
     ]
    },
    {
     "name": "stderr",
     "output_type": "stream",
     "text": [
      "/Users/vaishnavimocherla/anaconda3/lib/python3.11/site-packages/sklearn/ensemble/_base.py:156: FutureWarning: `base_estimator` was renamed to `estimator` in version 1.2 and will be removed in 1.4.\n",
      "  warnings.warn(\n"
     ]
    },
    {
     "name": "stdout",
     "output_type": "stream",
     "text": [
      "[CV 1/5; 7/81] END base_estimator__max_depth=1, base_estimator__min_samples_leaf=1, learning_rate=1, n_estimators=50;, score=0.917 total time=   3.5s\n",
      "[CV 2/5; 7/81] START base_estimator__max_depth=1, base_estimator__min_samples_leaf=1, learning_rate=1, n_estimators=50\n"
     ]
    },
    {
     "name": "stderr",
     "output_type": "stream",
     "text": [
      "/Users/vaishnavimocherla/anaconda3/lib/python3.11/site-packages/sklearn/ensemble/_base.py:156: FutureWarning: `base_estimator` was renamed to `estimator` in version 1.2 and will be removed in 1.4.\n",
      "  warnings.warn(\n"
     ]
    },
    {
     "name": "stdout",
     "output_type": "stream",
     "text": [
      "[CV 2/5; 7/81] END base_estimator__max_depth=1, base_estimator__min_samples_leaf=1, learning_rate=1, n_estimators=50;, score=0.918 total time=   3.3s\n",
      "[CV 3/5; 7/81] START base_estimator__max_depth=1, base_estimator__min_samples_leaf=1, learning_rate=1, n_estimators=50\n"
     ]
    },
    {
     "name": "stderr",
     "output_type": "stream",
     "text": [
      "/Users/vaishnavimocherla/anaconda3/lib/python3.11/site-packages/sklearn/ensemble/_base.py:156: FutureWarning: `base_estimator` was renamed to `estimator` in version 1.2 and will be removed in 1.4.\n",
      "  warnings.warn(\n"
     ]
    },
    {
     "name": "stdout",
     "output_type": "stream",
     "text": [
      "[CV 3/5; 7/81] END base_estimator__max_depth=1, base_estimator__min_samples_leaf=1, learning_rate=1, n_estimators=50;, score=0.915 total time=   3.5s\n",
      "[CV 4/5; 7/81] START base_estimator__max_depth=1, base_estimator__min_samples_leaf=1, learning_rate=1, n_estimators=50\n"
     ]
    },
    {
     "name": "stderr",
     "output_type": "stream",
     "text": [
      "/Users/vaishnavimocherla/anaconda3/lib/python3.11/site-packages/sklearn/ensemble/_base.py:156: FutureWarning: `base_estimator` was renamed to `estimator` in version 1.2 and will be removed in 1.4.\n",
      "  warnings.warn(\n"
     ]
    },
    {
     "name": "stdout",
     "output_type": "stream",
     "text": [
      "[CV 4/5; 7/81] END base_estimator__max_depth=1, base_estimator__min_samples_leaf=1, learning_rate=1, n_estimators=50;, score=0.915 total time=   3.3s\n",
      "[CV 5/5; 7/81] START base_estimator__max_depth=1, base_estimator__min_samples_leaf=1, learning_rate=1, n_estimators=50\n"
     ]
    },
    {
     "name": "stderr",
     "output_type": "stream",
     "text": [
      "/Users/vaishnavimocherla/anaconda3/lib/python3.11/site-packages/sklearn/ensemble/_base.py:156: FutureWarning: `base_estimator` was renamed to `estimator` in version 1.2 and will be removed in 1.4.\n",
      "  warnings.warn(\n"
     ]
    },
    {
     "name": "stdout",
     "output_type": "stream",
     "text": [
      "[CV 5/5; 7/81] END base_estimator__max_depth=1, base_estimator__min_samples_leaf=1, learning_rate=1, n_estimators=50;, score=0.915 total time=   3.8s\n",
      "[CV 1/5; 8/81] START base_estimator__max_depth=1, base_estimator__min_samples_leaf=1, learning_rate=1, n_estimators=100\n"
     ]
    },
    {
     "name": "stderr",
     "output_type": "stream",
     "text": [
      "/Users/vaishnavimocherla/anaconda3/lib/python3.11/site-packages/sklearn/ensemble/_base.py:156: FutureWarning: `base_estimator` was renamed to `estimator` in version 1.2 and will be removed in 1.4.\n",
      "  warnings.warn(\n"
     ]
    },
    {
     "name": "stdout",
     "output_type": "stream",
     "text": [
      "[CV 1/5; 8/81] END base_estimator__max_depth=1, base_estimator__min_samples_leaf=1, learning_rate=1, n_estimators=100;, score=0.917 total time=   8.3s\n",
      "[CV 2/5; 8/81] START base_estimator__max_depth=1, base_estimator__min_samples_leaf=1, learning_rate=1, n_estimators=100\n"
     ]
    },
    {
     "name": "stderr",
     "output_type": "stream",
     "text": [
      "/Users/vaishnavimocherla/anaconda3/lib/python3.11/site-packages/sklearn/ensemble/_base.py:156: FutureWarning: `base_estimator` was renamed to `estimator` in version 1.2 and will be removed in 1.4.\n",
      "  warnings.warn(\n"
     ]
    },
    {
     "name": "stdout",
     "output_type": "stream",
     "text": [
      "[CV 2/5; 8/81] END base_estimator__max_depth=1, base_estimator__min_samples_leaf=1, learning_rate=1, n_estimators=100;, score=0.918 total time=   7.5s\n",
      "[CV 3/5; 8/81] START base_estimator__max_depth=1, base_estimator__min_samples_leaf=1, learning_rate=1, n_estimators=100\n"
     ]
    },
    {
     "name": "stderr",
     "output_type": "stream",
     "text": [
      "/Users/vaishnavimocherla/anaconda3/lib/python3.11/site-packages/sklearn/ensemble/_base.py:156: FutureWarning: `base_estimator` was renamed to `estimator` in version 1.2 and will be removed in 1.4.\n",
      "  warnings.warn(\n"
     ]
    },
    {
     "name": "stdout",
     "output_type": "stream",
     "text": [
      "[CV 3/5; 8/81] END base_estimator__max_depth=1, base_estimator__min_samples_leaf=1, learning_rate=1, n_estimators=100;, score=0.916 total time=   6.8s\n",
      "[CV 4/5; 8/81] START base_estimator__max_depth=1, base_estimator__min_samples_leaf=1, learning_rate=1, n_estimators=100\n"
     ]
    },
    {
     "name": "stderr",
     "output_type": "stream",
     "text": [
      "/Users/vaishnavimocherla/anaconda3/lib/python3.11/site-packages/sklearn/ensemble/_base.py:156: FutureWarning: `base_estimator` was renamed to `estimator` in version 1.2 and will be removed in 1.4.\n",
      "  warnings.warn(\n"
     ]
    },
    {
     "name": "stdout",
     "output_type": "stream",
     "text": [
      "[CV 4/5; 8/81] END base_estimator__max_depth=1, base_estimator__min_samples_leaf=1, learning_rate=1, n_estimators=100;, score=0.914 total time=   6.5s\n",
      "[CV 5/5; 8/81] START base_estimator__max_depth=1, base_estimator__min_samples_leaf=1, learning_rate=1, n_estimators=100\n"
     ]
    },
    {
     "name": "stderr",
     "output_type": "stream",
     "text": [
      "/Users/vaishnavimocherla/anaconda3/lib/python3.11/site-packages/sklearn/ensemble/_base.py:156: FutureWarning: `base_estimator` was renamed to `estimator` in version 1.2 and will be removed in 1.4.\n",
      "  warnings.warn(\n"
     ]
    },
    {
     "name": "stdout",
     "output_type": "stream",
     "text": [
      "[CV 5/5; 8/81] END base_estimator__max_depth=1, base_estimator__min_samples_leaf=1, learning_rate=1, n_estimators=100;, score=0.915 total time=   6.5s\n",
      "[CV 1/5; 9/81] START base_estimator__max_depth=1, base_estimator__min_samples_leaf=1, learning_rate=1, n_estimators=200\n"
     ]
    },
    {
     "name": "stderr",
     "output_type": "stream",
     "text": [
      "/Users/vaishnavimocherla/anaconda3/lib/python3.11/site-packages/sklearn/ensemble/_base.py:156: FutureWarning: `base_estimator` was renamed to `estimator` in version 1.2 and will be removed in 1.4.\n",
      "  warnings.warn(\n"
     ]
    },
    {
     "name": "stdout",
     "output_type": "stream",
     "text": [
      "[CV 1/5; 9/81] END base_estimator__max_depth=1, base_estimator__min_samples_leaf=1, learning_rate=1, n_estimators=200;, score=0.917 total time=  13.1s\n",
      "[CV 2/5; 9/81] START base_estimator__max_depth=1, base_estimator__min_samples_leaf=1, learning_rate=1, n_estimators=200\n"
     ]
    },
    {
     "name": "stderr",
     "output_type": "stream",
     "text": [
      "/Users/vaishnavimocherla/anaconda3/lib/python3.11/site-packages/sklearn/ensemble/_base.py:156: FutureWarning: `base_estimator` was renamed to `estimator` in version 1.2 and will be removed in 1.4.\n",
      "  warnings.warn(\n"
     ]
    },
    {
     "name": "stdout",
     "output_type": "stream",
     "text": [
      "[CV 2/5; 9/81] END base_estimator__max_depth=1, base_estimator__min_samples_leaf=1, learning_rate=1, n_estimators=200;, score=0.919 total time=  13.0s\n",
      "[CV 3/5; 9/81] START base_estimator__max_depth=1, base_estimator__min_samples_leaf=1, learning_rate=1, n_estimators=200\n"
     ]
    },
    {
     "name": "stderr",
     "output_type": "stream",
     "text": [
      "/Users/vaishnavimocherla/anaconda3/lib/python3.11/site-packages/sklearn/ensemble/_base.py:156: FutureWarning: `base_estimator` was renamed to `estimator` in version 1.2 and will be removed in 1.4.\n",
      "  warnings.warn(\n"
     ]
    },
    {
     "name": "stdout",
     "output_type": "stream",
     "text": [
      "[CV 3/5; 9/81] END base_estimator__max_depth=1, base_estimator__min_samples_leaf=1, learning_rate=1, n_estimators=200;, score=0.916 total time=  13.1s\n",
      "[CV 4/5; 9/81] START base_estimator__max_depth=1, base_estimator__min_samples_leaf=1, learning_rate=1, n_estimators=200\n"
     ]
    },
    {
     "name": "stderr",
     "output_type": "stream",
     "text": [
      "/Users/vaishnavimocherla/anaconda3/lib/python3.11/site-packages/sklearn/ensemble/_base.py:156: FutureWarning: `base_estimator` was renamed to `estimator` in version 1.2 and will be removed in 1.4.\n",
      "  warnings.warn(\n"
     ]
    },
    {
     "name": "stdout",
     "output_type": "stream",
     "text": [
      "[CV 4/5; 9/81] END base_estimator__max_depth=1, base_estimator__min_samples_leaf=1, learning_rate=1, n_estimators=200;, score=0.915 total time=  14.7s\n",
      "[CV 5/5; 9/81] START base_estimator__max_depth=1, base_estimator__min_samples_leaf=1, learning_rate=1, n_estimators=200\n"
     ]
    },
    {
     "name": "stderr",
     "output_type": "stream",
     "text": [
      "/Users/vaishnavimocherla/anaconda3/lib/python3.11/site-packages/sklearn/ensemble/_base.py:156: FutureWarning: `base_estimator` was renamed to `estimator` in version 1.2 and will be removed in 1.4.\n",
      "  warnings.warn(\n"
     ]
    },
    {
     "name": "stdout",
     "output_type": "stream",
     "text": [
      "[CV 5/5; 9/81] END base_estimator__max_depth=1, base_estimator__min_samples_leaf=1, learning_rate=1, n_estimators=200;, score=0.916 total time=  15.7s\n",
      "[CV 1/5; 10/81] START base_estimator__max_depth=1, base_estimator__min_samples_leaf=2, learning_rate=0.01, n_estimators=50\n"
     ]
    },
    {
     "name": "stderr",
     "output_type": "stream",
     "text": [
      "/Users/vaishnavimocherla/anaconda3/lib/python3.11/site-packages/sklearn/ensemble/_base.py:156: FutureWarning: `base_estimator` was renamed to `estimator` in version 1.2 and will be removed in 1.4.\n",
      "  warnings.warn(\n"
     ]
    },
    {
     "name": "stdout",
     "output_type": "stream",
     "text": [
      "[CV 1/5; 10/81] END base_estimator__max_depth=1, base_estimator__min_samples_leaf=2, learning_rate=0.01, n_estimators=50;, score=0.915 total time=   3.6s\n",
      "[CV 2/5; 10/81] START base_estimator__max_depth=1, base_estimator__min_samples_leaf=2, learning_rate=0.01, n_estimators=50\n"
     ]
    },
    {
     "name": "stderr",
     "output_type": "stream",
     "text": [
      "/Users/vaishnavimocherla/anaconda3/lib/python3.11/site-packages/sklearn/ensemble/_base.py:156: FutureWarning: `base_estimator` was renamed to `estimator` in version 1.2 and will be removed in 1.4.\n",
      "  warnings.warn(\n"
     ]
    },
    {
     "name": "stdout",
     "output_type": "stream",
     "text": [
      "[CV 2/5; 10/81] END base_estimator__max_depth=1, base_estimator__min_samples_leaf=2, learning_rate=0.01, n_estimators=50;, score=0.916 total time=   4.0s\n",
      "[CV 3/5; 10/81] START base_estimator__max_depth=1, base_estimator__min_samples_leaf=2, learning_rate=0.01, n_estimators=50\n"
     ]
    },
    {
     "name": "stderr",
     "output_type": "stream",
     "text": [
      "/Users/vaishnavimocherla/anaconda3/lib/python3.11/site-packages/sklearn/ensemble/_base.py:156: FutureWarning: `base_estimator` was renamed to `estimator` in version 1.2 and will be removed in 1.4.\n",
      "  warnings.warn(\n"
     ]
    },
    {
     "name": "stdout",
     "output_type": "stream",
     "text": [
      "[CV 3/5; 10/81] END base_estimator__max_depth=1, base_estimator__min_samples_leaf=2, learning_rate=0.01, n_estimators=50;, score=0.915 total time=   3.6s\n",
      "[CV 4/5; 10/81] START base_estimator__max_depth=1, base_estimator__min_samples_leaf=2, learning_rate=0.01, n_estimators=50\n"
     ]
    },
    {
     "name": "stderr",
     "output_type": "stream",
     "text": [
      "/Users/vaishnavimocherla/anaconda3/lib/python3.11/site-packages/sklearn/ensemble/_base.py:156: FutureWarning: `base_estimator` was renamed to `estimator` in version 1.2 and will be removed in 1.4.\n",
      "  warnings.warn(\n"
     ]
    },
    {
     "name": "stdout",
     "output_type": "stream",
     "text": [
      "[CV 4/5; 10/81] END base_estimator__max_depth=1, base_estimator__min_samples_leaf=2, learning_rate=0.01, n_estimators=50;, score=0.913 total time=   3.3s\n",
      "[CV 5/5; 10/81] START base_estimator__max_depth=1, base_estimator__min_samples_leaf=2, learning_rate=0.01, n_estimators=50\n"
     ]
    },
    {
     "name": "stderr",
     "output_type": "stream",
     "text": [
      "/Users/vaishnavimocherla/anaconda3/lib/python3.11/site-packages/sklearn/ensemble/_base.py:156: FutureWarning: `base_estimator` was renamed to `estimator` in version 1.2 and will be removed in 1.4.\n",
      "  warnings.warn(\n"
     ]
    },
    {
     "name": "stdout",
     "output_type": "stream",
     "text": [
      "[CV 5/5; 10/81] END base_estimator__max_depth=1, base_estimator__min_samples_leaf=2, learning_rate=0.01, n_estimators=50;, score=0.915 total time=   3.2s\n",
      "[CV 1/5; 11/81] START base_estimator__max_depth=1, base_estimator__min_samples_leaf=2, learning_rate=0.01, n_estimators=100\n"
     ]
    },
    {
     "name": "stderr",
     "output_type": "stream",
     "text": [
      "/Users/vaishnavimocherla/anaconda3/lib/python3.11/site-packages/sklearn/ensemble/_base.py:156: FutureWarning: `base_estimator` was renamed to `estimator` in version 1.2 and will be removed in 1.4.\n",
      "  warnings.warn(\n"
     ]
    },
    {
     "name": "stdout",
     "output_type": "stream",
     "text": [
      "[CV 1/5; 11/81] END base_estimator__max_depth=1, base_estimator__min_samples_leaf=2, learning_rate=0.01, n_estimators=100;, score=0.915 total time=   6.6s\n",
      "[CV 2/5; 11/81] START base_estimator__max_depth=1, base_estimator__min_samples_leaf=2, learning_rate=0.01, n_estimators=100\n"
     ]
    },
    {
     "name": "stderr",
     "output_type": "stream",
     "text": [
      "/Users/vaishnavimocherla/anaconda3/lib/python3.11/site-packages/sklearn/ensemble/_base.py:156: FutureWarning: `base_estimator` was renamed to `estimator` in version 1.2 and will be removed in 1.4.\n",
      "  warnings.warn(\n"
     ]
    },
    {
     "name": "stdout",
     "output_type": "stream",
     "text": [
      "[CV 2/5; 11/81] END base_estimator__max_depth=1, base_estimator__min_samples_leaf=2, learning_rate=0.01, n_estimators=100;, score=0.916 total time=   6.6s\n",
      "[CV 3/5; 11/81] START base_estimator__max_depth=1, base_estimator__min_samples_leaf=2, learning_rate=0.01, n_estimators=100\n"
     ]
    },
    {
     "name": "stderr",
     "output_type": "stream",
     "text": [
      "/Users/vaishnavimocherla/anaconda3/lib/python3.11/site-packages/sklearn/ensemble/_base.py:156: FutureWarning: `base_estimator` was renamed to `estimator` in version 1.2 and will be removed in 1.4.\n",
      "  warnings.warn(\n"
     ]
    },
    {
     "name": "stdout",
     "output_type": "stream",
     "text": [
      "[CV 3/5; 11/81] END base_estimator__max_depth=1, base_estimator__min_samples_leaf=2, learning_rate=0.01, n_estimators=100;, score=0.915 total time=   6.8s\n",
      "[CV 4/5; 11/81] START base_estimator__max_depth=1, base_estimator__min_samples_leaf=2, learning_rate=0.01, n_estimators=100\n"
     ]
    },
    {
     "name": "stderr",
     "output_type": "stream",
     "text": [
      "/Users/vaishnavimocherla/anaconda3/lib/python3.11/site-packages/sklearn/ensemble/_base.py:156: FutureWarning: `base_estimator` was renamed to `estimator` in version 1.2 and will be removed in 1.4.\n",
      "  warnings.warn(\n"
     ]
    },
    {
     "name": "stdout",
     "output_type": "stream",
     "text": [
      "[CV 4/5; 11/81] END base_estimator__max_depth=1, base_estimator__min_samples_leaf=2, learning_rate=0.01, n_estimators=100;, score=0.913 total time=   7.0s\n",
      "[CV 5/5; 11/81] START base_estimator__max_depth=1, base_estimator__min_samples_leaf=2, learning_rate=0.01, n_estimators=100\n"
     ]
    },
    {
     "name": "stderr",
     "output_type": "stream",
     "text": [
      "/Users/vaishnavimocherla/anaconda3/lib/python3.11/site-packages/sklearn/ensemble/_base.py:156: FutureWarning: `base_estimator` was renamed to `estimator` in version 1.2 and will be removed in 1.4.\n",
      "  warnings.warn(\n"
     ]
    },
    {
     "name": "stdout",
     "output_type": "stream",
     "text": [
      "[CV 5/5; 11/81] END base_estimator__max_depth=1, base_estimator__min_samples_leaf=2, learning_rate=0.01, n_estimators=100;, score=0.914 total time=   6.5s\n",
      "[CV 1/5; 12/81] START base_estimator__max_depth=1, base_estimator__min_samples_leaf=2, learning_rate=0.01, n_estimators=200\n"
     ]
    },
    {
     "name": "stderr",
     "output_type": "stream",
     "text": [
      "/Users/vaishnavimocherla/anaconda3/lib/python3.11/site-packages/sklearn/ensemble/_base.py:156: FutureWarning: `base_estimator` was renamed to `estimator` in version 1.2 and will be removed in 1.4.\n",
      "  warnings.warn(\n"
     ]
    },
    {
     "name": "stdout",
     "output_type": "stream",
     "text": [
      "[CV 1/5; 12/81] END base_estimator__max_depth=1, base_estimator__min_samples_leaf=2, learning_rate=0.01, n_estimators=200;, score=0.913 total time=  13.1s\n",
      "[CV 2/5; 12/81] START base_estimator__max_depth=1, base_estimator__min_samples_leaf=2, learning_rate=0.01, n_estimators=200\n"
     ]
    },
    {
     "name": "stderr",
     "output_type": "stream",
     "text": [
      "/Users/vaishnavimocherla/anaconda3/lib/python3.11/site-packages/sklearn/ensemble/_base.py:156: FutureWarning: `base_estimator` was renamed to `estimator` in version 1.2 and will be removed in 1.4.\n",
      "  warnings.warn(\n"
     ]
    },
    {
     "name": "stdout",
     "output_type": "stream",
     "text": [
      "[CV 2/5; 12/81] END base_estimator__max_depth=1, base_estimator__min_samples_leaf=2, learning_rate=0.01, n_estimators=200;, score=0.916 total time=  13.1s\n",
      "[CV 3/5; 12/81] START base_estimator__max_depth=1, base_estimator__min_samples_leaf=2, learning_rate=0.01, n_estimators=200\n"
     ]
    },
    {
     "name": "stderr",
     "output_type": "stream",
     "text": [
      "/Users/vaishnavimocherla/anaconda3/lib/python3.11/site-packages/sklearn/ensemble/_base.py:156: FutureWarning: `base_estimator` was renamed to `estimator` in version 1.2 and will be removed in 1.4.\n",
      "  warnings.warn(\n"
     ]
    },
    {
     "name": "stdout",
     "output_type": "stream",
     "text": [
      "[CV 3/5; 12/81] END base_estimator__max_depth=1, base_estimator__min_samples_leaf=2, learning_rate=0.01, n_estimators=200;, score=0.915 total time=  13.2s\n",
      "[CV 4/5; 12/81] START base_estimator__max_depth=1, base_estimator__min_samples_leaf=2, learning_rate=0.01, n_estimators=200\n"
     ]
    },
    {
     "name": "stderr",
     "output_type": "stream",
     "text": [
      "/Users/vaishnavimocherla/anaconda3/lib/python3.11/site-packages/sklearn/ensemble/_base.py:156: FutureWarning: `base_estimator` was renamed to `estimator` in version 1.2 and will be removed in 1.4.\n",
      "  warnings.warn(\n"
     ]
    },
    {
     "name": "stdout",
     "output_type": "stream",
     "text": [
      "[CV 4/5; 12/81] END base_estimator__max_depth=1, base_estimator__min_samples_leaf=2, learning_rate=0.01, n_estimators=200;, score=0.914 total time=  13.1s\n",
      "[CV 5/5; 12/81] START base_estimator__max_depth=1, base_estimator__min_samples_leaf=2, learning_rate=0.01, n_estimators=200\n"
     ]
    },
    {
     "name": "stderr",
     "output_type": "stream",
     "text": [
      "/Users/vaishnavimocherla/anaconda3/lib/python3.11/site-packages/sklearn/ensemble/_base.py:156: FutureWarning: `base_estimator` was renamed to `estimator` in version 1.2 and will be removed in 1.4.\n",
      "  warnings.warn(\n"
     ]
    },
    {
     "name": "stdout",
     "output_type": "stream",
     "text": [
      "[CV 5/5; 12/81] END base_estimator__max_depth=1, base_estimator__min_samples_leaf=2, learning_rate=0.01, n_estimators=200;, score=0.914 total time=  13.2s\n",
      "[CV 1/5; 13/81] START base_estimator__max_depth=1, base_estimator__min_samples_leaf=2, learning_rate=0.1, n_estimators=50\n"
     ]
    },
    {
     "name": "stderr",
     "output_type": "stream",
     "text": [
      "/Users/vaishnavimocherla/anaconda3/lib/python3.11/site-packages/sklearn/ensemble/_base.py:156: FutureWarning: `base_estimator` was renamed to `estimator` in version 1.2 and will be removed in 1.4.\n",
      "  warnings.warn(\n"
     ]
    },
    {
     "name": "stdout",
     "output_type": "stream",
     "text": [
      "[CV 1/5; 13/81] END base_estimator__max_depth=1, base_estimator__min_samples_leaf=2, learning_rate=0.1, n_estimators=50;, score=0.915 total time=   3.3s\n",
      "[CV 2/5; 13/81] START base_estimator__max_depth=1, base_estimator__min_samples_leaf=2, learning_rate=0.1, n_estimators=50\n"
     ]
    },
    {
     "name": "stderr",
     "output_type": "stream",
     "text": [
      "/Users/vaishnavimocherla/anaconda3/lib/python3.11/site-packages/sklearn/ensemble/_base.py:156: FutureWarning: `base_estimator` was renamed to `estimator` in version 1.2 and will be removed in 1.4.\n",
      "  warnings.warn(\n"
     ]
    },
    {
     "name": "stdout",
     "output_type": "stream",
     "text": [
      "[CV 2/5; 13/81] END base_estimator__max_depth=1, base_estimator__min_samples_leaf=2, learning_rate=0.1, n_estimators=50;, score=0.918 total time=   3.3s\n",
      "[CV 3/5; 13/81] START base_estimator__max_depth=1, base_estimator__min_samples_leaf=2, learning_rate=0.1, n_estimators=50\n"
     ]
    },
    {
     "name": "stderr",
     "output_type": "stream",
     "text": [
      "/Users/vaishnavimocherla/anaconda3/lib/python3.11/site-packages/sklearn/ensemble/_base.py:156: FutureWarning: `base_estimator` was renamed to `estimator` in version 1.2 and will be removed in 1.4.\n",
      "  warnings.warn(\n"
     ]
    },
    {
     "name": "stdout",
     "output_type": "stream",
     "text": [
      "[CV 3/5; 13/81] END base_estimator__max_depth=1, base_estimator__min_samples_leaf=2, learning_rate=0.1, n_estimators=50;, score=0.916 total time=   3.3s\n",
      "[CV 4/5; 13/81] START base_estimator__max_depth=1, base_estimator__min_samples_leaf=2, learning_rate=0.1, n_estimators=50\n"
     ]
    },
    {
     "name": "stderr",
     "output_type": "stream",
     "text": [
      "/Users/vaishnavimocherla/anaconda3/lib/python3.11/site-packages/sklearn/ensemble/_base.py:156: FutureWarning: `base_estimator` was renamed to `estimator` in version 1.2 and will be removed in 1.4.\n",
      "  warnings.warn(\n"
     ]
    },
    {
     "name": "stdout",
     "output_type": "stream",
     "text": [
      "[CV 4/5; 13/81] END base_estimator__max_depth=1, base_estimator__min_samples_leaf=2, learning_rate=0.1, n_estimators=50;, score=0.914 total time=   3.3s\n",
      "[CV 5/5; 13/81] START base_estimator__max_depth=1, base_estimator__min_samples_leaf=2, learning_rate=0.1, n_estimators=50\n"
     ]
    },
    {
     "name": "stderr",
     "output_type": "stream",
     "text": [
      "/Users/vaishnavimocherla/anaconda3/lib/python3.11/site-packages/sklearn/ensemble/_base.py:156: FutureWarning: `base_estimator` was renamed to `estimator` in version 1.2 and will be removed in 1.4.\n",
      "  warnings.warn(\n"
     ]
    },
    {
     "name": "stdout",
     "output_type": "stream",
     "text": [
      "[CV 5/5; 13/81] END base_estimator__max_depth=1, base_estimator__min_samples_leaf=2, learning_rate=0.1, n_estimators=50;, score=0.916 total time=   3.2s\n",
      "[CV 1/5; 14/81] START base_estimator__max_depth=1, base_estimator__min_samples_leaf=2, learning_rate=0.1, n_estimators=100\n"
     ]
    },
    {
     "name": "stderr",
     "output_type": "stream",
     "text": [
      "/Users/vaishnavimocherla/anaconda3/lib/python3.11/site-packages/sklearn/ensemble/_base.py:156: FutureWarning: `base_estimator` was renamed to `estimator` in version 1.2 and will be removed in 1.4.\n",
      "  warnings.warn(\n"
     ]
    },
    {
     "name": "stdout",
     "output_type": "stream",
     "text": [
      "[CV 1/5; 14/81] END base_estimator__max_depth=1, base_estimator__min_samples_leaf=2, learning_rate=0.1, n_estimators=100;, score=0.916 total time=   6.6s\n",
      "[CV 2/5; 14/81] START base_estimator__max_depth=1, base_estimator__min_samples_leaf=2, learning_rate=0.1, n_estimators=100\n"
     ]
    },
    {
     "name": "stderr",
     "output_type": "stream",
     "text": [
      "/Users/vaishnavimocherla/anaconda3/lib/python3.11/site-packages/sklearn/ensemble/_base.py:156: FutureWarning: `base_estimator` was renamed to `estimator` in version 1.2 and will be removed in 1.4.\n",
      "  warnings.warn(\n"
     ]
    },
    {
     "name": "stdout",
     "output_type": "stream",
     "text": [
      "[CV 2/5; 14/81] END base_estimator__max_depth=1, base_estimator__min_samples_leaf=2, learning_rate=0.1, n_estimators=100;, score=0.917 total time=   6.6s\n",
      "[CV 3/5; 14/81] START base_estimator__max_depth=1, base_estimator__min_samples_leaf=2, learning_rate=0.1, n_estimators=100\n"
     ]
    },
    {
     "name": "stderr",
     "output_type": "stream",
     "text": [
      "/Users/vaishnavimocherla/anaconda3/lib/python3.11/site-packages/sklearn/ensemble/_base.py:156: FutureWarning: `base_estimator` was renamed to `estimator` in version 1.2 and will be removed in 1.4.\n",
      "  warnings.warn(\n"
     ]
    },
    {
     "name": "stdout",
     "output_type": "stream",
     "text": [
      "[CV 3/5; 14/81] END base_estimator__max_depth=1, base_estimator__min_samples_leaf=2, learning_rate=0.1, n_estimators=100;, score=0.916 total time=   7.0s\n",
      "[CV 4/5; 14/81] START base_estimator__max_depth=1, base_estimator__min_samples_leaf=2, learning_rate=0.1, n_estimators=100\n"
     ]
    },
    {
     "name": "stderr",
     "output_type": "stream",
     "text": [
      "/Users/vaishnavimocherla/anaconda3/lib/python3.11/site-packages/sklearn/ensemble/_base.py:156: FutureWarning: `base_estimator` was renamed to `estimator` in version 1.2 and will be removed in 1.4.\n",
      "  warnings.warn(\n"
     ]
    },
    {
     "name": "stdout",
     "output_type": "stream",
     "text": [
      "[CV 4/5; 14/81] END base_estimator__max_depth=1, base_estimator__min_samples_leaf=2, learning_rate=0.1, n_estimators=100;, score=0.915 total time=   6.9s\n",
      "[CV 5/5; 14/81] START base_estimator__max_depth=1, base_estimator__min_samples_leaf=2, learning_rate=0.1, n_estimators=100\n"
     ]
    },
    {
     "name": "stderr",
     "output_type": "stream",
     "text": [
      "/Users/vaishnavimocherla/anaconda3/lib/python3.11/site-packages/sklearn/ensemble/_base.py:156: FutureWarning: `base_estimator` was renamed to `estimator` in version 1.2 and will be removed in 1.4.\n",
      "  warnings.warn(\n"
     ]
    },
    {
     "name": "stdout",
     "output_type": "stream",
     "text": [
      "[CV 5/5; 14/81] END base_estimator__max_depth=1, base_estimator__min_samples_leaf=2, learning_rate=0.1, n_estimators=100;, score=0.916 total time=   8.6s\n",
      "[CV 1/5; 15/81] START base_estimator__max_depth=1, base_estimator__min_samples_leaf=2, learning_rate=0.1, n_estimators=200\n"
     ]
    },
    {
     "name": "stderr",
     "output_type": "stream",
     "text": [
      "/Users/vaishnavimocherla/anaconda3/lib/python3.11/site-packages/sklearn/ensemble/_base.py:156: FutureWarning: `base_estimator` was renamed to `estimator` in version 1.2 and will be removed in 1.4.\n",
      "  warnings.warn(\n"
     ]
    },
    {
     "name": "stdout",
     "output_type": "stream",
     "text": [
      "[CV 1/5; 15/81] END base_estimator__max_depth=1, base_estimator__min_samples_leaf=2, learning_rate=0.1, n_estimators=200;, score=0.917 total time=  14.2s\n",
      "[CV 2/5; 15/81] START base_estimator__max_depth=1, base_estimator__min_samples_leaf=2, learning_rate=0.1, n_estimators=200\n"
     ]
    },
    {
     "name": "stderr",
     "output_type": "stream",
     "text": [
      "/Users/vaishnavimocherla/anaconda3/lib/python3.11/site-packages/sklearn/ensemble/_base.py:156: FutureWarning: `base_estimator` was renamed to `estimator` in version 1.2 and will be removed in 1.4.\n",
      "  warnings.warn(\n"
     ]
    },
    {
     "name": "stdout",
     "output_type": "stream",
     "text": [
      "[CV 2/5; 15/81] END base_estimator__max_depth=1, base_estimator__min_samples_leaf=2, learning_rate=0.1, n_estimators=200;, score=0.918 total time=  14.7s\n",
      "[CV 3/5; 15/81] START base_estimator__max_depth=1, base_estimator__min_samples_leaf=2, learning_rate=0.1, n_estimators=200\n"
     ]
    },
    {
     "name": "stderr",
     "output_type": "stream",
     "text": [
      "/Users/vaishnavimocherla/anaconda3/lib/python3.11/site-packages/sklearn/ensemble/_base.py:156: FutureWarning: `base_estimator` was renamed to `estimator` in version 1.2 and will be removed in 1.4.\n",
      "  warnings.warn(\n"
     ]
    },
    {
     "name": "stdout",
     "output_type": "stream",
     "text": [
      "[CV 3/5; 15/81] END base_estimator__max_depth=1, base_estimator__min_samples_leaf=2, learning_rate=0.1, n_estimators=200;, score=0.917 total time=  14.8s\n",
      "[CV 4/5; 15/81] START base_estimator__max_depth=1, base_estimator__min_samples_leaf=2, learning_rate=0.1, n_estimators=200\n"
     ]
    },
    {
     "name": "stderr",
     "output_type": "stream",
     "text": [
      "/Users/vaishnavimocherla/anaconda3/lib/python3.11/site-packages/sklearn/ensemble/_base.py:156: FutureWarning: `base_estimator` was renamed to `estimator` in version 1.2 and will be removed in 1.4.\n",
      "  warnings.warn(\n"
     ]
    },
    {
     "name": "stdout",
     "output_type": "stream",
     "text": [
      "[CV 4/5; 15/81] END base_estimator__max_depth=1, base_estimator__min_samples_leaf=2, learning_rate=0.1, n_estimators=200;, score=0.916 total time=  16.2s\n",
      "[CV 5/5; 15/81] START base_estimator__max_depth=1, base_estimator__min_samples_leaf=2, learning_rate=0.1, n_estimators=200\n"
     ]
    },
    {
     "name": "stderr",
     "output_type": "stream",
     "text": [
      "/Users/vaishnavimocherla/anaconda3/lib/python3.11/site-packages/sklearn/ensemble/_base.py:156: FutureWarning: `base_estimator` was renamed to `estimator` in version 1.2 and will be removed in 1.4.\n",
      "  warnings.warn(\n"
     ]
    },
    {
     "name": "stdout",
     "output_type": "stream",
     "text": [
      "[CV 5/5; 15/81] END base_estimator__max_depth=1, base_estimator__min_samples_leaf=2, learning_rate=0.1, n_estimators=200;, score=0.916 total time=  13.5s\n",
      "[CV 1/5; 16/81] START base_estimator__max_depth=1, base_estimator__min_samples_leaf=2, learning_rate=1, n_estimators=50\n"
     ]
    },
    {
     "name": "stderr",
     "output_type": "stream",
     "text": [
      "/Users/vaishnavimocherla/anaconda3/lib/python3.11/site-packages/sklearn/ensemble/_base.py:156: FutureWarning: `base_estimator` was renamed to `estimator` in version 1.2 and will be removed in 1.4.\n",
      "  warnings.warn(\n"
     ]
    },
    {
     "name": "stdout",
     "output_type": "stream",
     "text": [
      "[CV 1/5; 16/81] END base_estimator__max_depth=1, base_estimator__min_samples_leaf=2, learning_rate=1, n_estimators=50;, score=0.917 total time=   3.3s\n",
      "[CV 2/5; 16/81] START base_estimator__max_depth=1, base_estimator__min_samples_leaf=2, learning_rate=1, n_estimators=50\n"
     ]
    },
    {
     "name": "stderr",
     "output_type": "stream",
     "text": [
      "/Users/vaishnavimocherla/anaconda3/lib/python3.11/site-packages/sklearn/ensemble/_base.py:156: FutureWarning: `base_estimator` was renamed to `estimator` in version 1.2 and will be removed in 1.4.\n",
      "  warnings.warn(\n"
     ]
    },
    {
     "name": "stdout",
     "output_type": "stream",
     "text": [
      "[CV 2/5; 16/81] END base_estimator__max_depth=1, base_estimator__min_samples_leaf=2, learning_rate=1, n_estimators=50;, score=0.918 total time=   3.5s\n",
      "[CV 3/5; 16/81] START base_estimator__max_depth=1, base_estimator__min_samples_leaf=2, learning_rate=1, n_estimators=50\n"
     ]
    },
    {
     "name": "stderr",
     "output_type": "stream",
     "text": [
      "/Users/vaishnavimocherla/anaconda3/lib/python3.11/site-packages/sklearn/ensemble/_base.py:156: FutureWarning: `base_estimator` was renamed to `estimator` in version 1.2 and will be removed in 1.4.\n",
      "  warnings.warn(\n"
     ]
    },
    {
     "name": "stdout",
     "output_type": "stream",
     "text": [
      "[CV 3/5; 16/81] END base_estimator__max_depth=1, base_estimator__min_samples_leaf=2, learning_rate=1, n_estimators=50;, score=0.915 total time=   3.3s\n",
      "[CV 4/5; 16/81] START base_estimator__max_depth=1, base_estimator__min_samples_leaf=2, learning_rate=1, n_estimators=50\n"
     ]
    },
    {
     "name": "stderr",
     "output_type": "stream",
     "text": [
      "/Users/vaishnavimocherla/anaconda3/lib/python3.11/site-packages/sklearn/ensemble/_base.py:156: FutureWarning: `base_estimator` was renamed to `estimator` in version 1.2 and will be removed in 1.4.\n",
      "  warnings.warn(\n"
     ]
    },
    {
     "name": "stdout",
     "output_type": "stream",
     "text": [
      "[CV 4/5; 16/81] END base_estimator__max_depth=1, base_estimator__min_samples_leaf=2, learning_rate=1, n_estimators=50;, score=0.915 total time=   3.3s\n",
      "[CV 5/5; 16/81] START base_estimator__max_depth=1, base_estimator__min_samples_leaf=2, learning_rate=1, n_estimators=50\n"
     ]
    },
    {
     "name": "stderr",
     "output_type": "stream",
     "text": [
      "/Users/vaishnavimocherla/anaconda3/lib/python3.11/site-packages/sklearn/ensemble/_base.py:156: FutureWarning: `base_estimator` was renamed to `estimator` in version 1.2 and will be removed in 1.4.\n",
      "  warnings.warn(\n"
     ]
    },
    {
     "name": "stdout",
     "output_type": "stream",
     "text": [
      "[CV 5/5; 16/81] END base_estimator__max_depth=1, base_estimator__min_samples_leaf=2, learning_rate=1, n_estimators=50;, score=0.915 total time=   3.2s\n",
      "[CV 1/5; 17/81] START base_estimator__max_depth=1, base_estimator__min_samples_leaf=2, learning_rate=1, n_estimators=100\n"
     ]
    },
    {
     "name": "stderr",
     "output_type": "stream",
     "text": [
      "/Users/vaishnavimocherla/anaconda3/lib/python3.11/site-packages/sklearn/ensemble/_base.py:156: FutureWarning: `base_estimator` was renamed to `estimator` in version 1.2 and will be removed in 1.4.\n",
      "  warnings.warn(\n"
     ]
    },
    {
     "name": "stdout",
     "output_type": "stream",
     "text": [
      "[CV 1/5; 17/81] END base_estimator__max_depth=1, base_estimator__min_samples_leaf=2, learning_rate=1, n_estimators=100;, score=0.917 total time=   6.8s\n",
      "[CV 2/5; 17/81] START base_estimator__max_depth=1, base_estimator__min_samples_leaf=2, learning_rate=1, n_estimators=100\n"
     ]
    },
    {
     "name": "stderr",
     "output_type": "stream",
     "text": [
      "/Users/vaishnavimocherla/anaconda3/lib/python3.11/site-packages/sklearn/ensemble/_base.py:156: FutureWarning: `base_estimator` was renamed to `estimator` in version 1.2 and will be removed in 1.4.\n",
      "  warnings.warn(\n"
     ]
    },
    {
     "name": "stdout",
     "output_type": "stream",
     "text": [
      "[CV 2/5; 17/81] END base_estimator__max_depth=1, base_estimator__min_samples_leaf=2, learning_rate=1, n_estimators=100;, score=0.918 total time=   6.5s\n",
      "[CV 3/5; 17/81] START base_estimator__max_depth=1, base_estimator__min_samples_leaf=2, learning_rate=1, n_estimators=100\n"
     ]
    },
    {
     "name": "stderr",
     "output_type": "stream",
     "text": [
      "/Users/vaishnavimocherla/anaconda3/lib/python3.11/site-packages/sklearn/ensemble/_base.py:156: FutureWarning: `base_estimator` was renamed to `estimator` in version 1.2 and will be removed in 1.4.\n",
      "  warnings.warn(\n"
     ]
    },
    {
     "name": "stdout",
     "output_type": "stream",
     "text": [
      "[CV 3/5; 17/81] END base_estimator__max_depth=1, base_estimator__min_samples_leaf=2, learning_rate=1, n_estimators=100;, score=0.916 total time=   6.5s\n",
      "[CV 4/5; 17/81] START base_estimator__max_depth=1, base_estimator__min_samples_leaf=2, learning_rate=1, n_estimators=100\n"
     ]
    },
    {
     "name": "stderr",
     "output_type": "stream",
     "text": [
      "/Users/vaishnavimocherla/anaconda3/lib/python3.11/site-packages/sklearn/ensemble/_base.py:156: FutureWarning: `base_estimator` was renamed to `estimator` in version 1.2 and will be removed in 1.4.\n",
      "  warnings.warn(\n"
     ]
    },
    {
     "name": "stdout",
     "output_type": "stream",
     "text": [
      "[CV 4/5; 17/81] END base_estimator__max_depth=1, base_estimator__min_samples_leaf=2, learning_rate=1, n_estimators=100;, score=0.914 total time=   6.6s\n",
      "[CV 5/5; 17/81] START base_estimator__max_depth=1, base_estimator__min_samples_leaf=2, learning_rate=1, n_estimators=100\n"
     ]
    },
    {
     "name": "stderr",
     "output_type": "stream",
     "text": [
      "/Users/vaishnavimocherla/anaconda3/lib/python3.11/site-packages/sklearn/ensemble/_base.py:156: FutureWarning: `base_estimator` was renamed to `estimator` in version 1.2 and will be removed in 1.4.\n",
      "  warnings.warn(\n"
     ]
    },
    {
     "name": "stdout",
     "output_type": "stream",
     "text": [
      "[CV 5/5; 17/81] END base_estimator__max_depth=1, base_estimator__min_samples_leaf=2, learning_rate=1, n_estimators=100;, score=0.915 total time=   6.4s\n",
      "[CV 1/5; 18/81] START base_estimator__max_depth=1, base_estimator__min_samples_leaf=2, learning_rate=1, n_estimators=200\n"
     ]
    },
    {
     "name": "stderr",
     "output_type": "stream",
     "text": [
      "/Users/vaishnavimocherla/anaconda3/lib/python3.11/site-packages/sklearn/ensemble/_base.py:156: FutureWarning: `base_estimator` was renamed to `estimator` in version 1.2 and will be removed in 1.4.\n",
      "  warnings.warn(\n"
     ]
    },
    {
     "name": "stdout",
     "output_type": "stream",
     "text": [
      "[CV 1/5; 18/81] END base_estimator__max_depth=1, base_estimator__min_samples_leaf=2, learning_rate=1, n_estimators=200;, score=0.917 total time=  15.6s\n",
      "[CV 2/5; 18/81] START base_estimator__max_depth=1, base_estimator__min_samples_leaf=2, learning_rate=1, n_estimators=200\n"
     ]
    },
    {
     "name": "stderr",
     "output_type": "stream",
     "text": [
      "/Users/vaishnavimocherla/anaconda3/lib/python3.11/site-packages/sklearn/ensemble/_base.py:156: FutureWarning: `base_estimator` was renamed to `estimator` in version 1.2 and will be removed in 1.4.\n",
      "  warnings.warn(\n"
     ]
    },
    {
     "name": "stdout",
     "output_type": "stream",
     "text": [
      "[CV 2/5; 18/81] END base_estimator__max_depth=1, base_estimator__min_samples_leaf=2, learning_rate=1, n_estimators=200;, score=0.919 total time=  16.5s\n",
      "[CV 3/5; 18/81] START base_estimator__max_depth=1, base_estimator__min_samples_leaf=2, learning_rate=1, n_estimators=200\n"
     ]
    },
    {
     "name": "stderr",
     "output_type": "stream",
     "text": [
      "/Users/vaishnavimocherla/anaconda3/lib/python3.11/site-packages/sklearn/ensemble/_base.py:156: FutureWarning: `base_estimator` was renamed to `estimator` in version 1.2 and will be removed in 1.4.\n",
      "  warnings.warn(\n"
     ]
    },
    {
     "name": "stdout",
     "output_type": "stream",
     "text": [
      "[CV 3/5; 18/81] END base_estimator__max_depth=1, base_estimator__min_samples_leaf=2, learning_rate=1, n_estimators=200;, score=0.916 total time=  15.2s\n",
      "[CV 4/5; 18/81] START base_estimator__max_depth=1, base_estimator__min_samples_leaf=2, learning_rate=1, n_estimators=200\n"
     ]
    },
    {
     "name": "stderr",
     "output_type": "stream",
     "text": [
      "/Users/vaishnavimocherla/anaconda3/lib/python3.11/site-packages/sklearn/ensemble/_base.py:156: FutureWarning: `base_estimator` was renamed to `estimator` in version 1.2 and will be removed in 1.4.\n",
      "  warnings.warn(\n"
     ]
    },
    {
     "name": "stdout",
     "output_type": "stream",
     "text": [
      "[CV 4/5; 18/81] END base_estimator__max_depth=1, base_estimator__min_samples_leaf=2, learning_rate=1, n_estimators=200;, score=0.915 total time=  16.3s\n",
      "[CV 5/5; 18/81] START base_estimator__max_depth=1, base_estimator__min_samples_leaf=2, learning_rate=1, n_estimators=200\n"
     ]
    },
    {
     "name": "stderr",
     "output_type": "stream",
     "text": [
      "/Users/vaishnavimocherla/anaconda3/lib/python3.11/site-packages/sklearn/ensemble/_base.py:156: FutureWarning: `base_estimator` was renamed to `estimator` in version 1.2 and will be removed in 1.4.\n",
      "  warnings.warn(\n"
     ]
    },
    {
     "name": "stdout",
     "output_type": "stream",
     "text": [
      "[CV 5/5; 18/81] END base_estimator__max_depth=1, base_estimator__min_samples_leaf=2, learning_rate=1, n_estimators=200;, score=0.916 total time=  14.7s\n",
      "[CV 1/5; 19/81] START base_estimator__max_depth=1, base_estimator__min_samples_leaf=4, learning_rate=0.01, n_estimators=50\n"
     ]
    },
    {
     "name": "stderr",
     "output_type": "stream",
     "text": [
      "/Users/vaishnavimocherla/anaconda3/lib/python3.11/site-packages/sklearn/ensemble/_base.py:156: FutureWarning: `base_estimator` was renamed to `estimator` in version 1.2 and will be removed in 1.4.\n",
      "  warnings.warn(\n"
     ]
    },
    {
     "name": "stdout",
     "output_type": "stream",
     "text": [
      "[CV 1/5; 19/81] END base_estimator__max_depth=1, base_estimator__min_samples_leaf=4, learning_rate=0.01, n_estimators=50;, score=0.915 total time=   4.1s\n",
      "[CV 2/5; 19/81] START base_estimator__max_depth=1, base_estimator__min_samples_leaf=4, learning_rate=0.01, n_estimators=50\n"
     ]
    },
    {
     "name": "stderr",
     "output_type": "stream",
     "text": [
      "/Users/vaishnavimocherla/anaconda3/lib/python3.11/site-packages/sklearn/ensemble/_base.py:156: FutureWarning: `base_estimator` was renamed to `estimator` in version 1.2 and will be removed in 1.4.\n",
      "  warnings.warn(\n"
     ]
    },
    {
     "name": "stdout",
     "output_type": "stream",
     "text": [
      "[CV 2/5; 19/81] END base_estimator__max_depth=1, base_estimator__min_samples_leaf=4, learning_rate=0.01, n_estimators=50;, score=0.916 total time=   3.8s\n",
      "[CV 3/5; 19/81] START base_estimator__max_depth=1, base_estimator__min_samples_leaf=4, learning_rate=0.01, n_estimators=50\n"
     ]
    },
    {
     "name": "stderr",
     "output_type": "stream",
     "text": [
      "/Users/vaishnavimocherla/anaconda3/lib/python3.11/site-packages/sklearn/ensemble/_base.py:156: FutureWarning: `base_estimator` was renamed to `estimator` in version 1.2 and will be removed in 1.4.\n",
      "  warnings.warn(\n"
     ]
    },
    {
     "name": "stdout",
     "output_type": "stream",
     "text": [
      "[CV 3/5; 19/81] END base_estimator__max_depth=1, base_estimator__min_samples_leaf=4, learning_rate=0.01, n_estimators=50;, score=0.915 total time=   3.3s\n",
      "[CV 4/5; 19/81] START base_estimator__max_depth=1, base_estimator__min_samples_leaf=4, learning_rate=0.01, n_estimators=50\n"
     ]
    },
    {
     "name": "stderr",
     "output_type": "stream",
     "text": [
      "/Users/vaishnavimocherla/anaconda3/lib/python3.11/site-packages/sklearn/ensemble/_base.py:156: FutureWarning: `base_estimator` was renamed to `estimator` in version 1.2 and will be removed in 1.4.\n",
      "  warnings.warn(\n"
     ]
    },
    {
     "name": "stdout",
     "output_type": "stream",
     "text": [
      "[CV 4/5; 19/81] END base_estimator__max_depth=1, base_estimator__min_samples_leaf=4, learning_rate=0.01, n_estimators=50;, score=0.913 total time=   3.9s\n",
      "[CV 5/5; 19/81] START base_estimator__max_depth=1, base_estimator__min_samples_leaf=4, learning_rate=0.01, n_estimators=50\n"
     ]
    },
    {
     "name": "stderr",
     "output_type": "stream",
     "text": [
      "/Users/vaishnavimocherla/anaconda3/lib/python3.11/site-packages/sklearn/ensemble/_base.py:156: FutureWarning: `base_estimator` was renamed to `estimator` in version 1.2 and will be removed in 1.4.\n",
      "  warnings.warn(\n"
     ]
    },
    {
     "name": "stdout",
     "output_type": "stream",
     "text": [
      "[CV 5/5; 19/81] END base_estimator__max_depth=1, base_estimator__min_samples_leaf=4, learning_rate=0.01, n_estimators=50;, score=0.915 total time=   3.7s\n",
      "[CV 1/5; 20/81] START base_estimator__max_depth=1, base_estimator__min_samples_leaf=4, learning_rate=0.01, n_estimators=100\n"
     ]
    },
    {
     "name": "stderr",
     "output_type": "stream",
     "text": [
      "/Users/vaishnavimocherla/anaconda3/lib/python3.11/site-packages/sklearn/ensemble/_base.py:156: FutureWarning: `base_estimator` was renamed to `estimator` in version 1.2 and will be removed in 1.4.\n",
      "  warnings.warn(\n"
     ]
    },
    {
     "name": "stdout",
     "output_type": "stream",
     "text": [
      "[CV 1/5; 20/81] END base_estimator__max_depth=1, base_estimator__min_samples_leaf=4, learning_rate=0.01, n_estimators=100;, score=0.915 total time=   7.3s\n",
      "[CV 2/5; 20/81] START base_estimator__max_depth=1, base_estimator__min_samples_leaf=4, learning_rate=0.01, n_estimators=100\n"
     ]
    },
    {
     "name": "stderr",
     "output_type": "stream",
     "text": [
      "/Users/vaishnavimocherla/anaconda3/lib/python3.11/site-packages/sklearn/ensemble/_base.py:156: FutureWarning: `base_estimator` was renamed to `estimator` in version 1.2 and will be removed in 1.4.\n",
      "  warnings.warn(\n"
     ]
    },
    {
     "name": "stdout",
     "output_type": "stream",
     "text": [
      "[CV 2/5; 20/81] END base_estimator__max_depth=1, base_estimator__min_samples_leaf=4, learning_rate=0.01, n_estimators=100;, score=0.916 total time=   7.7s\n",
      "[CV 3/5; 20/81] START base_estimator__max_depth=1, base_estimator__min_samples_leaf=4, learning_rate=0.01, n_estimators=100\n"
     ]
    },
    {
     "name": "stderr",
     "output_type": "stream",
     "text": [
      "/Users/vaishnavimocherla/anaconda3/lib/python3.11/site-packages/sklearn/ensemble/_base.py:156: FutureWarning: `base_estimator` was renamed to `estimator` in version 1.2 and will be removed in 1.4.\n",
      "  warnings.warn(\n"
     ]
    },
    {
     "name": "stdout",
     "output_type": "stream",
     "text": [
      "[CV 3/5; 20/81] END base_estimator__max_depth=1, base_estimator__min_samples_leaf=4, learning_rate=0.01, n_estimators=100;, score=0.915 total time=   8.7s\n",
      "[CV 4/5; 20/81] START base_estimator__max_depth=1, base_estimator__min_samples_leaf=4, learning_rate=0.01, n_estimators=100\n"
     ]
    },
    {
     "name": "stderr",
     "output_type": "stream",
     "text": [
      "/Users/vaishnavimocherla/anaconda3/lib/python3.11/site-packages/sklearn/ensemble/_base.py:156: FutureWarning: `base_estimator` was renamed to `estimator` in version 1.2 and will be removed in 1.4.\n",
      "  warnings.warn(\n"
     ]
    },
    {
     "name": "stdout",
     "output_type": "stream",
     "text": [
      "[CV 4/5; 20/81] END base_estimator__max_depth=1, base_estimator__min_samples_leaf=4, learning_rate=0.01, n_estimators=100;, score=0.913 total time=   6.8s\n",
      "[CV 5/5; 20/81] START base_estimator__max_depth=1, base_estimator__min_samples_leaf=4, learning_rate=0.01, n_estimators=100\n"
     ]
    },
    {
     "name": "stderr",
     "output_type": "stream",
     "text": [
      "/Users/vaishnavimocherla/anaconda3/lib/python3.11/site-packages/sklearn/ensemble/_base.py:156: FutureWarning: `base_estimator` was renamed to `estimator` in version 1.2 and will be removed in 1.4.\n",
      "  warnings.warn(\n"
     ]
    },
    {
     "name": "stdout",
     "output_type": "stream",
     "text": [
      "[CV 5/5; 20/81] END base_estimator__max_depth=1, base_estimator__min_samples_leaf=4, learning_rate=0.01, n_estimators=100;, score=0.914 total time=   7.0s\n",
      "[CV 1/5; 21/81] START base_estimator__max_depth=1, base_estimator__min_samples_leaf=4, learning_rate=0.01, n_estimators=200\n"
     ]
    },
    {
     "name": "stderr",
     "output_type": "stream",
     "text": [
      "/Users/vaishnavimocherla/anaconda3/lib/python3.11/site-packages/sklearn/ensemble/_base.py:156: FutureWarning: `base_estimator` was renamed to `estimator` in version 1.2 and will be removed in 1.4.\n",
      "  warnings.warn(\n"
     ]
    },
    {
     "name": "stdout",
     "output_type": "stream",
     "text": [
      "[CV 1/5; 21/81] END base_estimator__max_depth=1, base_estimator__min_samples_leaf=4, learning_rate=0.01, n_estimators=200;, score=0.913 total time=  14.5s\n",
      "[CV 2/5; 21/81] START base_estimator__max_depth=1, base_estimator__min_samples_leaf=4, learning_rate=0.01, n_estimators=200\n"
     ]
    },
    {
     "name": "stderr",
     "output_type": "stream",
     "text": [
      "/Users/vaishnavimocherla/anaconda3/lib/python3.11/site-packages/sklearn/ensemble/_base.py:156: FutureWarning: `base_estimator` was renamed to `estimator` in version 1.2 and will be removed in 1.4.\n",
      "  warnings.warn(\n"
     ]
    },
    {
     "name": "stdout",
     "output_type": "stream",
     "text": [
      "[CV 2/5; 21/81] END base_estimator__max_depth=1, base_estimator__min_samples_leaf=4, learning_rate=0.01, n_estimators=200;, score=0.916 total time=  13.6s\n",
      "[CV 3/5; 21/81] START base_estimator__max_depth=1, base_estimator__min_samples_leaf=4, learning_rate=0.01, n_estimators=200\n"
     ]
    },
    {
     "name": "stderr",
     "output_type": "stream",
     "text": [
      "/Users/vaishnavimocherla/anaconda3/lib/python3.11/site-packages/sklearn/ensemble/_base.py:156: FutureWarning: `base_estimator` was renamed to `estimator` in version 1.2 and will be removed in 1.4.\n",
      "  warnings.warn(\n"
     ]
    },
    {
     "name": "stdout",
     "output_type": "stream",
     "text": [
      "[CV 3/5; 21/81] END base_estimator__max_depth=1, base_estimator__min_samples_leaf=4, learning_rate=0.01, n_estimators=200;, score=0.915 total time=  13.9s\n",
      "[CV 4/5; 21/81] START base_estimator__max_depth=1, base_estimator__min_samples_leaf=4, learning_rate=0.01, n_estimators=200\n"
     ]
    },
    {
     "name": "stderr",
     "output_type": "stream",
     "text": [
      "/Users/vaishnavimocherla/anaconda3/lib/python3.11/site-packages/sklearn/ensemble/_base.py:156: FutureWarning: `base_estimator` was renamed to `estimator` in version 1.2 and will be removed in 1.4.\n",
      "  warnings.warn(\n"
     ]
    },
    {
     "name": "stdout",
     "output_type": "stream",
     "text": [
      "[CV 4/5; 21/81] END base_estimator__max_depth=1, base_estimator__min_samples_leaf=4, learning_rate=0.01, n_estimators=200;, score=0.914 total time=  13.4s\n",
      "[CV 5/5; 21/81] START base_estimator__max_depth=1, base_estimator__min_samples_leaf=4, learning_rate=0.01, n_estimators=200\n"
     ]
    },
    {
     "name": "stderr",
     "output_type": "stream",
     "text": [
      "/Users/vaishnavimocherla/anaconda3/lib/python3.11/site-packages/sklearn/ensemble/_base.py:156: FutureWarning: `base_estimator` was renamed to `estimator` in version 1.2 and will be removed in 1.4.\n",
      "  warnings.warn(\n"
     ]
    },
    {
     "name": "stdout",
     "output_type": "stream",
     "text": [
      "[CV 5/5; 21/81] END base_estimator__max_depth=1, base_estimator__min_samples_leaf=4, learning_rate=0.01, n_estimators=200;, score=0.914 total time=  13.3s\n",
      "[CV 1/5; 22/81] START base_estimator__max_depth=1, base_estimator__min_samples_leaf=4, learning_rate=0.1, n_estimators=50\n"
     ]
    },
    {
     "name": "stderr",
     "output_type": "stream",
     "text": [
      "/Users/vaishnavimocherla/anaconda3/lib/python3.11/site-packages/sklearn/ensemble/_base.py:156: FutureWarning: `base_estimator` was renamed to `estimator` in version 1.2 and will be removed in 1.4.\n",
      "  warnings.warn(\n"
     ]
    },
    {
     "name": "stdout",
     "output_type": "stream",
     "text": [
      "[CV 1/5; 22/81] END base_estimator__max_depth=1, base_estimator__min_samples_leaf=4, learning_rate=0.1, n_estimators=50;, score=0.915 total time=   3.3s\n",
      "[CV 2/5; 22/81] START base_estimator__max_depth=1, base_estimator__min_samples_leaf=4, learning_rate=0.1, n_estimators=50\n"
     ]
    },
    {
     "name": "stderr",
     "output_type": "stream",
     "text": [
      "/Users/vaishnavimocherla/anaconda3/lib/python3.11/site-packages/sklearn/ensemble/_base.py:156: FutureWarning: `base_estimator` was renamed to `estimator` in version 1.2 and will be removed in 1.4.\n",
      "  warnings.warn(\n"
     ]
    },
    {
     "name": "stdout",
     "output_type": "stream",
     "text": [
      "[CV 2/5; 22/81] END base_estimator__max_depth=1, base_estimator__min_samples_leaf=4, learning_rate=0.1, n_estimators=50;, score=0.918 total time=   3.3s\n",
      "[CV 3/5; 22/81] START base_estimator__max_depth=1, base_estimator__min_samples_leaf=4, learning_rate=0.1, n_estimators=50\n"
     ]
    },
    {
     "name": "stderr",
     "output_type": "stream",
     "text": [
      "/Users/vaishnavimocherla/anaconda3/lib/python3.11/site-packages/sklearn/ensemble/_base.py:156: FutureWarning: `base_estimator` was renamed to `estimator` in version 1.2 and will be removed in 1.4.\n",
      "  warnings.warn(\n"
     ]
    },
    {
     "name": "stdout",
     "output_type": "stream",
     "text": [
      "[CV 3/5; 22/81] END base_estimator__max_depth=1, base_estimator__min_samples_leaf=4, learning_rate=0.1, n_estimators=50;, score=0.916 total time=   3.3s\n",
      "[CV 4/5; 22/81] START base_estimator__max_depth=1, base_estimator__min_samples_leaf=4, learning_rate=0.1, n_estimators=50\n"
     ]
    },
    {
     "name": "stderr",
     "output_type": "stream",
     "text": [
      "/Users/vaishnavimocherla/anaconda3/lib/python3.11/site-packages/sklearn/ensemble/_base.py:156: FutureWarning: `base_estimator` was renamed to `estimator` in version 1.2 and will be removed in 1.4.\n",
      "  warnings.warn(\n"
     ]
    },
    {
     "name": "stdout",
     "output_type": "stream",
     "text": [
      "[CV 4/5; 22/81] END base_estimator__max_depth=1, base_estimator__min_samples_leaf=4, learning_rate=0.1, n_estimators=50;, score=0.914 total time=   3.3s\n",
      "[CV 5/5; 22/81] START base_estimator__max_depth=1, base_estimator__min_samples_leaf=4, learning_rate=0.1, n_estimators=50\n"
     ]
    },
    {
     "name": "stderr",
     "output_type": "stream",
     "text": [
      "/Users/vaishnavimocherla/anaconda3/lib/python3.11/site-packages/sklearn/ensemble/_base.py:156: FutureWarning: `base_estimator` was renamed to `estimator` in version 1.2 and will be removed in 1.4.\n",
      "  warnings.warn(\n"
     ]
    },
    {
     "name": "stdout",
     "output_type": "stream",
     "text": [
      "[CV 5/5; 22/81] END base_estimator__max_depth=1, base_estimator__min_samples_leaf=4, learning_rate=0.1, n_estimators=50;, score=0.916 total time=   3.3s\n",
      "[CV 1/5; 23/81] START base_estimator__max_depth=1, base_estimator__min_samples_leaf=4, learning_rate=0.1, n_estimators=100\n"
     ]
    },
    {
     "name": "stderr",
     "output_type": "stream",
     "text": [
      "/Users/vaishnavimocherla/anaconda3/lib/python3.11/site-packages/sklearn/ensemble/_base.py:156: FutureWarning: `base_estimator` was renamed to `estimator` in version 1.2 and will be removed in 1.4.\n",
      "  warnings.warn(\n"
     ]
    },
    {
     "name": "stdout",
     "output_type": "stream",
     "text": [
      "[CV 1/5; 23/81] END base_estimator__max_depth=1, base_estimator__min_samples_leaf=4, learning_rate=0.1, n_estimators=100;, score=0.916 total time=   6.5s\n",
      "[CV 2/5; 23/81] START base_estimator__max_depth=1, base_estimator__min_samples_leaf=4, learning_rate=0.1, n_estimators=100\n"
     ]
    },
    {
     "name": "stderr",
     "output_type": "stream",
     "text": [
      "/Users/vaishnavimocherla/anaconda3/lib/python3.11/site-packages/sklearn/ensemble/_base.py:156: FutureWarning: `base_estimator` was renamed to `estimator` in version 1.2 and will be removed in 1.4.\n",
      "  warnings.warn(\n"
     ]
    },
    {
     "name": "stdout",
     "output_type": "stream",
     "text": [
      "[CV 2/5; 23/81] END base_estimator__max_depth=1, base_estimator__min_samples_leaf=4, learning_rate=0.1, n_estimators=100;, score=0.917 total time=   6.7s\n",
      "[CV 3/5; 23/81] START base_estimator__max_depth=1, base_estimator__min_samples_leaf=4, learning_rate=0.1, n_estimators=100\n"
     ]
    },
    {
     "name": "stderr",
     "output_type": "stream",
     "text": [
      "/Users/vaishnavimocherla/anaconda3/lib/python3.11/site-packages/sklearn/ensemble/_base.py:156: FutureWarning: `base_estimator` was renamed to `estimator` in version 1.2 and will be removed in 1.4.\n",
      "  warnings.warn(\n"
     ]
    },
    {
     "name": "stdout",
     "output_type": "stream",
     "text": [
      "[CV 3/5; 23/81] END base_estimator__max_depth=1, base_estimator__min_samples_leaf=4, learning_rate=0.1, n_estimators=100;, score=0.916 total time=   6.6s\n",
      "[CV 4/5; 23/81] START base_estimator__max_depth=1, base_estimator__min_samples_leaf=4, learning_rate=0.1, n_estimators=100\n"
     ]
    },
    {
     "name": "stderr",
     "output_type": "stream",
     "text": [
      "/Users/vaishnavimocherla/anaconda3/lib/python3.11/site-packages/sklearn/ensemble/_base.py:156: FutureWarning: `base_estimator` was renamed to `estimator` in version 1.2 and will be removed in 1.4.\n",
      "  warnings.warn(\n"
     ]
    },
    {
     "name": "stdout",
     "output_type": "stream",
     "text": [
      "[CV 4/5; 23/81] END base_estimator__max_depth=1, base_estimator__min_samples_leaf=4, learning_rate=0.1, n_estimators=100;, score=0.915 total time=   6.8s\n",
      "[CV 5/5; 23/81] START base_estimator__max_depth=1, base_estimator__min_samples_leaf=4, learning_rate=0.1, n_estimators=100\n"
     ]
    },
    {
     "name": "stderr",
     "output_type": "stream",
     "text": [
      "/Users/vaishnavimocherla/anaconda3/lib/python3.11/site-packages/sklearn/ensemble/_base.py:156: FutureWarning: `base_estimator` was renamed to `estimator` in version 1.2 and will be removed in 1.4.\n",
      "  warnings.warn(\n"
     ]
    },
    {
     "name": "stdout",
     "output_type": "stream",
     "text": [
      "[CV 5/5; 23/81] END base_estimator__max_depth=1, base_estimator__min_samples_leaf=4, learning_rate=0.1, n_estimators=100;, score=0.916 total time=   6.5s\n",
      "[CV 1/5; 24/81] START base_estimator__max_depth=1, base_estimator__min_samples_leaf=4, learning_rate=0.1, n_estimators=200\n"
     ]
    },
    {
     "name": "stderr",
     "output_type": "stream",
     "text": [
      "/Users/vaishnavimocherla/anaconda3/lib/python3.11/site-packages/sklearn/ensemble/_base.py:156: FutureWarning: `base_estimator` was renamed to `estimator` in version 1.2 and will be removed in 1.4.\n",
      "  warnings.warn(\n"
     ]
    },
    {
     "name": "stdout",
     "output_type": "stream",
     "text": [
      "[CV 1/5; 24/81] END base_estimator__max_depth=1, base_estimator__min_samples_leaf=4, learning_rate=0.1, n_estimators=200;, score=0.917 total time=  13.2s\n",
      "[CV 2/5; 24/81] START base_estimator__max_depth=1, base_estimator__min_samples_leaf=4, learning_rate=0.1, n_estimators=200\n"
     ]
    },
    {
     "name": "stderr",
     "output_type": "stream",
     "text": [
      "/Users/vaishnavimocherla/anaconda3/lib/python3.11/site-packages/sklearn/ensemble/_base.py:156: FutureWarning: `base_estimator` was renamed to `estimator` in version 1.2 and will be removed in 1.4.\n",
      "  warnings.warn(\n"
     ]
    },
    {
     "name": "stdout",
     "output_type": "stream",
     "text": [
      "[CV 2/5; 24/81] END base_estimator__max_depth=1, base_estimator__min_samples_leaf=4, learning_rate=0.1, n_estimators=200;, score=0.918 total time=  12.9s\n",
      "[CV 3/5; 24/81] START base_estimator__max_depth=1, base_estimator__min_samples_leaf=4, learning_rate=0.1, n_estimators=200\n"
     ]
    },
    {
     "name": "stderr",
     "output_type": "stream",
     "text": [
      "/Users/vaishnavimocherla/anaconda3/lib/python3.11/site-packages/sklearn/ensemble/_base.py:156: FutureWarning: `base_estimator` was renamed to `estimator` in version 1.2 and will be removed in 1.4.\n",
      "  warnings.warn(\n"
     ]
    },
    {
     "name": "stdout",
     "output_type": "stream",
     "text": [
      "[CV 3/5; 24/81] END base_estimator__max_depth=1, base_estimator__min_samples_leaf=4, learning_rate=0.1, n_estimators=200;, score=0.917 total time=  13.0s\n",
      "[CV 4/5; 24/81] START base_estimator__max_depth=1, base_estimator__min_samples_leaf=4, learning_rate=0.1, n_estimators=200\n"
     ]
    },
    {
     "name": "stderr",
     "output_type": "stream",
     "text": [
      "/Users/vaishnavimocherla/anaconda3/lib/python3.11/site-packages/sklearn/ensemble/_base.py:156: FutureWarning: `base_estimator` was renamed to `estimator` in version 1.2 and will be removed in 1.4.\n",
      "  warnings.warn(\n"
     ]
    },
    {
     "name": "stdout",
     "output_type": "stream",
     "text": [
      "[CV 4/5; 24/81] END base_estimator__max_depth=1, base_estimator__min_samples_leaf=4, learning_rate=0.1, n_estimators=200;, score=0.916 total time=  13.0s\n",
      "[CV 5/5; 24/81] START base_estimator__max_depth=1, base_estimator__min_samples_leaf=4, learning_rate=0.1, n_estimators=200\n"
     ]
    },
    {
     "name": "stderr",
     "output_type": "stream",
     "text": [
      "/Users/vaishnavimocherla/anaconda3/lib/python3.11/site-packages/sklearn/ensemble/_base.py:156: FutureWarning: `base_estimator` was renamed to `estimator` in version 1.2 and will be removed in 1.4.\n",
      "  warnings.warn(\n"
     ]
    },
    {
     "name": "stdout",
     "output_type": "stream",
     "text": [
      "[CV 5/5; 24/81] END base_estimator__max_depth=1, base_estimator__min_samples_leaf=4, learning_rate=0.1, n_estimators=200;, score=0.916 total time=  13.0s\n",
      "[CV 1/5; 25/81] START base_estimator__max_depth=1, base_estimator__min_samples_leaf=4, learning_rate=1, n_estimators=50\n"
     ]
    },
    {
     "name": "stderr",
     "output_type": "stream",
     "text": [
      "/Users/vaishnavimocherla/anaconda3/lib/python3.11/site-packages/sklearn/ensemble/_base.py:156: FutureWarning: `base_estimator` was renamed to `estimator` in version 1.2 and will be removed in 1.4.\n",
      "  warnings.warn(\n"
     ]
    },
    {
     "name": "stdout",
     "output_type": "stream",
     "text": [
      "[CV 1/5; 25/81] END base_estimator__max_depth=1, base_estimator__min_samples_leaf=4, learning_rate=1, n_estimators=50;, score=0.917 total time=   3.3s\n",
      "[CV 2/5; 25/81] START base_estimator__max_depth=1, base_estimator__min_samples_leaf=4, learning_rate=1, n_estimators=50\n"
     ]
    },
    {
     "name": "stderr",
     "output_type": "stream",
     "text": [
      "/Users/vaishnavimocherla/anaconda3/lib/python3.11/site-packages/sklearn/ensemble/_base.py:156: FutureWarning: `base_estimator` was renamed to `estimator` in version 1.2 and will be removed in 1.4.\n",
      "  warnings.warn(\n"
     ]
    },
    {
     "name": "stdout",
     "output_type": "stream",
     "text": [
      "[CV 2/5; 25/81] END base_estimator__max_depth=1, base_estimator__min_samples_leaf=4, learning_rate=1, n_estimators=50;, score=0.918 total time=   3.3s\n",
      "[CV 3/5; 25/81] START base_estimator__max_depth=1, base_estimator__min_samples_leaf=4, learning_rate=1, n_estimators=50\n"
     ]
    },
    {
     "name": "stderr",
     "output_type": "stream",
     "text": [
      "/Users/vaishnavimocherla/anaconda3/lib/python3.11/site-packages/sklearn/ensemble/_base.py:156: FutureWarning: `base_estimator` was renamed to `estimator` in version 1.2 and will be removed in 1.4.\n",
      "  warnings.warn(\n"
     ]
    },
    {
     "name": "stdout",
     "output_type": "stream",
     "text": [
      "[CV 3/5; 25/81] END base_estimator__max_depth=1, base_estimator__min_samples_leaf=4, learning_rate=1, n_estimators=50;, score=0.915 total time=   3.3s\n",
      "[CV 4/5; 25/81] START base_estimator__max_depth=1, base_estimator__min_samples_leaf=4, learning_rate=1, n_estimators=50\n"
     ]
    },
    {
     "name": "stderr",
     "output_type": "stream",
     "text": [
      "/Users/vaishnavimocherla/anaconda3/lib/python3.11/site-packages/sklearn/ensemble/_base.py:156: FutureWarning: `base_estimator` was renamed to `estimator` in version 1.2 and will be removed in 1.4.\n",
      "  warnings.warn(\n"
     ]
    },
    {
     "name": "stdout",
     "output_type": "stream",
     "text": [
      "[CV 4/5; 25/81] END base_estimator__max_depth=1, base_estimator__min_samples_leaf=4, learning_rate=1, n_estimators=50;, score=0.915 total time=   3.2s\n",
      "[CV 5/5; 25/81] START base_estimator__max_depth=1, base_estimator__min_samples_leaf=4, learning_rate=1, n_estimators=50\n"
     ]
    },
    {
     "name": "stderr",
     "output_type": "stream",
     "text": [
      "/Users/vaishnavimocherla/anaconda3/lib/python3.11/site-packages/sklearn/ensemble/_base.py:156: FutureWarning: `base_estimator` was renamed to `estimator` in version 1.2 and will be removed in 1.4.\n",
      "  warnings.warn(\n"
     ]
    },
    {
     "name": "stdout",
     "output_type": "stream",
     "text": [
      "[CV 5/5; 25/81] END base_estimator__max_depth=1, base_estimator__min_samples_leaf=4, learning_rate=1, n_estimators=50;, score=0.915 total time=   3.2s\n",
      "[CV 1/5; 26/81] START base_estimator__max_depth=1, base_estimator__min_samples_leaf=4, learning_rate=1, n_estimators=100\n"
     ]
    },
    {
     "name": "stderr",
     "output_type": "stream",
     "text": [
      "/Users/vaishnavimocherla/anaconda3/lib/python3.11/site-packages/sklearn/ensemble/_base.py:156: FutureWarning: `base_estimator` was renamed to `estimator` in version 1.2 and will be removed in 1.4.\n",
      "  warnings.warn(\n"
     ]
    },
    {
     "name": "stdout",
     "output_type": "stream",
     "text": [
      "[CV 1/5; 26/81] END base_estimator__max_depth=1, base_estimator__min_samples_leaf=4, learning_rate=1, n_estimators=100;, score=0.917 total time=   6.7s\n",
      "[CV 2/5; 26/81] START base_estimator__max_depth=1, base_estimator__min_samples_leaf=4, learning_rate=1, n_estimators=100\n"
     ]
    },
    {
     "name": "stderr",
     "output_type": "stream",
     "text": [
      "/Users/vaishnavimocherla/anaconda3/lib/python3.11/site-packages/sklearn/ensemble/_base.py:156: FutureWarning: `base_estimator` was renamed to `estimator` in version 1.2 and will be removed in 1.4.\n",
      "  warnings.warn(\n"
     ]
    },
    {
     "name": "stdout",
     "output_type": "stream",
     "text": [
      "[CV 2/5; 26/81] END base_estimator__max_depth=1, base_estimator__min_samples_leaf=4, learning_rate=1, n_estimators=100;, score=0.918 total time=   6.5s\n",
      "[CV 3/5; 26/81] START base_estimator__max_depth=1, base_estimator__min_samples_leaf=4, learning_rate=1, n_estimators=100\n"
     ]
    },
    {
     "name": "stderr",
     "output_type": "stream",
     "text": [
      "/Users/vaishnavimocherla/anaconda3/lib/python3.11/site-packages/sklearn/ensemble/_base.py:156: FutureWarning: `base_estimator` was renamed to `estimator` in version 1.2 and will be removed in 1.4.\n",
      "  warnings.warn(\n"
     ]
    },
    {
     "name": "stdout",
     "output_type": "stream",
     "text": [
      "[CV 3/5; 26/81] END base_estimator__max_depth=1, base_estimator__min_samples_leaf=4, learning_rate=1, n_estimators=100;, score=0.916 total time=   6.9s\n",
      "[CV 4/5; 26/81] START base_estimator__max_depth=1, base_estimator__min_samples_leaf=4, learning_rate=1, n_estimators=100\n"
     ]
    },
    {
     "name": "stderr",
     "output_type": "stream",
     "text": [
      "/Users/vaishnavimocherla/anaconda3/lib/python3.11/site-packages/sklearn/ensemble/_base.py:156: FutureWarning: `base_estimator` was renamed to `estimator` in version 1.2 and will be removed in 1.4.\n",
      "  warnings.warn(\n"
     ]
    },
    {
     "name": "stdout",
     "output_type": "stream",
     "text": [
      "[CV 4/5; 26/81] END base_estimator__max_depth=1, base_estimator__min_samples_leaf=4, learning_rate=1, n_estimators=100;, score=0.914 total time=   6.7s\n",
      "[CV 5/5; 26/81] START base_estimator__max_depth=1, base_estimator__min_samples_leaf=4, learning_rate=1, n_estimators=100\n"
     ]
    },
    {
     "name": "stderr",
     "output_type": "stream",
     "text": [
      "/Users/vaishnavimocherla/anaconda3/lib/python3.11/site-packages/sklearn/ensemble/_base.py:156: FutureWarning: `base_estimator` was renamed to `estimator` in version 1.2 and will be removed in 1.4.\n",
      "  warnings.warn(\n"
     ]
    },
    {
     "name": "stdout",
     "output_type": "stream",
     "text": [
      "[CV 5/5; 26/81] END base_estimator__max_depth=1, base_estimator__min_samples_leaf=4, learning_rate=1, n_estimators=100;, score=0.915 total time=   6.6s\n",
      "[CV 1/5; 27/81] START base_estimator__max_depth=1, base_estimator__min_samples_leaf=4, learning_rate=1, n_estimators=200\n"
     ]
    },
    {
     "name": "stderr",
     "output_type": "stream",
     "text": [
      "/Users/vaishnavimocherla/anaconda3/lib/python3.11/site-packages/sklearn/ensemble/_base.py:156: FutureWarning: `base_estimator` was renamed to `estimator` in version 1.2 and will be removed in 1.4.\n",
      "  warnings.warn(\n"
     ]
    },
    {
     "name": "stdout",
     "output_type": "stream",
     "text": [
      "[CV 1/5; 27/81] END base_estimator__max_depth=1, base_estimator__min_samples_leaf=4, learning_rate=1, n_estimators=200;, score=0.917 total time=  14.0s\n",
      "[CV 2/5; 27/81] START base_estimator__max_depth=1, base_estimator__min_samples_leaf=4, learning_rate=1, n_estimators=200\n"
     ]
    },
    {
     "name": "stderr",
     "output_type": "stream",
     "text": [
      "/Users/vaishnavimocherla/anaconda3/lib/python3.11/site-packages/sklearn/ensemble/_base.py:156: FutureWarning: `base_estimator` was renamed to `estimator` in version 1.2 and will be removed in 1.4.\n",
      "  warnings.warn(\n"
     ]
    },
    {
     "name": "stdout",
     "output_type": "stream",
     "text": [
      "[CV 2/5; 27/81] END base_estimator__max_depth=1, base_estimator__min_samples_leaf=4, learning_rate=1, n_estimators=200;, score=0.919 total time=  14.1s\n",
      "[CV 3/5; 27/81] START base_estimator__max_depth=1, base_estimator__min_samples_leaf=4, learning_rate=1, n_estimators=200\n"
     ]
    },
    {
     "name": "stderr",
     "output_type": "stream",
     "text": [
      "/Users/vaishnavimocherla/anaconda3/lib/python3.11/site-packages/sklearn/ensemble/_base.py:156: FutureWarning: `base_estimator` was renamed to `estimator` in version 1.2 and will be removed in 1.4.\n",
      "  warnings.warn(\n"
     ]
    },
    {
     "name": "stdout",
     "output_type": "stream",
     "text": [
      "[CV 3/5; 27/81] END base_estimator__max_depth=1, base_estimator__min_samples_leaf=4, learning_rate=1, n_estimators=200;, score=0.916 total time=  14.1s\n",
      "[CV 4/5; 27/81] START base_estimator__max_depth=1, base_estimator__min_samples_leaf=4, learning_rate=1, n_estimators=200\n"
     ]
    },
    {
     "name": "stderr",
     "output_type": "stream",
     "text": [
      "/Users/vaishnavimocherla/anaconda3/lib/python3.11/site-packages/sklearn/ensemble/_base.py:156: FutureWarning: `base_estimator` was renamed to `estimator` in version 1.2 and will be removed in 1.4.\n",
      "  warnings.warn(\n"
     ]
    },
    {
     "name": "stdout",
     "output_type": "stream",
     "text": [
      "[CV 4/5; 27/81] END base_estimator__max_depth=1, base_estimator__min_samples_leaf=4, learning_rate=1, n_estimators=200;, score=0.915 total time=  13.9s\n",
      "[CV 5/5; 27/81] START base_estimator__max_depth=1, base_estimator__min_samples_leaf=4, learning_rate=1, n_estimators=200\n"
     ]
    },
    {
     "name": "stderr",
     "output_type": "stream",
     "text": [
      "/Users/vaishnavimocherla/anaconda3/lib/python3.11/site-packages/sklearn/ensemble/_base.py:156: FutureWarning: `base_estimator` was renamed to `estimator` in version 1.2 and will be removed in 1.4.\n",
      "  warnings.warn(\n"
     ]
    },
    {
     "name": "stdout",
     "output_type": "stream",
     "text": [
      "[CV 5/5; 27/81] END base_estimator__max_depth=1, base_estimator__min_samples_leaf=4, learning_rate=1, n_estimators=200;, score=0.916 total time=  17.0s\n",
      "[CV 1/5; 28/81] START base_estimator__max_depth=2, base_estimator__min_samples_leaf=1, learning_rate=0.01, n_estimators=50\n"
     ]
    },
    {
     "name": "stderr",
     "output_type": "stream",
     "text": [
      "/Users/vaishnavimocherla/anaconda3/lib/python3.11/site-packages/sklearn/ensemble/_base.py:156: FutureWarning: `base_estimator` was renamed to `estimator` in version 1.2 and will be removed in 1.4.\n",
      "  warnings.warn(\n"
     ]
    },
    {
     "name": "stdout",
     "output_type": "stream",
     "text": [
      "[CV 1/5; 28/81] END base_estimator__max_depth=2, base_estimator__min_samples_leaf=1, learning_rate=0.01, n_estimators=50;, score=0.915 total time=   6.4s\n",
      "[CV 2/5; 28/81] START base_estimator__max_depth=2, base_estimator__min_samples_leaf=1, learning_rate=0.01, n_estimators=50\n"
     ]
    },
    {
     "name": "stderr",
     "output_type": "stream",
     "text": [
      "/Users/vaishnavimocherla/anaconda3/lib/python3.11/site-packages/sklearn/ensemble/_base.py:156: FutureWarning: `base_estimator` was renamed to `estimator` in version 1.2 and will be removed in 1.4.\n",
      "  warnings.warn(\n"
     ]
    },
    {
     "name": "stdout",
     "output_type": "stream",
     "text": [
      "[CV 2/5; 28/81] END base_estimator__max_depth=2, base_estimator__min_samples_leaf=1, learning_rate=0.01, n_estimators=50;, score=0.916 total time=   6.3s\n",
      "[CV 3/5; 28/81] START base_estimator__max_depth=2, base_estimator__min_samples_leaf=1, learning_rate=0.01, n_estimators=50\n"
     ]
    },
    {
     "name": "stderr",
     "output_type": "stream",
     "text": [
      "/Users/vaishnavimocherla/anaconda3/lib/python3.11/site-packages/sklearn/ensemble/_base.py:156: FutureWarning: `base_estimator` was renamed to `estimator` in version 1.2 and will be removed in 1.4.\n",
      "  warnings.warn(\n"
     ]
    },
    {
     "name": "stdout",
     "output_type": "stream",
     "text": [
      "[CV 3/5; 28/81] END base_estimator__max_depth=2, base_estimator__min_samples_leaf=1, learning_rate=0.01, n_estimators=50;, score=0.915 total time=   5.5s\n",
      "[CV 4/5; 28/81] START base_estimator__max_depth=2, base_estimator__min_samples_leaf=1, learning_rate=0.01, n_estimators=50\n"
     ]
    },
    {
     "name": "stderr",
     "output_type": "stream",
     "text": [
      "/Users/vaishnavimocherla/anaconda3/lib/python3.11/site-packages/sklearn/ensemble/_base.py:156: FutureWarning: `base_estimator` was renamed to `estimator` in version 1.2 and will be removed in 1.4.\n",
      "  warnings.warn(\n"
     ]
    },
    {
     "name": "stdout",
     "output_type": "stream",
     "text": [
      "[CV 4/5; 28/81] END base_estimator__max_depth=2, base_estimator__min_samples_leaf=1, learning_rate=0.01, n_estimators=50;, score=0.913 total time=   5.6s\n",
      "[CV 5/5; 28/81] START base_estimator__max_depth=2, base_estimator__min_samples_leaf=1, learning_rate=0.01, n_estimators=50\n"
     ]
    },
    {
     "name": "stderr",
     "output_type": "stream",
     "text": [
      "/Users/vaishnavimocherla/anaconda3/lib/python3.11/site-packages/sklearn/ensemble/_base.py:156: FutureWarning: `base_estimator` was renamed to `estimator` in version 1.2 and will be removed in 1.4.\n",
      "  warnings.warn(\n"
     ]
    },
    {
     "name": "stdout",
     "output_type": "stream",
     "text": [
      "[CV 5/5; 28/81] END base_estimator__max_depth=2, base_estimator__min_samples_leaf=1, learning_rate=0.01, n_estimators=50;, score=0.915 total time=   6.4s\n",
      "[CV 1/5; 29/81] START base_estimator__max_depth=2, base_estimator__min_samples_leaf=1, learning_rate=0.01, n_estimators=100\n"
     ]
    },
    {
     "name": "stderr",
     "output_type": "stream",
     "text": [
      "/Users/vaishnavimocherla/anaconda3/lib/python3.11/site-packages/sklearn/ensemble/_base.py:156: FutureWarning: `base_estimator` was renamed to `estimator` in version 1.2 and will be removed in 1.4.\n",
      "  warnings.warn(\n"
     ]
    },
    {
     "name": "stdout",
     "output_type": "stream",
     "text": [
      "[CV 1/5; 29/81] END base_estimator__max_depth=2, base_estimator__min_samples_leaf=1, learning_rate=0.01, n_estimators=100;, score=0.915 total time=  13.5s\n",
      "[CV 2/5; 29/81] START base_estimator__max_depth=2, base_estimator__min_samples_leaf=1, learning_rate=0.01, n_estimators=100\n"
     ]
    },
    {
     "name": "stderr",
     "output_type": "stream",
     "text": [
      "/Users/vaishnavimocherla/anaconda3/lib/python3.11/site-packages/sklearn/ensemble/_base.py:156: FutureWarning: `base_estimator` was renamed to `estimator` in version 1.2 and will be removed in 1.4.\n",
      "  warnings.warn(\n"
     ]
    },
    {
     "name": "stdout",
     "output_type": "stream",
     "text": [
      "[CV 2/5; 29/81] END base_estimator__max_depth=2, base_estimator__min_samples_leaf=1, learning_rate=0.01, n_estimators=100;, score=0.916 total time=  15.2s\n",
      "[CV 3/5; 29/81] START base_estimator__max_depth=2, base_estimator__min_samples_leaf=1, learning_rate=0.01, n_estimators=100\n"
     ]
    },
    {
     "name": "stderr",
     "output_type": "stream",
     "text": [
      "/Users/vaishnavimocherla/anaconda3/lib/python3.11/site-packages/sklearn/ensemble/_base.py:156: FutureWarning: `base_estimator` was renamed to `estimator` in version 1.2 and will be removed in 1.4.\n",
      "  warnings.warn(\n"
     ]
    },
    {
     "name": "stdout",
     "output_type": "stream",
     "text": [
      "[CV 3/5; 29/81] END base_estimator__max_depth=2, base_estimator__min_samples_leaf=1, learning_rate=0.01, n_estimators=100;, score=0.916 total time=  13.2s\n",
      "[CV 4/5; 29/81] START base_estimator__max_depth=2, base_estimator__min_samples_leaf=1, learning_rate=0.01, n_estimators=100\n"
     ]
    },
    {
     "name": "stderr",
     "output_type": "stream",
     "text": [
      "/Users/vaishnavimocherla/anaconda3/lib/python3.11/site-packages/sklearn/ensemble/_base.py:156: FutureWarning: `base_estimator` was renamed to `estimator` in version 1.2 and will be removed in 1.4.\n",
      "  warnings.warn(\n"
     ]
    },
    {
     "name": "stdout",
     "output_type": "stream",
     "text": [
      "[CV 4/5; 29/81] END base_estimator__max_depth=2, base_estimator__min_samples_leaf=1, learning_rate=0.01, n_estimators=100;, score=0.913 total time=  12.6s\n",
      "[CV 5/5; 29/81] START base_estimator__max_depth=2, base_estimator__min_samples_leaf=1, learning_rate=0.01, n_estimators=100\n"
     ]
    },
    {
     "name": "stderr",
     "output_type": "stream",
     "text": [
      "/Users/vaishnavimocherla/anaconda3/lib/python3.11/site-packages/sklearn/ensemble/_base.py:156: FutureWarning: `base_estimator` was renamed to `estimator` in version 1.2 and will be removed in 1.4.\n",
      "  warnings.warn(\n"
     ]
    },
    {
     "name": "stdout",
     "output_type": "stream",
     "text": [
      "[CV 5/5; 29/81] END base_estimator__max_depth=2, base_estimator__min_samples_leaf=1, learning_rate=0.01, n_estimators=100;, score=0.915 total time=  14.8s\n",
      "[CV 1/5; 30/81] START base_estimator__max_depth=2, base_estimator__min_samples_leaf=1, learning_rate=0.01, n_estimators=200\n"
     ]
    },
    {
     "name": "stderr",
     "output_type": "stream",
     "text": [
      "/Users/vaishnavimocherla/anaconda3/lib/python3.11/site-packages/sklearn/ensemble/_base.py:156: FutureWarning: `base_estimator` was renamed to `estimator` in version 1.2 and will be removed in 1.4.\n",
      "  warnings.warn(\n"
     ]
    },
    {
     "name": "stdout",
     "output_type": "stream",
     "text": [
      "[CV 1/5; 30/81] END base_estimator__max_depth=2, base_estimator__min_samples_leaf=1, learning_rate=0.01, n_estimators=200;, score=0.916 total time=  26.9s\n",
      "[CV 2/5; 30/81] START base_estimator__max_depth=2, base_estimator__min_samples_leaf=1, learning_rate=0.01, n_estimators=200\n"
     ]
    },
    {
     "name": "stderr",
     "output_type": "stream",
     "text": [
      "/Users/vaishnavimocherla/anaconda3/lib/python3.11/site-packages/sklearn/ensemble/_base.py:156: FutureWarning: `base_estimator` was renamed to `estimator` in version 1.2 and will be removed in 1.4.\n",
      "  warnings.warn(\n"
     ]
    },
    {
     "name": "stdout",
     "output_type": "stream",
     "text": [
      "[CV 2/5; 30/81] END base_estimator__max_depth=2, base_estimator__min_samples_leaf=1, learning_rate=0.01, n_estimators=200;, score=0.918 total time=  24.2s\n",
      "[CV 3/5; 30/81] START base_estimator__max_depth=2, base_estimator__min_samples_leaf=1, learning_rate=0.01, n_estimators=200\n"
     ]
    },
    {
     "name": "stderr",
     "output_type": "stream",
     "text": [
      "/Users/vaishnavimocherla/anaconda3/lib/python3.11/site-packages/sklearn/ensemble/_base.py:156: FutureWarning: `base_estimator` was renamed to `estimator` in version 1.2 and will be removed in 1.4.\n",
      "  warnings.warn(\n"
     ]
    },
    {
     "name": "stdout",
     "output_type": "stream",
     "text": [
      "[CV 3/5; 30/81] END base_estimator__max_depth=2, base_estimator__min_samples_leaf=1, learning_rate=0.01, n_estimators=200;, score=0.917 total time=  22.1s\n",
      "[CV 4/5; 30/81] START base_estimator__max_depth=2, base_estimator__min_samples_leaf=1, learning_rate=0.01, n_estimators=200\n"
     ]
    },
    {
     "name": "stderr",
     "output_type": "stream",
     "text": [
      "/Users/vaishnavimocherla/anaconda3/lib/python3.11/site-packages/sklearn/ensemble/_base.py:156: FutureWarning: `base_estimator` was renamed to `estimator` in version 1.2 and will be removed in 1.4.\n",
      "  warnings.warn(\n"
     ]
    },
    {
     "name": "stdout",
     "output_type": "stream",
     "text": [
      "[CV 4/5; 30/81] END base_estimator__max_depth=2, base_estimator__min_samples_leaf=1, learning_rate=0.01, n_estimators=200;, score=0.915 total time=  22.0s\n",
      "[CV 5/5; 30/81] START base_estimator__max_depth=2, base_estimator__min_samples_leaf=1, learning_rate=0.01, n_estimators=200\n"
     ]
    },
    {
     "name": "stderr",
     "output_type": "stream",
     "text": [
      "/Users/vaishnavimocherla/anaconda3/lib/python3.11/site-packages/sklearn/ensemble/_base.py:156: FutureWarning: `base_estimator` was renamed to `estimator` in version 1.2 and will be removed in 1.4.\n",
      "  warnings.warn(\n"
     ]
    },
    {
     "name": "stdout",
     "output_type": "stream",
     "text": [
      "[CV 5/5; 30/81] END base_estimator__max_depth=2, base_estimator__min_samples_leaf=1, learning_rate=0.01, n_estimators=200;, score=0.916 total time=  22.0s\n",
      "[CV 1/5; 31/81] START base_estimator__max_depth=2, base_estimator__min_samples_leaf=1, learning_rate=0.1, n_estimators=50\n"
     ]
    },
    {
     "name": "stderr",
     "output_type": "stream",
     "text": [
      "/Users/vaishnavimocherla/anaconda3/lib/python3.11/site-packages/sklearn/ensemble/_base.py:156: FutureWarning: `base_estimator` was renamed to `estimator` in version 1.2 and will be removed in 1.4.\n",
      "  warnings.warn(\n"
     ]
    },
    {
     "name": "stdout",
     "output_type": "stream",
     "text": [
      "[CV 1/5; 31/81] END base_estimator__max_depth=2, base_estimator__min_samples_leaf=1, learning_rate=0.1, n_estimators=50;, score=0.917 total time=   5.5s\n",
      "[CV 2/5; 31/81] START base_estimator__max_depth=2, base_estimator__min_samples_leaf=1, learning_rate=0.1, n_estimators=50\n"
     ]
    },
    {
     "name": "stderr",
     "output_type": "stream",
     "text": [
      "/Users/vaishnavimocherla/anaconda3/lib/python3.11/site-packages/sklearn/ensemble/_base.py:156: FutureWarning: `base_estimator` was renamed to `estimator` in version 1.2 and will be removed in 1.4.\n",
      "  warnings.warn(\n"
     ]
    },
    {
     "name": "stdout",
     "output_type": "stream",
     "text": [
      "[CV 2/5; 31/81] END base_estimator__max_depth=2, base_estimator__min_samples_leaf=1, learning_rate=0.1, n_estimators=50;, score=0.919 total time=   5.5s\n",
      "[CV 3/5; 31/81] START base_estimator__max_depth=2, base_estimator__min_samples_leaf=1, learning_rate=0.1, n_estimators=50\n"
     ]
    },
    {
     "name": "stderr",
     "output_type": "stream",
     "text": [
      "/Users/vaishnavimocherla/anaconda3/lib/python3.11/site-packages/sklearn/ensemble/_base.py:156: FutureWarning: `base_estimator` was renamed to `estimator` in version 1.2 and will be removed in 1.4.\n",
      "  warnings.warn(\n"
     ]
    },
    {
     "name": "stdout",
     "output_type": "stream",
     "text": [
      "[CV 3/5; 31/81] END base_estimator__max_depth=2, base_estimator__min_samples_leaf=1, learning_rate=0.1, n_estimators=50;, score=0.916 total time=   5.5s\n",
      "[CV 4/5; 31/81] START base_estimator__max_depth=2, base_estimator__min_samples_leaf=1, learning_rate=0.1, n_estimators=50\n"
     ]
    },
    {
     "name": "stderr",
     "output_type": "stream",
     "text": [
      "/Users/vaishnavimocherla/anaconda3/lib/python3.11/site-packages/sklearn/ensemble/_base.py:156: FutureWarning: `base_estimator` was renamed to `estimator` in version 1.2 and will be removed in 1.4.\n",
      "  warnings.warn(\n"
     ]
    },
    {
     "name": "stdout",
     "output_type": "stream",
     "text": [
      "[CV 4/5; 31/81] END base_estimator__max_depth=2, base_estimator__min_samples_leaf=1, learning_rate=0.1, n_estimators=50;, score=0.916 total time=   5.6s\n",
      "[CV 5/5; 31/81] START base_estimator__max_depth=2, base_estimator__min_samples_leaf=1, learning_rate=0.1, n_estimators=50\n"
     ]
    },
    {
     "name": "stderr",
     "output_type": "stream",
     "text": [
      "/Users/vaishnavimocherla/anaconda3/lib/python3.11/site-packages/sklearn/ensemble/_base.py:156: FutureWarning: `base_estimator` was renamed to `estimator` in version 1.2 and will be removed in 1.4.\n",
      "  warnings.warn(\n"
     ]
    },
    {
     "name": "stdout",
     "output_type": "stream",
     "text": [
      "[CV 5/5; 31/81] END base_estimator__max_depth=2, base_estimator__min_samples_leaf=1, learning_rate=0.1, n_estimators=50;, score=0.917 total time=   5.5s\n",
      "[CV 1/5; 32/81] START base_estimator__max_depth=2, base_estimator__min_samples_leaf=1, learning_rate=0.1, n_estimators=100\n"
     ]
    },
    {
     "name": "stderr",
     "output_type": "stream",
     "text": [
      "/Users/vaishnavimocherla/anaconda3/lib/python3.11/site-packages/sklearn/ensemble/_base.py:156: FutureWarning: `base_estimator` was renamed to `estimator` in version 1.2 and will be removed in 1.4.\n",
      "  warnings.warn(\n"
     ]
    },
    {
     "name": "stdout",
     "output_type": "stream",
     "text": [
      "[CV 1/5; 32/81] END base_estimator__max_depth=2, base_estimator__min_samples_leaf=1, learning_rate=0.1, n_estimators=100;, score=0.918 total time=  11.0s\n",
      "[CV 2/5; 32/81] START base_estimator__max_depth=2, base_estimator__min_samples_leaf=1, learning_rate=0.1, n_estimators=100\n"
     ]
    },
    {
     "name": "stderr",
     "output_type": "stream",
     "text": [
      "/Users/vaishnavimocherla/anaconda3/lib/python3.11/site-packages/sklearn/ensemble/_base.py:156: FutureWarning: `base_estimator` was renamed to `estimator` in version 1.2 and will be removed in 1.4.\n",
      "  warnings.warn(\n"
     ]
    },
    {
     "name": "stdout",
     "output_type": "stream",
     "text": [
      "[CV 2/5; 32/81] END base_estimator__max_depth=2, base_estimator__min_samples_leaf=1, learning_rate=0.1, n_estimators=100;, score=0.920 total time=  11.0s\n",
      "[CV 3/5; 32/81] START base_estimator__max_depth=2, base_estimator__min_samples_leaf=1, learning_rate=0.1, n_estimators=100\n"
     ]
    },
    {
     "name": "stderr",
     "output_type": "stream",
     "text": [
      "/Users/vaishnavimocherla/anaconda3/lib/python3.11/site-packages/sklearn/ensemble/_base.py:156: FutureWarning: `base_estimator` was renamed to `estimator` in version 1.2 and will be removed in 1.4.\n",
      "  warnings.warn(\n"
     ]
    },
    {
     "name": "stdout",
     "output_type": "stream",
     "text": [
      "[CV 3/5; 32/81] END base_estimator__max_depth=2, base_estimator__min_samples_leaf=1, learning_rate=0.1, n_estimators=100;, score=0.918 total time=  10.9s\n",
      "[CV 4/5; 32/81] START base_estimator__max_depth=2, base_estimator__min_samples_leaf=1, learning_rate=0.1, n_estimators=100\n"
     ]
    },
    {
     "name": "stderr",
     "output_type": "stream",
     "text": [
      "/Users/vaishnavimocherla/anaconda3/lib/python3.11/site-packages/sklearn/ensemble/_base.py:156: FutureWarning: `base_estimator` was renamed to `estimator` in version 1.2 and will be removed in 1.4.\n",
      "  warnings.warn(\n"
     ]
    },
    {
     "name": "stdout",
     "output_type": "stream",
     "text": [
      "[CV 4/5; 32/81] END base_estimator__max_depth=2, base_estimator__min_samples_leaf=1, learning_rate=0.1, n_estimators=100;, score=0.917 total time=  11.0s\n",
      "[CV 5/5; 32/81] START base_estimator__max_depth=2, base_estimator__min_samples_leaf=1, learning_rate=0.1, n_estimators=100\n"
     ]
    },
    {
     "name": "stderr",
     "output_type": "stream",
     "text": [
      "/Users/vaishnavimocherla/anaconda3/lib/python3.11/site-packages/sklearn/ensemble/_base.py:156: FutureWarning: `base_estimator` was renamed to `estimator` in version 1.2 and will be removed in 1.4.\n",
      "  warnings.warn(\n"
     ]
    },
    {
     "name": "stdout",
     "output_type": "stream",
     "text": [
      "[CV 5/5; 32/81] END base_estimator__max_depth=2, base_estimator__min_samples_leaf=1, learning_rate=0.1, n_estimators=100;, score=0.918 total time=  10.9s\n",
      "[CV 1/5; 33/81] START base_estimator__max_depth=2, base_estimator__min_samples_leaf=1, learning_rate=0.1, n_estimators=200\n"
     ]
    },
    {
     "name": "stderr",
     "output_type": "stream",
     "text": [
      "/Users/vaishnavimocherla/anaconda3/lib/python3.11/site-packages/sklearn/ensemble/_base.py:156: FutureWarning: `base_estimator` was renamed to `estimator` in version 1.2 and will be removed in 1.4.\n",
      "  warnings.warn(\n"
     ]
    },
    {
     "name": "stdout",
     "output_type": "stream",
     "text": [
      "[CV 1/5; 33/81] END base_estimator__max_depth=2, base_estimator__min_samples_leaf=1, learning_rate=0.1, n_estimators=200;, score=0.920 total time=  22.0s\n",
      "[CV 2/5; 33/81] START base_estimator__max_depth=2, base_estimator__min_samples_leaf=1, learning_rate=0.1, n_estimators=200\n"
     ]
    },
    {
     "name": "stderr",
     "output_type": "stream",
     "text": [
      "/Users/vaishnavimocherla/anaconda3/lib/python3.11/site-packages/sklearn/ensemble/_base.py:156: FutureWarning: `base_estimator` was renamed to `estimator` in version 1.2 and will be removed in 1.4.\n",
      "  warnings.warn(\n"
     ]
    },
    {
     "name": "stdout",
     "output_type": "stream",
     "text": [
      "[CV 2/5; 33/81] END base_estimator__max_depth=2, base_estimator__min_samples_leaf=1, learning_rate=0.1, n_estimators=200;, score=0.921 total time=  22.3s\n",
      "[CV 3/5; 33/81] START base_estimator__max_depth=2, base_estimator__min_samples_leaf=1, learning_rate=0.1, n_estimators=200\n"
     ]
    },
    {
     "name": "stderr",
     "output_type": "stream",
     "text": [
      "/Users/vaishnavimocherla/anaconda3/lib/python3.11/site-packages/sklearn/ensemble/_base.py:156: FutureWarning: `base_estimator` was renamed to `estimator` in version 1.2 and will be removed in 1.4.\n",
      "  warnings.warn(\n"
     ]
    },
    {
     "name": "stdout",
     "output_type": "stream",
     "text": [
      "[CV 3/5; 33/81] END base_estimator__max_depth=2, base_estimator__min_samples_leaf=1, learning_rate=0.1, n_estimators=200;, score=0.918 total time=  21.7s\n",
      "[CV 4/5; 33/81] START base_estimator__max_depth=2, base_estimator__min_samples_leaf=1, learning_rate=0.1, n_estimators=200\n"
     ]
    },
    {
     "name": "stderr",
     "output_type": "stream",
     "text": [
      "/Users/vaishnavimocherla/anaconda3/lib/python3.11/site-packages/sklearn/ensemble/_base.py:156: FutureWarning: `base_estimator` was renamed to `estimator` in version 1.2 and will be removed in 1.4.\n",
      "  warnings.warn(\n"
     ]
    },
    {
     "name": "stdout",
     "output_type": "stream",
     "text": [
      "[CV 4/5; 33/81] END base_estimator__max_depth=2, base_estimator__min_samples_leaf=1, learning_rate=0.1, n_estimators=200;, score=0.918 total time=  21.7s\n",
      "[CV 5/5; 33/81] START base_estimator__max_depth=2, base_estimator__min_samples_leaf=1, learning_rate=0.1, n_estimators=200\n"
     ]
    },
    {
     "name": "stderr",
     "output_type": "stream",
     "text": [
      "/Users/vaishnavimocherla/anaconda3/lib/python3.11/site-packages/sklearn/ensemble/_base.py:156: FutureWarning: `base_estimator` was renamed to `estimator` in version 1.2 and will be removed in 1.4.\n",
      "  warnings.warn(\n"
     ]
    },
    {
     "name": "stdout",
     "output_type": "stream",
     "text": [
      "[CV 5/5; 33/81] END base_estimator__max_depth=2, base_estimator__min_samples_leaf=1, learning_rate=0.1, n_estimators=200;, score=0.919 total time=  21.8s\n",
      "[CV 1/5; 34/81] START base_estimator__max_depth=2, base_estimator__min_samples_leaf=1, learning_rate=1, n_estimators=50\n"
     ]
    },
    {
     "name": "stderr",
     "output_type": "stream",
     "text": [
      "/Users/vaishnavimocherla/anaconda3/lib/python3.11/site-packages/sklearn/ensemble/_base.py:156: FutureWarning: `base_estimator` was renamed to `estimator` in version 1.2 and will be removed in 1.4.\n",
      "  warnings.warn(\n"
     ]
    },
    {
     "name": "stdout",
     "output_type": "stream",
     "text": [
      "[CV 1/5; 34/81] END base_estimator__max_depth=2, base_estimator__min_samples_leaf=1, learning_rate=1, n_estimators=50;, score=0.920 total time=   5.5s\n",
      "[CV 2/5; 34/81] START base_estimator__max_depth=2, base_estimator__min_samples_leaf=1, learning_rate=1, n_estimators=50\n"
     ]
    },
    {
     "name": "stderr",
     "output_type": "stream",
     "text": [
      "/Users/vaishnavimocherla/anaconda3/lib/python3.11/site-packages/sklearn/ensemble/_base.py:156: FutureWarning: `base_estimator` was renamed to `estimator` in version 1.2 and will be removed in 1.4.\n",
      "  warnings.warn(\n"
     ]
    },
    {
     "name": "stdout",
     "output_type": "stream",
     "text": [
      "[CV 2/5; 34/81] END base_estimator__max_depth=2, base_estimator__min_samples_leaf=1, learning_rate=1, n_estimators=50;, score=0.922 total time=   5.4s\n",
      "[CV 3/5; 34/81] START base_estimator__max_depth=2, base_estimator__min_samples_leaf=1, learning_rate=1, n_estimators=50\n"
     ]
    },
    {
     "name": "stderr",
     "output_type": "stream",
     "text": [
      "/Users/vaishnavimocherla/anaconda3/lib/python3.11/site-packages/sklearn/ensemble/_base.py:156: FutureWarning: `base_estimator` was renamed to `estimator` in version 1.2 and will be removed in 1.4.\n",
      "  warnings.warn(\n"
     ]
    },
    {
     "name": "stdout",
     "output_type": "stream",
     "text": [
      "[CV 3/5; 34/81] END base_estimator__max_depth=2, base_estimator__min_samples_leaf=1, learning_rate=1, n_estimators=50;, score=0.918 total time=   5.5s\n",
      "[CV 4/5; 34/81] START base_estimator__max_depth=2, base_estimator__min_samples_leaf=1, learning_rate=1, n_estimators=50\n"
     ]
    },
    {
     "name": "stderr",
     "output_type": "stream",
     "text": [
      "/Users/vaishnavimocherla/anaconda3/lib/python3.11/site-packages/sklearn/ensemble/_base.py:156: FutureWarning: `base_estimator` was renamed to `estimator` in version 1.2 and will be removed in 1.4.\n",
      "  warnings.warn(\n"
     ]
    },
    {
     "name": "stdout",
     "output_type": "stream",
     "text": [
      "[CV 4/5; 34/81] END base_estimator__max_depth=2, base_estimator__min_samples_leaf=1, learning_rate=1, n_estimators=50;, score=0.915 total time=   5.5s\n",
      "[CV 5/5; 34/81] START base_estimator__max_depth=2, base_estimator__min_samples_leaf=1, learning_rate=1, n_estimators=50\n"
     ]
    },
    {
     "name": "stderr",
     "output_type": "stream",
     "text": [
      "/Users/vaishnavimocherla/anaconda3/lib/python3.11/site-packages/sklearn/ensemble/_base.py:156: FutureWarning: `base_estimator` was renamed to `estimator` in version 1.2 and will be removed in 1.4.\n",
      "  warnings.warn(\n"
     ]
    },
    {
     "name": "stdout",
     "output_type": "stream",
     "text": [
      "[CV 5/5; 34/81] END base_estimator__max_depth=2, base_estimator__min_samples_leaf=1, learning_rate=1, n_estimators=50;, score=0.919 total time=   5.4s\n",
      "[CV 1/5; 35/81] START base_estimator__max_depth=2, base_estimator__min_samples_leaf=1, learning_rate=1, n_estimators=100\n"
     ]
    },
    {
     "name": "stderr",
     "output_type": "stream",
     "text": [
      "/Users/vaishnavimocherla/anaconda3/lib/python3.11/site-packages/sklearn/ensemble/_base.py:156: FutureWarning: `base_estimator` was renamed to `estimator` in version 1.2 and will be removed in 1.4.\n",
      "  warnings.warn(\n"
     ]
    },
    {
     "name": "stdout",
     "output_type": "stream",
     "text": [
      "[CV 1/5; 35/81] END base_estimator__max_depth=2, base_estimator__min_samples_leaf=1, learning_rate=1, n_estimators=100;, score=0.920 total time=  11.0s\n",
      "[CV 2/5; 35/81] START base_estimator__max_depth=2, base_estimator__min_samples_leaf=1, learning_rate=1, n_estimators=100\n"
     ]
    },
    {
     "name": "stderr",
     "output_type": "stream",
     "text": [
      "/Users/vaishnavimocherla/anaconda3/lib/python3.11/site-packages/sklearn/ensemble/_base.py:156: FutureWarning: `base_estimator` was renamed to `estimator` in version 1.2 and will be removed in 1.4.\n",
      "  warnings.warn(\n"
     ]
    },
    {
     "name": "stdout",
     "output_type": "stream",
     "text": [
      "[CV 2/5; 35/81] END base_estimator__max_depth=2, base_estimator__min_samples_leaf=1, learning_rate=1, n_estimators=100;, score=0.922 total time=  10.9s\n",
      "[CV 3/5; 35/81] START base_estimator__max_depth=2, base_estimator__min_samples_leaf=1, learning_rate=1, n_estimators=100\n"
     ]
    },
    {
     "name": "stderr",
     "output_type": "stream",
     "text": [
      "/Users/vaishnavimocherla/anaconda3/lib/python3.11/site-packages/sklearn/ensemble/_base.py:156: FutureWarning: `base_estimator` was renamed to `estimator` in version 1.2 and will be removed in 1.4.\n",
      "  warnings.warn(\n"
     ]
    },
    {
     "name": "stdout",
     "output_type": "stream",
     "text": [
      "[CV 3/5; 35/81] END base_estimator__max_depth=2, base_estimator__min_samples_leaf=1, learning_rate=1, n_estimators=100;, score=0.918 total time=  11.0s\n",
      "[CV 4/5; 35/81] START base_estimator__max_depth=2, base_estimator__min_samples_leaf=1, learning_rate=1, n_estimators=100\n"
     ]
    },
    {
     "name": "stderr",
     "output_type": "stream",
     "text": [
      "/Users/vaishnavimocherla/anaconda3/lib/python3.11/site-packages/sklearn/ensemble/_base.py:156: FutureWarning: `base_estimator` was renamed to `estimator` in version 1.2 and will be removed in 1.4.\n",
      "  warnings.warn(\n"
     ]
    },
    {
     "name": "stdout",
     "output_type": "stream",
     "text": [
      "[CV 4/5; 35/81] END base_estimator__max_depth=2, base_estimator__min_samples_leaf=1, learning_rate=1, n_estimators=100;, score=0.917 total time=  10.9s\n",
      "[CV 5/5; 35/81] START base_estimator__max_depth=2, base_estimator__min_samples_leaf=1, learning_rate=1, n_estimators=100\n"
     ]
    },
    {
     "name": "stderr",
     "output_type": "stream",
     "text": [
      "/Users/vaishnavimocherla/anaconda3/lib/python3.11/site-packages/sklearn/ensemble/_base.py:156: FutureWarning: `base_estimator` was renamed to `estimator` in version 1.2 and will be removed in 1.4.\n",
      "  warnings.warn(\n"
     ]
    },
    {
     "name": "stdout",
     "output_type": "stream",
     "text": [
      "[CV 5/5; 35/81] END base_estimator__max_depth=2, base_estimator__min_samples_leaf=1, learning_rate=1, n_estimators=100;, score=0.919 total time=  10.8s\n",
      "[CV 1/5; 36/81] START base_estimator__max_depth=2, base_estimator__min_samples_leaf=1, learning_rate=1, n_estimators=200\n"
     ]
    },
    {
     "name": "stderr",
     "output_type": "stream",
     "text": [
      "/Users/vaishnavimocherla/anaconda3/lib/python3.11/site-packages/sklearn/ensemble/_base.py:156: FutureWarning: `base_estimator` was renamed to `estimator` in version 1.2 and will be removed in 1.4.\n",
      "  warnings.warn(\n"
     ]
    },
    {
     "name": "stdout",
     "output_type": "stream",
     "text": [
      "[CV 1/5; 36/81] END base_estimator__max_depth=2, base_estimator__min_samples_leaf=1, learning_rate=1, n_estimators=200;, score=0.920 total time=  21.7s\n",
      "[CV 2/5; 36/81] START base_estimator__max_depth=2, base_estimator__min_samples_leaf=1, learning_rate=1, n_estimators=200\n"
     ]
    },
    {
     "name": "stderr",
     "output_type": "stream",
     "text": [
      "/Users/vaishnavimocherla/anaconda3/lib/python3.11/site-packages/sklearn/ensemble/_base.py:156: FutureWarning: `base_estimator` was renamed to `estimator` in version 1.2 and will be removed in 1.4.\n",
      "  warnings.warn(\n"
     ]
    },
    {
     "name": "stdout",
     "output_type": "stream",
     "text": [
      "[CV 2/5; 36/81] END base_estimator__max_depth=2, base_estimator__min_samples_leaf=1, learning_rate=1, n_estimators=200;, score=0.922 total time=  21.8s\n",
      "[CV 3/5; 36/81] START base_estimator__max_depth=2, base_estimator__min_samples_leaf=1, learning_rate=1, n_estimators=200\n"
     ]
    },
    {
     "name": "stderr",
     "output_type": "stream",
     "text": [
      "/Users/vaishnavimocherla/anaconda3/lib/python3.11/site-packages/sklearn/ensemble/_base.py:156: FutureWarning: `base_estimator` was renamed to `estimator` in version 1.2 and will be removed in 1.4.\n",
      "  warnings.warn(\n"
     ]
    },
    {
     "name": "stdout",
     "output_type": "stream",
     "text": [
      "[CV 3/5; 36/81] END base_estimator__max_depth=2, base_estimator__min_samples_leaf=1, learning_rate=1, n_estimators=200;, score=0.918 total time=  24.5s\n",
      "[CV 4/5; 36/81] START base_estimator__max_depth=2, base_estimator__min_samples_leaf=1, learning_rate=1, n_estimators=200\n"
     ]
    },
    {
     "name": "stderr",
     "output_type": "stream",
     "text": [
      "/Users/vaishnavimocherla/anaconda3/lib/python3.11/site-packages/sklearn/ensemble/_base.py:156: FutureWarning: `base_estimator` was renamed to `estimator` in version 1.2 and will be removed in 1.4.\n",
      "  warnings.warn(\n"
     ]
    },
    {
     "name": "stdout",
     "output_type": "stream",
     "text": [
      "[CV 4/5; 36/81] END base_estimator__max_depth=2, base_estimator__min_samples_leaf=1, learning_rate=1, n_estimators=200;, score=0.918 total time=  25.3s\n",
      "[CV 5/5; 36/81] START base_estimator__max_depth=2, base_estimator__min_samples_leaf=1, learning_rate=1, n_estimators=200\n"
     ]
    },
    {
     "name": "stderr",
     "output_type": "stream",
     "text": [
      "/Users/vaishnavimocherla/anaconda3/lib/python3.11/site-packages/sklearn/ensemble/_base.py:156: FutureWarning: `base_estimator` was renamed to `estimator` in version 1.2 and will be removed in 1.4.\n",
      "  warnings.warn(\n"
     ]
    },
    {
     "name": "stdout",
     "output_type": "stream",
     "text": [
      "[CV 5/5; 36/81] END base_estimator__max_depth=2, base_estimator__min_samples_leaf=1, learning_rate=1, n_estimators=200;, score=0.919 total time=  22.9s\n",
      "[CV 1/5; 37/81] START base_estimator__max_depth=2, base_estimator__min_samples_leaf=2, learning_rate=0.01, n_estimators=50\n"
     ]
    },
    {
     "name": "stderr",
     "output_type": "stream",
     "text": [
      "/Users/vaishnavimocherla/anaconda3/lib/python3.11/site-packages/sklearn/ensemble/_base.py:156: FutureWarning: `base_estimator` was renamed to `estimator` in version 1.2 and will be removed in 1.4.\n",
      "  warnings.warn(\n"
     ]
    },
    {
     "name": "stdout",
     "output_type": "stream",
     "text": [
      "[CV 1/5; 37/81] END base_estimator__max_depth=2, base_estimator__min_samples_leaf=2, learning_rate=0.01, n_estimators=50;, score=0.915 total time=   7.1s\n",
      "[CV 2/5; 37/81] START base_estimator__max_depth=2, base_estimator__min_samples_leaf=2, learning_rate=0.01, n_estimators=50\n"
     ]
    },
    {
     "name": "stderr",
     "output_type": "stream",
     "text": [
      "/Users/vaishnavimocherla/anaconda3/lib/python3.11/site-packages/sklearn/ensemble/_base.py:156: FutureWarning: `base_estimator` was renamed to `estimator` in version 1.2 and will be removed in 1.4.\n",
      "  warnings.warn(\n"
     ]
    },
    {
     "name": "stdout",
     "output_type": "stream",
     "text": [
      "[CV 2/5; 37/81] END base_estimator__max_depth=2, base_estimator__min_samples_leaf=2, learning_rate=0.01, n_estimators=50;, score=0.916 total time=  11.0s\n",
      "[CV 3/5; 37/81] START base_estimator__max_depth=2, base_estimator__min_samples_leaf=2, learning_rate=0.01, n_estimators=50\n"
     ]
    },
    {
     "name": "stderr",
     "output_type": "stream",
     "text": [
      "/Users/vaishnavimocherla/anaconda3/lib/python3.11/site-packages/sklearn/ensemble/_base.py:156: FutureWarning: `base_estimator` was renamed to `estimator` in version 1.2 and will be removed in 1.4.\n",
      "  warnings.warn(\n"
     ]
    },
    {
     "name": "stdout",
     "output_type": "stream",
     "text": [
      "[CV 3/5; 37/81] END base_estimator__max_depth=2, base_estimator__min_samples_leaf=2, learning_rate=0.01, n_estimators=50;, score=0.915 total time=   5.9s\n",
      "[CV 4/5; 37/81] START base_estimator__max_depth=2, base_estimator__min_samples_leaf=2, learning_rate=0.01, n_estimators=50\n"
     ]
    },
    {
     "name": "stderr",
     "output_type": "stream",
     "text": [
      "/Users/vaishnavimocherla/anaconda3/lib/python3.11/site-packages/sklearn/ensemble/_base.py:156: FutureWarning: `base_estimator` was renamed to `estimator` in version 1.2 and will be removed in 1.4.\n",
      "  warnings.warn(\n"
     ]
    },
    {
     "name": "stdout",
     "output_type": "stream",
     "text": [
      "[CV 4/5; 37/81] END base_estimator__max_depth=2, base_estimator__min_samples_leaf=2, learning_rate=0.01, n_estimators=50;, score=0.913 total time=   6.8s\n",
      "[CV 5/5; 37/81] START base_estimator__max_depth=2, base_estimator__min_samples_leaf=2, learning_rate=0.01, n_estimators=50\n"
     ]
    },
    {
     "name": "stderr",
     "output_type": "stream",
     "text": [
      "/Users/vaishnavimocherla/anaconda3/lib/python3.11/site-packages/sklearn/ensemble/_base.py:156: FutureWarning: `base_estimator` was renamed to `estimator` in version 1.2 and will be removed in 1.4.\n",
      "  warnings.warn(\n"
     ]
    },
    {
     "name": "stdout",
     "output_type": "stream",
     "text": [
      "[CV 5/5; 37/81] END base_estimator__max_depth=2, base_estimator__min_samples_leaf=2, learning_rate=0.01, n_estimators=50;, score=0.915 total time=   6.3s\n",
      "[CV 1/5; 38/81] START base_estimator__max_depth=2, base_estimator__min_samples_leaf=2, learning_rate=0.01, n_estimators=100\n"
     ]
    },
    {
     "name": "stderr",
     "output_type": "stream",
     "text": [
      "/Users/vaishnavimocherla/anaconda3/lib/python3.11/site-packages/sklearn/ensemble/_base.py:156: FutureWarning: `base_estimator` was renamed to `estimator` in version 1.2 and will be removed in 1.4.\n",
      "  warnings.warn(\n"
     ]
    },
    {
     "name": "stdout",
     "output_type": "stream",
     "text": [
      "[CV 1/5; 38/81] END base_estimator__max_depth=2, base_estimator__min_samples_leaf=2, learning_rate=0.01, n_estimators=100;, score=0.915 total time=  17.3s\n",
      "[CV 2/5; 38/81] START base_estimator__max_depth=2, base_estimator__min_samples_leaf=2, learning_rate=0.01, n_estimators=100\n"
     ]
    },
    {
     "name": "stderr",
     "output_type": "stream",
     "text": [
      "/Users/vaishnavimocherla/anaconda3/lib/python3.11/site-packages/sklearn/ensemble/_base.py:156: FutureWarning: `base_estimator` was renamed to `estimator` in version 1.2 and will be removed in 1.4.\n",
      "  warnings.warn(\n"
     ]
    },
    {
     "name": "stdout",
     "output_type": "stream",
     "text": [
      "[CV 2/5; 38/81] END base_estimator__max_depth=2, base_estimator__min_samples_leaf=2, learning_rate=0.01, n_estimators=100;, score=0.916 total time=  18.5s\n",
      "[CV 3/5; 38/81] START base_estimator__max_depth=2, base_estimator__min_samples_leaf=2, learning_rate=0.01, n_estimators=100\n"
     ]
    },
    {
     "name": "stderr",
     "output_type": "stream",
     "text": [
      "/Users/vaishnavimocherla/anaconda3/lib/python3.11/site-packages/sklearn/ensemble/_base.py:156: FutureWarning: `base_estimator` was renamed to `estimator` in version 1.2 and will be removed in 1.4.\n",
      "  warnings.warn(\n"
     ]
    },
    {
     "name": "stdout",
     "output_type": "stream",
     "text": [
      "[CV 3/5; 38/81] END base_estimator__max_depth=2, base_estimator__min_samples_leaf=2, learning_rate=0.01, n_estimators=100;, score=0.916 total time=  11.7s\n",
      "[CV 4/5; 38/81] START base_estimator__max_depth=2, base_estimator__min_samples_leaf=2, learning_rate=0.01, n_estimators=100\n"
     ]
    },
    {
     "name": "stderr",
     "output_type": "stream",
     "text": [
      "/Users/vaishnavimocherla/anaconda3/lib/python3.11/site-packages/sklearn/ensemble/_base.py:156: FutureWarning: `base_estimator` was renamed to `estimator` in version 1.2 and will be removed in 1.4.\n",
      "  warnings.warn(\n"
     ]
    },
    {
     "name": "stdout",
     "output_type": "stream",
     "text": [
      "[CV 4/5; 38/81] END base_estimator__max_depth=2, base_estimator__min_samples_leaf=2, learning_rate=0.01, n_estimators=100;, score=0.913 total time=  12.0s\n",
      "[CV 5/5; 38/81] START base_estimator__max_depth=2, base_estimator__min_samples_leaf=2, learning_rate=0.01, n_estimators=100\n"
     ]
    },
    {
     "name": "stderr",
     "output_type": "stream",
     "text": [
      "/Users/vaishnavimocherla/anaconda3/lib/python3.11/site-packages/sklearn/ensemble/_base.py:156: FutureWarning: `base_estimator` was renamed to `estimator` in version 1.2 and will be removed in 1.4.\n",
      "  warnings.warn(\n"
     ]
    },
    {
     "name": "stdout",
     "output_type": "stream",
     "text": [
      "[CV 5/5; 38/81] END base_estimator__max_depth=2, base_estimator__min_samples_leaf=2, learning_rate=0.01, n_estimators=100;, score=0.915 total time=  11.5s\n",
      "[CV 1/5; 39/81] START base_estimator__max_depth=2, base_estimator__min_samples_leaf=2, learning_rate=0.01, n_estimators=200\n"
     ]
    },
    {
     "name": "stderr",
     "output_type": "stream",
     "text": [
      "/Users/vaishnavimocherla/anaconda3/lib/python3.11/site-packages/sklearn/ensemble/_base.py:156: FutureWarning: `base_estimator` was renamed to `estimator` in version 1.2 and will be removed in 1.4.\n",
      "  warnings.warn(\n"
     ]
    },
    {
     "name": "stdout",
     "output_type": "stream",
     "text": [
      "[CV 1/5; 39/81] END base_estimator__max_depth=2, base_estimator__min_samples_leaf=2, learning_rate=0.01, n_estimators=200;, score=0.916 total time=  25.5s\n",
      "[CV 2/5; 39/81] START base_estimator__max_depth=2, base_estimator__min_samples_leaf=2, learning_rate=0.01, n_estimators=200\n"
     ]
    },
    {
     "name": "stderr",
     "output_type": "stream",
     "text": [
      "/Users/vaishnavimocherla/anaconda3/lib/python3.11/site-packages/sklearn/ensemble/_base.py:156: FutureWarning: `base_estimator` was renamed to `estimator` in version 1.2 and will be removed in 1.4.\n",
      "  warnings.warn(\n"
     ]
    },
    {
     "name": "stdout",
     "output_type": "stream",
     "text": [
      "[CV 2/5; 39/81] END base_estimator__max_depth=2, base_estimator__min_samples_leaf=2, learning_rate=0.01, n_estimators=200;, score=0.918 total time=  22.9s\n",
      "[CV 3/5; 39/81] START base_estimator__max_depth=2, base_estimator__min_samples_leaf=2, learning_rate=0.01, n_estimators=200\n"
     ]
    },
    {
     "name": "stderr",
     "output_type": "stream",
     "text": [
      "/Users/vaishnavimocherla/anaconda3/lib/python3.11/site-packages/sklearn/ensemble/_base.py:156: FutureWarning: `base_estimator` was renamed to `estimator` in version 1.2 and will be removed in 1.4.\n",
      "  warnings.warn(\n"
     ]
    },
    {
     "name": "stdout",
     "output_type": "stream",
     "text": [
      "[CV 3/5; 39/81] END base_estimator__max_depth=2, base_estimator__min_samples_leaf=2, learning_rate=0.01, n_estimators=200;, score=0.917 total time=  24.6s\n",
      "[CV 4/5; 39/81] START base_estimator__max_depth=2, base_estimator__min_samples_leaf=2, learning_rate=0.01, n_estimators=200\n"
     ]
    },
    {
     "name": "stderr",
     "output_type": "stream",
     "text": [
      "/Users/vaishnavimocherla/anaconda3/lib/python3.11/site-packages/sklearn/ensemble/_base.py:156: FutureWarning: `base_estimator` was renamed to `estimator` in version 1.2 and will be removed in 1.4.\n",
      "  warnings.warn(\n"
     ]
    },
    {
     "name": "stdout",
     "output_type": "stream",
     "text": [
      "[CV 4/5; 39/81] END base_estimator__max_depth=2, base_estimator__min_samples_leaf=2, learning_rate=0.01, n_estimators=200;, score=0.915 total time=  35.0s\n",
      "[CV 5/5; 39/81] START base_estimator__max_depth=2, base_estimator__min_samples_leaf=2, learning_rate=0.01, n_estimators=200\n"
     ]
    },
    {
     "name": "stderr",
     "output_type": "stream",
     "text": [
      "/Users/vaishnavimocherla/anaconda3/lib/python3.11/site-packages/sklearn/ensemble/_base.py:156: FutureWarning: `base_estimator` was renamed to `estimator` in version 1.2 and will be removed in 1.4.\n",
      "  warnings.warn(\n"
     ]
    },
    {
     "name": "stdout",
     "output_type": "stream",
     "text": [
      "[CV 5/5; 39/81] END base_estimator__max_depth=2, base_estimator__min_samples_leaf=2, learning_rate=0.01, n_estimators=200;, score=0.916 total time=  23.3s\n",
      "[CV 1/5; 40/81] START base_estimator__max_depth=2, base_estimator__min_samples_leaf=2, learning_rate=0.1, n_estimators=50\n"
     ]
    },
    {
     "name": "stderr",
     "output_type": "stream",
     "text": [
      "/Users/vaishnavimocherla/anaconda3/lib/python3.11/site-packages/sklearn/ensemble/_base.py:156: FutureWarning: `base_estimator` was renamed to `estimator` in version 1.2 and will be removed in 1.4.\n",
      "  warnings.warn(\n"
     ]
    },
    {
     "name": "stdout",
     "output_type": "stream",
     "text": [
      "[CV 1/5; 40/81] END base_estimator__max_depth=2, base_estimator__min_samples_leaf=2, learning_rate=0.1, n_estimators=50;, score=0.917 total time=   6.0s\n",
      "[CV 2/5; 40/81] START base_estimator__max_depth=2, base_estimator__min_samples_leaf=2, learning_rate=0.1, n_estimators=50\n"
     ]
    },
    {
     "name": "stderr",
     "output_type": "stream",
     "text": [
      "/Users/vaishnavimocherla/anaconda3/lib/python3.11/site-packages/sklearn/ensemble/_base.py:156: FutureWarning: `base_estimator` was renamed to `estimator` in version 1.2 and will be removed in 1.4.\n",
      "  warnings.warn(\n"
     ]
    },
    {
     "name": "stdout",
     "output_type": "stream",
     "text": [
      "[CV 2/5; 40/81] END base_estimator__max_depth=2, base_estimator__min_samples_leaf=2, learning_rate=0.1, n_estimators=50;, score=0.919 total time=   7.0s\n",
      "[CV 3/5; 40/81] START base_estimator__max_depth=2, base_estimator__min_samples_leaf=2, learning_rate=0.1, n_estimators=50\n"
     ]
    },
    {
     "name": "stderr",
     "output_type": "stream",
     "text": [
      "/Users/vaishnavimocherla/anaconda3/lib/python3.11/site-packages/sklearn/ensemble/_base.py:156: FutureWarning: `base_estimator` was renamed to `estimator` in version 1.2 and will be removed in 1.4.\n",
      "  warnings.warn(\n"
     ]
    },
    {
     "name": "stdout",
     "output_type": "stream",
     "text": [
      "[CV 3/5; 40/81] END base_estimator__max_depth=2, base_estimator__min_samples_leaf=2, learning_rate=0.1, n_estimators=50;, score=0.916 total time=   6.8s\n",
      "[CV 4/5; 40/81] START base_estimator__max_depth=2, base_estimator__min_samples_leaf=2, learning_rate=0.1, n_estimators=50\n"
     ]
    },
    {
     "name": "stderr",
     "output_type": "stream",
     "text": [
      "/Users/vaishnavimocherla/anaconda3/lib/python3.11/site-packages/sklearn/ensemble/_base.py:156: FutureWarning: `base_estimator` was renamed to `estimator` in version 1.2 and will be removed in 1.4.\n",
      "  warnings.warn(\n"
     ]
    },
    {
     "name": "stdout",
     "output_type": "stream",
     "text": [
      "[CV 4/5; 40/81] END base_estimator__max_depth=2, base_estimator__min_samples_leaf=2, learning_rate=0.1, n_estimators=50;, score=0.916 total time=   5.7s\n",
      "[CV 5/5; 40/81] START base_estimator__max_depth=2, base_estimator__min_samples_leaf=2, learning_rate=0.1, n_estimators=50\n"
     ]
    },
    {
     "name": "stderr",
     "output_type": "stream",
     "text": [
      "/Users/vaishnavimocherla/anaconda3/lib/python3.11/site-packages/sklearn/ensemble/_base.py:156: FutureWarning: `base_estimator` was renamed to `estimator` in version 1.2 and will be removed in 1.4.\n",
      "  warnings.warn(\n"
     ]
    },
    {
     "name": "stdout",
     "output_type": "stream",
     "text": [
      "[CV 5/5; 40/81] END base_estimator__max_depth=2, base_estimator__min_samples_leaf=2, learning_rate=0.1, n_estimators=50;, score=0.917 total time=   7.1s\n",
      "[CV 1/5; 41/81] START base_estimator__max_depth=2, base_estimator__min_samples_leaf=2, learning_rate=0.1, n_estimators=100\n"
     ]
    },
    {
     "name": "stderr",
     "output_type": "stream",
     "text": [
      "/Users/vaishnavimocherla/anaconda3/lib/python3.11/site-packages/sklearn/ensemble/_base.py:156: FutureWarning: `base_estimator` was renamed to `estimator` in version 1.2 and will be removed in 1.4.\n",
      "  warnings.warn(\n"
     ]
    },
    {
     "name": "stdout",
     "output_type": "stream",
     "text": [
      "[CV 1/5; 41/81] END base_estimator__max_depth=2, base_estimator__min_samples_leaf=2, learning_rate=0.1, n_estimators=100;, score=0.918 total time=  13.2s\n",
      "[CV 2/5; 41/81] START base_estimator__max_depth=2, base_estimator__min_samples_leaf=2, learning_rate=0.1, n_estimators=100\n"
     ]
    },
    {
     "name": "stderr",
     "output_type": "stream",
     "text": [
      "/Users/vaishnavimocherla/anaconda3/lib/python3.11/site-packages/sklearn/ensemble/_base.py:156: FutureWarning: `base_estimator` was renamed to `estimator` in version 1.2 and will be removed in 1.4.\n",
      "  warnings.warn(\n"
     ]
    },
    {
     "name": "stdout",
     "output_type": "stream",
     "text": [
      "[CV 2/5; 41/81] END base_estimator__max_depth=2, base_estimator__min_samples_leaf=2, learning_rate=0.1, n_estimators=100;, score=0.920 total time=  12.7s\n",
      "[CV 3/5; 41/81] START base_estimator__max_depth=2, base_estimator__min_samples_leaf=2, learning_rate=0.1, n_estimators=100\n"
     ]
    },
    {
     "name": "stderr",
     "output_type": "stream",
     "text": [
      "/Users/vaishnavimocherla/anaconda3/lib/python3.11/site-packages/sklearn/ensemble/_base.py:156: FutureWarning: `base_estimator` was renamed to `estimator` in version 1.2 and will be removed in 1.4.\n",
      "  warnings.warn(\n"
     ]
    },
    {
     "name": "stdout",
     "output_type": "stream",
     "text": [
      "[CV 3/5; 41/81] END base_estimator__max_depth=2, base_estimator__min_samples_leaf=2, learning_rate=0.1, n_estimators=100;, score=0.918 total time=  12.1s\n",
      "[CV 4/5; 41/81] START base_estimator__max_depth=2, base_estimator__min_samples_leaf=2, learning_rate=0.1, n_estimators=100\n"
     ]
    },
    {
     "name": "stderr",
     "output_type": "stream",
     "text": [
      "/Users/vaishnavimocherla/anaconda3/lib/python3.11/site-packages/sklearn/ensemble/_base.py:156: FutureWarning: `base_estimator` was renamed to `estimator` in version 1.2 and will be removed in 1.4.\n",
      "  warnings.warn(\n"
     ]
    },
    {
     "name": "stdout",
     "output_type": "stream",
     "text": [
      "[CV 4/5; 41/81] END base_estimator__max_depth=2, base_estimator__min_samples_leaf=2, learning_rate=0.1, n_estimators=100;, score=0.917 total time=  13.1s\n",
      "[CV 5/5; 41/81] START base_estimator__max_depth=2, base_estimator__min_samples_leaf=2, learning_rate=0.1, n_estimators=100\n"
     ]
    },
    {
     "name": "stderr",
     "output_type": "stream",
     "text": [
      "/Users/vaishnavimocherla/anaconda3/lib/python3.11/site-packages/sklearn/ensemble/_base.py:156: FutureWarning: `base_estimator` was renamed to `estimator` in version 1.2 and will be removed in 1.4.\n",
      "  warnings.warn(\n"
     ]
    },
    {
     "name": "stdout",
     "output_type": "stream",
     "text": [
      "[CV 5/5; 41/81] END base_estimator__max_depth=2, base_estimator__min_samples_leaf=2, learning_rate=0.1, n_estimators=100;, score=0.918 total time=  14.9s\n",
      "[CV 1/5; 42/81] START base_estimator__max_depth=2, base_estimator__min_samples_leaf=2, learning_rate=0.1, n_estimators=200\n"
     ]
    },
    {
     "name": "stderr",
     "output_type": "stream",
     "text": [
      "/Users/vaishnavimocherla/anaconda3/lib/python3.11/site-packages/sklearn/ensemble/_base.py:156: FutureWarning: `base_estimator` was renamed to `estimator` in version 1.2 and will be removed in 1.4.\n",
      "  warnings.warn(\n"
     ]
    },
    {
     "name": "stdout",
     "output_type": "stream",
     "text": [
      "[CV 1/5; 42/81] END base_estimator__max_depth=2, base_estimator__min_samples_leaf=2, learning_rate=0.1, n_estimators=200;, score=0.920 total time=  24.3s\n",
      "[CV 2/5; 42/81] START base_estimator__max_depth=2, base_estimator__min_samples_leaf=2, learning_rate=0.1, n_estimators=200\n"
     ]
    },
    {
     "name": "stderr",
     "output_type": "stream",
     "text": [
      "/Users/vaishnavimocherla/anaconda3/lib/python3.11/site-packages/sklearn/ensemble/_base.py:156: FutureWarning: `base_estimator` was renamed to `estimator` in version 1.2 and will be removed in 1.4.\n",
      "  warnings.warn(\n"
     ]
    },
    {
     "name": "stdout",
     "output_type": "stream",
     "text": [
      "[CV 2/5; 42/81] END base_estimator__max_depth=2, base_estimator__min_samples_leaf=2, learning_rate=0.1, n_estimators=200;, score=0.921 total time=  22.4s\n",
      "[CV 3/5; 42/81] START base_estimator__max_depth=2, base_estimator__min_samples_leaf=2, learning_rate=0.1, n_estimators=200\n"
     ]
    },
    {
     "name": "stderr",
     "output_type": "stream",
     "text": [
      "/Users/vaishnavimocherla/anaconda3/lib/python3.11/site-packages/sklearn/ensemble/_base.py:156: FutureWarning: `base_estimator` was renamed to `estimator` in version 1.2 and will be removed in 1.4.\n",
      "  warnings.warn(\n"
     ]
    },
    {
     "name": "stdout",
     "output_type": "stream",
     "text": [
      "[CV 3/5; 42/81] END base_estimator__max_depth=2, base_estimator__min_samples_leaf=2, learning_rate=0.1, n_estimators=200;, score=0.918 total time=  23.9s\n",
      "[CV 4/5; 42/81] START base_estimator__max_depth=2, base_estimator__min_samples_leaf=2, learning_rate=0.1, n_estimators=200\n"
     ]
    },
    {
     "name": "stderr",
     "output_type": "stream",
     "text": [
      "/Users/vaishnavimocherla/anaconda3/lib/python3.11/site-packages/sklearn/ensemble/_base.py:156: FutureWarning: `base_estimator` was renamed to `estimator` in version 1.2 and will be removed in 1.4.\n",
      "  warnings.warn(\n"
     ]
    },
    {
     "name": "stdout",
     "output_type": "stream",
     "text": [
      "[CV 4/5; 42/81] END base_estimator__max_depth=2, base_estimator__min_samples_leaf=2, learning_rate=0.1, n_estimators=200;, score=0.918 total time=  23.9s\n",
      "[CV 5/5; 42/81] START base_estimator__max_depth=2, base_estimator__min_samples_leaf=2, learning_rate=0.1, n_estimators=200\n"
     ]
    },
    {
     "name": "stderr",
     "output_type": "stream",
     "text": [
      "/Users/vaishnavimocherla/anaconda3/lib/python3.11/site-packages/sklearn/ensemble/_base.py:156: FutureWarning: `base_estimator` was renamed to `estimator` in version 1.2 and will be removed in 1.4.\n",
      "  warnings.warn(\n"
     ]
    },
    {
     "name": "stdout",
     "output_type": "stream",
     "text": [
      "[CV 5/5; 42/81] END base_estimator__max_depth=2, base_estimator__min_samples_leaf=2, learning_rate=0.1, n_estimators=200;, score=0.919 total time=  22.1s\n",
      "[CV 1/5; 43/81] START base_estimator__max_depth=2, base_estimator__min_samples_leaf=2, learning_rate=1, n_estimators=50\n"
     ]
    },
    {
     "name": "stderr",
     "output_type": "stream",
     "text": [
      "/Users/vaishnavimocherla/anaconda3/lib/python3.11/site-packages/sklearn/ensemble/_base.py:156: FutureWarning: `base_estimator` was renamed to `estimator` in version 1.2 and will be removed in 1.4.\n",
      "  warnings.warn(\n"
     ]
    },
    {
     "name": "stdout",
     "output_type": "stream",
     "text": [
      "[CV 1/5; 43/81] END base_estimator__max_depth=2, base_estimator__min_samples_leaf=2, learning_rate=1, n_estimators=50;, score=0.920 total time=   5.4s\n",
      "[CV 2/5; 43/81] START base_estimator__max_depth=2, base_estimator__min_samples_leaf=2, learning_rate=1, n_estimators=50\n"
     ]
    },
    {
     "name": "stderr",
     "output_type": "stream",
     "text": [
      "/Users/vaishnavimocherla/anaconda3/lib/python3.11/site-packages/sklearn/ensemble/_base.py:156: FutureWarning: `base_estimator` was renamed to `estimator` in version 1.2 and will be removed in 1.4.\n",
      "  warnings.warn(\n"
     ]
    },
    {
     "name": "stdout",
     "output_type": "stream",
     "text": [
      "[CV 2/5; 43/81] END base_estimator__max_depth=2, base_estimator__min_samples_leaf=2, learning_rate=1, n_estimators=50;, score=0.922 total time=   5.5s\n",
      "[CV 3/5; 43/81] START base_estimator__max_depth=2, base_estimator__min_samples_leaf=2, learning_rate=1, n_estimators=50\n"
     ]
    },
    {
     "name": "stderr",
     "output_type": "stream",
     "text": [
      "/Users/vaishnavimocherla/anaconda3/lib/python3.11/site-packages/sklearn/ensemble/_base.py:156: FutureWarning: `base_estimator` was renamed to `estimator` in version 1.2 and will be removed in 1.4.\n",
      "  warnings.warn(\n"
     ]
    },
    {
     "name": "stdout",
     "output_type": "stream",
     "text": [
      "[CV 3/5; 43/81] END base_estimator__max_depth=2, base_estimator__min_samples_leaf=2, learning_rate=1, n_estimators=50;, score=0.918 total time=   5.5s\n",
      "[CV 4/5; 43/81] START base_estimator__max_depth=2, base_estimator__min_samples_leaf=2, learning_rate=1, n_estimators=50\n"
     ]
    },
    {
     "name": "stderr",
     "output_type": "stream",
     "text": [
      "/Users/vaishnavimocherla/anaconda3/lib/python3.11/site-packages/sklearn/ensemble/_base.py:156: FutureWarning: `base_estimator` was renamed to `estimator` in version 1.2 and will be removed in 1.4.\n",
      "  warnings.warn(\n"
     ]
    },
    {
     "name": "stdout",
     "output_type": "stream",
     "text": [
      "[CV 4/5; 43/81] END base_estimator__max_depth=2, base_estimator__min_samples_leaf=2, learning_rate=1, n_estimators=50;, score=0.915 total time=   5.5s\n",
      "[CV 5/5; 43/81] START base_estimator__max_depth=2, base_estimator__min_samples_leaf=2, learning_rate=1, n_estimators=50\n"
     ]
    },
    {
     "name": "stderr",
     "output_type": "stream",
     "text": [
      "/Users/vaishnavimocherla/anaconda3/lib/python3.11/site-packages/sklearn/ensemble/_base.py:156: FutureWarning: `base_estimator` was renamed to `estimator` in version 1.2 and will be removed in 1.4.\n",
      "  warnings.warn(\n"
     ]
    },
    {
     "name": "stdout",
     "output_type": "stream",
     "text": [
      "[CV 5/5; 43/81] END base_estimator__max_depth=2, base_estimator__min_samples_leaf=2, learning_rate=1, n_estimators=50;, score=0.919 total time=   5.4s\n",
      "[CV 1/5; 44/81] START base_estimator__max_depth=2, base_estimator__min_samples_leaf=2, learning_rate=1, n_estimators=100\n"
     ]
    },
    {
     "name": "stderr",
     "output_type": "stream",
     "text": [
      "/Users/vaishnavimocherla/anaconda3/lib/python3.11/site-packages/sklearn/ensemble/_base.py:156: FutureWarning: `base_estimator` was renamed to `estimator` in version 1.2 and will be removed in 1.4.\n",
      "  warnings.warn(\n"
     ]
    },
    {
     "name": "stdout",
     "output_type": "stream",
     "text": [
      "[CV 1/5; 44/81] END base_estimator__max_depth=2, base_estimator__min_samples_leaf=2, learning_rate=1, n_estimators=100;, score=0.920 total time=  10.9s\n",
      "[CV 2/5; 44/81] START base_estimator__max_depth=2, base_estimator__min_samples_leaf=2, learning_rate=1, n_estimators=100\n"
     ]
    },
    {
     "name": "stderr",
     "output_type": "stream",
     "text": [
      "/Users/vaishnavimocherla/anaconda3/lib/python3.11/site-packages/sklearn/ensemble/_base.py:156: FutureWarning: `base_estimator` was renamed to `estimator` in version 1.2 and will be removed in 1.4.\n",
      "  warnings.warn(\n"
     ]
    },
    {
     "name": "stdout",
     "output_type": "stream",
     "text": [
      "[CV 2/5; 44/81] END base_estimator__max_depth=2, base_estimator__min_samples_leaf=2, learning_rate=1, n_estimators=100;, score=0.922 total time=  10.9s\n",
      "[CV 3/5; 44/81] START base_estimator__max_depth=2, base_estimator__min_samples_leaf=2, learning_rate=1, n_estimators=100\n"
     ]
    },
    {
     "name": "stderr",
     "output_type": "stream",
     "text": [
      "/Users/vaishnavimocherla/anaconda3/lib/python3.11/site-packages/sklearn/ensemble/_base.py:156: FutureWarning: `base_estimator` was renamed to `estimator` in version 1.2 and will be removed in 1.4.\n",
      "  warnings.warn(\n"
     ]
    },
    {
     "name": "stdout",
     "output_type": "stream",
     "text": [
      "[CV 3/5; 44/81] END base_estimator__max_depth=2, base_estimator__min_samples_leaf=2, learning_rate=1, n_estimators=100;, score=0.918 total time=  10.9s\n",
      "[CV 4/5; 44/81] START base_estimator__max_depth=2, base_estimator__min_samples_leaf=2, learning_rate=1, n_estimators=100\n"
     ]
    },
    {
     "name": "stderr",
     "output_type": "stream",
     "text": [
      "/Users/vaishnavimocherla/anaconda3/lib/python3.11/site-packages/sklearn/ensemble/_base.py:156: FutureWarning: `base_estimator` was renamed to `estimator` in version 1.2 and will be removed in 1.4.\n",
      "  warnings.warn(\n"
     ]
    },
    {
     "name": "stdout",
     "output_type": "stream",
     "text": [
      "[CV 4/5; 44/81] END base_estimator__max_depth=2, base_estimator__min_samples_leaf=2, learning_rate=1, n_estimators=100;, score=0.917 total time=  11.1s\n",
      "[CV 5/5; 44/81] START base_estimator__max_depth=2, base_estimator__min_samples_leaf=2, learning_rate=1, n_estimators=100\n"
     ]
    },
    {
     "name": "stderr",
     "output_type": "stream",
     "text": [
      "/Users/vaishnavimocherla/anaconda3/lib/python3.11/site-packages/sklearn/ensemble/_base.py:156: FutureWarning: `base_estimator` was renamed to `estimator` in version 1.2 and will be removed in 1.4.\n",
      "  warnings.warn(\n"
     ]
    },
    {
     "name": "stdout",
     "output_type": "stream",
     "text": [
      "[CV 5/5; 44/81] END base_estimator__max_depth=2, base_estimator__min_samples_leaf=2, learning_rate=1, n_estimators=100;, score=0.919 total time=  11.3s\n",
      "[CV 1/5; 45/81] START base_estimator__max_depth=2, base_estimator__min_samples_leaf=2, learning_rate=1, n_estimators=200\n"
     ]
    },
    {
     "name": "stderr",
     "output_type": "stream",
     "text": [
      "/Users/vaishnavimocherla/anaconda3/lib/python3.11/site-packages/sklearn/ensemble/_base.py:156: FutureWarning: `base_estimator` was renamed to `estimator` in version 1.2 and will be removed in 1.4.\n",
      "  warnings.warn(\n"
     ]
    },
    {
     "name": "stdout",
     "output_type": "stream",
     "text": [
      "[CV 1/5; 45/81] END base_estimator__max_depth=2, base_estimator__min_samples_leaf=2, learning_rate=1, n_estimators=200;, score=0.920 total time=  21.9s\n",
      "[CV 2/5; 45/81] START base_estimator__max_depth=2, base_estimator__min_samples_leaf=2, learning_rate=1, n_estimators=200\n"
     ]
    },
    {
     "name": "stderr",
     "output_type": "stream",
     "text": [
      "/Users/vaishnavimocherla/anaconda3/lib/python3.11/site-packages/sklearn/ensemble/_base.py:156: FutureWarning: `base_estimator` was renamed to `estimator` in version 1.2 and will be removed in 1.4.\n",
      "  warnings.warn(\n"
     ]
    },
    {
     "name": "stdout",
     "output_type": "stream",
     "text": [
      "[CV 2/5; 45/81] END base_estimator__max_depth=2, base_estimator__min_samples_leaf=2, learning_rate=1, n_estimators=200;, score=0.922 total time=  22.4s\n",
      "[CV 3/5; 45/81] START base_estimator__max_depth=2, base_estimator__min_samples_leaf=2, learning_rate=1, n_estimators=200\n"
     ]
    },
    {
     "name": "stderr",
     "output_type": "stream",
     "text": [
      "/Users/vaishnavimocherla/anaconda3/lib/python3.11/site-packages/sklearn/ensemble/_base.py:156: FutureWarning: `base_estimator` was renamed to `estimator` in version 1.2 and will be removed in 1.4.\n",
      "  warnings.warn(\n"
     ]
    },
    {
     "name": "stdout",
     "output_type": "stream",
     "text": [
      "[CV 3/5; 45/81] END base_estimator__max_depth=2, base_estimator__min_samples_leaf=2, learning_rate=1, n_estimators=200;, score=0.918 total time=  21.8s\n",
      "[CV 4/5; 45/81] START base_estimator__max_depth=2, base_estimator__min_samples_leaf=2, learning_rate=1, n_estimators=200\n"
     ]
    },
    {
     "name": "stderr",
     "output_type": "stream",
     "text": [
      "/Users/vaishnavimocherla/anaconda3/lib/python3.11/site-packages/sklearn/ensemble/_base.py:156: FutureWarning: `base_estimator` was renamed to `estimator` in version 1.2 and will be removed in 1.4.\n",
      "  warnings.warn(\n"
     ]
    },
    {
     "name": "stdout",
     "output_type": "stream",
     "text": [
      "[CV 4/5; 45/81] END base_estimator__max_depth=2, base_estimator__min_samples_leaf=2, learning_rate=1, n_estimators=200;, score=0.918 total time=  24.5s\n",
      "[CV 5/5; 45/81] START base_estimator__max_depth=2, base_estimator__min_samples_leaf=2, learning_rate=1, n_estimators=200\n"
     ]
    },
    {
     "name": "stderr",
     "output_type": "stream",
     "text": [
      "/Users/vaishnavimocherla/anaconda3/lib/python3.11/site-packages/sklearn/ensemble/_base.py:156: FutureWarning: `base_estimator` was renamed to `estimator` in version 1.2 and will be removed in 1.4.\n",
      "  warnings.warn(\n"
     ]
    },
    {
     "name": "stdout",
     "output_type": "stream",
     "text": [
      "[CV 5/5; 45/81] END base_estimator__max_depth=2, base_estimator__min_samples_leaf=2, learning_rate=1, n_estimators=200;, score=0.919 total time=  24.1s\n",
      "[CV 1/5; 46/81] START base_estimator__max_depth=2, base_estimator__min_samples_leaf=4, learning_rate=0.01, n_estimators=50\n"
     ]
    },
    {
     "name": "stderr",
     "output_type": "stream",
     "text": [
      "/Users/vaishnavimocherla/anaconda3/lib/python3.11/site-packages/sklearn/ensemble/_base.py:156: FutureWarning: `base_estimator` was renamed to `estimator` in version 1.2 and will be removed in 1.4.\n",
      "  warnings.warn(\n"
     ]
    },
    {
     "name": "stdout",
     "output_type": "stream",
     "text": [
      "[CV 1/5; 46/81] END base_estimator__max_depth=2, base_estimator__min_samples_leaf=4, learning_rate=0.01, n_estimators=50;, score=0.915 total time=   5.7s\n",
      "[CV 2/5; 46/81] START base_estimator__max_depth=2, base_estimator__min_samples_leaf=4, learning_rate=0.01, n_estimators=50\n"
     ]
    },
    {
     "name": "stderr",
     "output_type": "stream",
     "text": [
      "/Users/vaishnavimocherla/anaconda3/lib/python3.11/site-packages/sklearn/ensemble/_base.py:156: FutureWarning: `base_estimator` was renamed to `estimator` in version 1.2 and will be removed in 1.4.\n",
      "  warnings.warn(\n"
     ]
    },
    {
     "name": "stdout",
     "output_type": "stream",
     "text": [
      "[CV 2/5; 46/81] END base_estimator__max_depth=2, base_estimator__min_samples_leaf=4, learning_rate=0.01, n_estimators=50;, score=0.916 total time=   5.8s\n",
      "[CV 3/5; 46/81] START base_estimator__max_depth=2, base_estimator__min_samples_leaf=4, learning_rate=0.01, n_estimators=50\n"
     ]
    },
    {
     "name": "stderr",
     "output_type": "stream",
     "text": [
      "/Users/vaishnavimocherla/anaconda3/lib/python3.11/site-packages/sklearn/ensemble/_base.py:156: FutureWarning: `base_estimator` was renamed to `estimator` in version 1.2 and will be removed in 1.4.\n",
      "  warnings.warn(\n"
     ]
    },
    {
     "name": "stdout",
     "output_type": "stream",
     "text": [
      "[CV 3/5; 46/81] END base_estimator__max_depth=2, base_estimator__min_samples_leaf=4, learning_rate=0.01, n_estimators=50;, score=0.915 total time=   6.2s\n",
      "[CV 4/5; 46/81] START base_estimator__max_depth=2, base_estimator__min_samples_leaf=4, learning_rate=0.01, n_estimators=50\n"
     ]
    },
    {
     "name": "stderr",
     "output_type": "stream",
     "text": [
      "/Users/vaishnavimocherla/anaconda3/lib/python3.11/site-packages/sklearn/ensemble/_base.py:156: FutureWarning: `base_estimator` was renamed to `estimator` in version 1.2 and will be removed in 1.4.\n",
      "  warnings.warn(\n"
     ]
    },
    {
     "name": "stdout",
     "output_type": "stream",
     "text": [
      "[CV 4/5; 46/81] END base_estimator__max_depth=2, base_estimator__min_samples_leaf=4, learning_rate=0.01, n_estimators=50;, score=0.913 total time=   5.5s\n",
      "[CV 5/5; 46/81] START base_estimator__max_depth=2, base_estimator__min_samples_leaf=4, learning_rate=0.01, n_estimators=50\n"
     ]
    },
    {
     "name": "stderr",
     "output_type": "stream",
     "text": [
      "/Users/vaishnavimocherla/anaconda3/lib/python3.11/site-packages/sklearn/ensemble/_base.py:156: FutureWarning: `base_estimator` was renamed to `estimator` in version 1.2 and will be removed in 1.4.\n",
      "  warnings.warn(\n"
     ]
    },
    {
     "name": "stdout",
     "output_type": "stream",
     "text": [
      "[CV 5/5; 46/81] END base_estimator__max_depth=2, base_estimator__min_samples_leaf=4, learning_rate=0.01, n_estimators=50;, score=0.915 total time=   5.5s\n",
      "[CV 1/5; 47/81] START base_estimator__max_depth=2, base_estimator__min_samples_leaf=4, learning_rate=0.01, n_estimators=100\n"
     ]
    },
    {
     "name": "stderr",
     "output_type": "stream",
     "text": [
      "/Users/vaishnavimocherla/anaconda3/lib/python3.11/site-packages/sklearn/ensemble/_base.py:156: FutureWarning: `base_estimator` was renamed to `estimator` in version 1.2 and will be removed in 1.4.\n",
      "  warnings.warn(\n"
     ]
    },
    {
     "name": "stdout",
     "output_type": "stream",
     "text": [
      "[CV 1/5; 47/81] END base_estimator__max_depth=2, base_estimator__min_samples_leaf=4, learning_rate=0.01, n_estimators=100;, score=0.915 total time=  11.3s\n",
      "[CV 2/5; 47/81] START base_estimator__max_depth=2, base_estimator__min_samples_leaf=4, learning_rate=0.01, n_estimators=100\n"
     ]
    },
    {
     "name": "stderr",
     "output_type": "stream",
     "text": [
      "/Users/vaishnavimocherla/anaconda3/lib/python3.11/site-packages/sklearn/ensemble/_base.py:156: FutureWarning: `base_estimator` was renamed to `estimator` in version 1.2 and will be removed in 1.4.\n",
      "  warnings.warn(\n"
     ]
    },
    {
     "name": "stdout",
     "output_type": "stream",
     "text": [
      "[CV 2/5; 47/81] END base_estimator__max_depth=2, base_estimator__min_samples_leaf=4, learning_rate=0.01, n_estimators=100;, score=0.916 total time=  13.0s\n",
      "[CV 3/5; 47/81] START base_estimator__max_depth=2, base_estimator__min_samples_leaf=4, learning_rate=0.01, n_estimators=100\n"
     ]
    },
    {
     "name": "stderr",
     "output_type": "stream",
     "text": [
      "/Users/vaishnavimocherla/anaconda3/lib/python3.11/site-packages/sklearn/ensemble/_base.py:156: FutureWarning: `base_estimator` was renamed to `estimator` in version 1.2 and will be removed in 1.4.\n",
      "  warnings.warn(\n"
     ]
    },
    {
     "name": "stdout",
     "output_type": "stream",
     "text": [
      "[CV 3/5; 47/81] END base_estimator__max_depth=2, base_estimator__min_samples_leaf=4, learning_rate=0.01, n_estimators=100;, score=0.916 total time=  13.5s\n",
      "[CV 4/5; 47/81] START base_estimator__max_depth=2, base_estimator__min_samples_leaf=4, learning_rate=0.01, n_estimators=100\n"
     ]
    },
    {
     "name": "stderr",
     "output_type": "stream",
     "text": [
      "/Users/vaishnavimocherla/anaconda3/lib/python3.11/site-packages/sklearn/ensemble/_base.py:156: FutureWarning: `base_estimator` was renamed to `estimator` in version 1.2 and will be removed in 1.4.\n",
      "  warnings.warn(\n"
     ]
    },
    {
     "name": "stdout",
     "output_type": "stream",
     "text": [
      "[CV 4/5; 47/81] END base_estimator__max_depth=2, base_estimator__min_samples_leaf=4, learning_rate=0.01, n_estimators=100;, score=0.913 total time=  11.1s\n",
      "[CV 5/5; 47/81] START base_estimator__max_depth=2, base_estimator__min_samples_leaf=4, learning_rate=0.01, n_estimators=100\n"
     ]
    },
    {
     "name": "stderr",
     "output_type": "stream",
     "text": [
      "/Users/vaishnavimocherla/anaconda3/lib/python3.11/site-packages/sklearn/ensemble/_base.py:156: FutureWarning: `base_estimator` was renamed to `estimator` in version 1.2 and will be removed in 1.4.\n",
      "  warnings.warn(\n"
     ]
    },
    {
     "name": "stdout",
     "output_type": "stream",
     "text": [
      "[CV 5/5; 47/81] END base_estimator__max_depth=2, base_estimator__min_samples_leaf=4, learning_rate=0.01, n_estimators=100;, score=0.915 total time=  11.5s\n",
      "[CV 1/5; 48/81] START base_estimator__max_depth=2, base_estimator__min_samples_leaf=4, learning_rate=0.01, n_estimators=200\n"
     ]
    },
    {
     "name": "stderr",
     "output_type": "stream",
     "text": [
      "/Users/vaishnavimocherla/anaconda3/lib/python3.11/site-packages/sklearn/ensemble/_base.py:156: FutureWarning: `base_estimator` was renamed to `estimator` in version 1.2 and will be removed in 1.4.\n",
      "  warnings.warn(\n"
     ]
    },
    {
     "name": "stdout",
     "output_type": "stream",
     "text": [
      "[CV 1/5; 48/81] END base_estimator__max_depth=2, base_estimator__min_samples_leaf=4, learning_rate=0.01, n_estimators=200;, score=0.916 total time=  30.5s\n",
      "[CV 2/5; 48/81] START base_estimator__max_depth=2, base_estimator__min_samples_leaf=4, learning_rate=0.01, n_estimators=200\n"
     ]
    },
    {
     "name": "stderr",
     "output_type": "stream",
     "text": [
      "/Users/vaishnavimocherla/anaconda3/lib/python3.11/site-packages/sklearn/ensemble/_base.py:156: FutureWarning: `base_estimator` was renamed to `estimator` in version 1.2 and will be removed in 1.4.\n",
      "  warnings.warn(\n"
     ]
    },
    {
     "name": "stdout",
     "output_type": "stream",
     "text": [
      "[CV 2/5; 48/81] END base_estimator__max_depth=2, base_estimator__min_samples_leaf=4, learning_rate=0.01, n_estimators=200;, score=0.918 total time=  27.2s\n",
      "[CV 3/5; 48/81] START base_estimator__max_depth=2, base_estimator__min_samples_leaf=4, learning_rate=0.01, n_estimators=200\n"
     ]
    },
    {
     "name": "stderr",
     "output_type": "stream",
     "text": [
      "/Users/vaishnavimocherla/anaconda3/lib/python3.11/site-packages/sklearn/ensemble/_base.py:156: FutureWarning: `base_estimator` was renamed to `estimator` in version 1.2 and will be removed in 1.4.\n",
      "  warnings.warn(\n"
     ]
    },
    {
     "name": "stdout",
     "output_type": "stream",
     "text": [
      "[CV 3/5; 48/81] END base_estimator__max_depth=2, base_estimator__min_samples_leaf=4, learning_rate=0.01, n_estimators=200;, score=0.917 total time=  26.7s\n",
      "[CV 4/5; 48/81] START base_estimator__max_depth=2, base_estimator__min_samples_leaf=4, learning_rate=0.01, n_estimators=200\n"
     ]
    },
    {
     "name": "stderr",
     "output_type": "stream",
     "text": [
      "/Users/vaishnavimocherla/anaconda3/lib/python3.11/site-packages/sklearn/ensemble/_base.py:156: FutureWarning: `base_estimator` was renamed to `estimator` in version 1.2 and will be removed in 1.4.\n",
      "  warnings.warn(\n"
     ]
    },
    {
     "name": "stdout",
     "output_type": "stream",
     "text": [
      "[CV 4/5; 48/81] END base_estimator__max_depth=2, base_estimator__min_samples_leaf=4, learning_rate=0.01, n_estimators=200;, score=0.915 total time=  25.3s\n",
      "[CV 5/5; 48/81] START base_estimator__max_depth=2, base_estimator__min_samples_leaf=4, learning_rate=0.01, n_estimators=200\n"
     ]
    },
    {
     "name": "stderr",
     "output_type": "stream",
     "text": [
      "/Users/vaishnavimocherla/anaconda3/lib/python3.11/site-packages/sklearn/ensemble/_base.py:156: FutureWarning: `base_estimator` was renamed to `estimator` in version 1.2 and will be removed in 1.4.\n",
      "  warnings.warn(\n"
     ]
    },
    {
     "name": "stdout",
     "output_type": "stream",
     "text": [
      "[CV 5/5; 48/81] END base_estimator__max_depth=2, base_estimator__min_samples_leaf=4, learning_rate=0.01, n_estimators=200;, score=0.916 total time=  23.0s\n",
      "[CV 1/5; 49/81] START base_estimator__max_depth=2, base_estimator__min_samples_leaf=4, learning_rate=0.1, n_estimators=50\n"
     ]
    },
    {
     "name": "stderr",
     "output_type": "stream",
     "text": [
      "/Users/vaishnavimocherla/anaconda3/lib/python3.11/site-packages/sklearn/ensemble/_base.py:156: FutureWarning: `base_estimator` was renamed to `estimator` in version 1.2 and will be removed in 1.4.\n",
      "  warnings.warn(\n"
     ]
    },
    {
     "name": "stdout",
     "output_type": "stream",
     "text": [
      "[CV 1/5; 49/81] END base_estimator__max_depth=2, base_estimator__min_samples_leaf=4, learning_rate=0.1, n_estimators=50;, score=0.917 total time=   6.0s\n",
      "[CV 2/5; 49/81] START base_estimator__max_depth=2, base_estimator__min_samples_leaf=4, learning_rate=0.1, n_estimators=50\n"
     ]
    },
    {
     "name": "stderr",
     "output_type": "stream",
     "text": [
      "/Users/vaishnavimocherla/anaconda3/lib/python3.11/site-packages/sklearn/ensemble/_base.py:156: FutureWarning: `base_estimator` was renamed to `estimator` in version 1.2 and will be removed in 1.4.\n",
      "  warnings.warn(\n"
     ]
    },
    {
     "name": "stdout",
     "output_type": "stream",
     "text": [
      "[CV 2/5; 49/81] END base_estimator__max_depth=2, base_estimator__min_samples_leaf=4, learning_rate=0.1, n_estimators=50;, score=0.919 total time=   5.5s\n",
      "[CV 3/5; 49/81] START base_estimator__max_depth=2, base_estimator__min_samples_leaf=4, learning_rate=0.1, n_estimators=50\n"
     ]
    },
    {
     "name": "stderr",
     "output_type": "stream",
     "text": [
      "/Users/vaishnavimocherla/anaconda3/lib/python3.11/site-packages/sklearn/ensemble/_base.py:156: FutureWarning: `base_estimator` was renamed to `estimator` in version 1.2 and will be removed in 1.4.\n",
      "  warnings.warn(\n"
     ]
    },
    {
     "name": "stdout",
     "output_type": "stream",
     "text": [
      "[CV 3/5; 49/81] END base_estimator__max_depth=2, base_estimator__min_samples_leaf=4, learning_rate=0.1, n_estimators=50;, score=0.916 total time=   5.5s\n",
      "[CV 4/5; 49/81] START base_estimator__max_depth=2, base_estimator__min_samples_leaf=4, learning_rate=0.1, n_estimators=50\n"
     ]
    },
    {
     "name": "stderr",
     "output_type": "stream",
     "text": [
      "/Users/vaishnavimocherla/anaconda3/lib/python3.11/site-packages/sklearn/ensemble/_base.py:156: FutureWarning: `base_estimator` was renamed to `estimator` in version 1.2 and will be removed in 1.4.\n",
      "  warnings.warn(\n"
     ]
    },
    {
     "name": "stdout",
     "output_type": "stream",
     "text": [
      "[CV 4/5; 49/81] END base_estimator__max_depth=2, base_estimator__min_samples_leaf=4, learning_rate=0.1, n_estimators=50;, score=0.916 total time=   5.6s\n",
      "[CV 5/5; 49/81] START base_estimator__max_depth=2, base_estimator__min_samples_leaf=4, learning_rate=0.1, n_estimators=50\n"
     ]
    },
    {
     "name": "stderr",
     "output_type": "stream",
     "text": [
      "/Users/vaishnavimocherla/anaconda3/lib/python3.11/site-packages/sklearn/ensemble/_base.py:156: FutureWarning: `base_estimator` was renamed to `estimator` in version 1.2 and will be removed in 1.4.\n",
      "  warnings.warn(\n"
     ]
    },
    {
     "name": "stdout",
     "output_type": "stream",
     "text": [
      "[CV 5/5; 49/81] END base_estimator__max_depth=2, base_estimator__min_samples_leaf=4, learning_rate=0.1, n_estimators=50;, score=0.917 total time=   5.5s\n",
      "[CV 1/5; 50/81] START base_estimator__max_depth=2, base_estimator__min_samples_leaf=4, learning_rate=0.1, n_estimators=100\n"
     ]
    },
    {
     "name": "stderr",
     "output_type": "stream",
     "text": [
      "/Users/vaishnavimocherla/anaconda3/lib/python3.11/site-packages/sklearn/ensemble/_base.py:156: FutureWarning: `base_estimator` was renamed to `estimator` in version 1.2 and will be removed in 1.4.\n",
      "  warnings.warn(\n"
     ]
    },
    {
     "name": "stdout",
     "output_type": "stream",
     "text": [
      "[CV 1/5; 50/81] END base_estimator__max_depth=2, base_estimator__min_samples_leaf=4, learning_rate=0.1, n_estimators=100;, score=0.918 total time=  11.8s\n",
      "[CV 2/5; 50/81] START base_estimator__max_depth=2, base_estimator__min_samples_leaf=4, learning_rate=0.1, n_estimators=100\n"
     ]
    },
    {
     "name": "stderr",
     "output_type": "stream",
     "text": [
      "/Users/vaishnavimocherla/anaconda3/lib/python3.11/site-packages/sklearn/ensemble/_base.py:156: FutureWarning: `base_estimator` was renamed to `estimator` in version 1.2 and will be removed in 1.4.\n",
      "  warnings.warn(\n"
     ]
    },
    {
     "name": "stdout",
     "output_type": "stream",
     "text": [
      "[CV 2/5; 50/81] END base_estimator__max_depth=2, base_estimator__min_samples_leaf=4, learning_rate=0.1, n_estimators=100;, score=0.920 total time=  11.4s\n",
      "[CV 3/5; 50/81] START base_estimator__max_depth=2, base_estimator__min_samples_leaf=4, learning_rate=0.1, n_estimators=100\n"
     ]
    },
    {
     "name": "stderr",
     "output_type": "stream",
     "text": [
      "/Users/vaishnavimocherla/anaconda3/lib/python3.11/site-packages/sklearn/ensemble/_base.py:156: FutureWarning: `base_estimator` was renamed to `estimator` in version 1.2 and will be removed in 1.4.\n",
      "  warnings.warn(\n"
     ]
    },
    {
     "name": "stdout",
     "output_type": "stream",
     "text": [
      "[CV 3/5; 50/81] END base_estimator__max_depth=2, base_estimator__min_samples_leaf=4, learning_rate=0.1, n_estimators=100;, score=0.918 total time=  14.3s\n",
      "[CV 4/5; 50/81] START base_estimator__max_depth=2, base_estimator__min_samples_leaf=4, learning_rate=0.1, n_estimators=100\n"
     ]
    },
    {
     "name": "stderr",
     "output_type": "stream",
     "text": [
      "/Users/vaishnavimocherla/anaconda3/lib/python3.11/site-packages/sklearn/ensemble/_base.py:156: FutureWarning: `base_estimator` was renamed to `estimator` in version 1.2 and will be removed in 1.4.\n",
      "  warnings.warn(\n"
     ]
    },
    {
     "name": "stdout",
     "output_type": "stream",
     "text": [
      "[CV 4/5; 50/81] END base_estimator__max_depth=2, base_estimator__min_samples_leaf=4, learning_rate=0.1, n_estimators=100;, score=0.917 total time=  11.9s\n",
      "[CV 5/5; 50/81] START base_estimator__max_depth=2, base_estimator__min_samples_leaf=4, learning_rate=0.1, n_estimators=100\n"
     ]
    },
    {
     "name": "stderr",
     "output_type": "stream",
     "text": [
      "/Users/vaishnavimocherla/anaconda3/lib/python3.11/site-packages/sklearn/ensemble/_base.py:156: FutureWarning: `base_estimator` was renamed to `estimator` in version 1.2 and will be removed in 1.4.\n",
      "  warnings.warn(\n"
     ]
    },
    {
     "name": "stdout",
     "output_type": "stream",
     "text": [
      "[CV 5/5; 50/81] END base_estimator__max_depth=2, base_estimator__min_samples_leaf=4, learning_rate=0.1, n_estimators=100;, score=0.918 total time=  12.2s\n",
      "[CV 1/5; 51/81] START base_estimator__max_depth=2, base_estimator__min_samples_leaf=4, learning_rate=0.1, n_estimators=200\n"
     ]
    },
    {
     "name": "stderr",
     "output_type": "stream",
     "text": [
      "/Users/vaishnavimocherla/anaconda3/lib/python3.11/site-packages/sklearn/ensemble/_base.py:156: FutureWarning: `base_estimator` was renamed to `estimator` in version 1.2 and will be removed in 1.4.\n",
      "  warnings.warn(\n"
     ]
    },
    {
     "name": "stdout",
     "output_type": "stream",
     "text": [
      "[CV 1/5; 51/81] END base_estimator__max_depth=2, base_estimator__min_samples_leaf=4, learning_rate=0.1, n_estimators=200;, score=0.920 total time=  23.7s\n",
      "[CV 2/5; 51/81] START base_estimator__max_depth=2, base_estimator__min_samples_leaf=4, learning_rate=0.1, n_estimators=200\n"
     ]
    },
    {
     "name": "stderr",
     "output_type": "stream",
     "text": [
      "/Users/vaishnavimocherla/anaconda3/lib/python3.11/site-packages/sklearn/ensemble/_base.py:156: FutureWarning: `base_estimator` was renamed to `estimator` in version 1.2 and will be removed in 1.4.\n",
      "  warnings.warn(\n"
     ]
    },
    {
     "name": "stdout",
     "output_type": "stream",
     "text": [
      "[CV 2/5; 51/81] END base_estimator__max_depth=2, base_estimator__min_samples_leaf=4, learning_rate=0.1, n_estimators=200;, score=0.921 total time=  26.0s\n",
      "[CV 3/5; 51/81] START base_estimator__max_depth=2, base_estimator__min_samples_leaf=4, learning_rate=0.1, n_estimators=200\n"
     ]
    },
    {
     "name": "stderr",
     "output_type": "stream",
     "text": [
      "/Users/vaishnavimocherla/anaconda3/lib/python3.11/site-packages/sklearn/ensemble/_base.py:156: FutureWarning: `base_estimator` was renamed to `estimator` in version 1.2 and will be removed in 1.4.\n",
      "  warnings.warn(\n"
     ]
    },
    {
     "name": "stdout",
     "output_type": "stream",
     "text": [
      "[CV 3/5; 51/81] END base_estimator__max_depth=2, base_estimator__min_samples_leaf=4, learning_rate=0.1, n_estimators=200;, score=0.918 total time=  27.3s\n",
      "[CV 4/5; 51/81] START base_estimator__max_depth=2, base_estimator__min_samples_leaf=4, learning_rate=0.1, n_estimators=200\n"
     ]
    },
    {
     "name": "stderr",
     "output_type": "stream",
     "text": [
      "/Users/vaishnavimocherla/anaconda3/lib/python3.11/site-packages/sklearn/ensemble/_base.py:156: FutureWarning: `base_estimator` was renamed to `estimator` in version 1.2 and will be removed in 1.4.\n",
      "  warnings.warn(\n"
     ]
    },
    {
     "name": "stdout",
     "output_type": "stream",
     "text": [
      "[CV 4/5; 51/81] END base_estimator__max_depth=2, base_estimator__min_samples_leaf=4, learning_rate=0.1, n_estimators=200;, score=0.918 total time=  24.8s\n",
      "[CV 5/5; 51/81] START base_estimator__max_depth=2, base_estimator__min_samples_leaf=4, learning_rate=0.1, n_estimators=200\n"
     ]
    },
    {
     "name": "stderr",
     "output_type": "stream",
     "text": [
      "/Users/vaishnavimocherla/anaconda3/lib/python3.11/site-packages/sklearn/ensemble/_base.py:156: FutureWarning: `base_estimator` was renamed to `estimator` in version 1.2 and will be removed in 1.4.\n",
      "  warnings.warn(\n"
     ]
    },
    {
     "name": "stdout",
     "output_type": "stream",
     "text": [
      "[CV 5/5; 51/81] END base_estimator__max_depth=2, base_estimator__min_samples_leaf=4, learning_rate=0.1, n_estimators=200;, score=0.919 total time=  22.6s\n",
      "[CV 1/5; 52/81] START base_estimator__max_depth=2, base_estimator__min_samples_leaf=4, learning_rate=1, n_estimators=50\n"
     ]
    },
    {
     "name": "stderr",
     "output_type": "stream",
     "text": [
      "/Users/vaishnavimocherla/anaconda3/lib/python3.11/site-packages/sklearn/ensemble/_base.py:156: FutureWarning: `base_estimator` was renamed to `estimator` in version 1.2 and will be removed in 1.4.\n",
      "  warnings.warn(\n"
     ]
    },
    {
     "name": "stdout",
     "output_type": "stream",
     "text": [
      "[CV 1/5; 52/81] END base_estimator__max_depth=2, base_estimator__min_samples_leaf=4, learning_rate=1, n_estimators=50;, score=0.920 total time=   6.5s\n",
      "[CV 2/5; 52/81] START base_estimator__max_depth=2, base_estimator__min_samples_leaf=4, learning_rate=1, n_estimators=50\n"
     ]
    },
    {
     "name": "stderr",
     "output_type": "stream",
     "text": [
      "/Users/vaishnavimocherla/anaconda3/lib/python3.11/site-packages/sklearn/ensemble/_base.py:156: FutureWarning: `base_estimator` was renamed to `estimator` in version 1.2 and will be removed in 1.4.\n",
      "  warnings.warn(\n"
     ]
    },
    {
     "name": "stdout",
     "output_type": "stream",
     "text": [
      "[CV 2/5; 52/81] END base_estimator__max_depth=2, base_estimator__min_samples_leaf=4, learning_rate=1, n_estimators=50;, score=0.922 total time=   6.0s\n",
      "[CV 3/5; 52/81] START base_estimator__max_depth=2, base_estimator__min_samples_leaf=4, learning_rate=1, n_estimators=50\n"
     ]
    },
    {
     "name": "stderr",
     "output_type": "stream",
     "text": [
      "/Users/vaishnavimocherla/anaconda3/lib/python3.11/site-packages/sklearn/ensemble/_base.py:156: FutureWarning: `base_estimator` was renamed to `estimator` in version 1.2 and will be removed in 1.4.\n",
      "  warnings.warn(\n"
     ]
    },
    {
     "name": "stdout",
     "output_type": "stream",
     "text": [
      "[CV 3/5; 52/81] END base_estimator__max_depth=2, base_estimator__min_samples_leaf=4, learning_rate=1, n_estimators=50;, score=0.918 total time=   5.7s\n",
      "[CV 4/5; 52/81] START base_estimator__max_depth=2, base_estimator__min_samples_leaf=4, learning_rate=1, n_estimators=50\n"
     ]
    },
    {
     "name": "stderr",
     "output_type": "stream",
     "text": [
      "/Users/vaishnavimocherla/anaconda3/lib/python3.11/site-packages/sklearn/ensemble/_base.py:156: FutureWarning: `base_estimator` was renamed to `estimator` in version 1.2 and will be removed in 1.4.\n",
      "  warnings.warn(\n"
     ]
    },
    {
     "name": "stdout",
     "output_type": "stream",
     "text": [
      "[CV 4/5; 52/81] END base_estimator__max_depth=2, base_estimator__min_samples_leaf=4, learning_rate=1, n_estimators=50;, score=0.915 total time=   5.5s\n",
      "[CV 5/5; 52/81] START base_estimator__max_depth=2, base_estimator__min_samples_leaf=4, learning_rate=1, n_estimators=50\n"
     ]
    },
    {
     "name": "stderr",
     "output_type": "stream",
     "text": [
      "/Users/vaishnavimocherla/anaconda3/lib/python3.11/site-packages/sklearn/ensemble/_base.py:156: FutureWarning: `base_estimator` was renamed to `estimator` in version 1.2 and will be removed in 1.4.\n",
      "  warnings.warn(\n"
     ]
    },
    {
     "name": "stdout",
     "output_type": "stream",
     "text": [
      "[CV 5/5; 52/81] END base_estimator__max_depth=2, base_estimator__min_samples_leaf=4, learning_rate=1, n_estimators=50;, score=0.919 total time=   5.9s\n",
      "[CV 1/5; 53/81] START base_estimator__max_depth=2, base_estimator__min_samples_leaf=4, learning_rate=1, n_estimators=100\n"
     ]
    },
    {
     "name": "stderr",
     "output_type": "stream",
     "text": [
      "/Users/vaishnavimocherla/anaconda3/lib/python3.11/site-packages/sklearn/ensemble/_base.py:156: FutureWarning: `base_estimator` was renamed to `estimator` in version 1.2 and will be removed in 1.4.\n",
      "  warnings.warn(\n"
     ]
    },
    {
     "name": "stdout",
     "output_type": "stream",
     "text": [
      "[CV 1/5; 53/81] END base_estimator__max_depth=2, base_estimator__min_samples_leaf=4, learning_rate=1, n_estimators=100;, score=0.920 total time=  14.0s\n",
      "[CV 2/5; 53/81] START base_estimator__max_depth=2, base_estimator__min_samples_leaf=4, learning_rate=1, n_estimators=100\n"
     ]
    },
    {
     "name": "stderr",
     "output_type": "stream",
     "text": [
      "/Users/vaishnavimocherla/anaconda3/lib/python3.11/site-packages/sklearn/ensemble/_base.py:156: FutureWarning: `base_estimator` was renamed to `estimator` in version 1.2 and will be removed in 1.4.\n",
      "  warnings.warn(\n"
     ]
    },
    {
     "name": "stdout",
     "output_type": "stream",
     "text": [
      "[CV 2/5; 53/81] END base_estimator__max_depth=2, base_estimator__min_samples_leaf=4, learning_rate=1, n_estimators=100;, score=0.922 total time=  12.5s\n",
      "[CV 3/5; 53/81] START base_estimator__max_depth=2, base_estimator__min_samples_leaf=4, learning_rate=1, n_estimators=100\n"
     ]
    },
    {
     "name": "stderr",
     "output_type": "stream",
     "text": [
      "/Users/vaishnavimocherla/anaconda3/lib/python3.11/site-packages/sklearn/ensemble/_base.py:156: FutureWarning: `base_estimator` was renamed to `estimator` in version 1.2 and will be removed in 1.4.\n",
      "  warnings.warn(\n"
     ]
    },
    {
     "name": "stdout",
     "output_type": "stream",
     "text": [
      "[CV 3/5; 53/81] END base_estimator__max_depth=2, base_estimator__min_samples_leaf=4, learning_rate=1, n_estimators=100;, score=0.918 total time=  14.5s\n",
      "[CV 4/5; 53/81] START base_estimator__max_depth=2, base_estimator__min_samples_leaf=4, learning_rate=1, n_estimators=100\n"
     ]
    },
    {
     "name": "stderr",
     "output_type": "stream",
     "text": [
      "/Users/vaishnavimocherla/anaconda3/lib/python3.11/site-packages/sklearn/ensemble/_base.py:156: FutureWarning: `base_estimator` was renamed to `estimator` in version 1.2 and will be removed in 1.4.\n",
      "  warnings.warn(\n"
     ]
    },
    {
     "name": "stdout",
     "output_type": "stream",
     "text": [
      "[CV 4/5; 53/81] END base_estimator__max_depth=2, base_estimator__min_samples_leaf=4, learning_rate=1, n_estimators=100;, score=0.917 total time=  13.1s\n",
      "[CV 5/5; 53/81] START base_estimator__max_depth=2, base_estimator__min_samples_leaf=4, learning_rate=1, n_estimators=100\n"
     ]
    },
    {
     "name": "stderr",
     "output_type": "stream",
     "text": [
      "/Users/vaishnavimocherla/anaconda3/lib/python3.11/site-packages/sklearn/ensemble/_base.py:156: FutureWarning: `base_estimator` was renamed to `estimator` in version 1.2 and will be removed in 1.4.\n",
      "  warnings.warn(\n"
     ]
    },
    {
     "name": "stdout",
     "output_type": "stream",
     "text": [
      "[CV 5/5; 53/81] END base_estimator__max_depth=2, base_estimator__min_samples_leaf=4, learning_rate=1, n_estimators=100;, score=0.919 total time=  12.3s\n",
      "[CV 1/5; 54/81] START base_estimator__max_depth=2, base_estimator__min_samples_leaf=4, learning_rate=1, n_estimators=200\n"
     ]
    },
    {
     "name": "stderr",
     "output_type": "stream",
     "text": [
      "/Users/vaishnavimocherla/anaconda3/lib/python3.11/site-packages/sklearn/ensemble/_base.py:156: FutureWarning: `base_estimator` was renamed to `estimator` in version 1.2 and will be removed in 1.4.\n",
      "  warnings.warn(\n"
     ]
    },
    {
     "name": "stdout",
     "output_type": "stream",
     "text": [
      "[CV 1/5; 54/81] END base_estimator__max_depth=2, base_estimator__min_samples_leaf=4, learning_rate=1, n_estimators=200;, score=0.920 total time=  25.5s\n",
      "[CV 2/5; 54/81] START base_estimator__max_depth=2, base_estimator__min_samples_leaf=4, learning_rate=1, n_estimators=200\n"
     ]
    },
    {
     "name": "stderr",
     "output_type": "stream",
     "text": [
      "/Users/vaishnavimocherla/anaconda3/lib/python3.11/site-packages/sklearn/ensemble/_base.py:156: FutureWarning: `base_estimator` was renamed to `estimator` in version 1.2 and will be removed in 1.4.\n",
      "  warnings.warn(\n"
     ]
    },
    {
     "name": "stdout",
     "output_type": "stream",
     "text": [
      "[CV 2/5; 54/81] END base_estimator__max_depth=2, base_estimator__min_samples_leaf=4, learning_rate=1, n_estimators=200;, score=0.922 total time=  30.0s\n",
      "[CV 3/5; 54/81] START base_estimator__max_depth=2, base_estimator__min_samples_leaf=4, learning_rate=1, n_estimators=200\n"
     ]
    },
    {
     "name": "stderr",
     "output_type": "stream",
     "text": [
      "/Users/vaishnavimocherla/anaconda3/lib/python3.11/site-packages/sklearn/ensemble/_base.py:156: FutureWarning: `base_estimator` was renamed to `estimator` in version 1.2 and will be removed in 1.4.\n",
      "  warnings.warn(\n"
     ]
    },
    {
     "name": "stdout",
     "output_type": "stream",
     "text": [
      "[CV 3/5; 54/81] END base_estimator__max_depth=2, base_estimator__min_samples_leaf=4, learning_rate=1, n_estimators=200;, score=0.918 total time=  27.7s\n",
      "[CV 4/5; 54/81] START base_estimator__max_depth=2, base_estimator__min_samples_leaf=4, learning_rate=1, n_estimators=200\n"
     ]
    },
    {
     "name": "stderr",
     "output_type": "stream",
     "text": [
      "/Users/vaishnavimocherla/anaconda3/lib/python3.11/site-packages/sklearn/ensemble/_base.py:156: FutureWarning: `base_estimator` was renamed to `estimator` in version 1.2 and will be removed in 1.4.\n",
      "  warnings.warn(\n"
     ]
    },
    {
     "name": "stdout",
     "output_type": "stream",
     "text": [
      "[CV 4/5; 54/81] END base_estimator__max_depth=2, base_estimator__min_samples_leaf=4, learning_rate=1, n_estimators=200;, score=0.918 total time=  22.2s\n",
      "[CV 5/5; 54/81] START base_estimator__max_depth=2, base_estimator__min_samples_leaf=4, learning_rate=1, n_estimators=200\n"
     ]
    },
    {
     "name": "stderr",
     "output_type": "stream",
     "text": [
      "/Users/vaishnavimocherla/anaconda3/lib/python3.11/site-packages/sklearn/ensemble/_base.py:156: FutureWarning: `base_estimator` was renamed to `estimator` in version 1.2 and will be removed in 1.4.\n",
      "  warnings.warn(\n"
     ]
    },
    {
     "name": "stdout",
     "output_type": "stream",
     "text": [
      "[CV 5/5; 54/81] END base_estimator__max_depth=2, base_estimator__min_samples_leaf=4, learning_rate=1, n_estimators=200;, score=0.919 total time=  22.1s\n",
      "[CV 1/5; 55/81] START base_estimator__max_depth=3, base_estimator__min_samples_leaf=1, learning_rate=0.01, n_estimators=50\n"
     ]
    },
    {
     "name": "stderr",
     "output_type": "stream",
     "text": [
      "/Users/vaishnavimocherla/anaconda3/lib/python3.11/site-packages/sklearn/ensemble/_base.py:156: FutureWarning: `base_estimator` was renamed to `estimator` in version 1.2 and will be removed in 1.4.\n",
      "  warnings.warn(\n"
     ]
    },
    {
     "name": "stdout",
     "output_type": "stream",
     "text": [
      "[CV 1/5; 55/81] END base_estimator__max_depth=3, base_estimator__min_samples_leaf=1, learning_rate=0.01, n_estimators=50;, score=0.916 total time=   8.9s\n",
      "[CV 2/5; 55/81] START base_estimator__max_depth=3, base_estimator__min_samples_leaf=1, learning_rate=0.01, n_estimators=50\n"
     ]
    },
    {
     "name": "stderr",
     "output_type": "stream",
     "text": [
      "/Users/vaishnavimocherla/anaconda3/lib/python3.11/site-packages/sklearn/ensemble/_base.py:156: FutureWarning: `base_estimator` was renamed to `estimator` in version 1.2 and will be removed in 1.4.\n",
      "  warnings.warn(\n"
     ]
    },
    {
     "name": "stdout",
     "output_type": "stream",
     "text": [
      "[CV 2/5; 55/81] END base_estimator__max_depth=3, base_estimator__min_samples_leaf=1, learning_rate=0.01, n_estimators=50;, score=0.917 total time=   9.3s\n",
      "[CV 3/5; 55/81] START base_estimator__max_depth=3, base_estimator__min_samples_leaf=1, learning_rate=0.01, n_estimators=50\n"
     ]
    },
    {
     "name": "stderr",
     "output_type": "stream",
     "text": [
      "/Users/vaishnavimocherla/anaconda3/lib/python3.11/site-packages/sklearn/ensemble/_base.py:156: FutureWarning: `base_estimator` was renamed to `estimator` in version 1.2 and will be removed in 1.4.\n",
      "  warnings.warn(\n"
     ]
    },
    {
     "name": "stdout",
     "output_type": "stream",
     "text": [
      "[CV 3/5; 55/81] END base_estimator__max_depth=3, base_estimator__min_samples_leaf=1, learning_rate=0.01, n_estimators=50;, score=0.917 total time=   8.9s\n",
      "[CV 4/5; 55/81] START base_estimator__max_depth=3, base_estimator__min_samples_leaf=1, learning_rate=0.01, n_estimators=50\n"
     ]
    },
    {
     "name": "stderr",
     "output_type": "stream",
     "text": [
      "/Users/vaishnavimocherla/anaconda3/lib/python3.11/site-packages/sklearn/ensemble/_base.py:156: FutureWarning: `base_estimator` was renamed to `estimator` in version 1.2 and will be removed in 1.4.\n",
      "  warnings.warn(\n"
     ]
    },
    {
     "name": "stdout",
     "output_type": "stream",
     "text": [
      "[CV 4/5; 55/81] END base_estimator__max_depth=3, base_estimator__min_samples_leaf=1, learning_rate=0.01, n_estimators=50;, score=0.915 total time=   7.9s\n",
      "[CV 5/5; 55/81] START base_estimator__max_depth=3, base_estimator__min_samples_leaf=1, learning_rate=0.01, n_estimators=50\n"
     ]
    },
    {
     "name": "stderr",
     "output_type": "stream",
     "text": [
      "/Users/vaishnavimocherla/anaconda3/lib/python3.11/site-packages/sklearn/ensemble/_base.py:156: FutureWarning: `base_estimator` was renamed to `estimator` in version 1.2 and will be removed in 1.4.\n",
      "  warnings.warn(\n"
     ]
    },
    {
     "name": "stdout",
     "output_type": "stream",
     "text": [
      "[CV 5/5; 55/81] END base_estimator__max_depth=3, base_estimator__min_samples_leaf=1, learning_rate=0.01, n_estimators=50;, score=0.916 total time=   7.8s\n",
      "[CV 1/5; 56/81] START base_estimator__max_depth=3, base_estimator__min_samples_leaf=1, learning_rate=0.01, n_estimators=100\n"
     ]
    },
    {
     "name": "stderr",
     "output_type": "stream",
     "text": [
      "/Users/vaishnavimocherla/anaconda3/lib/python3.11/site-packages/sklearn/ensemble/_base.py:156: FutureWarning: `base_estimator` was renamed to `estimator` in version 1.2 and will be removed in 1.4.\n",
      "  warnings.warn(\n"
     ]
    },
    {
     "name": "stdout",
     "output_type": "stream",
     "text": [
      "[CV 1/5; 56/81] END base_estimator__max_depth=3, base_estimator__min_samples_leaf=1, learning_rate=0.01, n_estimators=100;, score=0.918 total time=  17.0s\n",
      "[CV 2/5; 56/81] START base_estimator__max_depth=3, base_estimator__min_samples_leaf=1, learning_rate=0.01, n_estimators=100\n"
     ]
    },
    {
     "name": "stderr",
     "output_type": "stream",
     "text": [
      "/Users/vaishnavimocherla/anaconda3/lib/python3.11/site-packages/sklearn/ensemble/_base.py:156: FutureWarning: `base_estimator` was renamed to `estimator` in version 1.2 and will be removed in 1.4.\n",
      "  warnings.warn(\n"
     ]
    },
    {
     "name": "stdout",
     "output_type": "stream",
     "text": [
      "[CV 2/5; 56/81] END base_estimator__max_depth=3, base_estimator__min_samples_leaf=1, learning_rate=0.01, n_estimators=100;, score=0.919 total time=  18.3s\n",
      "[CV 3/5; 56/81] START base_estimator__max_depth=3, base_estimator__min_samples_leaf=1, learning_rate=0.01, n_estimators=100\n"
     ]
    },
    {
     "name": "stderr",
     "output_type": "stream",
     "text": [
      "/Users/vaishnavimocherla/anaconda3/lib/python3.11/site-packages/sklearn/ensemble/_base.py:156: FutureWarning: `base_estimator` was renamed to `estimator` in version 1.2 and will be removed in 1.4.\n",
      "  warnings.warn(\n"
     ]
    },
    {
     "name": "stdout",
     "output_type": "stream",
     "text": [
      "[CV 3/5; 56/81] END base_estimator__max_depth=3, base_estimator__min_samples_leaf=1, learning_rate=0.01, n_estimators=100;, score=0.917 total time=  18.6s\n",
      "[CV 4/5; 56/81] START base_estimator__max_depth=3, base_estimator__min_samples_leaf=1, learning_rate=0.01, n_estimators=100\n"
     ]
    },
    {
     "name": "stderr",
     "output_type": "stream",
     "text": [
      "/Users/vaishnavimocherla/anaconda3/lib/python3.11/site-packages/sklearn/ensemble/_base.py:156: FutureWarning: `base_estimator` was renamed to `estimator` in version 1.2 and will be removed in 1.4.\n",
      "  warnings.warn(\n"
     ]
    },
    {
     "name": "stdout",
     "output_type": "stream",
     "text": [
      "[CV 4/5; 56/81] END base_estimator__max_depth=3, base_estimator__min_samples_leaf=1, learning_rate=0.01, n_estimators=100;, score=0.916 total time=  17.4s\n",
      "[CV 5/5; 56/81] START base_estimator__max_depth=3, base_estimator__min_samples_leaf=1, learning_rate=0.01, n_estimators=100\n"
     ]
    },
    {
     "name": "stderr",
     "output_type": "stream",
     "text": [
      "/Users/vaishnavimocherla/anaconda3/lib/python3.11/site-packages/sklearn/ensemble/_base.py:156: FutureWarning: `base_estimator` was renamed to `estimator` in version 1.2 and will be removed in 1.4.\n",
      "  warnings.warn(\n"
     ]
    },
    {
     "name": "stdout",
     "output_type": "stream",
     "text": [
      "[CV 5/5; 56/81] END base_estimator__max_depth=3, base_estimator__min_samples_leaf=1, learning_rate=0.01, n_estimators=100;, score=0.917 total time=  16.3s\n",
      "[CV 1/5; 57/81] START base_estimator__max_depth=3, base_estimator__min_samples_leaf=1, learning_rate=0.01, n_estimators=200\n"
     ]
    },
    {
     "name": "stderr",
     "output_type": "stream",
     "text": [
      "/Users/vaishnavimocherla/anaconda3/lib/python3.11/site-packages/sklearn/ensemble/_base.py:156: FutureWarning: `base_estimator` was renamed to `estimator` in version 1.2 and will be removed in 1.4.\n",
      "  warnings.warn(\n"
     ]
    },
    {
     "name": "stdout",
     "output_type": "stream",
     "text": [
      "[CV 1/5; 57/81] END base_estimator__max_depth=3, base_estimator__min_samples_leaf=1, learning_rate=0.01, n_estimators=200;, score=0.918 total time=  30.8s\n",
      "[CV 2/5; 57/81] START base_estimator__max_depth=3, base_estimator__min_samples_leaf=1, learning_rate=0.01, n_estimators=200\n"
     ]
    },
    {
     "name": "stderr",
     "output_type": "stream",
     "text": [
      "/Users/vaishnavimocherla/anaconda3/lib/python3.11/site-packages/sklearn/ensemble/_base.py:156: FutureWarning: `base_estimator` was renamed to `estimator` in version 1.2 and will be removed in 1.4.\n",
      "  warnings.warn(\n"
     ]
    },
    {
     "name": "stdout",
     "output_type": "stream",
     "text": [
      "[CV 2/5; 57/81] END base_estimator__max_depth=3, base_estimator__min_samples_leaf=1, learning_rate=0.01, n_estimators=200;, score=0.919 total time=  31.0s\n",
      "[CV 3/5; 57/81] START base_estimator__max_depth=3, base_estimator__min_samples_leaf=1, learning_rate=0.01, n_estimators=200\n"
     ]
    },
    {
     "name": "stderr",
     "output_type": "stream",
     "text": [
      "/Users/vaishnavimocherla/anaconda3/lib/python3.11/site-packages/sklearn/ensemble/_base.py:156: FutureWarning: `base_estimator` was renamed to `estimator` in version 1.2 and will be removed in 1.4.\n",
      "  warnings.warn(\n"
     ]
    },
    {
     "name": "stdout",
     "output_type": "stream",
     "text": [
      "[CV 3/5; 57/81] END base_estimator__max_depth=3, base_estimator__min_samples_leaf=1, learning_rate=0.01, n_estimators=200;, score=0.918 total time=  31.1s\n",
      "[CV 4/5; 57/81] START base_estimator__max_depth=3, base_estimator__min_samples_leaf=1, learning_rate=0.01, n_estimators=200\n"
     ]
    },
    {
     "name": "stderr",
     "output_type": "stream",
     "text": [
      "/Users/vaishnavimocherla/anaconda3/lib/python3.11/site-packages/sklearn/ensemble/_base.py:156: FutureWarning: `base_estimator` was renamed to `estimator` in version 1.2 and will be removed in 1.4.\n",
      "  warnings.warn(\n"
     ]
    },
    {
     "name": "stdout",
     "output_type": "stream",
     "text": [
      "[CV 4/5; 57/81] END base_estimator__max_depth=3, base_estimator__min_samples_leaf=1, learning_rate=0.01, n_estimators=200;, score=0.917 total time=  34.6s\n",
      "[CV 5/5; 57/81] START base_estimator__max_depth=3, base_estimator__min_samples_leaf=1, learning_rate=0.01, n_estimators=200\n"
     ]
    },
    {
     "name": "stderr",
     "output_type": "stream",
     "text": [
      "/Users/vaishnavimocherla/anaconda3/lib/python3.11/site-packages/sklearn/ensemble/_base.py:156: FutureWarning: `base_estimator` was renamed to `estimator` in version 1.2 and will be removed in 1.4.\n",
      "  warnings.warn(\n"
     ]
    },
    {
     "name": "stdout",
     "output_type": "stream",
     "text": [
      "[CV 5/5; 57/81] END base_estimator__max_depth=3, base_estimator__min_samples_leaf=1, learning_rate=0.01, n_estimators=200;, score=0.918 total time=  34.7s\n",
      "[CV 1/5; 58/81] START base_estimator__max_depth=3, base_estimator__min_samples_leaf=1, learning_rate=0.1, n_estimators=50\n"
     ]
    },
    {
     "name": "stderr",
     "output_type": "stream",
     "text": [
      "/Users/vaishnavimocherla/anaconda3/lib/python3.11/site-packages/sklearn/ensemble/_base.py:156: FutureWarning: `base_estimator` was renamed to `estimator` in version 1.2 and will be removed in 1.4.\n",
      "  warnings.warn(\n"
     ]
    },
    {
     "name": "stdout",
     "output_type": "stream",
     "text": [
      "[CV 1/5; 58/81] END base_estimator__max_depth=3, base_estimator__min_samples_leaf=1, learning_rate=0.1, n_estimators=50;, score=0.919 total time=  10.0s\n",
      "[CV 2/5; 58/81] START base_estimator__max_depth=3, base_estimator__min_samples_leaf=1, learning_rate=0.1, n_estimators=50\n"
     ]
    },
    {
     "name": "stderr",
     "output_type": "stream",
     "text": [
      "/Users/vaishnavimocherla/anaconda3/lib/python3.11/site-packages/sklearn/ensemble/_base.py:156: FutureWarning: `base_estimator` was renamed to `estimator` in version 1.2 and will be removed in 1.4.\n",
      "  warnings.warn(\n"
     ]
    },
    {
     "name": "stdout",
     "output_type": "stream",
     "text": [
      "[CV 2/5; 58/81] END base_estimator__max_depth=3, base_estimator__min_samples_leaf=1, learning_rate=0.1, n_estimators=50;, score=0.921 total time=   9.1s\n",
      "[CV 3/5; 58/81] START base_estimator__max_depth=3, base_estimator__min_samples_leaf=1, learning_rate=0.1, n_estimators=50\n"
     ]
    },
    {
     "name": "stderr",
     "output_type": "stream",
     "text": [
      "/Users/vaishnavimocherla/anaconda3/lib/python3.11/site-packages/sklearn/ensemble/_base.py:156: FutureWarning: `base_estimator` was renamed to `estimator` in version 1.2 and will be removed in 1.4.\n",
      "  warnings.warn(\n"
     ]
    },
    {
     "name": "stdout",
     "output_type": "stream",
     "text": [
      "[CV 3/5; 58/81] END base_estimator__max_depth=3, base_estimator__min_samples_leaf=1, learning_rate=0.1, n_estimators=50;, score=0.918 total time=   7.8s\n",
      "[CV 4/5; 58/81] START base_estimator__max_depth=3, base_estimator__min_samples_leaf=1, learning_rate=0.1, n_estimators=50\n"
     ]
    },
    {
     "name": "stderr",
     "output_type": "stream",
     "text": [
      "/Users/vaishnavimocherla/anaconda3/lib/python3.11/site-packages/sklearn/ensemble/_base.py:156: FutureWarning: `base_estimator` was renamed to `estimator` in version 1.2 and will be removed in 1.4.\n",
      "  warnings.warn(\n"
     ]
    },
    {
     "name": "stdout",
     "output_type": "stream",
     "text": [
      "[CV 4/5; 58/81] END base_estimator__max_depth=3, base_estimator__min_samples_leaf=1, learning_rate=0.1, n_estimators=50;, score=0.918 total time=   7.7s\n",
      "[CV 5/5; 58/81] START base_estimator__max_depth=3, base_estimator__min_samples_leaf=1, learning_rate=0.1, n_estimators=50\n"
     ]
    },
    {
     "name": "stderr",
     "output_type": "stream",
     "text": [
      "/Users/vaishnavimocherla/anaconda3/lib/python3.11/site-packages/sklearn/ensemble/_base.py:156: FutureWarning: `base_estimator` was renamed to `estimator` in version 1.2 and will be removed in 1.4.\n",
      "  warnings.warn(\n"
     ]
    },
    {
     "name": "stdout",
     "output_type": "stream",
     "text": [
      "[CV 5/5; 58/81] END base_estimator__max_depth=3, base_estimator__min_samples_leaf=1, learning_rate=0.1, n_estimators=50;, score=0.918 total time=   7.8s\n",
      "[CV 1/5; 59/81] START base_estimator__max_depth=3, base_estimator__min_samples_leaf=1, learning_rate=0.1, n_estimators=100\n"
     ]
    },
    {
     "name": "stderr",
     "output_type": "stream",
     "text": [
      "/Users/vaishnavimocherla/anaconda3/lib/python3.11/site-packages/sklearn/ensemble/_base.py:156: FutureWarning: `base_estimator` was renamed to `estimator` in version 1.2 and will be removed in 1.4.\n",
      "  warnings.warn(\n"
     ]
    },
    {
     "name": "stdout",
     "output_type": "stream",
     "text": [
      "[CV 1/5; 59/81] END base_estimator__max_depth=3, base_estimator__min_samples_leaf=1, learning_rate=0.1, n_estimators=100;, score=0.921 total time=  15.7s\n",
      "[CV 2/5; 59/81] START base_estimator__max_depth=3, base_estimator__min_samples_leaf=1, learning_rate=0.1, n_estimators=100\n"
     ]
    },
    {
     "name": "stderr",
     "output_type": "stream",
     "text": [
      "/Users/vaishnavimocherla/anaconda3/lib/python3.11/site-packages/sklearn/ensemble/_base.py:156: FutureWarning: `base_estimator` was renamed to `estimator` in version 1.2 and will be removed in 1.4.\n",
      "  warnings.warn(\n"
     ]
    },
    {
     "name": "stdout",
     "output_type": "stream",
     "text": [
      "[CV 2/5; 59/81] END base_estimator__max_depth=3, base_estimator__min_samples_leaf=1, learning_rate=0.1, n_estimators=100;, score=0.922 total time=  15.3s\n",
      "[CV 3/5; 59/81] START base_estimator__max_depth=3, base_estimator__min_samples_leaf=1, learning_rate=0.1, n_estimators=100\n"
     ]
    },
    {
     "name": "stderr",
     "output_type": "stream",
     "text": [
      "/Users/vaishnavimocherla/anaconda3/lib/python3.11/site-packages/sklearn/ensemble/_base.py:156: FutureWarning: `base_estimator` was renamed to `estimator` in version 1.2 and will be removed in 1.4.\n",
      "  warnings.warn(\n"
     ]
    },
    {
     "name": "stdout",
     "output_type": "stream",
     "text": [
      "[CV 3/5; 59/81] END base_estimator__max_depth=3, base_estimator__min_samples_leaf=1, learning_rate=0.1, n_estimators=100;, score=0.919 total time=  16.1s\n",
      "[CV 4/5; 59/81] START base_estimator__max_depth=3, base_estimator__min_samples_leaf=1, learning_rate=0.1, n_estimators=100\n"
     ]
    },
    {
     "name": "stderr",
     "output_type": "stream",
     "text": [
      "/Users/vaishnavimocherla/anaconda3/lib/python3.11/site-packages/sklearn/ensemble/_base.py:156: FutureWarning: `base_estimator` was renamed to `estimator` in version 1.2 and will be removed in 1.4.\n",
      "  warnings.warn(\n"
     ]
    },
    {
     "name": "stdout",
     "output_type": "stream",
     "text": [
      "[CV 4/5; 59/81] END base_estimator__max_depth=3, base_estimator__min_samples_leaf=1, learning_rate=0.1, n_estimators=100;, score=0.918 total time=  17.3s\n",
      "[CV 5/5; 59/81] START base_estimator__max_depth=3, base_estimator__min_samples_leaf=1, learning_rate=0.1, n_estimators=100\n"
     ]
    },
    {
     "name": "stderr",
     "output_type": "stream",
     "text": [
      "/Users/vaishnavimocherla/anaconda3/lib/python3.11/site-packages/sklearn/ensemble/_base.py:156: FutureWarning: `base_estimator` was renamed to `estimator` in version 1.2 and will be removed in 1.4.\n",
      "  warnings.warn(\n"
     ]
    },
    {
     "name": "stdout",
     "output_type": "stream",
     "text": [
      "[CV 5/5; 59/81] END base_estimator__max_depth=3, base_estimator__min_samples_leaf=1, learning_rate=0.1, n_estimators=100;, score=0.919 total time=  18.7s\n",
      "[CV 1/5; 60/81] START base_estimator__max_depth=3, base_estimator__min_samples_leaf=1, learning_rate=0.1, n_estimators=200\n"
     ]
    },
    {
     "name": "stderr",
     "output_type": "stream",
     "text": [
      "/Users/vaishnavimocherla/anaconda3/lib/python3.11/site-packages/sklearn/ensemble/_base.py:156: FutureWarning: `base_estimator` was renamed to `estimator` in version 1.2 and will be removed in 1.4.\n",
      "  warnings.warn(\n"
     ]
    },
    {
     "name": "stdout",
     "output_type": "stream",
     "text": [
      "[CV 1/5; 60/81] END base_estimator__max_depth=3, base_estimator__min_samples_leaf=1, learning_rate=0.1, n_estimators=200;, score=0.921 total time=  36.0s\n",
      "[CV 2/5; 60/81] START base_estimator__max_depth=3, base_estimator__min_samples_leaf=1, learning_rate=0.1, n_estimators=200\n"
     ]
    },
    {
     "name": "stderr",
     "output_type": "stream",
     "text": [
      "/Users/vaishnavimocherla/anaconda3/lib/python3.11/site-packages/sklearn/ensemble/_base.py:156: FutureWarning: `base_estimator` was renamed to `estimator` in version 1.2 and will be removed in 1.4.\n",
      "  warnings.warn(\n"
     ]
    },
    {
     "name": "stdout",
     "output_type": "stream",
     "text": [
      "[CV 2/5; 60/81] END base_estimator__max_depth=3, base_estimator__min_samples_leaf=1, learning_rate=0.1, n_estimators=200;, score=0.922 total time=  32.4s\n",
      "[CV 3/5; 60/81] START base_estimator__max_depth=3, base_estimator__min_samples_leaf=1, learning_rate=0.1, n_estimators=200\n"
     ]
    },
    {
     "name": "stderr",
     "output_type": "stream",
     "text": [
      "/Users/vaishnavimocherla/anaconda3/lib/python3.11/site-packages/sklearn/ensemble/_base.py:156: FutureWarning: `base_estimator` was renamed to `estimator` in version 1.2 and will be removed in 1.4.\n",
      "  warnings.warn(\n"
     ]
    },
    {
     "name": "stdout",
     "output_type": "stream",
     "text": [
      "[CV 3/5; 60/81] END base_estimator__max_depth=3, base_estimator__min_samples_leaf=1, learning_rate=0.1, n_estimators=200;, score=0.919 total time=  31.5s\n",
      "[CV 4/5; 60/81] START base_estimator__max_depth=3, base_estimator__min_samples_leaf=1, learning_rate=0.1, n_estimators=200\n"
     ]
    },
    {
     "name": "stderr",
     "output_type": "stream",
     "text": [
      "/Users/vaishnavimocherla/anaconda3/lib/python3.11/site-packages/sklearn/ensemble/_base.py:156: FutureWarning: `base_estimator` was renamed to `estimator` in version 1.2 and will be removed in 1.4.\n",
      "  warnings.warn(\n"
     ]
    },
    {
     "name": "stdout",
     "output_type": "stream",
     "text": [
      "[CV 4/5; 60/81] END base_estimator__max_depth=3, base_estimator__min_samples_leaf=1, learning_rate=0.1, n_estimators=200;, score=0.918 total time=  33.5s\n",
      "[CV 5/5; 60/81] START base_estimator__max_depth=3, base_estimator__min_samples_leaf=1, learning_rate=0.1, n_estimators=200\n"
     ]
    },
    {
     "name": "stderr",
     "output_type": "stream",
     "text": [
      "/Users/vaishnavimocherla/anaconda3/lib/python3.11/site-packages/sklearn/ensemble/_base.py:156: FutureWarning: `base_estimator` was renamed to `estimator` in version 1.2 and will be removed in 1.4.\n",
      "  warnings.warn(\n"
     ]
    },
    {
     "name": "stdout",
     "output_type": "stream",
     "text": [
      "[CV 5/5; 60/81] END base_estimator__max_depth=3, base_estimator__min_samples_leaf=1, learning_rate=0.1, n_estimators=200;, score=0.919 total time=  31.2s\n",
      "[CV 1/5; 61/81] START base_estimator__max_depth=3, base_estimator__min_samples_leaf=1, learning_rate=1, n_estimators=50\n"
     ]
    },
    {
     "name": "stderr",
     "output_type": "stream",
     "text": [
      "/Users/vaishnavimocherla/anaconda3/lib/python3.11/site-packages/sklearn/ensemble/_base.py:156: FutureWarning: `base_estimator` was renamed to `estimator` in version 1.2 and will be removed in 1.4.\n",
      "  warnings.warn(\n"
     ]
    },
    {
     "name": "stdout",
     "output_type": "stream",
     "text": [
      "[CV 1/5; 61/81] END base_estimator__max_depth=3, base_estimator__min_samples_leaf=1, learning_rate=1, n_estimators=50;, score=0.920 total time=   8.7s\n",
      "[CV 2/5; 61/81] START base_estimator__max_depth=3, base_estimator__min_samples_leaf=1, learning_rate=1, n_estimators=50\n"
     ]
    },
    {
     "name": "stderr",
     "output_type": "stream",
     "text": [
      "/Users/vaishnavimocherla/anaconda3/lib/python3.11/site-packages/sklearn/ensemble/_base.py:156: FutureWarning: `base_estimator` was renamed to `estimator` in version 1.2 and will be removed in 1.4.\n",
      "  warnings.warn(\n"
     ]
    },
    {
     "name": "stdout",
     "output_type": "stream",
     "text": [
      "[CV 2/5; 61/81] END base_estimator__max_depth=3, base_estimator__min_samples_leaf=1, learning_rate=1, n_estimators=50;, score=0.921 total time=   8.3s\n",
      "[CV 3/5; 61/81] START base_estimator__max_depth=3, base_estimator__min_samples_leaf=1, learning_rate=1, n_estimators=50\n"
     ]
    },
    {
     "name": "stderr",
     "output_type": "stream",
     "text": [
      "/Users/vaishnavimocherla/anaconda3/lib/python3.11/site-packages/sklearn/ensemble/_base.py:156: FutureWarning: `base_estimator` was renamed to `estimator` in version 1.2 and will be removed in 1.4.\n",
      "  warnings.warn(\n"
     ]
    },
    {
     "name": "stdout",
     "output_type": "stream",
     "text": [
      "[CV 3/5; 61/81] END base_estimator__max_depth=3, base_estimator__min_samples_leaf=1, learning_rate=1, n_estimators=50;, score=0.919 total time=   8.7s\n",
      "[CV 4/5; 61/81] START base_estimator__max_depth=3, base_estimator__min_samples_leaf=1, learning_rate=1, n_estimators=50\n"
     ]
    },
    {
     "name": "stderr",
     "output_type": "stream",
     "text": [
      "/Users/vaishnavimocherla/anaconda3/lib/python3.11/site-packages/sklearn/ensemble/_base.py:156: FutureWarning: `base_estimator` was renamed to `estimator` in version 1.2 and will be removed in 1.4.\n",
      "  warnings.warn(\n"
     ]
    },
    {
     "name": "stdout",
     "output_type": "stream",
     "text": [
      "[CV 4/5; 61/81] END base_estimator__max_depth=3, base_estimator__min_samples_leaf=1, learning_rate=1, n_estimators=50;, score=0.919 total time=   9.0s\n",
      "[CV 5/5; 61/81] START base_estimator__max_depth=3, base_estimator__min_samples_leaf=1, learning_rate=1, n_estimators=50\n"
     ]
    },
    {
     "name": "stderr",
     "output_type": "stream",
     "text": [
      "/Users/vaishnavimocherla/anaconda3/lib/python3.11/site-packages/sklearn/ensemble/_base.py:156: FutureWarning: `base_estimator` was renamed to `estimator` in version 1.2 and will be removed in 1.4.\n",
      "  warnings.warn(\n"
     ]
    },
    {
     "name": "stdout",
     "output_type": "stream",
     "text": [
      "[CV 5/5; 61/81] END base_estimator__max_depth=3, base_estimator__min_samples_leaf=1, learning_rate=1, n_estimators=50;, score=0.918 total time=   8.7s\n",
      "[CV 1/5; 62/81] START base_estimator__max_depth=3, base_estimator__min_samples_leaf=1, learning_rate=1, n_estimators=100\n"
     ]
    },
    {
     "name": "stderr",
     "output_type": "stream",
     "text": [
      "/Users/vaishnavimocherla/anaconda3/lib/python3.11/site-packages/sklearn/ensemble/_base.py:156: FutureWarning: `base_estimator` was renamed to `estimator` in version 1.2 and will be removed in 1.4.\n",
      "  warnings.warn(\n"
     ]
    },
    {
     "name": "stdout",
     "output_type": "stream",
     "text": [
      "[CV 1/5; 62/81] END base_estimator__max_depth=3, base_estimator__min_samples_leaf=1, learning_rate=1, n_estimators=100;, score=0.919 total time=  17.5s\n",
      "[CV 2/5; 62/81] START base_estimator__max_depth=3, base_estimator__min_samples_leaf=1, learning_rate=1, n_estimators=100\n"
     ]
    },
    {
     "name": "stderr",
     "output_type": "stream",
     "text": [
      "/Users/vaishnavimocherla/anaconda3/lib/python3.11/site-packages/sklearn/ensemble/_base.py:156: FutureWarning: `base_estimator` was renamed to `estimator` in version 1.2 and will be removed in 1.4.\n",
      "  warnings.warn(\n"
     ]
    },
    {
     "name": "stdout",
     "output_type": "stream",
     "text": [
      "[CV 2/5; 62/81] END base_estimator__max_depth=3, base_estimator__min_samples_leaf=1, learning_rate=1, n_estimators=100;, score=0.922 total time=  17.4s\n",
      "[CV 3/5; 62/81] START base_estimator__max_depth=3, base_estimator__min_samples_leaf=1, learning_rate=1, n_estimators=100\n"
     ]
    },
    {
     "name": "stderr",
     "output_type": "stream",
     "text": [
      "/Users/vaishnavimocherla/anaconda3/lib/python3.11/site-packages/sklearn/ensemble/_base.py:156: FutureWarning: `base_estimator` was renamed to `estimator` in version 1.2 and will be removed in 1.4.\n",
      "  warnings.warn(\n"
     ]
    },
    {
     "name": "stdout",
     "output_type": "stream",
     "text": [
      "[CV 3/5; 62/81] END base_estimator__max_depth=3, base_estimator__min_samples_leaf=1, learning_rate=1, n_estimators=100;, score=0.919 total time=  17.2s\n",
      "[CV 4/5; 62/81] START base_estimator__max_depth=3, base_estimator__min_samples_leaf=1, learning_rate=1, n_estimators=100\n"
     ]
    },
    {
     "name": "stderr",
     "output_type": "stream",
     "text": [
      "/Users/vaishnavimocherla/anaconda3/lib/python3.11/site-packages/sklearn/ensemble/_base.py:156: FutureWarning: `base_estimator` was renamed to `estimator` in version 1.2 and will be removed in 1.4.\n",
      "  warnings.warn(\n"
     ]
    },
    {
     "name": "stdout",
     "output_type": "stream",
     "text": [
      "[CV 4/5; 62/81] END base_estimator__max_depth=3, base_estimator__min_samples_leaf=1, learning_rate=1, n_estimators=100;, score=0.918 total time=  16.5s\n",
      "[CV 5/5; 62/81] START base_estimator__max_depth=3, base_estimator__min_samples_leaf=1, learning_rate=1, n_estimators=100\n"
     ]
    },
    {
     "name": "stderr",
     "output_type": "stream",
     "text": [
      "/Users/vaishnavimocherla/anaconda3/lib/python3.11/site-packages/sklearn/ensemble/_base.py:156: FutureWarning: `base_estimator` was renamed to `estimator` in version 1.2 and will be removed in 1.4.\n",
      "  warnings.warn(\n"
     ]
    },
    {
     "name": "stdout",
     "output_type": "stream",
     "text": [
      "[CV 5/5; 62/81] END base_estimator__max_depth=3, base_estimator__min_samples_leaf=1, learning_rate=1, n_estimators=100;, score=0.919 total time=  16.2s\n",
      "[CV 1/5; 63/81] START base_estimator__max_depth=3, base_estimator__min_samples_leaf=1, learning_rate=1, n_estimators=200\n"
     ]
    },
    {
     "name": "stderr",
     "output_type": "stream",
     "text": [
      "/Users/vaishnavimocherla/anaconda3/lib/python3.11/site-packages/sklearn/ensemble/_base.py:156: FutureWarning: `base_estimator` was renamed to `estimator` in version 1.2 and will be removed in 1.4.\n",
      "  warnings.warn(\n"
     ]
    },
    {
     "name": "stdout",
     "output_type": "stream",
     "text": [
      "[CV 1/5; 63/81] END base_estimator__max_depth=3, base_estimator__min_samples_leaf=1, learning_rate=1, n_estimators=200;, score=0.918 total time=  30.5s\n",
      "[CV 2/5; 63/81] START base_estimator__max_depth=3, base_estimator__min_samples_leaf=1, learning_rate=1, n_estimators=200\n"
     ]
    },
    {
     "name": "stderr",
     "output_type": "stream",
     "text": [
      "/Users/vaishnavimocherla/anaconda3/lib/python3.11/site-packages/sklearn/ensemble/_base.py:156: FutureWarning: `base_estimator` was renamed to `estimator` in version 1.2 and will be removed in 1.4.\n",
      "  warnings.warn(\n"
     ]
    },
    {
     "name": "stdout",
     "output_type": "stream",
     "text": [
      "[CV 2/5; 63/81] END base_estimator__max_depth=3, base_estimator__min_samples_leaf=1, learning_rate=1, n_estimators=200;, score=0.921 total time=  30.6s\n",
      "[CV 3/5; 63/81] START base_estimator__max_depth=3, base_estimator__min_samples_leaf=1, learning_rate=1, n_estimators=200\n"
     ]
    },
    {
     "name": "stderr",
     "output_type": "stream",
     "text": [
      "/Users/vaishnavimocherla/anaconda3/lib/python3.11/site-packages/sklearn/ensemble/_base.py:156: FutureWarning: `base_estimator` was renamed to `estimator` in version 1.2 and will be removed in 1.4.\n",
      "  warnings.warn(\n"
     ]
    },
    {
     "name": "stdout",
     "output_type": "stream",
     "text": [
      "[CV 3/5; 63/81] END base_estimator__max_depth=3, base_estimator__min_samples_leaf=1, learning_rate=1, n_estimators=200;, score=0.917 total time=  30.6s\n",
      "[CV 4/5; 63/81] START base_estimator__max_depth=3, base_estimator__min_samples_leaf=1, learning_rate=1, n_estimators=200\n"
     ]
    },
    {
     "name": "stderr",
     "output_type": "stream",
     "text": [
      "/Users/vaishnavimocherla/anaconda3/lib/python3.11/site-packages/sklearn/ensemble/_base.py:156: FutureWarning: `base_estimator` was renamed to `estimator` in version 1.2 and will be removed in 1.4.\n",
      "  warnings.warn(\n"
     ]
    },
    {
     "name": "stdout",
     "output_type": "stream",
     "text": [
      "[CV 4/5; 63/81] END base_estimator__max_depth=3, base_estimator__min_samples_leaf=1, learning_rate=1, n_estimators=200;, score=0.917 total time=  30.6s\n",
      "[CV 5/5; 63/81] START base_estimator__max_depth=3, base_estimator__min_samples_leaf=1, learning_rate=1, n_estimators=200\n"
     ]
    },
    {
     "name": "stderr",
     "output_type": "stream",
     "text": [
      "/Users/vaishnavimocherla/anaconda3/lib/python3.11/site-packages/sklearn/ensemble/_base.py:156: FutureWarning: `base_estimator` was renamed to `estimator` in version 1.2 and will be removed in 1.4.\n",
      "  warnings.warn(\n"
     ]
    },
    {
     "name": "stdout",
     "output_type": "stream",
     "text": [
      "[CV 5/5; 63/81] END base_estimator__max_depth=3, base_estimator__min_samples_leaf=1, learning_rate=1, n_estimators=200;, score=0.917 total time=  30.9s\n",
      "[CV 1/5; 64/81] START base_estimator__max_depth=3, base_estimator__min_samples_leaf=2, learning_rate=0.01, n_estimators=50\n"
     ]
    },
    {
     "name": "stderr",
     "output_type": "stream",
     "text": [
      "/Users/vaishnavimocherla/anaconda3/lib/python3.11/site-packages/sklearn/ensemble/_base.py:156: FutureWarning: `base_estimator` was renamed to `estimator` in version 1.2 and will be removed in 1.4.\n",
      "  warnings.warn(\n"
     ]
    },
    {
     "name": "stdout",
     "output_type": "stream",
     "text": [
      "[CV 1/5; 64/81] END base_estimator__max_depth=3, base_estimator__min_samples_leaf=2, learning_rate=0.01, n_estimators=50;, score=0.916 total time=   7.8s\n",
      "[CV 2/5; 64/81] START base_estimator__max_depth=3, base_estimator__min_samples_leaf=2, learning_rate=0.01, n_estimators=50\n"
     ]
    },
    {
     "name": "stderr",
     "output_type": "stream",
     "text": [
      "/Users/vaishnavimocherla/anaconda3/lib/python3.11/site-packages/sklearn/ensemble/_base.py:156: FutureWarning: `base_estimator` was renamed to `estimator` in version 1.2 and will be removed in 1.4.\n",
      "  warnings.warn(\n"
     ]
    },
    {
     "name": "stdout",
     "output_type": "stream",
     "text": [
      "[CV 2/5; 64/81] END base_estimator__max_depth=3, base_estimator__min_samples_leaf=2, learning_rate=0.01, n_estimators=50;, score=0.917 total time=   7.8s\n",
      "[CV 3/5; 64/81] START base_estimator__max_depth=3, base_estimator__min_samples_leaf=2, learning_rate=0.01, n_estimators=50\n"
     ]
    },
    {
     "name": "stderr",
     "output_type": "stream",
     "text": [
      "/Users/vaishnavimocherla/anaconda3/lib/python3.11/site-packages/sklearn/ensemble/_base.py:156: FutureWarning: `base_estimator` was renamed to `estimator` in version 1.2 and will be removed in 1.4.\n",
      "  warnings.warn(\n"
     ]
    },
    {
     "name": "stdout",
     "output_type": "stream",
     "text": [
      "[CV 3/5; 64/81] END base_estimator__max_depth=3, base_estimator__min_samples_leaf=2, learning_rate=0.01, n_estimators=50;, score=0.917 total time=   7.7s\n",
      "[CV 4/5; 64/81] START base_estimator__max_depth=3, base_estimator__min_samples_leaf=2, learning_rate=0.01, n_estimators=50\n"
     ]
    },
    {
     "name": "stderr",
     "output_type": "stream",
     "text": [
      "/Users/vaishnavimocherla/anaconda3/lib/python3.11/site-packages/sklearn/ensemble/_base.py:156: FutureWarning: `base_estimator` was renamed to `estimator` in version 1.2 and will be removed in 1.4.\n",
      "  warnings.warn(\n"
     ]
    },
    {
     "name": "stdout",
     "output_type": "stream",
     "text": [
      "[CV 4/5; 64/81] END base_estimator__max_depth=3, base_estimator__min_samples_leaf=2, learning_rate=0.01, n_estimators=50;, score=0.915 total time=   7.8s\n",
      "[CV 5/5; 64/81] START base_estimator__max_depth=3, base_estimator__min_samples_leaf=2, learning_rate=0.01, n_estimators=50\n"
     ]
    },
    {
     "name": "stderr",
     "output_type": "stream",
     "text": [
      "/Users/vaishnavimocherla/anaconda3/lib/python3.11/site-packages/sklearn/ensemble/_base.py:156: FutureWarning: `base_estimator` was renamed to `estimator` in version 1.2 and will be removed in 1.4.\n",
      "  warnings.warn(\n"
     ]
    },
    {
     "name": "stdout",
     "output_type": "stream",
     "text": [
      "[CV 5/5; 64/81] END base_estimator__max_depth=3, base_estimator__min_samples_leaf=2, learning_rate=0.01, n_estimators=50;, score=0.916 total time=   7.9s\n",
      "[CV 1/5; 65/81] START base_estimator__max_depth=3, base_estimator__min_samples_leaf=2, learning_rate=0.01, n_estimators=100\n"
     ]
    },
    {
     "name": "stderr",
     "output_type": "stream",
     "text": [
      "/Users/vaishnavimocherla/anaconda3/lib/python3.11/site-packages/sklearn/ensemble/_base.py:156: FutureWarning: `base_estimator` was renamed to `estimator` in version 1.2 and will be removed in 1.4.\n",
      "  warnings.warn(\n"
     ]
    },
    {
     "name": "stdout",
     "output_type": "stream",
     "text": [
      "[CV 1/5; 65/81] END base_estimator__max_depth=3, base_estimator__min_samples_leaf=2, learning_rate=0.01, n_estimators=100;, score=0.918 total time=  15.7s\n",
      "[CV 2/5; 65/81] START base_estimator__max_depth=3, base_estimator__min_samples_leaf=2, learning_rate=0.01, n_estimators=100\n"
     ]
    },
    {
     "name": "stderr",
     "output_type": "stream",
     "text": [
      "/Users/vaishnavimocherla/anaconda3/lib/python3.11/site-packages/sklearn/ensemble/_base.py:156: FutureWarning: `base_estimator` was renamed to `estimator` in version 1.2 and will be removed in 1.4.\n",
      "  warnings.warn(\n"
     ]
    },
    {
     "name": "stdout",
     "output_type": "stream",
     "text": [
      "[CV 2/5; 65/81] END base_estimator__max_depth=3, base_estimator__min_samples_leaf=2, learning_rate=0.01, n_estimators=100;, score=0.919 total time=  15.7s\n",
      "[CV 3/5; 65/81] START base_estimator__max_depth=3, base_estimator__min_samples_leaf=2, learning_rate=0.01, n_estimators=100\n"
     ]
    },
    {
     "name": "stderr",
     "output_type": "stream",
     "text": [
      "/Users/vaishnavimocherla/anaconda3/lib/python3.11/site-packages/sklearn/ensemble/_base.py:156: FutureWarning: `base_estimator` was renamed to `estimator` in version 1.2 and will be removed in 1.4.\n",
      "  warnings.warn(\n"
     ]
    },
    {
     "name": "stdout",
     "output_type": "stream",
     "text": [
      "[CV 3/5; 65/81] END base_estimator__max_depth=3, base_estimator__min_samples_leaf=2, learning_rate=0.01, n_estimators=100;, score=0.917 total time=  16.3s\n",
      "[CV 4/5; 65/81] START base_estimator__max_depth=3, base_estimator__min_samples_leaf=2, learning_rate=0.01, n_estimators=100\n"
     ]
    },
    {
     "name": "stderr",
     "output_type": "stream",
     "text": [
      "/Users/vaishnavimocherla/anaconda3/lib/python3.11/site-packages/sklearn/ensemble/_base.py:156: FutureWarning: `base_estimator` was renamed to `estimator` in version 1.2 and will be removed in 1.4.\n",
      "  warnings.warn(\n"
     ]
    },
    {
     "name": "stdout",
     "output_type": "stream",
     "text": [
      "[CV 4/5; 65/81] END base_estimator__max_depth=3, base_estimator__min_samples_leaf=2, learning_rate=0.01, n_estimators=100;, score=0.916 total time=  15.9s\n",
      "[CV 5/5; 65/81] START base_estimator__max_depth=3, base_estimator__min_samples_leaf=2, learning_rate=0.01, n_estimators=100\n"
     ]
    },
    {
     "name": "stderr",
     "output_type": "stream",
     "text": [
      "/Users/vaishnavimocherla/anaconda3/lib/python3.11/site-packages/sklearn/ensemble/_base.py:156: FutureWarning: `base_estimator` was renamed to `estimator` in version 1.2 and will be removed in 1.4.\n",
      "  warnings.warn(\n"
     ]
    },
    {
     "name": "stdout",
     "output_type": "stream",
     "text": [
      "[CV 5/5; 65/81] END base_estimator__max_depth=3, base_estimator__min_samples_leaf=2, learning_rate=0.01, n_estimators=100;, score=0.917 total time=  16.8s\n",
      "[CV 1/5; 66/81] START base_estimator__max_depth=3, base_estimator__min_samples_leaf=2, learning_rate=0.01, n_estimators=200\n"
     ]
    },
    {
     "name": "stderr",
     "output_type": "stream",
     "text": [
      "/Users/vaishnavimocherla/anaconda3/lib/python3.11/site-packages/sklearn/ensemble/_base.py:156: FutureWarning: `base_estimator` was renamed to `estimator` in version 1.2 and will be removed in 1.4.\n",
      "  warnings.warn(\n"
     ]
    },
    {
     "name": "stdout",
     "output_type": "stream",
     "text": [
      "[CV 1/5; 66/81] END base_estimator__max_depth=3, base_estimator__min_samples_leaf=2, learning_rate=0.01, n_estimators=200;, score=0.918 total time=  31.1s\n",
      "[CV 2/5; 66/81] START base_estimator__max_depth=3, base_estimator__min_samples_leaf=2, learning_rate=0.01, n_estimators=200\n"
     ]
    },
    {
     "name": "stderr",
     "output_type": "stream",
     "text": [
      "/Users/vaishnavimocherla/anaconda3/lib/python3.11/site-packages/sklearn/ensemble/_base.py:156: FutureWarning: `base_estimator` was renamed to `estimator` in version 1.2 and will be removed in 1.4.\n",
      "  warnings.warn(\n"
     ]
    },
    {
     "name": "stdout",
     "output_type": "stream",
     "text": [
      "[CV 2/5; 66/81] END base_estimator__max_depth=3, base_estimator__min_samples_leaf=2, learning_rate=0.01, n_estimators=200;, score=0.919 total time=  31.7s\n",
      "[CV 3/5; 66/81] START base_estimator__max_depth=3, base_estimator__min_samples_leaf=2, learning_rate=0.01, n_estimators=200\n"
     ]
    },
    {
     "name": "stderr",
     "output_type": "stream",
     "text": [
      "/Users/vaishnavimocherla/anaconda3/lib/python3.11/site-packages/sklearn/ensemble/_base.py:156: FutureWarning: `base_estimator` was renamed to `estimator` in version 1.2 and will be removed in 1.4.\n",
      "  warnings.warn(\n"
     ]
    },
    {
     "name": "stdout",
     "output_type": "stream",
     "text": [
      "[CV 3/5; 66/81] END base_estimator__max_depth=3, base_estimator__min_samples_leaf=2, learning_rate=0.01, n_estimators=200;, score=0.918 total time=  31.4s\n",
      "[CV 4/5; 66/81] START base_estimator__max_depth=3, base_estimator__min_samples_leaf=2, learning_rate=0.01, n_estimators=200\n"
     ]
    },
    {
     "name": "stderr",
     "output_type": "stream",
     "text": [
      "/Users/vaishnavimocherla/anaconda3/lib/python3.11/site-packages/sklearn/ensemble/_base.py:156: FutureWarning: `base_estimator` was renamed to `estimator` in version 1.2 and will be removed in 1.4.\n",
      "  warnings.warn(\n"
     ]
    },
    {
     "name": "stdout",
     "output_type": "stream",
     "text": [
      "[CV 4/5; 66/81] END base_estimator__max_depth=3, base_estimator__min_samples_leaf=2, learning_rate=0.01, n_estimators=200;, score=0.917 total time=  31.3s\n",
      "[CV 5/5; 66/81] START base_estimator__max_depth=3, base_estimator__min_samples_leaf=2, learning_rate=0.01, n_estimators=200\n"
     ]
    },
    {
     "name": "stderr",
     "output_type": "stream",
     "text": [
      "/Users/vaishnavimocherla/anaconda3/lib/python3.11/site-packages/sklearn/ensemble/_base.py:156: FutureWarning: `base_estimator` was renamed to `estimator` in version 1.2 and will be removed in 1.4.\n",
      "  warnings.warn(\n"
     ]
    },
    {
     "name": "stdout",
     "output_type": "stream",
     "text": [
      "[CV 5/5; 66/81] END base_estimator__max_depth=3, base_estimator__min_samples_leaf=2, learning_rate=0.01, n_estimators=200;, score=0.918 total time=  31.3s\n",
      "[CV 1/5; 67/81] START base_estimator__max_depth=3, base_estimator__min_samples_leaf=2, learning_rate=0.1, n_estimators=50\n"
     ]
    },
    {
     "name": "stderr",
     "output_type": "stream",
     "text": [
      "/Users/vaishnavimocherla/anaconda3/lib/python3.11/site-packages/sklearn/ensemble/_base.py:156: FutureWarning: `base_estimator` was renamed to `estimator` in version 1.2 and will be removed in 1.4.\n",
      "  warnings.warn(\n"
     ]
    },
    {
     "name": "stdout",
     "output_type": "stream",
     "text": [
      "[CV 1/5; 67/81] END base_estimator__max_depth=3, base_estimator__min_samples_leaf=2, learning_rate=0.1, n_estimators=50;, score=0.919 total time=   7.8s\n",
      "[CV 2/5; 67/81] START base_estimator__max_depth=3, base_estimator__min_samples_leaf=2, learning_rate=0.1, n_estimators=50\n"
     ]
    },
    {
     "name": "stderr",
     "output_type": "stream",
     "text": [
      "/Users/vaishnavimocherla/anaconda3/lib/python3.11/site-packages/sklearn/ensemble/_base.py:156: FutureWarning: `base_estimator` was renamed to `estimator` in version 1.2 and will be removed in 1.4.\n",
      "  warnings.warn(\n"
     ]
    },
    {
     "name": "stdout",
     "output_type": "stream",
     "text": [
      "[CV 2/5; 67/81] END base_estimator__max_depth=3, base_estimator__min_samples_leaf=2, learning_rate=0.1, n_estimators=50;, score=0.921 total time=   7.9s\n",
      "[CV 3/5; 67/81] START base_estimator__max_depth=3, base_estimator__min_samples_leaf=2, learning_rate=0.1, n_estimators=50\n"
     ]
    },
    {
     "name": "stderr",
     "output_type": "stream",
     "text": [
      "/Users/vaishnavimocherla/anaconda3/lib/python3.11/site-packages/sklearn/ensemble/_base.py:156: FutureWarning: `base_estimator` was renamed to `estimator` in version 1.2 and will be removed in 1.4.\n",
      "  warnings.warn(\n"
     ]
    },
    {
     "name": "stdout",
     "output_type": "stream",
     "text": [
      "[CV 3/5; 67/81] END base_estimator__max_depth=3, base_estimator__min_samples_leaf=2, learning_rate=0.1, n_estimators=50;, score=0.918 total time=   7.7s\n",
      "[CV 4/5; 67/81] START base_estimator__max_depth=3, base_estimator__min_samples_leaf=2, learning_rate=0.1, n_estimators=50\n"
     ]
    },
    {
     "name": "stderr",
     "output_type": "stream",
     "text": [
      "/Users/vaishnavimocherla/anaconda3/lib/python3.11/site-packages/sklearn/ensemble/_base.py:156: FutureWarning: `base_estimator` was renamed to `estimator` in version 1.2 and will be removed in 1.4.\n",
      "  warnings.warn(\n"
     ]
    },
    {
     "name": "stdout",
     "output_type": "stream",
     "text": [
      "[CV 4/5; 67/81] END base_estimator__max_depth=3, base_estimator__min_samples_leaf=2, learning_rate=0.1, n_estimators=50;, score=0.918 total time=   7.9s\n",
      "[CV 5/5; 67/81] START base_estimator__max_depth=3, base_estimator__min_samples_leaf=2, learning_rate=0.1, n_estimators=50\n"
     ]
    },
    {
     "name": "stderr",
     "output_type": "stream",
     "text": [
      "/Users/vaishnavimocherla/anaconda3/lib/python3.11/site-packages/sklearn/ensemble/_base.py:156: FutureWarning: `base_estimator` was renamed to `estimator` in version 1.2 and will be removed in 1.4.\n",
      "  warnings.warn(\n"
     ]
    },
    {
     "name": "stdout",
     "output_type": "stream",
     "text": [
      "[CV 5/5; 67/81] END base_estimator__max_depth=3, base_estimator__min_samples_leaf=2, learning_rate=0.1, n_estimators=50;, score=0.918 total time=   7.8s\n",
      "[CV 1/5; 68/81] START base_estimator__max_depth=3, base_estimator__min_samples_leaf=2, learning_rate=0.1, n_estimators=100\n"
     ]
    },
    {
     "name": "stderr",
     "output_type": "stream",
     "text": [
      "/Users/vaishnavimocherla/anaconda3/lib/python3.11/site-packages/sklearn/ensemble/_base.py:156: FutureWarning: `base_estimator` was renamed to `estimator` in version 1.2 and will be removed in 1.4.\n",
      "  warnings.warn(\n"
     ]
    },
    {
     "name": "stdout",
     "output_type": "stream",
     "text": [
      "[CV 1/5; 68/81] END base_estimator__max_depth=3, base_estimator__min_samples_leaf=2, learning_rate=0.1, n_estimators=100;, score=0.921 total time=  15.5s\n",
      "[CV 2/5; 68/81] START base_estimator__max_depth=3, base_estimator__min_samples_leaf=2, learning_rate=0.1, n_estimators=100\n"
     ]
    },
    {
     "name": "stderr",
     "output_type": "stream",
     "text": [
      "/Users/vaishnavimocherla/anaconda3/lib/python3.11/site-packages/sklearn/ensemble/_base.py:156: FutureWarning: `base_estimator` was renamed to `estimator` in version 1.2 and will be removed in 1.4.\n",
      "  warnings.warn(\n"
     ]
    },
    {
     "name": "stdout",
     "output_type": "stream",
     "text": [
      "[CV 2/5; 68/81] END base_estimator__max_depth=3, base_estimator__min_samples_leaf=2, learning_rate=0.1, n_estimators=100;, score=0.922 total time=  15.6s\n",
      "[CV 3/5; 68/81] START base_estimator__max_depth=3, base_estimator__min_samples_leaf=2, learning_rate=0.1, n_estimators=100\n"
     ]
    },
    {
     "name": "stderr",
     "output_type": "stream",
     "text": [
      "/Users/vaishnavimocherla/anaconda3/lib/python3.11/site-packages/sklearn/ensemble/_base.py:156: FutureWarning: `base_estimator` was renamed to `estimator` in version 1.2 and will be removed in 1.4.\n",
      "  warnings.warn(\n"
     ]
    },
    {
     "name": "stdout",
     "output_type": "stream",
     "text": [
      "[CV 3/5; 68/81] END base_estimator__max_depth=3, base_estimator__min_samples_leaf=2, learning_rate=0.1, n_estimators=100;, score=0.919 total time=  15.3s\n",
      "[CV 4/5; 68/81] START base_estimator__max_depth=3, base_estimator__min_samples_leaf=2, learning_rate=0.1, n_estimators=100\n"
     ]
    },
    {
     "name": "stderr",
     "output_type": "stream",
     "text": [
      "/Users/vaishnavimocherla/anaconda3/lib/python3.11/site-packages/sklearn/ensemble/_base.py:156: FutureWarning: `base_estimator` was renamed to `estimator` in version 1.2 and will be removed in 1.4.\n",
      "  warnings.warn(\n"
     ]
    },
    {
     "name": "stdout",
     "output_type": "stream",
     "text": [
      "[CV 4/5; 68/81] END base_estimator__max_depth=3, base_estimator__min_samples_leaf=2, learning_rate=0.1, n_estimators=100;, score=0.918 total time=  15.3s\n",
      "[CV 5/5; 68/81] START base_estimator__max_depth=3, base_estimator__min_samples_leaf=2, learning_rate=0.1, n_estimators=100\n"
     ]
    },
    {
     "name": "stderr",
     "output_type": "stream",
     "text": [
      "/Users/vaishnavimocherla/anaconda3/lib/python3.11/site-packages/sklearn/ensemble/_base.py:156: FutureWarning: `base_estimator` was renamed to `estimator` in version 1.2 and will be removed in 1.4.\n",
      "  warnings.warn(\n"
     ]
    },
    {
     "name": "stdout",
     "output_type": "stream",
     "text": [
      "[CV 5/5; 68/81] END base_estimator__max_depth=3, base_estimator__min_samples_leaf=2, learning_rate=0.1, n_estimators=100;, score=0.919 total time=  15.2s\n",
      "[CV 1/5; 69/81] START base_estimator__max_depth=3, base_estimator__min_samples_leaf=2, learning_rate=0.1, n_estimators=200\n"
     ]
    },
    {
     "name": "stderr",
     "output_type": "stream",
     "text": [
      "/Users/vaishnavimocherla/anaconda3/lib/python3.11/site-packages/sklearn/ensemble/_base.py:156: FutureWarning: `base_estimator` was renamed to `estimator` in version 1.2 and will be removed in 1.4.\n",
      "  warnings.warn(\n"
     ]
    },
    {
     "name": "stdout",
     "output_type": "stream",
     "text": [
      "[CV 1/5; 69/81] END base_estimator__max_depth=3, base_estimator__min_samples_leaf=2, learning_rate=0.1, n_estimators=200;, score=0.921 total time=  30.8s\n",
      "[CV 2/5; 69/81] START base_estimator__max_depth=3, base_estimator__min_samples_leaf=2, learning_rate=0.1, n_estimators=200\n"
     ]
    },
    {
     "name": "stderr",
     "output_type": "stream",
     "text": [
      "/Users/vaishnavimocherla/anaconda3/lib/python3.11/site-packages/sklearn/ensemble/_base.py:156: FutureWarning: `base_estimator` was renamed to `estimator` in version 1.2 and will be removed in 1.4.\n",
      "  warnings.warn(\n"
     ]
    },
    {
     "name": "stdout",
     "output_type": "stream",
     "text": [
      "[CV 2/5; 69/81] END base_estimator__max_depth=3, base_estimator__min_samples_leaf=2, learning_rate=0.1, n_estimators=200;, score=0.922 total time=  30.8s\n",
      "[CV 3/5; 69/81] START base_estimator__max_depth=3, base_estimator__min_samples_leaf=2, learning_rate=0.1, n_estimators=200\n"
     ]
    },
    {
     "name": "stderr",
     "output_type": "stream",
     "text": [
      "/Users/vaishnavimocherla/anaconda3/lib/python3.11/site-packages/sklearn/ensemble/_base.py:156: FutureWarning: `base_estimator` was renamed to `estimator` in version 1.2 and will be removed in 1.4.\n",
      "  warnings.warn(\n"
     ]
    },
    {
     "name": "stdout",
     "output_type": "stream",
     "text": [
      "[CV 3/5; 69/81] END base_estimator__max_depth=3, base_estimator__min_samples_leaf=2, learning_rate=0.1, n_estimators=200;, score=0.920 total time=  31.0s\n",
      "[CV 4/5; 69/81] START base_estimator__max_depth=3, base_estimator__min_samples_leaf=2, learning_rate=0.1, n_estimators=200\n"
     ]
    },
    {
     "name": "stderr",
     "output_type": "stream",
     "text": [
      "/Users/vaishnavimocherla/anaconda3/lib/python3.11/site-packages/sklearn/ensemble/_base.py:156: FutureWarning: `base_estimator` was renamed to `estimator` in version 1.2 and will be removed in 1.4.\n",
      "  warnings.warn(\n"
     ]
    },
    {
     "name": "stdout",
     "output_type": "stream",
     "text": [
      "[CV 4/5; 69/81] END base_estimator__max_depth=3, base_estimator__min_samples_leaf=2, learning_rate=0.1, n_estimators=200;, score=0.919 total time=  30.7s\n",
      "[CV 5/5; 69/81] START base_estimator__max_depth=3, base_estimator__min_samples_leaf=2, learning_rate=0.1, n_estimators=200\n"
     ]
    },
    {
     "name": "stderr",
     "output_type": "stream",
     "text": [
      "/Users/vaishnavimocherla/anaconda3/lib/python3.11/site-packages/sklearn/ensemble/_base.py:156: FutureWarning: `base_estimator` was renamed to `estimator` in version 1.2 and will be removed in 1.4.\n",
      "  warnings.warn(\n"
     ]
    },
    {
     "name": "stdout",
     "output_type": "stream",
     "text": [
      "[CV 5/5; 69/81] END base_estimator__max_depth=3, base_estimator__min_samples_leaf=2, learning_rate=0.1, n_estimators=200;, score=0.919 total time=  31.0s\n",
      "[CV 1/5; 70/81] START base_estimator__max_depth=3, base_estimator__min_samples_leaf=2, learning_rate=1, n_estimators=50\n"
     ]
    },
    {
     "name": "stderr",
     "output_type": "stream",
     "text": [
      "/Users/vaishnavimocherla/anaconda3/lib/python3.11/site-packages/sklearn/ensemble/_base.py:156: FutureWarning: `base_estimator` was renamed to `estimator` in version 1.2 and will be removed in 1.4.\n",
      "  warnings.warn(\n"
     ]
    },
    {
     "name": "stdout",
     "output_type": "stream",
     "text": [
      "[CV 1/5; 70/81] END base_estimator__max_depth=3, base_estimator__min_samples_leaf=2, learning_rate=1, n_estimators=50;, score=0.920 total time=   7.6s\n",
      "[CV 2/5; 70/81] START base_estimator__max_depth=3, base_estimator__min_samples_leaf=2, learning_rate=1, n_estimators=50\n"
     ]
    },
    {
     "name": "stderr",
     "output_type": "stream",
     "text": [
      "/Users/vaishnavimocherla/anaconda3/lib/python3.11/site-packages/sklearn/ensemble/_base.py:156: FutureWarning: `base_estimator` was renamed to `estimator` in version 1.2 and will be removed in 1.4.\n",
      "  warnings.warn(\n"
     ]
    },
    {
     "name": "stdout",
     "output_type": "stream",
     "text": [
      "[CV 2/5; 70/81] END base_estimator__max_depth=3, base_estimator__min_samples_leaf=2, learning_rate=1, n_estimators=50;, score=0.921 total time=   7.6s\n",
      "[CV 3/5; 70/81] START base_estimator__max_depth=3, base_estimator__min_samples_leaf=2, learning_rate=1, n_estimators=50\n"
     ]
    },
    {
     "name": "stderr",
     "output_type": "stream",
     "text": [
      "/Users/vaishnavimocherla/anaconda3/lib/python3.11/site-packages/sklearn/ensemble/_base.py:156: FutureWarning: `base_estimator` was renamed to `estimator` in version 1.2 and will be removed in 1.4.\n",
      "  warnings.warn(\n"
     ]
    },
    {
     "name": "stdout",
     "output_type": "stream",
     "text": [
      "[CV 3/5; 70/81] END base_estimator__max_depth=3, base_estimator__min_samples_leaf=2, learning_rate=1, n_estimators=50;, score=0.920 total time=   7.8s\n",
      "[CV 4/5; 70/81] START base_estimator__max_depth=3, base_estimator__min_samples_leaf=2, learning_rate=1, n_estimators=50\n"
     ]
    },
    {
     "name": "stderr",
     "output_type": "stream",
     "text": [
      "/Users/vaishnavimocherla/anaconda3/lib/python3.11/site-packages/sklearn/ensemble/_base.py:156: FutureWarning: `base_estimator` was renamed to `estimator` in version 1.2 and will be removed in 1.4.\n",
      "  warnings.warn(\n"
     ]
    },
    {
     "name": "stdout",
     "output_type": "stream",
     "text": [
      "[CV 4/5; 70/81] END base_estimator__max_depth=3, base_estimator__min_samples_leaf=2, learning_rate=1, n_estimators=50;, score=0.919 total time=   7.8s\n",
      "[CV 5/5; 70/81] START base_estimator__max_depth=3, base_estimator__min_samples_leaf=2, learning_rate=1, n_estimators=50\n"
     ]
    },
    {
     "name": "stderr",
     "output_type": "stream",
     "text": [
      "/Users/vaishnavimocherla/anaconda3/lib/python3.11/site-packages/sklearn/ensemble/_base.py:156: FutureWarning: `base_estimator` was renamed to `estimator` in version 1.2 and will be removed in 1.4.\n",
      "  warnings.warn(\n"
     ]
    },
    {
     "name": "stdout",
     "output_type": "stream",
     "text": [
      "[CV 5/5; 70/81] END base_estimator__max_depth=3, base_estimator__min_samples_leaf=2, learning_rate=1, n_estimators=50;, score=0.918 total time=   7.6s\n",
      "[CV 1/5; 71/81] START base_estimator__max_depth=3, base_estimator__min_samples_leaf=2, learning_rate=1, n_estimators=100\n"
     ]
    },
    {
     "name": "stderr",
     "output_type": "stream",
     "text": [
      "/Users/vaishnavimocherla/anaconda3/lib/python3.11/site-packages/sklearn/ensemble/_base.py:156: FutureWarning: `base_estimator` was renamed to `estimator` in version 1.2 and will be removed in 1.4.\n",
      "  warnings.warn(\n"
     ]
    },
    {
     "name": "stdout",
     "output_type": "stream",
     "text": [
      "[CV 1/5; 71/81] END base_estimator__max_depth=3, base_estimator__min_samples_leaf=2, learning_rate=1, n_estimators=100;, score=0.920 total time=  15.5s\n",
      "[CV 2/5; 71/81] START base_estimator__max_depth=3, base_estimator__min_samples_leaf=2, learning_rate=1, n_estimators=100\n"
     ]
    },
    {
     "name": "stderr",
     "output_type": "stream",
     "text": [
      "/Users/vaishnavimocherla/anaconda3/lib/python3.11/site-packages/sklearn/ensemble/_base.py:156: FutureWarning: `base_estimator` was renamed to `estimator` in version 1.2 and will be removed in 1.4.\n",
      "  warnings.warn(\n"
     ]
    },
    {
     "name": "stdout",
     "output_type": "stream",
     "text": [
      "[CV 2/5; 71/81] END base_estimator__max_depth=3, base_estimator__min_samples_leaf=2, learning_rate=1, n_estimators=100;, score=0.922 total time=  15.6s\n",
      "[CV 3/5; 71/81] START base_estimator__max_depth=3, base_estimator__min_samples_leaf=2, learning_rate=1, n_estimators=100\n"
     ]
    },
    {
     "name": "stderr",
     "output_type": "stream",
     "text": [
      "/Users/vaishnavimocherla/anaconda3/lib/python3.11/site-packages/sklearn/ensemble/_base.py:156: FutureWarning: `base_estimator` was renamed to `estimator` in version 1.2 and will be removed in 1.4.\n",
      "  warnings.warn(\n"
     ]
    },
    {
     "name": "stdout",
     "output_type": "stream",
     "text": [
      "[CV 3/5; 71/81] END base_estimator__max_depth=3, base_estimator__min_samples_leaf=2, learning_rate=1, n_estimators=100;, score=0.919 total time=  15.3s\n",
      "[CV 4/5; 71/81] START base_estimator__max_depth=3, base_estimator__min_samples_leaf=2, learning_rate=1, n_estimators=100\n"
     ]
    },
    {
     "name": "stderr",
     "output_type": "stream",
     "text": [
      "/Users/vaishnavimocherla/anaconda3/lib/python3.11/site-packages/sklearn/ensemble/_base.py:156: FutureWarning: `base_estimator` was renamed to `estimator` in version 1.2 and will be removed in 1.4.\n",
      "  warnings.warn(\n"
     ]
    },
    {
     "name": "stdout",
     "output_type": "stream",
     "text": [
      "[CV 4/5; 71/81] END base_estimator__max_depth=3, base_estimator__min_samples_leaf=2, learning_rate=1, n_estimators=100;, score=0.918 total time=  15.4s\n",
      "[CV 5/5; 71/81] START base_estimator__max_depth=3, base_estimator__min_samples_leaf=2, learning_rate=1, n_estimators=100\n"
     ]
    },
    {
     "name": "stderr",
     "output_type": "stream",
     "text": [
      "/Users/vaishnavimocherla/anaconda3/lib/python3.11/site-packages/sklearn/ensemble/_base.py:156: FutureWarning: `base_estimator` was renamed to `estimator` in version 1.2 and will be removed in 1.4.\n",
      "  warnings.warn(\n"
     ]
    },
    {
     "name": "stdout",
     "output_type": "stream",
     "text": [
      "[CV 5/5; 71/81] END base_estimator__max_depth=3, base_estimator__min_samples_leaf=2, learning_rate=1, n_estimators=100;, score=0.919 total time=  15.6s\n",
      "[CV 1/5; 72/81] START base_estimator__max_depth=3, base_estimator__min_samples_leaf=2, learning_rate=1, n_estimators=200\n"
     ]
    },
    {
     "name": "stderr",
     "output_type": "stream",
     "text": [
      "/Users/vaishnavimocherla/anaconda3/lib/python3.11/site-packages/sklearn/ensemble/_base.py:156: FutureWarning: `base_estimator` was renamed to `estimator` in version 1.2 and will be removed in 1.4.\n",
      "  warnings.warn(\n"
     ]
    },
    {
     "name": "stdout",
     "output_type": "stream",
     "text": [
      "[CV 1/5; 72/81] END base_estimator__max_depth=3, base_estimator__min_samples_leaf=2, learning_rate=1, n_estimators=200;, score=0.918 total time=  30.8s\n",
      "[CV 2/5; 72/81] START base_estimator__max_depth=3, base_estimator__min_samples_leaf=2, learning_rate=1, n_estimators=200\n"
     ]
    },
    {
     "name": "stderr",
     "output_type": "stream",
     "text": [
      "/Users/vaishnavimocherla/anaconda3/lib/python3.11/site-packages/sklearn/ensemble/_base.py:156: FutureWarning: `base_estimator` was renamed to `estimator` in version 1.2 and will be removed in 1.4.\n",
      "  warnings.warn(\n"
     ]
    },
    {
     "name": "stdout",
     "output_type": "stream",
     "text": [
      "[CV 2/5; 72/81] END base_estimator__max_depth=3, base_estimator__min_samples_leaf=2, learning_rate=1, n_estimators=200;, score=0.920 total time=  30.6s\n",
      "[CV 3/5; 72/81] START base_estimator__max_depth=3, base_estimator__min_samples_leaf=2, learning_rate=1, n_estimators=200\n"
     ]
    },
    {
     "name": "stderr",
     "output_type": "stream",
     "text": [
      "/Users/vaishnavimocherla/anaconda3/lib/python3.11/site-packages/sklearn/ensemble/_base.py:156: FutureWarning: `base_estimator` was renamed to `estimator` in version 1.2 and will be removed in 1.4.\n",
      "  warnings.warn(\n"
     ]
    },
    {
     "name": "stdout",
     "output_type": "stream",
     "text": [
      "[CV 3/5; 72/81] END base_estimator__max_depth=3, base_estimator__min_samples_leaf=2, learning_rate=1, n_estimators=200;, score=0.917 total time=  31.2s\n",
      "[CV 4/5; 72/81] START base_estimator__max_depth=3, base_estimator__min_samples_leaf=2, learning_rate=1, n_estimators=200\n"
     ]
    },
    {
     "name": "stderr",
     "output_type": "stream",
     "text": [
      "/Users/vaishnavimocherla/anaconda3/lib/python3.11/site-packages/sklearn/ensemble/_base.py:156: FutureWarning: `base_estimator` was renamed to `estimator` in version 1.2 and will be removed in 1.4.\n",
      "  warnings.warn(\n"
     ]
    },
    {
     "name": "stdout",
     "output_type": "stream",
     "text": [
      "[CV 4/5; 72/81] END base_estimator__max_depth=3, base_estimator__min_samples_leaf=2, learning_rate=1, n_estimators=200;, score=0.917 total time=  31.5s\n",
      "[CV 5/5; 72/81] START base_estimator__max_depth=3, base_estimator__min_samples_leaf=2, learning_rate=1, n_estimators=200\n"
     ]
    },
    {
     "name": "stderr",
     "output_type": "stream",
     "text": [
      "/Users/vaishnavimocherla/anaconda3/lib/python3.11/site-packages/sklearn/ensemble/_base.py:156: FutureWarning: `base_estimator` was renamed to `estimator` in version 1.2 and will be removed in 1.4.\n",
      "  warnings.warn(\n"
     ]
    },
    {
     "name": "stdout",
     "output_type": "stream",
     "text": [
      "[CV 5/5; 72/81] END base_estimator__max_depth=3, base_estimator__min_samples_leaf=2, learning_rate=1, n_estimators=200;, score=0.918 total time=  31.2s\n",
      "[CV 1/5; 73/81] START base_estimator__max_depth=3, base_estimator__min_samples_leaf=4, learning_rate=0.01, n_estimators=50\n"
     ]
    },
    {
     "name": "stderr",
     "output_type": "stream",
     "text": [
      "/Users/vaishnavimocherla/anaconda3/lib/python3.11/site-packages/sklearn/ensemble/_base.py:156: FutureWarning: `base_estimator` was renamed to `estimator` in version 1.2 and will be removed in 1.4.\n",
      "  warnings.warn(\n"
     ]
    },
    {
     "name": "stdout",
     "output_type": "stream",
     "text": [
      "[CV 1/5; 73/81] END base_estimator__max_depth=3, base_estimator__min_samples_leaf=4, learning_rate=0.01, n_estimators=50;, score=0.916 total time=   7.8s\n",
      "[CV 2/5; 73/81] START base_estimator__max_depth=3, base_estimator__min_samples_leaf=4, learning_rate=0.01, n_estimators=50\n"
     ]
    },
    {
     "name": "stderr",
     "output_type": "stream",
     "text": [
      "/Users/vaishnavimocherla/anaconda3/lib/python3.11/site-packages/sklearn/ensemble/_base.py:156: FutureWarning: `base_estimator` was renamed to `estimator` in version 1.2 and will be removed in 1.4.\n",
      "  warnings.warn(\n"
     ]
    },
    {
     "name": "stdout",
     "output_type": "stream",
     "text": [
      "[CV 2/5; 73/81] END base_estimator__max_depth=3, base_estimator__min_samples_leaf=4, learning_rate=0.01, n_estimators=50;, score=0.917 total time=   8.0s\n",
      "[CV 3/5; 73/81] START base_estimator__max_depth=3, base_estimator__min_samples_leaf=4, learning_rate=0.01, n_estimators=50\n"
     ]
    },
    {
     "name": "stderr",
     "output_type": "stream",
     "text": [
      "/Users/vaishnavimocherla/anaconda3/lib/python3.11/site-packages/sklearn/ensemble/_base.py:156: FutureWarning: `base_estimator` was renamed to `estimator` in version 1.2 and will be removed in 1.4.\n",
      "  warnings.warn(\n"
     ]
    },
    {
     "name": "stdout",
     "output_type": "stream",
     "text": [
      "[CV 3/5; 73/81] END base_estimator__max_depth=3, base_estimator__min_samples_leaf=4, learning_rate=0.01, n_estimators=50;, score=0.917 total time=   7.7s\n",
      "[CV 4/5; 73/81] START base_estimator__max_depth=3, base_estimator__min_samples_leaf=4, learning_rate=0.01, n_estimators=50\n"
     ]
    },
    {
     "name": "stderr",
     "output_type": "stream",
     "text": [
      "/Users/vaishnavimocherla/anaconda3/lib/python3.11/site-packages/sklearn/ensemble/_base.py:156: FutureWarning: `base_estimator` was renamed to `estimator` in version 1.2 and will be removed in 1.4.\n",
      "  warnings.warn(\n"
     ]
    },
    {
     "name": "stdout",
     "output_type": "stream",
     "text": [
      "[CV 4/5; 73/81] END base_estimator__max_depth=3, base_estimator__min_samples_leaf=4, learning_rate=0.01, n_estimators=50;, score=0.915 total time=   7.9s\n",
      "[CV 5/5; 73/81] START base_estimator__max_depth=3, base_estimator__min_samples_leaf=4, learning_rate=0.01, n_estimators=50\n"
     ]
    },
    {
     "name": "stderr",
     "output_type": "stream",
     "text": [
      "/Users/vaishnavimocherla/anaconda3/lib/python3.11/site-packages/sklearn/ensemble/_base.py:156: FutureWarning: `base_estimator` was renamed to `estimator` in version 1.2 and will be removed in 1.4.\n",
      "  warnings.warn(\n"
     ]
    },
    {
     "name": "stdout",
     "output_type": "stream",
     "text": [
      "[CV 5/5; 73/81] END base_estimator__max_depth=3, base_estimator__min_samples_leaf=4, learning_rate=0.01, n_estimators=50;, score=0.916 total time=   7.9s\n",
      "[CV 1/5; 74/81] START base_estimator__max_depth=3, base_estimator__min_samples_leaf=4, learning_rate=0.01, n_estimators=100\n"
     ]
    },
    {
     "name": "stderr",
     "output_type": "stream",
     "text": [
      "/Users/vaishnavimocherla/anaconda3/lib/python3.11/site-packages/sklearn/ensemble/_base.py:156: FutureWarning: `base_estimator` was renamed to `estimator` in version 1.2 and will be removed in 1.4.\n",
      "  warnings.warn(\n"
     ]
    },
    {
     "name": "stdout",
     "output_type": "stream",
     "text": [
      "[CV 1/5; 74/81] END base_estimator__max_depth=3, base_estimator__min_samples_leaf=4, learning_rate=0.01, n_estimators=100;, score=0.918 total time=  15.6s\n",
      "[CV 2/5; 74/81] START base_estimator__max_depth=3, base_estimator__min_samples_leaf=4, learning_rate=0.01, n_estimators=100\n"
     ]
    },
    {
     "name": "stderr",
     "output_type": "stream",
     "text": [
      "/Users/vaishnavimocherla/anaconda3/lib/python3.11/site-packages/sklearn/ensemble/_base.py:156: FutureWarning: `base_estimator` was renamed to `estimator` in version 1.2 and will be removed in 1.4.\n",
      "  warnings.warn(\n"
     ]
    },
    {
     "name": "stdout",
     "output_type": "stream",
     "text": [
      "[CV 2/5; 74/81] END base_estimator__max_depth=3, base_estimator__min_samples_leaf=4, learning_rate=0.01, n_estimators=100;, score=0.919 total time=  15.8s\n",
      "[CV 3/5; 74/81] START base_estimator__max_depth=3, base_estimator__min_samples_leaf=4, learning_rate=0.01, n_estimators=100\n"
     ]
    },
    {
     "name": "stderr",
     "output_type": "stream",
     "text": [
      "/Users/vaishnavimocherla/anaconda3/lib/python3.11/site-packages/sklearn/ensemble/_base.py:156: FutureWarning: `base_estimator` was renamed to `estimator` in version 1.2 and will be removed in 1.4.\n",
      "  warnings.warn(\n"
     ]
    },
    {
     "name": "stdout",
     "output_type": "stream",
     "text": [
      "[CV 3/5; 74/81] END base_estimator__max_depth=3, base_estimator__min_samples_leaf=4, learning_rate=0.01, n_estimators=100;, score=0.917 total time=  15.6s\n",
      "[CV 4/5; 74/81] START base_estimator__max_depth=3, base_estimator__min_samples_leaf=4, learning_rate=0.01, n_estimators=100\n"
     ]
    },
    {
     "name": "stderr",
     "output_type": "stream",
     "text": [
      "/Users/vaishnavimocherla/anaconda3/lib/python3.11/site-packages/sklearn/ensemble/_base.py:156: FutureWarning: `base_estimator` was renamed to `estimator` in version 1.2 and will be removed in 1.4.\n",
      "  warnings.warn(\n"
     ]
    },
    {
     "name": "stdout",
     "output_type": "stream",
     "text": [
      "[CV 4/5; 74/81] END base_estimator__max_depth=3, base_estimator__min_samples_leaf=4, learning_rate=0.01, n_estimators=100;, score=0.916 total time=  15.4s\n",
      "[CV 5/5; 74/81] START base_estimator__max_depth=3, base_estimator__min_samples_leaf=4, learning_rate=0.01, n_estimators=100\n"
     ]
    },
    {
     "name": "stderr",
     "output_type": "stream",
     "text": [
      "/Users/vaishnavimocherla/anaconda3/lib/python3.11/site-packages/sklearn/ensemble/_base.py:156: FutureWarning: `base_estimator` was renamed to `estimator` in version 1.2 and will be removed in 1.4.\n",
      "  warnings.warn(\n"
     ]
    },
    {
     "name": "stdout",
     "output_type": "stream",
     "text": [
      "[CV 5/5; 74/81] END base_estimator__max_depth=3, base_estimator__min_samples_leaf=4, learning_rate=0.01, n_estimators=100;, score=0.917 total time=  15.8s\n",
      "[CV 1/5; 75/81] START base_estimator__max_depth=3, base_estimator__min_samples_leaf=4, learning_rate=0.01, n_estimators=200\n"
     ]
    },
    {
     "name": "stderr",
     "output_type": "stream",
     "text": [
      "/Users/vaishnavimocherla/anaconda3/lib/python3.11/site-packages/sklearn/ensemble/_base.py:156: FutureWarning: `base_estimator` was renamed to `estimator` in version 1.2 and will be removed in 1.4.\n",
      "  warnings.warn(\n"
     ]
    },
    {
     "name": "stdout",
     "output_type": "stream",
     "text": [
      "[CV 1/5; 75/81] END base_estimator__max_depth=3, base_estimator__min_samples_leaf=4, learning_rate=0.01, n_estimators=200;, score=0.918 total time=  31.5s\n",
      "[CV 2/5; 75/81] START base_estimator__max_depth=3, base_estimator__min_samples_leaf=4, learning_rate=0.01, n_estimators=200\n"
     ]
    },
    {
     "name": "stderr",
     "output_type": "stream",
     "text": [
      "/Users/vaishnavimocherla/anaconda3/lib/python3.11/site-packages/sklearn/ensemble/_base.py:156: FutureWarning: `base_estimator` was renamed to `estimator` in version 1.2 and will be removed in 1.4.\n",
      "  warnings.warn(\n"
     ]
    },
    {
     "name": "stdout",
     "output_type": "stream",
     "text": [
      "[CV 2/5; 75/81] END base_estimator__max_depth=3, base_estimator__min_samples_leaf=4, learning_rate=0.01, n_estimators=200;, score=0.919 total time=  31.8s\n",
      "[CV 3/5; 75/81] START base_estimator__max_depth=3, base_estimator__min_samples_leaf=4, learning_rate=0.01, n_estimators=200\n"
     ]
    },
    {
     "name": "stderr",
     "output_type": "stream",
     "text": [
      "/Users/vaishnavimocherla/anaconda3/lib/python3.11/site-packages/sklearn/ensemble/_base.py:156: FutureWarning: `base_estimator` was renamed to `estimator` in version 1.2 and will be removed in 1.4.\n",
      "  warnings.warn(\n"
     ]
    },
    {
     "name": "stdout",
     "output_type": "stream",
     "text": [
      "[CV 3/5; 75/81] END base_estimator__max_depth=3, base_estimator__min_samples_leaf=4, learning_rate=0.01, n_estimators=200;, score=0.918 total time=  31.7s\n",
      "[CV 4/5; 75/81] START base_estimator__max_depth=3, base_estimator__min_samples_leaf=4, learning_rate=0.01, n_estimators=200\n"
     ]
    },
    {
     "name": "stderr",
     "output_type": "stream",
     "text": [
      "/Users/vaishnavimocherla/anaconda3/lib/python3.11/site-packages/sklearn/ensemble/_base.py:156: FutureWarning: `base_estimator` was renamed to `estimator` in version 1.2 and will be removed in 1.4.\n",
      "  warnings.warn(\n"
     ]
    },
    {
     "name": "stdout",
     "output_type": "stream",
     "text": [
      "[CV 4/5; 75/81] END base_estimator__max_depth=3, base_estimator__min_samples_leaf=4, learning_rate=0.01, n_estimators=200;, score=0.917 total time=  31.4s\n",
      "[CV 5/5; 75/81] START base_estimator__max_depth=3, base_estimator__min_samples_leaf=4, learning_rate=0.01, n_estimators=200\n"
     ]
    },
    {
     "name": "stderr",
     "output_type": "stream",
     "text": [
      "/Users/vaishnavimocherla/anaconda3/lib/python3.11/site-packages/sklearn/ensemble/_base.py:156: FutureWarning: `base_estimator` was renamed to `estimator` in version 1.2 and will be removed in 1.4.\n",
      "  warnings.warn(\n"
     ]
    },
    {
     "name": "stdout",
     "output_type": "stream",
     "text": [
      "[CV 5/5; 75/81] END base_estimator__max_depth=3, base_estimator__min_samples_leaf=4, learning_rate=0.01, n_estimators=200;, score=0.918 total time=  31.7s\n",
      "[CV 1/5; 76/81] START base_estimator__max_depth=3, base_estimator__min_samples_leaf=4, learning_rate=0.1, n_estimators=50\n"
     ]
    },
    {
     "name": "stderr",
     "output_type": "stream",
     "text": [
      "/Users/vaishnavimocherla/anaconda3/lib/python3.11/site-packages/sklearn/ensemble/_base.py:156: FutureWarning: `base_estimator` was renamed to `estimator` in version 1.2 and will be removed in 1.4.\n",
      "  warnings.warn(\n"
     ]
    },
    {
     "name": "stdout",
     "output_type": "stream",
     "text": [
      "[CV 1/5; 76/81] END base_estimator__max_depth=3, base_estimator__min_samples_leaf=4, learning_rate=0.1, n_estimators=50;, score=0.919 total time=   7.8s\n",
      "[CV 2/5; 76/81] START base_estimator__max_depth=3, base_estimator__min_samples_leaf=4, learning_rate=0.1, n_estimators=50\n"
     ]
    },
    {
     "name": "stderr",
     "output_type": "stream",
     "text": [
      "/Users/vaishnavimocherla/anaconda3/lib/python3.11/site-packages/sklearn/ensemble/_base.py:156: FutureWarning: `base_estimator` was renamed to `estimator` in version 1.2 and will be removed in 1.4.\n",
      "  warnings.warn(\n"
     ]
    },
    {
     "name": "stdout",
     "output_type": "stream",
     "text": [
      "[CV 2/5; 76/81] END base_estimator__max_depth=3, base_estimator__min_samples_leaf=4, learning_rate=0.1, n_estimators=50;, score=0.921 total time=   7.8s\n",
      "[CV 3/5; 76/81] START base_estimator__max_depth=3, base_estimator__min_samples_leaf=4, learning_rate=0.1, n_estimators=50\n"
     ]
    },
    {
     "name": "stderr",
     "output_type": "stream",
     "text": [
      "/Users/vaishnavimocherla/anaconda3/lib/python3.11/site-packages/sklearn/ensemble/_base.py:156: FutureWarning: `base_estimator` was renamed to `estimator` in version 1.2 and will be removed in 1.4.\n",
      "  warnings.warn(\n"
     ]
    },
    {
     "name": "stdout",
     "output_type": "stream",
     "text": [
      "[CV 3/5; 76/81] END base_estimator__max_depth=3, base_estimator__min_samples_leaf=4, learning_rate=0.1, n_estimators=50;, score=0.918 total time=   7.9s\n",
      "[CV 4/5; 76/81] START base_estimator__max_depth=3, base_estimator__min_samples_leaf=4, learning_rate=0.1, n_estimators=50\n"
     ]
    },
    {
     "name": "stderr",
     "output_type": "stream",
     "text": [
      "/Users/vaishnavimocherla/anaconda3/lib/python3.11/site-packages/sklearn/ensemble/_base.py:156: FutureWarning: `base_estimator` was renamed to `estimator` in version 1.2 and will be removed in 1.4.\n",
      "  warnings.warn(\n"
     ]
    },
    {
     "name": "stdout",
     "output_type": "stream",
     "text": [
      "[CV 4/5; 76/81] END base_estimator__max_depth=3, base_estimator__min_samples_leaf=4, learning_rate=0.1, n_estimators=50;, score=0.918 total time=   7.9s\n",
      "[CV 5/5; 76/81] START base_estimator__max_depth=3, base_estimator__min_samples_leaf=4, learning_rate=0.1, n_estimators=50\n"
     ]
    },
    {
     "name": "stderr",
     "output_type": "stream",
     "text": [
      "/Users/vaishnavimocherla/anaconda3/lib/python3.11/site-packages/sklearn/ensemble/_base.py:156: FutureWarning: `base_estimator` was renamed to `estimator` in version 1.2 and will be removed in 1.4.\n",
      "  warnings.warn(\n"
     ]
    },
    {
     "name": "stdout",
     "output_type": "stream",
     "text": [
      "[CV 5/5; 76/81] END base_estimator__max_depth=3, base_estimator__min_samples_leaf=4, learning_rate=0.1, n_estimators=50;, score=0.918 total time=   7.7s\n",
      "[CV 1/5; 77/81] START base_estimator__max_depth=3, base_estimator__min_samples_leaf=4, learning_rate=0.1, n_estimators=100\n"
     ]
    },
    {
     "name": "stderr",
     "output_type": "stream",
     "text": [
      "/Users/vaishnavimocherla/anaconda3/lib/python3.11/site-packages/sklearn/ensemble/_base.py:156: FutureWarning: `base_estimator` was renamed to `estimator` in version 1.2 and will be removed in 1.4.\n",
      "  warnings.warn(\n"
     ]
    },
    {
     "name": "stdout",
     "output_type": "stream",
     "text": [
      "[CV 1/5; 77/81] END base_estimator__max_depth=3, base_estimator__min_samples_leaf=4, learning_rate=0.1, n_estimators=100;, score=0.921 total time=  15.8s\n",
      "[CV 2/5; 77/81] START base_estimator__max_depth=3, base_estimator__min_samples_leaf=4, learning_rate=0.1, n_estimators=100\n"
     ]
    },
    {
     "name": "stderr",
     "output_type": "stream",
     "text": [
      "/Users/vaishnavimocherla/anaconda3/lib/python3.11/site-packages/sklearn/ensemble/_base.py:156: FutureWarning: `base_estimator` was renamed to `estimator` in version 1.2 and will be removed in 1.4.\n",
      "  warnings.warn(\n"
     ]
    },
    {
     "name": "stdout",
     "output_type": "stream",
     "text": [
      "[CV 2/5; 77/81] END base_estimator__max_depth=3, base_estimator__min_samples_leaf=4, learning_rate=0.1, n_estimators=100;, score=0.922 total time=  15.5s\n",
      "[CV 3/5; 77/81] START base_estimator__max_depth=3, base_estimator__min_samples_leaf=4, learning_rate=0.1, n_estimators=100\n"
     ]
    },
    {
     "name": "stderr",
     "output_type": "stream",
     "text": [
      "/Users/vaishnavimocherla/anaconda3/lib/python3.11/site-packages/sklearn/ensemble/_base.py:156: FutureWarning: `base_estimator` was renamed to `estimator` in version 1.2 and will be removed in 1.4.\n",
      "  warnings.warn(\n"
     ]
    },
    {
     "name": "stdout",
     "output_type": "stream",
     "text": [
      "[CV 3/5; 77/81] END base_estimator__max_depth=3, base_estimator__min_samples_leaf=4, learning_rate=0.1, n_estimators=100;, score=0.919 total time=  15.7s\n",
      "[CV 4/5; 77/81] START base_estimator__max_depth=3, base_estimator__min_samples_leaf=4, learning_rate=0.1, n_estimators=100\n"
     ]
    },
    {
     "name": "stderr",
     "output_type": "stream",
     "text": [
      "/Users/vaishnavimocherla/anaconda3/lib/python3.11/site-packages/sklearn/ensemble/_base.py:156: FutureWarning: `base_estimator` was renamed to `estimator` in version 1.2 and will be removed in 1.4.\n",
      "  warnings.warn(\n"
     ]
    },
    {
     "name": "stdout",
     "output_type": "stream",
     "text": [
      "[CV 4/5; 77/81] END base_estimator__max_depth=3, base_estimator__min_samples_leaf=4, learning_rate=0.1, n_estimators=100;, score=0.918 total time=  16.3s\n",
      "[CV 5/5; 77/81] START base_estimator__max_depth=3, base_estimator__min_samples_leaf=4, learning_rate=0.1, n_estimators=100\n"
     ]
    },
    {
     "name": "stderr",
     "output_type": "stream",
     "text": [
      "/Users/vaishnavimocherla/anaconda3/lib/python3.11/site-packages/sklearn/ensemble/_base.py:156: FutureWarning: `base_estimator` was renamed to `estimator` in version 1.2 and will be removed in 1.4.\n",
      "  warnings.warn(\n"
     ]
    },
    {
     "name": "stdout",
     "output_type": "stream",
     "text": [
      "[CV 5/5; 77/81] END base_estimator__max_depth=3, base_estimator__min_samples_leaf=4, learning_rate=0.1, n_estimators=100;, score=0.920 total time=  15.7s\n",
      "[CV 1/5; 78/81] START base_estimator__max_depth=3, base_estimator__min_samples_leaf=4, learning_rate=0.1, n_estimators=200\n"
     ]
    },
    {
     "name": "stderr",
     "output_type": "stream",
     "text": [
      "/Users/vaishnavimocherla/anaconda3/lib/python3.11/site-packages/sklearn/ensemble/_base.py:156: FutureWarning: `base_estimator` was renamed to `estimator` in version 1.2 and will be removed in 1.4.\n",
      "  warnings.warn(\n"
     ]
    },
    {
     "name": "stdout",
     "output_type": "stream",
     "text": [
      "[CV 1/5; 78/81] END base_estimator__max_depth=3, base_estimator__min_samples_leaf=4, learning_rate=0.1, n_estimators=200;, score=0.921 total time=  30.5s\n",
      "[CV 2/5; 78/81] START base_estimator__max_depth=3, base_estimator__min_samples_leaf=4, learning_rate=0.1, n_estimators=200\n"
     ]
    },
    {
     "name": "stderr",
     "output_type": "stream",
     "text": [
      "/Users/vaishnavimocherla/anaconda3/lib/python3.11/site-packages/sklearn/ensemble/_base.py:156: FutureWarning: `base_estimator` was renamed to `estimator` in version 1.2 and will be removed in 1.4.\n",
      "  warnings.warn(\n"
     ]
    },
    {
     "name": "stdout",
     "output_type": "stream",
     "text": [
      "[CV 2/5; 78/81] END base_estimator__max_depth=3, base_estimator__min_samples_leaf=4, learning_rate=0.1, n_estimators=200;, score=0.922 total time=  30.4s\n",
      "[CV 3/5; 78/81] START base_estimator__max_depth=3, base_estimator__min_samples_leaf=4, learning_rate=0.1, n_estimators=200\n"
     ]
    },
    {
     "name": "stderr",
     "output_type": "stream",
     "text": [
      "/Users/vaishnavimocherla/anaconda3/lib/python3.11/site-packages/sklearn/ensemble/_base.py:156: FutureWarning: `base_estimator` was renamed to `estimator` in version 1.2 and will be removed in 1.4.\n",
      "  warnings.warn(\n"
     ]
    },
    {
     "name": "stdout",
     "output_type": "stream",
     "text": [
      "[CV 3/5; 78/81] END base_estimator__max_depth=3, base_estimator__min_samples_leaf=4, learning_rate=0.1, n_estimators=200;, score=0.920 total time=  30.4s\n",
      "[CV 4/5; 78/81] START base_estimator__max_depth=3, base_estimator__min_samples_leaf=4, learning_rate=0.1, n_estimators=200\n"
     ]
    },
    {
     "name": "stderr",
     "output_type": "stream",
     "text": [
      "/Users/vaishnavimocherla/anaconda3/lib/python3.11/site-packages/sklearn/ensemble/_base.py:156: FutureWarning: `base_estimator` was renamed to `estimator` in version 1.2 and will be removed in 1.4.\n",
      "  warnings.warn(\n"
     ]
    },
    {
     "name": "stdout",
     "output_type": "stream",
     "text": [
      "[CV 4/5; 78/81] END base_estimator__max_depth=3, base_estimator__min_samples_leaf=4, learning_rate=0.1, n_estimators=200;, score=0.919 total time=  30.4s\n",
      "[CV 5/5; 78/81] START base_estimator__max_depth=3, base_estimator__min_samples_leaf=4, learning_rate=0.1, n_estimators=200\n"
     ]
    },
    {
     "name": "stderr",
     "output_type": "stream",
     "text": [
      "/Users/vaishnavimocherla/anaconda3/lib/python3.11/site-packages/sklearn/ensemble/_base.py:156: FutureWarning: `base_estimator` was renamed to `estimator` in version 1.2 and will be removed in 1.4.\n",
      "  warnings.warn(\n"
     ]
    },
    {
     "name": "stdout",
     "output_type": "stream",
     "text": [
      "[CV 5/5; 78/81] END base_estimator__max_depth=3, base_estimator__min_samples_leaf=4, learning_rate=0.1, n_estimators=200;, score=0.920 total time=  30.2s\n",
      "[CV 1/5; 79/81] START base_estimator__max_depth=3, base_estimator__min_samples_leaf=4, learning_rate=1, n_estimators=50\n"
     ]
    },
    {
     "name": "stderr",
     "output_type": "stream",
     "text": [
      "/Users/vaishnavimocherla/anaconda3/lib/python3.11/site-packages/sklearn/ensemble/_base.py:156: FutureWarning: `base_estimator` was renamed to `estimator` in version 1.2 and will be removed in 1.4.\n",
      "  warnings.warn(\n"
     ]
    },
    {
     "name": "stdout",
     "output_type": "stream",
     "text": [
      "[CV 1/5; 79/81] END base_estimator__max_depth=3, base_estimator__min_samples_leaf=4, learning_rate=1, n_estimators=50;, score=0.920 total time=   7.6s\n",
      "[CV 2/5; 79/81] START base_estimator__max_depth=3, base_estimator__min_samples_leaf=4, learning_rate=1, n_estimators=50\n"
     ]
    },
    {
     "name": "stderr",
     "output_type": "stream",
     "text": [
      "/Users/vaishnavimocherla/anaconda3/lib/python3.11/site-packages/sklearn/ensemble/_base.py:156: FutureWarning: `base_estimator` was renamed to `estimator` in version 1.2 and will be removed in 1.4.\n",
      "  warnings.warn(\n"
     ]
    },
    {
     "name": "stdout",
     "output_type": "stream",
     "text": [
      "[CV 2/5; 79/81] END base_estimator__max_depth=3, base_estimator__min_samples_leaf=4, learning_rate=1, n_estimators=50;, score=0.921 total time=   8.0s\n",
      "[CV 3/5; 79/81] START base_estimator__max_depth=3, base_estimator__min_samples_leaf=4, learning_rate=1, n_estimators=50\n"
     ]
    },
    {
     "name": "stderr",
     "output_type": "stream",
     "text": [
      "/Users/vaishnavimocherla/anaconda3/lib/python3.11/site-packages/sklearn/ensemble/_base.py:156: FutureWarning: `base_estimator` was renamed to `estimator` in version 1.2 and will be removed in 1.4.\n",
      "  warnings.warn(\n"
     ]
    },
    {
     "name": "stdout",
     "output_type": "stream",
     "text": [
      "[CV 3/5; 79/81] END base_estimator__max_depth=3, base_estimator__min_samples_leaf=4, learning_rate=1, n_estimators=50;, score=0.920 total time=   7.6s\n",
      "[CV 4/5; 79/81] START base_estimator__max_depth=3, base_estimator__min_samples_leaf=4, learning_rate=1, n_estimators=50\n"
     ]
    },
    {
     "name": "stderr",
     "output_type": "stream",
     "text": [
      "/Users/vaishnavimocherla/anaconda3/lib/python3.11/site-packages/sklearn/ensemble/_base.py:156: FutureWarning: `base_estimator` was renamed to `estimator` in version 1.2 and will be removed in 1.4.\n",
      "  warnings.warn(\n"
     ]
    },
    {
     "name": "stdout",
     "output_type": "stream",
     "text": [
      "[CV 4/5; 79/81] END base_estimator__max_depth=3, base_estimator__min_samples_leaf=4, learning_rate=1, n_estimators=50;, score=0.919 total time=   7.6s\n",
      "[CV 5/5; 79/81] START base_estimator__max_depth=3, base_estimator__min_samples_leaf=4, learning_rate=1, n_estimators=50\n"
     ]
    },
    {
     "name": "stderr",
     "output_type": "stream",
     "text": [
      "/Users/vaishnavimocherla/anaconda3/lib/python3.11/site-packages/sklearn/ensemble/_base.py:156: FutureWarning: `base_estimator` was renamed to `estimator` in version 1.2 and will be removed in 1.4.\n",
      "  warnings.warn(\n"
     ]
    },
    {
     "name": "stdout",
     "output_type": "stream",
     "text": [
      "[CV 5/5; 79/81] END base_estimator__max_depth=3, base_estimator__min_samples_leaf=4, learning_rate=1, n_estimators=50;, score=0.918 total time=   7.6s\n",
      "[CV 1/5; 80/81] START base_estimator__max_depth=3, base_estimator__min_samples_leaf=4, learning_rate=1, n_estimators=100\n"
     ]
    },
    {
     "name": "stderr",
     "output_type": "stream",
     "text": [
      "/Users/vaishnavimocherla/anaconda3/lib/python3.11/site-packages/sklearn/ensemble/_base.py:156: FutureWarning: `base_estimator` was renamed to `estimator` in version 1.2 and will be removed in 1.4.\n",
      "  warnings.warn(\n"
     ]
    },
    {
     "name": "stdout",
     "output_type": "stream",
     "text": [
      "[CV 1/5; 80/81] END base_estimator__max_depth=3, base_estimator__min_samples_leaf=4, learning_rate=1, n_estimators=100;, score=0.920 total time=  15.2s\n",
      "[CV 2/5; 80/81] START base_estimator__max_depth=3, base_estimator__min_samples_leaf=4, learning_rate=1, n_estimators=100\n"
     ]
    },
    {
     "name": "stderr",
     "output_type": "stream",
     "text": [
      "/Users/vaishnavimocherla/anaconda3/lib/python3.11/site-packages/sklearn/ensemble/_base.py:156: FutureWarning: `base_estimator` was renamed to `estimator` in version 1.2 and will be removed in 1.4.\n",
      "  warnings.warn(\n"
     ]
    },
    {
     "name": "stdout",
     "output_type": "stream",
     "text": [
      "[CV 2/5; 80/81] END base_estimator__max_depth=3, base_estimator__min_samples_leaf=4, learning_rate=1, n_estimators=100;, score=0.921 total time=  15.2s\n",
      "[CV 3/5; 80/81] START base_estimator__max_depth=3, base_estimator__min_samples_leaf=4, learning_rate=1, n_estimators=100\n"
     ]
    },
    {
     "name": "stderr",
     "output_type": "stream",
     "text": [
      "/Users/vaishnavimocherla/anaconda3/lib/python3.11/site-packages/sklearn/ensemble/_base.py:156: FutureWarning: `base_estimator` was renamed to `estimator` in version 1.2 and will be removed in 1.4.\n",
      "  warnings.warn(\n"
     ]
    },
    {
     "name": "stdout",
     "output_type": "stream",
     "text": [
      "[CV 3/5; 80/81] END base_estimator__max_depth=3, base_estimator__min_samples_leaf=4, learning_rate=1, n_estimators=100;, score=0.919 total time=  15.1s\n",
      "[CV 4/5; 80/81] START base_estimator__max_depth=3, base_estimator__min_samples_leaf=4, learning_rate=1, n_estimators=100\n"
     ]
    },
    {
     "name": "stderr",
     "output_type": "stream",
     "text": [
      "/Users/vaishnavimocherla/anaconda3/lib/python3.11/site-packages/sklearn/ensemble/_base.py:156: FutureWarning: `base_estimator` was renamed to `estimator` in version 1.2 and will be removed in 1.4.\n",
      "  warnings.warn(\n"
     ]
    },
    {
     "name": "stdout",
     "output_type": "stream",
     "text": [
      "[CV 4/5; 80/81] END base_estimator__max_depth=3, base_estimator__min_samples_leaf=4, learning_rate=1, n_estimators=100;, score=0.918 total time=  15.2s\n",
      "[CV 5/5; 80/81] START base_estimator__max_depth=3, base_estimator__min_samples_leaf=4, learning_rate=1, n_estimators=100\n"
     ]
    },
    {
     "name": "stderr",
     "output_type": "stream",
     "text": [
      "/Users/vaishnavimocherla/anaconda3/lib/python3.11/site-packages/sklearn/ensemble/_base.py:156: FutureWarning: `base_estimator` was renamed to `estimator` in version 1.2 and will be removed in 1.4.\n",
      "  warnings.warn(\n"
     ]
    },
    {
     "name": "stdout",
     "output_type": "stream",
     "text": [
      "[CV 5/5; 80/81] END base_estimator__max_depth=3, base_estimator__min_samples_leaf=4, learning_rate=1, n_estimators=100;, score=0.918 total time=  15.2s\n",
      "[CV 1/5; 81/81] START base_estimator__max_depth=3, base_estimator__min_samples_leaf=4, learning_rate=1, n_estimators=200\n"
     ]
    },
    {
     "name": "stderr",
     "output_type": "stream",
     "text": [
      "/Users/vaishnavimocherla/anaconda3/lib/python3.11/site-packages/sklearn/ensemble/_base.py:156: FutureWarning: `base_estimator` was renamed to `estimator` in version 1.2 and will be removed in 1.4.\n",
      "  warnings.warn(\n"
     ]
    },
    {
     "name": "stdout",
     "output_type": "stream",
     "text": [
      "[CV 1/5; 81/81] END base_estimator__max_depth=3, base_estimator__min_samples_leaf=4, learning_rate=1, n_estimators=200;, score=0.920 total time=  30.5s\n",
      "[CV 2/5; 81/81] START base_estimator__max_depth=3, base_estimator__min_samples_leaf=4, learning_rate=1, n_estimators=200\n"
     ]
    },
    {
     "name": "stderr",
     "output_type": "stream",
     "text": [
      "/Users/vaishnavimocherla/anaconda3/lib/python3.11/site-packages/sklearn/ensemble/_base.py:156: FutureWarning: `base_estimator` was renamed to `estimator` in version 1.2 and will be removed in 1.4.\n",
      "  warnings.warn(\n"
     ]
    },
    {
     "name": "stdout",
     "output_type": "stream",
     "text": [
      "[CV 2/5; 81/81] END base_estimator__max_depth=3, base_estimator__min_samples_leaf=4, learning_rate=1, n_estimators=200;, score=0.921 total time=  30.3s\n",
      "[CV 3/5; 81/81] START base_estimator__max_depth=3, base_estimator__min_samples_leaf=4, learning_rate=1, n_estimators=200\n"
     ]
    },
    {
     "name": "stderr",
     "output_type": "stream",
     "text": [
      "/Users/vaishnavimocherla/anaconda3/lib/python3.11/site-packages/sklearn/ensemble/_base.py:156: FutureWarning: `base_estimator` was renamed to `estimator` in version 1.2 and will be removed in 1.4.\n",
      "  warnings.warn(\n"
     ]
    },
    {
     "name": "stdout",
     "output_type": "stream",
     "text": [
      "[CV 3/5; 81/81] END base_estimator__max_depth=3, base_estimator__min_samples_leaf=4, learning_rate=1, n_estimators=200;, score=0.918 total time=  30.4s\n",
      "[CV 4/5; 81/81] START base_estimator__max_depth=3, base_estimator__min_samples_leaf=4, learning_rate=1, n_estimators=200\n"
     ]
    },
    {
     "name": "stderr",
     "output_type": "stream",
     "text": [
      "/Users/vaishnavimocherla/anaconda3/lib/python3.11/site-packages/sklearn/ensemble/_base.py:156: FutureWarning: `base_estimator` was renamed to `estimator` in version 1.2 and will be removed in 1.4.\n",
      "  warnings.warn(\n"
     ]
    },
    {
     "name": "stdout",
     "output_type": "stream",
     "text": [
      "[CV 4/5; 81/81] END base_estimator__max_depth=3, base_estimator__min_samples_leaf=4, learning_rate=1, n_estimators=200;, score=0.915 total time=  30.4s\n",
      "[CV 5/5; 81/81] START base_estimator__max_depth=3, base_estimator__min_samples_leaf=4, learning_rate=1, n_estimators=200\n"
     ]
    },
    {
     "name": "stderr",
     "output_type": "stream",
     "text": [
      "/Users/vaishnavimocherla/anaconda3/lib/python3.11/site-packages/sklearn/ensemble/_base.py:156: FutureWarning: `base_estimator` was renamed to `estimator` in version 1.2 and will be removed in 1.4.\n",
      "  warnings.warn(\n"
     ]
    },
    {
     "name": "stdout",
     "output_type": "stream",
     "text": [
      "[CV 5/5; 81/81] END base_estimator__max_depth=3, base_estimator__min_samples_leaf=4, learning_rate=1, n_estimators=200;, score=0.918 total time=  30.2s\n"
     ]
    },
    {
     "name": "stderr",
     "output_type": "stream",
     "text": [
      "/Users/vaishnavimocherla/anaconda3/lib/python3.11/site-packages/sklearn/ensemble/_base.py:156: FutureWarning: `base_estimator` was renamed to `estimator` in version 1.2 and will be removed in 1.4.\n",
      "  warnings.warn(\n"
     ]
    },
    {
     "data": {
      "text/html": [
       "<style>#sk-container-id-3 {color: black;}#sk-container-id-3 pre{padding: 0;}#sk-container-id-3 div.sk-toggleable {background-color: white;}#sk-container-id-3 label.sk-toggleable__label {cursor: pointer;display: block;width: 100%;margin-bottom: 0;padding: 0.3em;box-sizing: border-box;text-align: center;}#sk-container-id-3 label.sk-toggleable__label-arrow:before {content: \"▸\";float: left;margin-right: 0.25em;color: #696969;}#sk-container-id-3 label.sk-toggleable__label-arrow:hover:before {color: black;}#sk-container-id-3 div.sk-estimator:hover label.sk-toggleable__label-arrow:before {color: black;}#sk-container-id-3 div.sk-toggleable__content {max-height: 0;max-width: 0;overflow: hidden;text-align: left;background-color: #f0f8ff;}#sk-container-id-3 div.sk-toggleable__content pre {margin: 0.2em;color: black;border-radius: 0.25em;background-color: #f0f8ff;}#sk-container-id-3 input.sk-toggleable__control:checked~div.sk-toggleable__content {max-height: 200px;max-width: 100%;overflow: auto;}#sk-container-id-3 input.sk-toggleable__control:checked~label.sk-toggleable__label-arrow:before {content: \"▾\";}#sk-container-id-3 div.sk-estimator input.sk-toggleable__control:checked~label.sk-toggleable__label {background-color: #d4ebff;}#sk-container-id-3 div.sk-label input.sk-toggleable__control:checked~label.sk-toggleable__label {background-color: #d4ebff;}#sk-container-id-3 input.sk-hidden--visually {border: 0;clip: rect(1px 1px 1px 1px);clip: rect(1px, 1px, 1px, 1px);height: 1px;margin: -1px;overflow: hidden;padding: 0;position: absolute;width: 1px;}#sk-container-id-3 div.sk-estimator {font-family: monospace;background-color: #f0f8ff;border: 1px dotted black;border-radius: 0.25em;box-sizing: border-box;margin-bottom: 0.5em;}#sk-container-id-3 div.sk-estimator:hover {background-color: #d4ebff;}#sk-container-id-3 div.sk-parallel-item::after {content: \"\";width: 100%;border-bottom: 1px solid gray;flex-grow: 1;}#sk-container-id-3 div.sk-label:hover label.sk-toggleable__label {background-color: #d4ebff;}#sk-container-id-3 div.sk-serial::before {content: \"\";position: absolute;border-left: 1px solid gray;box-sizing: border-box;top: 0;bottom: 0;left: 50%;z-index: 0;}#sk-container-id-3 div.sk-serial {display: flex;flex-direction: column;align-items: center;background-color: white;padding-right: 0.2em;padding-left: 0.2em;position: relative;}#sk-container-id-3 div.sk-item {position: relative;z-index: 1;}#sk-container-id-3 div.sk-parallel {display: flex;align-items: stretch;justify-content: center;background-color: white;position: relative;}#sk-container-id-3 div.sk-item::before, #sk-container-id-3 div.sk-parallel-item::before {content: \"\";position: absolute;border-left: 1px solid gray;box-sizing: border-box;top: 0;bottom: 0;left: 50%;z-index: -1;}#sk-container-id-3 div.sk-parallel-item {display: flex;flex-direction: column;z-index: 1;position: relative;background-color: white;}#sk-container-id-3 div.sk-parallel-item:first-child::after {align-self: flex-end;width: 50%;}#sk-container-id-3 div.sk-parallel-item:last-child::after {align-self: flex-start;width: 50%;}#sk-container-id-3 div.sk-parallel-item:only-child::after {width: 0;}#sk-container-id-3 div.sk-dashed-wrapped {border: 1px dashed gray;margin: 0 0.4em 0.5em 0.4em;box-sizing: border-box;padding-bottom: 0.4em;background-color: white;}#sk-container-id-3 div.sk-label label {font-family: monospace;font-weight: bold;display: inline-block;line-height: 1.2em;}#sk-container-id-3 div.sk-label-container {text-align: center;}#sk-container-id-3 div.sk-container {/* jupyter's `normalize.less` sets `[hidden] { display: none; }` but bootstrap.min.css set `[hidden] { display: none !important; }` so we also need the `!important` here to be able to override the default hidden behavior on the sphinx rendered scikit-learn.org. See: https://github.com/scikit-learn/scikit-learn/issues/21755 */display: inline-block !important;position: relative;}#sk-container-id-3 div.sk-text-repr-fallback {display: none;}</style><div id=\"sk-container-id-3\" class=\"sk-top-container\"><div class=\"sk-text-repr-fallback\"><pre>GridSearchCV(cv=StratifiedKFold(n_splits=5, random_state=None, shuffle=False),\n",
       "             estimator=AdaBoostClassifier(base_estimator=DecisionTreeClassifier(random_state=42),\n",
       "                                          random_state=42),\n",
       "             param_grid={&#x27;base_estimator__max_depth&#x27;: [1, 2, 3],\n",
       "                         &#x27;base_estimator__min_samples_leaf&#x27;: [1, 2, 4],\n",
       "                         &#x27;learning_rate&#x27;: [0.01, 0.1, 1],\n",
       "                         &#x27;n_estimators&#x27;: [50, 100, 200]},\n",
       "             scoring=&#x27;accuracy&#x27;, verbose=10)</pre><b>In a Jupyter environment, please rerun this cell to show the HTML representation or trust the notebook. <br />On GitHub, the HTML representation is unable to render, please try loading this page with nbviewer.org.</b></div><div class=\"sk-container\" hidden><div class=\"sk-item sk-dashed-wrapped\"><div class=\"sk-label-container\"><div class=\"sk-label sk-toggleable\"><input class=\"sk-toggleable__control sk-hidden--visually\" id=\"sk-estimator-id-7\" type=\"checkbox\" ><label for=\"sk-estimator-id-7\" class=\"sk-toggleable__label sk-toggleable__label-arrow\">GridSearchCV</label><div class=\"sk-toggleable__content\"><pre>GridSearchCV(cv=StratifiedKFold(n_splits=5, random_state=None, shuffle=False),\n",
       "             estimator=AdaBoostClassifier(base_estimator=DecisionTreeClassifier(random_state=42),\n",
       "                                          random_state=42),\n",
       "             param_grid={&#x27;base_estimator__max_depth&#x27;: [1, 2, 3],\n",
       "                         &#x27;base_estimator__min_samples_leaf&#x27;: [1, 2, 4],\n",
       "                         &#x27;learning_rate&#x27;: [0.01, 0.1, 1],\n",
       "                         &#x27;n_estimators&#x27;: [50, 100, 200]},\n",
       "             scoring=&#x27;accuracy&#x27;, verbose=10)</pre></div></div></div><div class=\"sk-parallel\"><div class=\"sk-parallel-item\"><div class=\"sk-item\"><div class=\"sk-label-container\"><div class=\"sk-label sk-toggleable\"><input class=\"sk-toggleable__control sk-hidden--visually\" id=\"sk-estimator-id-8\" type=\"checkbox\" ><label for=\"sk-estimator-id-8\" class=\"sk-toggleable__label sk-toggleable__label-arrow\">estimator: AdaBoostClassifier</label><div class=\"sk-toggleable__content\"><pre>AdaBoostClassifier(base_estimator=DecisionTreeClassifier(random_state=42),\n",
       "                   random_state=42)</pre></div></div></div><div class=\"sk-serial\"><div class=\"sk-item sk-dashed-wrapped\"><div class=\"sk-parallel\"><div class=\"sk-parallel-item\"><div class=\"sk-item\"><div class=\"sk-label-container\"><div class=\"sk-label sk-toggleable\"><input class=\"sk-toggleable__control sk-hidden--visually\" id=\"sk-estimator-id-9\" type=\"checkbox\" ><label for=\"sk-estimator-id-9\" class=\"sk-toggleable__label sk-toggleable__label-arrow\">base_estimator: DecisionTreeClassifier</label><div class=\"sk-toggleable__content\"><pre>DecisionTreeClassifier(random_state=42)</pre></div></div></div><div class=\"sk-serial\"><div class=\"sk-item\"><div class=\"sk-estimator sk-toggleable\"><input class=\"sk-toggleable__control sk-hidden--visually\" id=\"sk-estimator-id-10\" type=\"checkbox\" ><label for=\"sk-estimator-id-10\" class=\"sk-toggleable__label sk-toggleable__label-arrow\">DecisionTreeClassifier</label><div class=\"sk-toggleable__content\"><pre>DecisionTreeClassifier(random_state=42)</pre></div></div></div></div></div></div></div></div></div></div></div></div></div></div></div>"
      ],
      "text/plain": [
       "GridSearchCV(cv=StratifiedKFold(n_splits=5, random_state=None, shuffle=False),\n",
       "             estimator=AdaBoostClassifier(base_estimator=DecisionTreeClassifier(random_state=42),\n",
       "                                          random_state=42),\n",
       "             param_grid={'base_estimator__max_depth': [1, 2, 3],\n",
       "                         'base_estimator__min_samples_leaf': [1, 2, 4],\n",
       "                         'learning_rate': [0.01, 0.1, 1],\n",
       "                         'n_estimators': [50, 100, 200]},\n",
       "             scoring='accuracy', verbose=10)"
      ]
     },
     "execution_count": 35,
     "metadata": {},
     "output_type": "execute_result"
    }
   ],
   "source": [
    "# Fitting GridSearchCV\n",
    "grid_search_ada.fit(X_train, y_train)"
   ]
  },
  {
   "cell_type": "code",
   "execution_count": 36,
   "id": "e12a68d7",
   "metadata": {},
   "outputs": [
    {
     "data": {
      "text/plain": [
       "['mlspotify_adaboost_gs']"
      ]
     },
     "execution_count": 36,
     "metadata": {},
     "output_type": "execute_result"
    }
   ],
   "source": [
    "# Saving the best model\n",
    "dump(grid_search_ada.best_estimator_, \"mlspotify_adaboost_gs\")"
   ]
  },
  {
   "cell_type": "code",
   "execution_count": 37,
   "id": "a77c87a0",
   "metadata": {},
   "outputs": [
    {
     "name": "stdout",
     "output_type": "stream",
     "text": [
      "Best parameters: {'base_estimator__max_depth': 3, 'base_estimator__min_samples_leaf': 2, 'learning_rate': 0.1, 'n_estimators': 200}\n",
      "Best cross-validation accuracy: 0.92\n"
     ]
    }
   ],
   "source": [
    "# Printing the best parameters and best score\n",
    "print(\"Best parameters:\", grid_search_ada.best_params_)\n",
    "print(\"Best cross-validation accuracy: {:.2f}\".format(grid_search_ada.best_score_))"
   ]
  },
  {
   "cell_type": "code",
   "execution_count": 53,
   "id": "8ab4794a",
   "metadata": {},
   "outputs": [
    {
     "name": "stdout",
     "output_type": "stream",
     "text": [
      "Test accuracy: 0.92\n"
     ]
    }
   ],
   "source": [
    "# Evaluating on the test set\n",
    "y_pred_ada = grid_search_ada.predict(X_test)\n",
    "print(\"Test accuracy: {:.2f}\".format(grid_search_ada.score(X_test, y_test)))"
   ]
  },
  {
   "cell_type": "code",
   "execution_count": 54,
   "id": "204dda67",
   "metadata": {},
   "outputs": [
    {
     "name": "stdout",
     "output_type": "stream",
     "text": [
      "[[28099   613]\n",
      " [ 2136  3598]]\n",
      "Classification report\n",
      "\n",
      "              precision    recall  f1-score   support\n",
      "\n",
      "           0       0.93      0.98      0.95     28712\n",
      "           1       0.85      0.63      0.72      5734\n",
      "\n",
      "    accuracy                           0.92     34446\n",
      "   macro avg       0.89      0.80      0.84     34446\n",
      "weighted avg       0.92      0.92      0.92     34446\n",
      "\n"
     ]
    }
   ],
   "source": [
    "# Displaying confusion matrix and classification report\n",
    "print(confusion_matrix(y_test, y_pred_ada))\n",
    "print(\"Classification report\\n\")\n",
    "print(classification_report(y_test, y_pred_ada))"
   ]
  },
  {
   "cell_type": "code",
   "execution_count": 55,
   "id": "5b4a7dff",
   "metadata": {},
   "outputs": [],
   "source": [
    "# Calculating ROC curve and ROC area\n",
    "fpr_ada, tpr_ada, _ = roc_curve(y_test, y_pred_ada)\n",
    "roc_auc = auc(fpr_ada, tpr_ada)"
   ]
  },
  {
   "cell_type": "code",
   "execution_count": 56,
   "id": "19fb4970",
   "metadata": {},
   "outputs": [
    {
     "data": {
      "image/png": "[encoded data removed]",
      "text/plain": [
       "<Figure size 640x480 with 1 Axes>"
      ]
     },
     "metadata": {},
     "output_type": "display_data"
    }
   ],
   "source": [
    "plt.figure()\n",
    "plt.plot(fpr_ada, tpr_ada, color='darkorange', lw=2, label='ROC curve (area = %0.2f)' % roc_auc)\n",
    "plt.plot([0, 1], [0, 1], color='navy', lw=2, linestyle='--')\n",
    "plt.xlim([0.0, 1.0])\n",
    "plt.ylim([0.0, 1.05])\n",
    "plt.xlabel('False Positive Rate')\n",
    "plt.ylabel('True Positive Rate')\n",
    "plt.title('Receiver Operating Characteristic')\n",
    "plt.legend(loc=\"lower right\")\n",
    "plt.show()"
   ]
  },
  {
   "cell_type": "code",
   "execution_count": null,
   "id": "e136e2af",
   "metadata": {},
   "outputs": [],
   "source": []
  }
 ],
 "metadata": {
  "kernelspec": {
   "display_name": "Python 3 (ipykernel)",
   "language": "python",
   "name": "python3"
  },
  "language_info": {
   "codemirror_mode": {
    "name": "ipython",
    "version": 3
   },
   "file_extension": ".py",
   "mimetype": "text/x-python",
   "name": "python",
   "nbconvert_exporter": "python",
   "pygments_lexer": "ipython3",
   "version": "3.11.4"
  }
 },
 "nbformat": 4,
 "nbformat_minor": 5
}
